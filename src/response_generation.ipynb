{
 "cells": [
  {
   "cell_type": "markdown",
   "metadata": {},
   "source": [
    "# Import Libraries"
   ]
  },
  {
   "cell_type": "code",
   "execution_count": 1,
   "metadata": {},
   "outputs": [],
   "source": [
    "import torch\n",
    "import spacy\n",
    "import nltk\n",
    "from nltk.stem import WordNetLemmatizer\n",
    "from nltk.tokenize import word_tokenize\n",
    "import torch.nn as nn\n",
    "import numpy as np\n",
    "import random\n",
    "from torch.utils.data import TensorDataset, DataLoader, RandomSampler\n",
    "from torch import optim\n",
    "import os\n",
    "import pickle\n",
    "\n",
    "device = torch.device(\"cuda\" if torch.cuda.is_available() else \"cpu\")"
   ]
  },
  {
   "cell_type": "markdown",
   "metadata": {},
   "source": [
    "Need to include RNN architecture from intents_classification.ipynb in order to load the model"
   ]
  },
  {
   "cell_type": "code",
   "execution_count": 2,
   "metadata": {},
   "outputs": [],
   "source": [
    "class RNN(nn.Module):\n",
    "    name = \"RNN\" # for keeping track of model type\n",
    "    def __init__(self, input_size, hidden_size, output_size):\n",
    "        super(RNN, self).__init__()\n",
    "\n",
    "        self.hidden_size = hidden_size\n",
    "\n",
    "        self.i2o = nn.Linear(input_size + hidden_size, output_size)\n",
    "        self.softmax = nn.LogSoftmax(dim=1)\n",
    "        self.ReLU = nn.ReLU()\n",
    "        self.dropout = nn.Dropout(0.2)\n",
    "\n",
    "    def forward(self, input, hidden):\n",
    "        # Check that input size matches expected size\n",
    "        if input.size(1) != self.i2o.in_features - self.hidden_size:\n",
    "            raise ValueError(\"Input size mismatch: expected {}, got {}\".format(\n",
    "                self.i2o.in_features - self.hidden_size, input.size(1)\n",
    "            ))\n",
    "        combined = torch.cat((input, hidden), 1)\n",
    "        # Ensure combined size matches linear layer input\n",
    "        if combined.size(1) != self.i2o.in_features:\n",
    "            raise RuntimeError(\"Concatenated size mismatch: expected {}, got {}\".format(\n",
    "                self.i2o.in_features, combined.size(1)\n",
    "            ))\n",
    "        hidden = self.i2o(combined)\n",
    "        hidden = self.ReLU(hidden)\n",
    "        hidden = self.dropout(hidden)\n",
    "        output = self.softmax(hidden)\n",
    "        return output, hidden\n",
    "\n",
    "    def initHidden(self, batch_size):\n",
    "        return torch.zeros(batch_size, self.hidden_size).to(device)"
   ]
  },
  {
   "cell_type": "code",
   "execution_count": 3,
   "metadata": {},
   "outputs": [],
   "source": [
    "base_path = os.getcwd()\n",
    "clean_data_path = os.path.join(base_path, '../clean_data')\n",
    "intent_class_path = os.path.join(clean_data_path, 'models/intents_classifier.pth')\n",
    "entity_class_path = os.path.join(clean_data_path, 'models/ner_model')\n",
    "intent_model = torch.load(intent_class_path)\n",
    "entity_model = spacy.load(entity_class_path)"
   ]
  },
  {
   "cell_type": "code",
   "execution_count": 4,
   "metadata": {},
   "outputs": [],
   "source": [
    "def bag_of_words(sentence, words, lemmatizer):\n",
    "    if sentence is None:\n",
    "        return np.zeros(len(words))\n",
    "    sentence_words = nltk.tokenize.word_tokenize(sentence)\n",
    "    sentence_words = [lemmatizer.lemmatize(word.lower()) for word in sentence_words]\n",
    "    bag = [0] * len(words)\n",
    "    for s in sentence_words:\n",
    "        for i, w in enumerate(words):\n",
    "            if w == s:\n",
    "                bag[i] = 1\n",
    "    return np.array(bag)"
   ]
  },
  {
   "cell_type": "code",
   "execution_count": 5,
   "metadata": {},
   "outputs": [],
   "source": [
    "import json\n",
    "def load_data(path):\n",
    "    # Load intents\n",
    "    with open(path, 'r') as file:\n",
    "        intents = json.load(file)['intents']\n",
    "\n",
    "    intents_dict = {}\n",
    "    response_dict = {}\n",
    "    for intent in intents:\n",
    "        intents_dict[intent['tag']] = intent['patterns']\n",
    "        response_dict[intent['tag']] = intent['responses']\n",
    "\n",
    "    return intents_dict, response_dict"
   ]
  },
  {
   "cell_type": "code",
   "execution_count": 6,
   "metadata": {},
   "outputs": [],
   "source": [
    "def process_intents(intents_dict):\n",
    "    lemmatizer = WordNetLemmatizer()\n",
    "\n",
    "    words = []\n",
    "    intents = []\n",
    "    words_tokenized = []\n",
    "    ignore = ['?', '!', '.', ',']\n",
    "\n",
    "    for intent in intents_dict:\n",
    "        for pattern in intents_dict[intent]:\n",
    "            w = nltk.tokenize.word_tokenize(pattern)\n",
    "            words.extend(w) # append words from tokenized pattern to 'words'\n",
    "            words_tokenized.append((w, intent)) # list of tuples containing list of words and intent class\n",
    "            if intent not in intents:\n",
    "                intents.append(intent) # unique list of intents\n",
    "\n",
    "    # find base form of word and remove ignore words\n",
    "    words = [lemmatizer.lemmatize(w.lower()) for w in words if w not in ignore]\n",
    "    words = sorted(list(set(words))) # remove duplicates and sort\n",
    "\n",
    "    intents = sorted(intents)\n",
    "\n",
    "    return words, intents, words_tokenized"
   ]
  },
  {
   "cell_type": "code",
   "execution_count": 7,
   "metadata": {},
   "outputs": [
    {
     "name": "stdout",
     "output_type": "stream",
     "text": [
      "13\n"
     ]
    }
   ],
   "source": [
    "import json\n",
    "intents_dict, response_dict = load_data('../clean_data/intents_enriched.json')\n",
    "n_categories = len(intents_dict)\n",
    "print(n_categories)"
   ]
  },
  {
   "cell_type": "code",
   "execution_count": 8,
   "metadata": {},
   "outputs": [],
   "source": [
    "words, intents, words_tokenized = process_intents(intents_dict)"
   ]
  },
  {
   "cell_type": "code",
   "execution_count": 9,
   "metadata": {},
   "outputs": [],
   "source": [
    "def predict(model, input_line, words, n_predictions=3):\n",
    "    # Just return an output given a line\n",
    "    def evaluate(line_tensor):\n",
    "        hidden = model.initHidden(line_tensor.size(0))\n",
    "        output, hidden = model(line_tensor, hidden)\n",
    "\n",
    "        return output\n",
    "    \n",
    "    def words_in_bag(sentence):\n",
    "        lemmatizer = WordNetLemmatizer()\n",
    "        if sentence is None:\n",
    "            return np.zeros(len(words))\n",
    "        sentence_words = nltk.tokenize.word_tokenize(sentence)\n",
    "        sentence_words = [lemmatizer.lemmatize(word.lower()) for word in sentence_words]\n",
    "        bag = [0] * len(words)\n",
    "        for s in sentence_words:\n",
    "            for i, w in enumerate(words):\n",
    "                if w == s:\n",
    "                    bag[i] = 1\n",
    "        return np.array(bag)\n",
    "    \n",
    "    print('\\n> %s' % input_line)\n",
    "    with torch.no_grad():\n",
    "        output = evaluate(torch.from_numpy(words_in_bag(input_line)).view(1, -1))\n",
    "\n",
    "        # Get top N categories\n",
    "        topv, topi = output.topk(n_predictions, 1, True)\n",
    "        predictions = []\n",
    "\n",
    "        for i in range(n_predictions):\n",
    "            value = topv[0][i].item()\n",
    "            category_index = topi[0][i].item()\n",
    "            print('(%.2f) %s' % (value, intents[category_index]))\n",
    "            predictions.append([value, intents[category_index]])\n",
    "\n",
    "    return predictions"
   ]
  },
  {
   "cell_type": "code",
   "execution_count": 10,
   "metadata": {},
   "outputs": [],
   "source": [
    "def get_intents_and_entities(intent_model, entity_model, text, words):\n",
    "    intent_prob = -np.inf\n",
    "    intents_pred = predict(intent_model, text, words)\n",
    "    intent = ''\n",
    "\n",
    "    for item in intents_pred:\n",
    "        if item[0] > intent_prob:\n",
    "            intent_prob = item[0]\n",
    "            intent = item[1]\n",
    "    ner_doc = entity_model(text)\n",
    "    entities = [(ent.text, ent.label_) for ent in ner_doc.ents]\n",
    "    return intent, entities"
   ]
  },
  {
   "cell_type": "code",
   "execution_count": 11,
   "metadata": {},
   "outputs": [
    {
     "name": "stdout",
     "output_type": "stream",
     "text": [
      "\n",
      "> The patient was prescribed 500 mg of Metformin.\n"
     ]
    },
    {
     "ename": "ValueError",
     "evalue": "Input size mismatch: expected 482, got 487",
     "output_type": "error",
     "traceback": [
      "\u001b[1;31m---------------------------------------------------------------------------\u001b[0m",
      "\u001b[1;31mValueError\u001b[0m                                Traceback (most recent call last)",
      "Cell \u001b[1;32mIn[11], line 2\u001b[0m\n\u001b[0;32m      1\u001b[0m text \u001b[38;5;241m=\u001b[39m \u001b[38;5;124m\"\u001b[39m\u001b[38;5;124mThe patient was prescribed 500 mg of Metformin.\u001b[39m\u001b[38;5;124m\"\u001b[39m\n\u001b[1;32m----> 2\u001b[0m intent, entities \u001b[38;5;241m=\u001b[39m \u001b[43mget_intents_and_entities\u001b[49m\u001b[43m(\u001b[49m\u001b[43mintent_model\u001b[49m\u001b[43m,\u001b[49m\u001b[43m \u001b[49m\u001b[43mentity_model\u001b[49m\u001b[43m,\u001b[49m\u001b[43m \u001b[49m\u001b[43mtext\u001b[49m\u001b[43m,\u001b[49m\u001b[43m \u001b[49m\u001b[43mwords\u001b[49m\u001b[43m)\u001b[49m\n\u001b[0;32m      3\u001b[0m \u001b[38;5;28mprint\u001b[39m(intent)\n\u001b[0;32m      4\u001b[0m \u001b[38;5;28mprint\u001b[39m(entities)\n",
      "Cell \u001b[1;32mIn[10], line 3\u001b[0m, in \u001b[0;36mget_intents_and_entities\u001b[1;34m(intent_model, entity_model, text, words)\u001b[0m\n\u001b[0;32m      1\u001b[0m \u001b[38;5;28;01mdef\u001b[39;00m \u001b[38;5;21mget_intents_and_entities\u001b[39m(intent_model, entity_model, text, words):\n\u001b[0;32m      2\u001b[0m     intent_prob \u001b[38;5;241m=\u001b[39m \u001b[38;5;241m-\u001b[39mnp\u001b[38;5;241m.\u001b[39minf\n\u001b[1;32m----> 3\u001b[0m     intents_pred \u001b[38;5;241m=\u001b[39m \u001b[43mpredict\u001b[49m\u001b[43m(\u001b[49m\u001b[43mintent_model\u001b[49m\u001b[43m,\u001b[49m\u001b[43m \u001b[49m\u001b[43mtext\u001b[49m\u001b[43m,\u001b[49m\u001b[43m \u001b[49m\u001b[43mwords\u001b[49m\u001b[43m)\u001b[49m\n\u001b[0;32m      4\u001b[0m     intent \u001b[38;5;241m=\u001b[39m \u001b[38;5;124m'\u001b[39m\u001b[38;5;124m'\u001b[39m\n\u001b[0;32m      6\u001b[0m     \u001b[38;5;28;01mfor\u001b[39;00m item \u001b[38;5;129;01min\u001b[39;00m intents_pred:\n",
      "Cell \u001b[1;32mIn[9], line 24\u001b[0m, in \u001b[0;36mpredict\u001b[1;34m(model, input_line, words, n_predictions)\u001b[0m\n\u001b[0;32m     22\u001b[0m \u001b[38;5;28mprint\u001b[39m(\u001b[38;5;124m'\u001b[39m\u001b[38;5;130;01m\\n\u001b[39;00m\u001b[38;5;124m> \u001b[39m\u001b[38;5;132;01m%s\u001b[39;00m\u001b[38;5;124m'\u001b[39m \u001b[38;5;241m%\u001b[39m input_line)\n\u001b[0;32m     23\u001b[0m \u001b[38;5;28;01mwith\u001b[39;00m torch\u001b[38;5;241m.\u001b[39mno_grad():\n\u001b[1;32m---> 24\u001b[0m     output \u001b[38;5;241m=\u001b[39m \u001b[43mevaluate\u001b[49m\u001b[43m(\u001b[49m\u001b[43mtorch\u001b[49m\u001b[38;5;241;43m.\u001b[39;49m\u001b[43mfrom_numpy\u001b[49m\u001b[43m(\u001b[49m\u001b[43mwords_in_bag\u001b[49m\u001b[43m(\u001b[49m\u001b[43minput_line\u001b[49m\u001b[43m)\u001b[49m\u001b[43m)\u001b[49m\u001b[38;5;241;43m.\u001b[39;49m\u001b[43mview\u001b[49m\u001b[43m(\u001b[49m\u001b[38;5;241;43m1\u001b[39;49m\u001b[43m,\u001b[49m\u001b[43m \u001b[49m\u001b[38;5;241;43m-\u001b[39;49m\u001b[38;5;241;43m1\u001b[39;49m\u001b[43m)\u001b[49m\u001b[43m)\u001b[49m\n\u001b[0;32m     26\u001b[0m     \u001b[38;5;66;03m# Get top N categories\u001b[39;00m\n\u001b[0;32m     27\u001b[0m     topv, topi \u001b[38;5;241m=\u001b[39m output\u001b[38;5;241m.\u001b[39mtopk(n_predictions, \u001b[38;5;241m1\u001b[39m, \u001b[38;5;28;01mTrue\u001b[39;00m)\n",
      "Cell \u001b[1;32mIn[9], line 5\u001b[0m, in \u001b[0;36mpredict.<locals>.evaluate\u001b[1;34m(line_tensor)\u001b[0m\n\u001b[0;32m      3\u001b[0m \u001b[38;5;28;01mdef\u001b[39;00m \u001b[38;5;21mevaluate\u001b[39m(line_tensor):\n\u001b[0;32m      4\u001b[0m     hidden \u001b[38;5;241m=\u001b[39m model\u001b[38;5;241m.\u001b[39minitHidden(line_tensor\u001b[38;5;241m.\u001b[39msize(\u001b[38;5;241m0\u001b[39m))\n\u001b[1;32m----> 5\u001b[0m     output, hidden \u001b[38;5;241m=\u001b[39m \u001b[43mmodel\u001b[49m\u001b[43m(\u001b[49m\u001b[43mline_tensor\u001b[49m\u001b[43m,\u001b[49m\u001b[43m \u001b[49m\u001b[43mhidden\u001b[49m\u001b[43m)\u001b[49m\n\u001b[0;32m      7\u001b[0m     \u001b[38;5;28;01mreturn\u001b[39;00m output\n",
      "File \u001b[1;32mc:\\Users\\rgbmr\\AppData\\Local\\Programs\\Python\\Python312\\Lib\\site-packages\\torch\\nn\\modules\\module.py:1511\u001b[0m, in \u001b[0;36mModule._wrapped_call_impl\u001b[1;34m(self, *args, **kwargs)\u001b[0m\n\u001b[0;32m   1509\u001b[0m     \u001b[38;5;28;01mreturn\u001b[39;00m \u001b[38;5;28mself\u001b[39m\u001b[38;5;241m.\u001b[39m_compiled_call_impl(\u001b[38;5;241m*\u001b[39margs, \u001b[38;5;241m*\u001b[39m\u001b[38;5;241m*\u001b[39mkwargs)  \u001b[38;5;66;03m# type: ignore[misc]\u001b[39;00m\n\u001b[0;32m   1510\u001b[0m \u001b[38;5;28;01melse\u001b[39;00m:\n\u001b[1;32m-> 1511\u001b[0m     \u001b[38;5;28;01mreturn\u001b[39;00m \u001b[38;5;28;43mself\u001b[39;49m\u001b[38;5;241;43m.\u001b[39;49m\u001b[43m_call_impl\u001b[49m\u001b[43m(\u001b[49m\u001b[38;5;241;43m*\u001b[39;49m\u001b[43margs\u001b[49m\u001b[43m,\u001b[49m\u001b[43m \u001b[49m\u001b[38;5;241;43m*\u001b[39;49m\u001b[38;5;241;43m*\u001b[39;49m\u001b[43mkwargs\u001b[49m\u001b[43m)\u001b[49m\n",
      "File \u001b[1;32mc:\\Users\\rgbmr\\AppData\\Local\\Programs\\Python\\Python312\\Lib\\site-packages\\torch\\nn\\modules\\module.py:1520\u001b[0m, in \u001b[0;36mModule._call_impl\u001b[1;34m(self, *args, **kwargs)\u001b[0m\n\u001b[0;32m   1515\u001b[0m \u001b[38;5;66;03m# If we don't have any hooks, we want to skip the rest of the logic in\u001b[39;00m\n\u001b[0;32m   1516\u001b[0m \u001b[38;5;66;03m# this function, and just call forward.\u001b[39;00m\n\u001b[0;32m   1517\u001b[0m \u001b[38;5;28;01mif\u001b[39;00m \u001b[38;5;129;01mnot\u001b[39;00m (\u001b[38;5;28mself\u001b[39m\u001b[38;5;241m.\u001b[39m_backward_hooks \u001b[38;5;129;01mor\u001b[39;00m \u001b[38;5;28mself\u001b[39m\u001b[38;5;241m.\u001b[39m_backward_pre_hooks \u001b[38;5;129;01mor\u001b[39;00m \u001b[38;5;28mself\u001b[39m\u001b[38;5;241m.\u001b[39m_forward_hooks \u001b[38;5;129;01mor\u001b[39;00m \u001b[38;5;28mself\u001b[39m\u001b[38;5;241m.\u001b[39m_forward_pre_hooks\n\u001b[0;32m   1518\u001b[0m         \u001b[38;5;129;01mor\u001b[39;00m _global_backward_pre_hooks \u001b[38;5;129;01mor\u001b[39;00m _global_backward_hooks\n\u001b[0;32m   1519\u001b[0m         \u001b[38;5;129;01mor\u001b[39;00m _global_forward_hooks \u001b[38;5;129;01mor\u001b[39;00m _global_forward_pre_hooks):\n\u001b[1;32m-> 1520\u001b[0m     \u001b[38;5;28;01mreturn\u001b[39;00m \u001b[43mforward_call\u001b[49m\u001b[43m(\u001b[49m\u001b[38;5;241;43m*\u001b[39;49m\u001b[43margs\u001b[49m\u001b[43m,\u001b[49m\u001b[43m \u001b[49m\u001b[38;5;241;43m*\u001b[39;49m\u001b[38;5;241;43m*\u001b[39;49m\u001b[43mkwargs\u001b[49m\u001b[43m)\u001b[49m\n\u001b[0;32m   1522\u001b[0m \u001b[38;5;28;01mtry\u001b[39;00m:\n\u001b[0;32m   1523\u001b[0m     result \u001b[38;5;241m=\u001b[39m \u001b[38;5;28;01mNone\u001b[39;00m\n",
      "Cell \u001b[1;32mIn[2], line 16\u001b[0m, in \u001b[0;36mRNN.forward\u001b[1;34m(self, input, hidden)\u001b[0m\n\u001b[0;32m     13\u001b[0m \u001b[38;5;28;01mdef\u001b[39;00m \u001b[38;5;21mforward\u001b[39m(\u001b[38;5;28mself\u001b[39m, \u001b[38;5;28minput\u001b[39m, hidden):\n\u001b[0;32m     14\u001b[0m     \u001b[38;5;66;03m# Check that input size matches expected size\u001b[39;00m\n\u001b[0;32m     15\u001b[0m     \u001b[38;5;28;01mif\u001b[39;00m \u001b[38;5;28minput\u001b[39m\u001b[38;5;241m.\u001b[39msize(\u001b[38;5;241m1\u001b[39m) \u001b[38;5;241m!=\u001b[39m \u001b[38;5;28mself\u001b[39m\u001b[38;5;241m.\u001b[39mi2o\u001b[38;5;241m.\u001b[39min_features \u001b[38;5;241m-\u001b[39m \u001b[38;5;28mself\u001b[39m\u001b[38;5;241m.\u001b[39mhidden_size:\n\u001b[1;32m---> 16\u001b[0m         \u001b[38;5;28;01mraise\u001b[39;00m \u001b[38;5;167;01mValueError\u001b[39;00m(\u001b[38;5;124m\"\u001b[39m\u001b[38;5;124mInput size mismatch: expected \u001b[39m\u001b[38;5;132;01m{}\u001b[39;00m\u001b[38;5;124m, got \u001b[39m\u001b[38;5;132;01m{}\u001b[39;00m\u001b[38;5;124m\"\u001b[39m\u001b[38;5;241m.\u001b[39mformat(\n\u001b[0;32m     17\u001b[0m             \u001b[38;5;28mself\u001b[39m\u001b[38;5;241m.\u001b[39mi2o\u001b[38;5;241m.\u001b[39min_features \u001b[38;5;241m-\u001b[39m \u001b[38;5;28mself\u001b[39m\u001b[38;5;241m.\u001b[39mhidden_size, \u001b[38;5;28minput\u001b[39m\u001b[38;5;241m.\u001b[39msize(\u001b[38;5;241m1\u001b[39m)\n\u001b[0;32m     18\u001b[0m         ))\n\u001b[0;32m     19\u001b[0m     combined \u001b[38;5;241m=\u001b[39m torch\u001b[38;5;241m.\u001b[39mcat((\u001b[38;5;28minput\u001b[39m, hidden), \u001b[38;5;241m1\u001b[39m)\n\u001b[0;32m     20\u001b[0m     \u001b[38;5;66;03m# Ensure combined size matches linear layer input\u001b[39;00m\n",
      "\u001b[1;31mValueError\u001b[0m: Input size mismatch: expected 482, got 487"
     ]
    }
   ],
   "source": [
    "text = \"The patient was prescribed 500 mg of Metformin.\"\n",
    "intent, entities = get_intents_and_entities(intent_model, entity_model, text, words)\n",
    "print(intent)\n",
    "print(entities)"
   ]
  },
  {
   "cell_type": "code",
   "execution_count": 25,
   "metadata": {},
   "outputs": [],
   "source": [
    "INTENT_PREFIX = \"[INTENT]\"\n",
    "ENTITY_PREFIX = \"[ENTITY]\""
   ]
  },
  {
   "cell_type": "code",
   "execution_count": 26,
   "metadata": {},
   "outputs": [],
   "source": [
    "def augment_input_with_intent_and_entities(user_input, intent, entities):\n",
    "    # Augment the input with the intent\n",
    "    augmented_input = f\"{INTENT_PREFIX}{intent} \" + user_input\n",
    "    \n",
    "    # Augment the input with entities\n",
    "    for entity, entity_type in entities:\n",
    "        augmented_input += f\" {ENTITY_PREFIX}{entity_type}\" # does it need to know just the type or the entity itself as well?\n",
    "    \n",
    "    return augmented_input"
   ]
  },
  {
   "cell_type": "code",
   "execution_count": 27,
   "metadata": {},
   "outputs": [
    {
     "name": "stdout",
     "output_type": "stream",
     "text": [
      "Collecting transformers\n",
      "  Downloading transformers-4.40.1-py3-none-any.whl.metadata (137 kB)\n",
      "     ---------------------------------------- 0.0/138.0 kB ? eta -:--:--\n",
      "     -------- ---------------------------- 30.7/138.0 kB 660.6 kB/s eta 0:00:01\n",
      "     ------------------------------------ - 133.1/138.0 kB 1.6 MB/s eta 0:00:01\n",
      "     -------------------------------------- 138.0/138.0 kB 1.6 MB/s eta 0:00:00\n",
      "Requirement already satisfied: filelock in c:\\users\\rgbmr\\appdata\\local\\programs\\python\\python312\\lib\\site-packages (from transformers) (3.13.4)\n",
      "Requirement already satisfied: huggingface-hub<1.0,>=0.19.3 in c:\\users\\rgbmr\\appdata\\local\\programs\\python\\python312\\lib\\site-packages (from transformers) (0.22.2)\n",
      "Requirement already satisfied: numpy>=1.17 in c:\\users\\rgbmr\\appdata\\local\\programs\\python\\python312\\lib\\site-packages (from transformers) (1.26.4)\n",
      "Requirement already satisfied: packaging>=20.0 in c:\\users\\rgbmr\\appdata\\local\\programs\\python\\python312\\lib\\site-packages (from transformers) (23.2)\n",
      "Requirement already satisfied: pyyaml>=5.1 in c:\\users\\rgbmr\\appdata\\local\\programs\\python\\python312\\lib\\site-packages (from transformers) (6.0.1)\n",
      "Requirement already satisfied: regex!=2019.12.17 in c:\\users\\rgbmr\\appdata\\local\\programs\\python\\python312\\lib\\site-packages (from transformers) (2024.4.16)\n",
      "Requirement already satisfied: requests in c:\\users\\rgbmr\\appdata\\local\\programs\\python\\python312\\lib\\site-packages (from transformers) (2.31.0)\n",
      "Collecting tokenizers<0.20,>=0.19 (from transformers)\n",
      "  Downloading tokenizers-0.19.1-cp312-none-win_amd64.whl.metadata (6.9 kB)\n",
      "Collecting safetensors>=0.4.1 (from transformers)\n",
      "  Downloading safetensors-0.4.3-cp312-none-win_amd64.whl.metadata (3.9 kB)\n",
      "Requirement already satisfied: tqdm>=4.27 in c:\\users\\rgbmr\\appdata\\local\\programs\\python\\python312\\lib\\site-packages (from transformers) (4.66.2)\n",
      "Requirement already satisfied: fsspec>=2023.5.0 in c:\\users\\rgbmr\\appdata\\local\\programs\\python\\python312\\lib\\site-packages (from huggingface-hub<1.0,>=0.19.3->transformers) (2024.3.1)\n",
      "Requirement already satisfied: typing-extensions>=3.7.4.3 in c:\\users\\rgbmr\\appdata\\local\\programs\\python\\python312\\lib\\site-packages (from huggingface-hub<1.0,>=0.19.3->transformers) (4.11.0)\n",
      "Requirement already satisfied: colorama in c:\\users\\rgbmr\\appdata\\roaming\\python\\python312\\site-packages (from tqdm>=4.27->transformers) (0.4.6)\n",
      "Requirement already satisfied: charset-normalizer<4,>=2 in c:\\users\\rgbmr\\appdata\\local\\programs\\python\\python312\\lib\\site-packages (from requests->transformers) (3.3.2)\n",
      "Requirement already satisfied: idna<4,>=2.5 in c:\\users\\rgbmr\\appdata\\local\\programs\\python\\python312\\lib\\site-packages (from requests->transformers) (3.7)\n",
      "Requirement already satisfied: urllib3<3,>=1.21.1 in c:\\users\\rgbmr\\appdata\\local\\programs\\python\\python312\\lib\\site-packages (from requests->transformers) (2.2.1)\n",
      "Requirement already satisfied: certifi>=2017.4.17 in c:\\users\\rgbmr\\appdata\\local\\programs\\python\\python312\\lib\\site-packages (from requests->transformers) (2024.2.2)\n",
      "Downloading transformers-4.40.1-py3-none-any.whl (9.0 MB)\n",
      "   ---------------------------------------- 0.0/9.0 MB ? eta -:--:--\n",
      "   -- ------------------------------------- 0.5/9.0 MB 9.6 MB/s eta 0:00:01\n",
      "   -------- ------------------------------- 2.0/9.0 MB 21.2 MB/s eta 0:00:01\n",
      "   --------------------------- ------------ 6.2/9.0 MB 43.9 MB/s eta 0:00:01\n",
      "   ----------------------------------- ---- 8.0/9.0 MB 42.6 MB/s eta 0:00:01\n",
      "   ---------------------------------------- 9.0/9.0 MB 41.0 MB/s eta 0:00:00\n",
      "Downloading safetensors-0.4.3-cp312-none-win_amd64.whl (289 kB)\n",
      "   ---------------------------------------- 0.0/289.4 kB ? eta -:--:--\n",
      "   --------------------------------------- 289.4/289.4 kB 17.4 MB/s eta 0:00:00\n",
      "Downloading tokenizers-0.19.1-cp312-none-win_amd64.whl (2.2 MB)\n",
      "   ---------------------------------------- 0.0/2.2 MB ? eta -:--:--\n",
      "   ---------------------------------------- 2.2/2.2 MB 137.8 MB/s eta 0:00:00\n",
      "Installing collected packages: safetensors, tokenizers, transformers\n",
      "Successfully installed safetensors-0.4.3 tokenizers-0.19.1 transformers-4.40.1\n"
     ]
    }
   ],
   "source": [
    "!pip install transformers -U\n",
    "!pip install accelerate -U"
   ]
  },
  {
   "cell_type": "code",
   "execution_count": 12,
   "metadata": {},
   "outputs": [
    {
     "name": "stderr",
     "output_type": "stream",
     "text": [
      "c:\\Users\\rgbmr\\AppData\\Local\\Programs\\Python\\Python312\\Lib\\site-packages\\tqdm\\auto.py:21: TqdmWarning: IProgress not found. Please update jupyter and ipywidgets. See https://ipywidgets.readthedocs.io/en/stable/user_install.html\n",
      "  from .autonotebook import tqdm as notebook_tqdm\n"
     ]
    },
    {
     "data": {
      "text/plain": [
       "GPT2LMHeadModel(\n",
       "  (transformer): GPT2Model(\n",
       "    (wte): Embedding(50257, 768)\n",
       "    (wpe): Embedding(1024, 768)\n",
       "    (drop): Dropout(p=0.1, inplace=False)\n",
       "    (h): ModuleList(\n",
       "      (0-11): 12 x GPT2Block(\n",
       "        (ln_1): LayerNorm((768,), eps=1e-05, elementwise_affine=True)\n",
       "        (attn): GPT2Attention(\n",
       "          (c_attn): Conv1D()\n",
       "          (c_proj): Conv1D()\n",
       "          (attn_dropout): Dropout(p=0.1, inplace=False)\n",
       "          (resid_dropout): Dropout(p=0.1, inplace=False)\n",
       "        )\n",
       "        (ln_2): LayerNorm((768,), eps=1e-05, elementwise_affine=True)\n",
       "        (mlp): GPT2MLP(\n",
       "          (c_fc): Conv1D()\n",
       "          (c_proj): Conv1D()\n",
       "          (act): NewGELUActivation()\n",
       "          (dropout): Dropout(p=0.1, inplace=False)\n",
       "        )\n",
       "      )\n",
       "    )\n",
       "    (ln_f): LayerNorm((768,), eps=1e-05, elementwise_affine=True)\n",
       "  )\n",
       "  (lm_head): Linear(in_features=768, out_features=50257, bias=False)\n",
       ")"
      ]
     },
     "execution_count": 12,
     "metadata": {},
     "output_type": "execute_result"
    }
   ],
   "source": [
    "import torch\n",
    "from transformers import GPT2LMHeadModel, GPT2Tokenizer\n",
    "\n",
    "# Load the GPT-2 model and tokenizer\n",
    "model_name = \"gpt2\"\n",
    "tokenizer = GPT2Tokenizer.from_pretrained(model_name)\n",
    "model = GPT2LMHeadModel.from_pretrained(model_name)\n",
    "\n",
    "# Set the model to evaluation mode\n",
    "model.eval()"
   ]
  },
  {
   "cell_type": "code",
   "execution_count": 13,
   "metadata": {},
   "outputs": [
    {
     "name": "stdout",
     "output_type": "stream",
     "text": [
      "Generated Response: What is the capital of France?\n",
      "\n",
      "The capital of France is Paris.\n",
      "\n",
      "The capital of France is Paris.\n",
      "\n",
      "The capital of\n"
     ]
    }
   ],
   "source": [
    "# Example text to tokenize\n",
    "text = \"What is the capital of France?\"\n",
    "\n",
    "\n",
    "pad_token_id = tokenizer.pad_token_id  # Usually None for GPT-2\n",
    "if pad_token_id is None:\n",
    "    # If no pad token ID, use a commonly unused ID (like 0)\n",
    "    pad_token_id = 0\n",
    "\n",
    "# Update the tokenizer's pad token\n",
    "tokenizer.pad_token = \"<pad>\"\n",
    "tokenizer.pad_token_id = pad_token_id\n",
    "\n",
    "# Tokenize the text and create an attention mask\n",
    "inputs = tokenizer(text, return_tensors=\"pt\", padding=True, truncation=True)\n",
    "\n",
    "# Extract input IDs and attention mask\n",
    "input_ids = inputs[\"input_ids\"]\n",
    "attention_mask = inputs[\"attention_mask\"]\n",
    "\n",
    "# Ensure attention mask is passed to the model\n",
    "output = model.generate(input_ids, attention_mask=attention_mask, pad_token_id=pad_token_id, max_length=30, num_return_sequences=1)\n",
    "\n",
    "# Decode the output to get the response text\n",
    "response = tokenizer.decode(output[0], skip_special_tokens=True)\n",
    "\n",
    "print(\"Generated Response:\", response)"
   ]
  },
  {
   "cell_type": "code",
   "execution_count": 22,
   "metadata": {},
   "outputs": [
    {
     "name": "stdout",
     "output_type": "stream",
     "text": [
      "Train text: Q: Hello, how are you? A: Well hello. I'm doing well, thank you. How may I help you today?\n",
      "Q: Hello, how are you doing? A: Well hello. I'm doing well, thanks for asking. How may I help you today?\n",
      "Q: Hello, how's it going? A: Well hello. It's going well, thank you. How may I help you today?\n",
      "Q: Hello, what's up? A: Well hello. Not much, thanks for asking. How may I help you today?\n",
      "Q: Hello, how do you do? A: Well hello. I'm doing well, thank you. How may I help you today?\n",
      "Q: Hello, How's it hangin? A: Well hello. It's hangin'. How may I help you today?\n",
      "Q: Hello, what's going on? A: Well hello. Not much thanks for asking. How may I help you today?\n",
      "Q: Hello A: Well hello.  How may I help you today?\n",
      "Q: Hi, how are you doing? A: Hi there. I'm doing well, thanks for asking. How may I help you today?\n",
      "Q: Hi, how's it going? A: Hi there. It's going well, thank you. How may I help you today?\n",
      "Q: Hi, what's up? A: Hi there. Not much, thanks for asking. How may I help you today?\n",
      "Q: Hi, how do you do\n",
      "Test text: Q: Hi, how are you? A: Hi there. I'm doing well, thank you. How may I help you today?\n",
      "Q: Hi, what's going on? A: Hi there. Not much thanks for asking. How may I help you today?\n",
      "Q: Hey, how are you? A: Hey yourself. I'm doing well, thank you. How may I help you today?\n",
      "Q: Howdy, how's it going? A: Howdy there. It's going well, thank you. How may I help you today?\n",
      "Q: Good evening, what's up? A: Good evening. Not much, thanks for asking. How may I help you today?\n",
      "Q: Good day, how are you? A: Good day. I'm doing well, thank you. How may I help you today?\n",
      "Q: Good day, how are you doing? A: Good day. I'm doing well, thanks for asking. How may I help you today?\n",
      "Q: Good day, how do you do? A: Good day. I'm doing well, thank you. How may I help you today?\n",
      "Q: Good day, How's it hangin? A: Good day. It's hangin'. How may I help you today?\n",
      "Q: Good day, what's going on? A: Good day. Not much thanks for asking. How may I help you today?\n",
      "Q: Hi there, how do you do? A: Hi. I'm doing well, thank you. Ho\n"
     ]
    }
   ],
   "source": [
    "def prepare_data(intents_dict, response_dict, intent_model, entity_model, augment_data=False):\n",
    "    training_text = \"\"\n",
    "    testing_text = \"\"\n",
    "    input_for_bleu = [] # list of input texts for BLEU score calculation\n",
    "    output_for_bleu = []\n",
    "    if not augment_data:\n",
    "        for intent in intents_dict:\n",
    "            for index, pattern in enumerate(intents_dict[intent]):\n",
    "                if random.random() < 0.2:\n",
    "                    testing_text += f\"Q: {pattern} A: {response_dict[intent][index]}\\n\"\n",
    "                    input_for_bleu.append(pattern)\n",
    "                    output_for_bleu.append(response_dict[intent][index])\n",
    "                else:\n",
    "                    training_text += f\"Q: {pattern} A: {response_dict[intent][index]}\\n\"\n",
    "\n",
    "    else:\n",
    "        for intent in intents_dict:\n",
    "            for index, pattern in enumerate(intents_dict[intent]):\n",
    "                intent, entities = get_intents_and_entities(intent_model, entity_model, pattern, words)\n",
    "                augmented_input = augment_input_with_intent_and_entities(pattern, intent, entities)\n",
    "                if random.random() < 0.2:\n",
    "                    testing_text += f\"Q: {augmented_input} A: {response_dict[intent][index]}\\n\"\n",
    "                    input_for_bleu.append(augmented_input)\n",
    "                    output_for_bleu.append(response_dict[intent][index])\n",
    "                else:\n",
    "                    training_text += f\"Q: {augmented_input} A: {response_dict[intent][index]}\\n\"\n",
    "            \n",
    "\n",
    "    print(\"Train text:\", training_text[:1000])\n",
    "    print(\"Test text:\", testing_text[:1000])\n",
    "\n",
    "    with open(\"training_text.txt\", \"w\") as file:\n",
    "        file.write(training_text)\n",
    "    \n",
    "    return input_for_bleu, output_for_bleu, training_text, testing_text"
   ]
  },
  {
   "cell_type": "code",
   "execution_count": 24,
   "metadata": {},
   "outputs": [
    {
     "name": "stdout",
     "output_type": "stream",
     "text": [
      "278111 72504\n"
     ]
    }
   ],
   "source": [
    "input_for_bleu, output_for_bleu, training_text, testing_text = prepare_data(intents_dict, response_dict)\n",
    "print(len(training_text), len(testing_text))"
   ]
  },
  {
   "cell_type": "code",
   "execution_count": 25,
   "metadata": {},
   "outputs": [
    {
     "name": "stderr",
     "output_type": "stream",
     "text": [
      "c:\\Users\\rgbmr\\AppData\\Local\\Programs\\Python\\Python312\\Lib\\site-packages\\transformers\\data\\datasets\\language_modeling.py:53: FutureWarning: This dataset will be removed from the library soon, preprocessing should be handled with the 🤗 Datasets library. You can have a look at this example script for pointers: https://github.com/huggingface/transformers/blob/main/examples/pytorch/language-modeling/run_mlm.py\n",
      "  warnings.warn(\n",
      "100%|██████████| 252/252 [18:59<00:00,  4.52s/it]\n"
     ]
    },
    {
     "name": "stdout",
     "output_type": "stream",
     "text": [
      "{'train_runtime': 1139.4735, 'train_samples_per_second': 1.769, 'train_steps_per_second': 0.221, 'train_loss': 0.217619260152181, 'epoch': 3.0}\n"
     ]
    }
   ],
   "source": [
    "from transformers import TextDataset, DataCollatorForLanguageModeling, Trainer, TrainingArguments\n",
    "\n",
    "def train_model(model):\n",
    "    model = model.to(device)\n",
    "\n",
    "    dataset = TextDataset(\n",
    "        tokenizer=tokenizer,\n",
    "        file_path=\"training_data.txt\",\n",
    "        block_size=128,\n",
    "    )\n",
    "\n",
    "    # Data collator for language modeling (applies random masking for training)\n",
    "    data_collator = DataCollatorForLanguageModeling(\n",
    "        tokenizer=tokenizer, mlm=False  # Set mlm=False for GPT-2 fine-tuning\n",
    "    )\n",
    "\n",
    "    # Define training arguments\n",
    "    training_args = TrainingArguments(\n",
    "        output_dir=\"./results\",\n",
    "        overwrite_output_dir=True,\n",
    "        num_train_epochs=3,\n",
    "        per_device_train_batch_size=8,\n",
    "        save_steps=500,\n",
    "        save_total_limit=2,\n",
    "        prediction_loss_only=True,  # Focus on language modeling loss\n",
    "    )\n",
    "\n",
    "    # Create a Trainer for fine-tuning\n",
    "    trainer = Trainer(\n",
    "        model=model,\n",
    "        args=training_args,\n",
    "        train_dataset=dataset,\n",
    "        data_collator=data_collator,\n",
    "    )\n",
    "\n",
    "    # Fine-tune the GPT-2 model\n",
    "    trainer.train()\n",
    "\n",
    "    # Save the fine-tuned model\n",
    "    trainer.save_model(\"../clean_data/models/fine_tuned_gpt2\")"
   ]
  },
  {
   "cell_type": "code",
   "execution_count": 26,
   "metadata": {},
   "outputs": [],
   "source": [
    "# Load the fine-tuned model\n",
    "fine_tuned_model = GPT2LMHeadModel.from_pretrained(\"../clean_data/models/fine_tuned_gpt2\")"
   ]
  },
  {
   "cell_type": "code",
   "execution_count": 27,
   "metadata": {},
   "outputs": [
    {
     "name": "stdout",
     "output_type": "stream",
     "text": [
      "Generated Response: Hi, how are you? A: Hi. I'm doing well, thank you. How may I help you today?\n",
      "\n"
     ]
    }
   ],
   "source": [
    "# Example text to tokenize\n",
    "text = \"Hi, how are you?\"\n",
    "\n",
    "\n",
    "pad_token_id = tokenizer.pad_token_id  # Usually None for GPT-2\n",
    "if pad_token_id is None:\n",
    "    # If no pad token ID, use a commonly unused ID (like 0)\n",
    "    pad_token_id = 0\n",
    "\n",
    "# Update the tokenizer's pad token\n",
    "tokenizer.pad_token = \"<pad>\"\n",
    "tokenizer.pad_token_id = pad_token_id\n",
    "\n",
    "# Tokenize the text and create an attention mask\n",
    "inputs = tokenizer(text, return_tensors=\"pt\", padding=True, truncation=True)\n",
    "\n",
    "# Extract input IDs and attention mask\n",
    "input_ids = inputs[\"input_ids\"]\n",
    "attention_mask = inputs[\"attention_mask\"]\n",
    "\n",
    "# Ensure attention mask is passed to the model\n",
    "output = fine_tuned_model.generate(input_ids, attention_mask=attention_mask, pad_token_id=pad_token_id, max_length=30, num_return_sequences=1)\n",
    "\n",
    "# Decode the output to get the response text\n",
    "response = tokenizer.decode(output[0], skip_special_tokens=True)\n",
    "\n",
    "print(\"Generated Response:\", response.split(\"Q: \")[0])"
   ]
  },
  {
   "cell_type": "code",
   "execution_count": 31,
   "metadata": {},
   "outputs": [
    {
     "ename": "TypeError",
     "evalue": "Fraction.__new__() got an unexpected keyword argument '_normalize'",
     "output_type": "error",
     "traceback": [
      "\u001b[1;31m---------------------------------------------------------------------------\u001b[0m",
      "\u001b[1;31mTypeError\u001b[0m                                 Traceback (most recent call last)",
      "Cell \u001b[1;32mIn[31], line 36\u001b[0m\n\u001b[0;32m     33\u001b[0m candidates \u001b[38;5;241m=\u001b[39m [nltk\u001b[38;5;241m.\u001b[39mword_tokenize(resp\u001b[38;5;241m.\u001b[39mlower()) \u001b[38;5;28;01mfor\u001b[39;00m resp \u001b[38;5;129;01min\u001b[39;00m model_responses]\n\u001b[0;32m     35\u001b[0m \u001b[38;5;66;03m# Calculate BLEU scores\u001b[39;00m\n\u001b[1;32m---> 36\u001b[0m bleu_scores \u001b[38;5;241m=\u001b[39m [\u001b[43msentence_bleu\u001b[49m\u001b[43m(\u001b[49m\u001b[43mref\u001b[49m\u001b[43m,\u001b[49m\u001b[43m \u001b[49m\u001b[43mcand\u001b[49m\u001b[43m,\u001b[49m\u001b[43m \u001b[49m\u001b[43msmoothing_function\u001b[49m\u001b[38;5;241;43m=\u001b[39;49m\u001b[43mSmoothingFunction\u001b[49m\u001b[43m(\u001b[49m\u001b[43m)\u001b[49m\u001b[38;5;241;43m.\u001b[39;49m\u001b[43mmethod2\u001b[49m\u001b[43m)\u001b[49m \u001b[38;5;28;01mfor\u001b[39;00m ref, cand \u001b[38;5;129;01min\u001b[39;00m \u001b[38;5;28mzip\u001b[39m(references, candidates)]\n\u001b[0;32m     38\u001b[0m \u001b[38;5;66;03m# Print BLEU scores for each response\u001b[39;00m\n\u001b[0;32m     39\u001b[0m \u001b[38;5;28;01mfor\u001b[39;00m i, score \u001b[38;5;129;01min\u001b[39;00m \u001b[38;5;28menumerate\u001b[39m(bleu_scores):\n",
      "File \u001b[1;32mc:\\Users\\rgbmr\\AppData\\Local\\Programs\\Python\\Python312\\Lib\\site-packages\\nltk\\translate\\bleu_score.py:107\u001b[0m, in \u001b[0;36msentence_bleu\u001b[1;34m(references, hypothesis, weights, smoothing_function, auto_reweigh)\u001b[0m\n\u001b[0;32m     20\u001b[0m \u001b[38;5;28;01mdef\u001b[39;00m \u001b[38;5;21msentence_bleu\u001b[39m(\n\u001b[0;32m     21\u001b[0m     references,\n\u001b[0;32m     22\u001b[0m     hypothesis,\n\u001b[1;32m   (...)\u001b[0m\n\u001b[0;32m     25\u001b[0m     auto_reweigh\u001b[38;5;241m=\u001b[39m\u001b[38;5;28;01mFalse\u001b[39;00m,\n\u001b[0;32m     26\u001b[0m ):\n\u001b[0;32m     27\u001b[0m \u001b[38;5;250m    \u001b[39m\u001b[38;5;124;03m\"\"\"\u001b[39;00m\n\u001b[0;32m     28\u001b[0m \u001b[38;5;124;03m    Calculate BLEU score (Bilingual Evaluation Understudy) from\u001b[39;00m\n\u001b[0;32m     29\u001b[0m \u001b[38;5;124;03m    Papineni, Kishore, Salim Roukos, Todd Ward, and Wei-Jing Zhu. 2002.\u001b[39;00m\n\u001b[1;32m   (...)\u001b[0m\n\u001b[0;32m    105\u001b[0m \u001b[38;5;124;03m    :rtype: float / list(float)\u001b[39;00m\n\u001b[0;32m    106\u001b[0m \u001b[38;5;124;03m    \"\"\"\u001b[39;00m\n\u001b[1;32m--> 107\u001b[0m     \u001b[38;5;28;01mreturn\u001b[39;00m \u001b[43mcorpus_bleu\u001b[49m\u001b[43m(\u001b[49m\n\u001b[0;32m    108\u001b[0m \u001b[43m        \u001b[49m\u001b[43m[\u001b[49m\u001b[43mreferences\u001b[49m\u001b[43m]\u001b[49m\u001b[43m,\u001b[49m\u001b[43m \u001b[49m\u001b[43m[\u001b[49m\u001b[43mhypothesis\u001b[49m\u001b[43m]\u001b[49m\u001b[43m,\u001b[49m\u001b[43m \u001b[49m\u001b[43mweights\u001b[49m\u001b[43m,\u001b[49m\u001b[43m \u001b[49m\u001b[43msmoothing_function\u001b[49m\u001b[43m,\u001b[49m\u001b[43m \u001b[49m\u001b[43mauto_reweigh\u001b[49m\n\u001b[0;32m    109\u001b[0m \u001b[43m    \u001b[49m\u001b[43m)\u001b[49m\n",
      "File \u001b[1;32mc:\\Users\\rgbmr\\AppData\\Local\\Programs\\Python\\Python312\\Lib\\site-packages\\nltk\\translate\\bleu_score.py:210\u001b[0m, in \u001b[0;36mcorpus_bleu\u001b[1;34m(list_of_references, hypotheses, weights, smoothing_function, auto_reweigh)\u001b[0m\n\u001b[0;32m    206\u001b[0m \u001b[38;5;28;01mfor\u001b[39;00m references, hypothesis \u001b[38;5;129;01min\u001b[39;00m \u001b[38;5;28mzip\u001b[39m(list_of_references, hypotheses):\n\u001b[0;32m    207\u001b[0m     \u001b[38;5;66;03m# For each order of ngram, calculate the numerator and\u001b[39;00m\n\u001b[0;32m    208\u001b[0m     \u001b[38;5;66;03m# denominator for the corpus-level modified precision.\u001b[39;00m\n\u001b[0;32m    209\u001b[0m     \u001b[38;5;28;01mfor\u001b[39;00m i \u001b[38;5;129;01min\u001b[39;00m \u001b[38;5;28mrange\u001b[39m(\u001b[38;5;241m1\u001b[39m, max_weight_length \u001b[38;5;241m+\u001b[39m \u001b[38;5;241m1\u001b[39m):\n\u001b[1;32m--> 210\u001b[0m         p_i \u001b[38;5;241m=\u001b[39m \u001b[43mmodified_precision\u001b[49m\u001b[43m(\u001b[49m\u001b[43mreferences\u001b[49m\u001b[43m,\u001b[49m\u001b[43m \u001b[49m\u001b[43mhypothesis\u001b[49m\u001b[43m,\u001b[49m\u001b[43m \u001b[49m\u001b[43mi\u001b[49m\u001b[43m)\u001b[49m\n\u001b[0;32m    211\u001b[0m         p_numerators[i] \u001b[38;5;241m+\u001b[39m\u001b[38;5;241m=\u001b[39m p_i\u001b[38;5;241m.\u001b[39mnumerator\n\u001b[0;32m    212\u001b[0m         p_denominators[i] \u001b[38;5;241m+\u001b[39m\u001b[38;5;241m=\u001b[39m p_i\u001b[38;5;241m.\u001b[39mdenominator\n",
      "File \u001b[1;32mc:\\Users\\rgbmr\\AppData\\Local\\Programs\\Python\\Python312\\Lib\\site-packages\\nltk\\translate\\bleu_score.py:368\u001b[0m, in \u001b[0;36mmodified_precision\u001b[1;34m(references, hypothesis, n)\u001b[0m\n\u001b[0;32m    364\u001b[0m \u001b[38;5;66;03m# Ensures that denominator is minimum 1 to avoid ZeroDivisionError.\u001b[39;00m\n\u001b[0;32m    365\u001b[0m \u001b[38;5;66;03m# Usually this happens when the ngram order is > len(reference).\u001b[39;00m\n\u001b[0;32m    366\u001b[0m denominator \u001b[38;5;241m=\u001b[39m \u001b[38;5;28mmax\u001b[39m(\u001b[38;5;241m1\u001b[39m, \u001b[38;5;28msum\u001b[39m(counts\u001b[38;5;241m.\u001b[39mvalues()))\n\u001b[1;32m--> 368\u001b[0m \u001b[38;5;28;01mreturn\u001b[39;00m \u001b[43mFraction\u001b[49m\u001b[43m(\u001b[49m\u001b[43mnumerator\u001b[49m\u001b[43m,\u001b[49m\u001b[43m \u001b[49m\u001b[43mdenominator\u001b[49m\u001b[43m,\u001b[49m\u001b[43m \u001b[49m\u001b[43m_normalize\u001b[49m\u001b[38;5;241;43m=\u001b[39;49m\u001b[38;5;28;43;01mFalse\u001b[39;49;00m\u001b[43m)\u001b[49m\n",
      "\u001b[1;31mTypeError\u001b[0m: Fraction.__new__() got an unexpected keyword argument '_normalize'"
     ]
    }
   ],
   "source": [
    "import nltk\n",
    "from nltk.translate.bleu_score import sentence_bleu, SmoothingFunction\n",
    "\n",
    "model_responses = []\n",
    "for input_text in input_for_bleu:\n",
    "    pad_token_id = tokenizer.pad_token_id  # Usually None for GPT-2\n",
    "    if pad_token_id is None:\n",
    "        # If no pad token ID, use a commonly unused ID (like 0)\n",
    "        pad_token_id = 0\n",
    "\n",
    "    # Update the tokenizer's pad token\n",
    "    tokenizer.pad_token = \"<pad>\"\n",
    "    tokenizer.pad_token_id = pad_token_id\n",
    "\n",
    "    # Tokenize the text and create an attention mask\n",
    "    inputs = tokenizer(input_text, return_tensors=\"pt\", padding=True, truncation=True)\n",
    "\n",
    "    # Extract input IDs and attention mask\n",
    "    input_ids = inputs[\"input_ids\"].to(device)\n",
    "    attention_mask = inputs[\"attention_mask\"].to(device)\n",
    "\n",
    "    # Ensure attention mask is passed to the model\n",
    "    output = fine_tuned_model.generate(input_ids, attention_mask=attention_mask, pad_token_id=pad_token_id, max_length=30, num_return_sequences=1)\n",
    "\n",
    "    # Decode the output to get the response text\n",
    "    response = tokenizer.decode(output[0], skip_special_tokens=True)\n",
    "    if \"Q:\" in response:\n",
    "        if \"A:\" in response.split(\"Q: \")[0]:\n",
    "            model_responses.append(response.split(\"Q: \")[0].split(\"A: \")[1])\n",
    "\n",
    "# Tokenize the text\n",
    "references = [[nltk.word_tokenize(ans.lower()) for ans in output_for_bleu]]\n",
    "candidates = [nltk.word_tokenize(resp.lower()) for resp in model_responses]\n",
    "\n",
    "print(\"data retrieved\")\n",
    "\n",
    "# Calculate BLEU scores\n",
    "bleu_scores = [sentence_bleu(ref, cand, smoothing_function=SmoothingFunction().method2) for ref, cand in zip(references, candidates)]\n",
    "\n",
    "# Print BLEU scores for each response\n",
    "for i, score in enumerate(bleu_scores):\n",
    "    print(f\"BLEU score for response {i+1}: {score:.4f}\")"
   ]
  },
  {
   "cell_type": "code",
   "execution_count": 166,
   "metadata": {},
   "outputs": [],
   "source": [
    "# Example usage\n",
    "user_input = \"How much Metformin should I take?\"\n",
    "intent = \"dosage_query\"\n",
    "entities = [('500 mg', 'DOSAGE'), ('Metformin', 'MEDICATION')]\n",
    "\n",
    "augmented_input = augment_input_with_intent_and_entities(user_input, intent, entities)"
   ]
  },
  {
   "cell_type": "code",
   "execution_count": 167,
   "metadata": {},
   "outputs": [
    {
     "data": {
      "text/plain": [
       "'[INTENT]dosage_query How much Metformin should I take? [ENTITY]DOSAGE [ENTITY]MEDICATION'"
      ]
     },
     "execution_count": 167,
     "metadata": {},
     "output_type": "execute_result"
    }
   ],
   "source": [
    "augmented_input"
   ]
  },
  {
   "cell_type": "markdown",
   "metadata": {},
   "source": [
    "----"
   ]
  },
  {
   "cell_type": "markdown",
   "metadata": {},
   "source": [
    "seq2seq"
   ]
  },
  {
   "cell_type": "code",
   "execution_count": 168,
   "metadata": {},
   "outputs": [],
   "source": [
    "class EncoderRNN(nn.Module):\n",
    "    def __init__(self, input_size, hidden_size, dropout_p=0.1):\n",
    "        super(EncoderRNN, self).__init__()\n",
    "        self.hidden_size = hidden_size\n",
    "\n",
    "        self.embedding = nn.Embedding(input_size, hidden_size)\n",
    "        self.gru = nn.GRU(hidden_size, hidden_size, batch_first=True)\n",
    "        self.dropout = nn.Dropout(dropout_p)\n",
    "\n",
    "    def forward(self, input):\n",
    "        embedded = self.dropout(self.embedding(input))\n",
    "        output, hidden = self.gru(embedded)\n",
    "        return output, hidden"
   ]
  },
  {
   "cell_type": "code",
   "execution_count": 169,
   "metadata": {},
   "outputs": [],
   "source": [
    "class DecoderRNN(nn.Module):\n",
    "    def __init__(self, hidden_size, output_size):\n",
    "        super(DecoderRNN, self).__init__()\n",
    "        self.embedding = nn.Embedding(output_size, hidden_size)\n",
    "        self.gru = nn.GRU(hidden_size, hidden_size, batch_first=True)\n",
    "        self.out = nn.Linear(hidden_size, output_size)\n",
    "        self.softmax = nn.LogSoftmax(dim=-1)\n",
    "        self.relu = nn.ReLU()\n",
    "\n",
    "    def forward(self, encoder_outputs, encoder_hidden, target_tensor=None):\n",
    "        batch_size = encoder_outputs.size(0)\n",
    "        decoder_input = torch.empty(batch_size, 1, dtype=torch.long, device=device).fill_(SOS_token)\n",
    "        decoder_hidden = encoder_hidden\n",
    "        decoder_outputs = []\n",
    "\n",
    "        if target_tensor is not None:\n",
    "            sequence_length = target_tensor.size(1)  # Use the length of the target tensor\n",
    "        else:\n",
    "            sequence_length = 10 # Arbitrary value\n",
    "\n",
    "        for i in range(sequence_length):\n",
    "            decoder_output, decoder_hidden  = self.forward_step(decoder_input, decoder_hidden)\n",
    "            decoder_outputs.append(decoder_output)\n",
    "\n",
    "            if target_tensor is not None:\n",
    "                # Teacher forcing: Feed the target as the next input\n",
    "                decoder_input = target_tensor[:, i].unsqueeze(1) # Teacher forcing\n",
    "            else:\n",
    "                # Without teacher forcing: use its own predictions as the next input\n",
    "                _, topi = decoder_output.topk(1)\n",
    "                decoder_input = topi.squeeze(-1).detach()  # detach from history as input\n",
    "\n",
    "        decoder_outputs = torch.cat(decoder_outputs, dim=1)\n",
    "        decoder_outputs = self.softmax(decoder_outputs, dim=-1)\n",
    "        return decoder_outputs, decoder_hidden, None # We return `None` for consistency in the training loop\n",
    "\n",
    "    def forward_step(self, input, hidden):\n",
    "        output = self.embedding(input)\n",
    "        output = self.relu(output)\n",
    "        output, hidden = self.gru(output, hidden)\n",
    "        output = self.out(output)\n",
    "        return output, hidden"
   ]
  },
  {
   "cell_type": "code",
   "execution_count": 170,
   "metadata": {},
   "outputs": [],
   "source": [
    "class BahdanauAttention(nn.Module):\n",
    "    def __init__(self, hidden_size):\n",
    "        super(BahdanauAttention, self).__init__()\n",
    "        self.Wa = nn.Linear(hidden_size, hidden_size)\n",
    "        self.Ua = nn.Linear(hidden_size, hidden_size)\n",
    "        self.Va = nn.Linear(hidden_size, 1)\n",
    "        self.softmax = nn.Softmax(dim=-1)\n",
    "\n",
    "    def forward(self, query, keys):\n",
    "        scores = self.Va(torch.tanh(self.Wa(query) + self.Ua(keys)))\n",
    "        scores = scores.squeeze(2).unsqueeze(1)\n",
    "\n",
    "        weights = self.softmax(scores)\n",
    "        context = torch.bmm(weights, keys)\n",
    "\n",
    "        return context, weights\n",
    "\n",
    "class AttnDecoderRNN(nn.Module):\n",
    "    def __init__(self, hidden_size, output_size, dropout_p=0.1):\n",
    "        super(AttnDecoderRNN, self).__init__()\n",
    "        self.embedding = nn.Embedding(output_size, hidden_size)\n",
    "        self.attention = BahdanauAttention(hidden_size)\n",
    "        self.gru = nn.GRU(2 * hidden_size, hidden_size, batch_first=True)\n",
    "        self.out = nn.Linear(hidden_size, output_size)\n",
    "        self.dropout = nn.Dropout(dropout_p)\n",
    "        self.softmax = nn.LogSoftmax(dim=-1)\n",
    "\n",
    "    def forward(self, encoder_outputs, encoder_hidden, target_tensor=None):\n",
    "        batch_size = encoder_outputs.size(0)\n",
    "        decoder_input = torch.empty(batch_size, 1, dtype=torch.long, device=device).fill_(SOS_token)\n",
    "        decoder_hidden = encoder_hidden\n",
    "        decoder_outputs = []\n",
    "        attentions = []\n",
    "\n",
    "        if target_tensor is not None:\n",
    "            sequence_length = target_tensor.size(1)  # Use the length of the target tensor\n",
    "        else:\n",
    "            sequence_length = 10 # Arbitrary value\n",
    "\n",
    "        for i in range(sequence_length):\n",
    "            decoder_output, decoder_hidden, attn_weights = self.forward_step(\n",
    "                decoder_input, decoder_hidden, encoder_outputs\n",
    "            )\n",
    "            decoder_outputs.append(decoder_output)\n",
    "            attentions.append(attn_weights)\n",
    "\n",
    "            if target_tensor is not None:\n",
    "                # Teacher forcing: Feed the target as the next input\n",
    "                decoder_input = target_tensor[:, i].unsqueeze(1) # Teacher forcing\n",
    "            else:\n",
    "                # Without teacher forcing: use its own predictions as the next input\n",
    "                _, topi = decoder_output.topk(1)\n",
    "                decoder_input = topi.squeeze(-1).detach()  # detach from history as input\n",
    "\n",
    "        decoder_outputs = torch.cat(decoder_outputs, dim=1)\n",
    "        decoder_outputs = self.softmax(decoder_outputs)\n",
    "        attentions = torch.cat(attentions, dim=1)\n",
    "\n",
    "        return decoder_outputs, decoder_hidden, attentions\n",
    "\n",
    "\n",
    "    def forward_step(self, input, hidden, encoder_outputs):\n",
    "        embedded =  self.dropout(self.embedding(input))\n",
    "\n",
    "        query = hidden.permute(1, 0, 2)\n",
    "        context, attn_weights = self.attention(query, encoder_outputs)\n",
    "        input_gru = torch.cat((embedded, context), dim=2)\n",
    "\n",
    "        output, hidden = self.gru(input_gru, hidden)\n",
    "        output = self.out(output)\n",
    "\n",
    "        return output, hidden, attn_weights"
   ]
  },
  {
   "cell_type": "code",
   "execution_count": 171,
   "metadata": {},
   "outputs": [],
   "source": [
    "SOS_token = 0\n",
    "EOS_token = 1\n",
    "lemmatizer = WordNetLemmatizer()\n",
    "\n",
    "class Corpus:\n",
    "    def __init__(self, name):\n",
    "        self.name = name\n",
    "        self.word2index = {}\n",
    "        self.word2count = {}\n",
    "        self.index2word = {0: \"SOS\", 1: \"EOS\"}\n",
    "        self.n_words = 2  # Count SOS and EOS\n",
    "\n",
    "    def addSentence(self, sentence):\n",
    "        for word in sentence.split(' '):\n",
    "            self.addWord(word)\n",
    "\n",
    "    def addWord(self, word):\n",
    "        if word not in self.word2index:\n",
    "            self.word2index[word] = self.n_words\n",
    "            self.word2count[word] = 1\n",
    "            self.index2word[self.n_words] = word\n",
    "            self.n_words += 1\n",
    "        else:\n",
    "            self.word2count[word] += 1"
   ]
  },
  {
   "cell_type": "code",
   "execution_count": 172,
   "metadata": {},
   "outputs": [],
   "source": [
    "import string\n",
    "def normalize_string(s):\n",
    "    lemmatizer = WordNetLemmatizer()\n",
    "    # Tokenize the sentence. This also implicitly removes punctuation if we do not consider them as separate tokens.\n",
    "    tokens = word_tokenize(s)\n",
    "    # Lemmatize and lowercase each word, excluding punctuation\n",
    "    lemmatized_tokens = [lemmatizer.lemmatize(token).lower() for token in tokens if token not in string.punctuation]\n",
    "    # Reconstruct the sentence from lemmatized tokens\n",
    "    lemmatized_sentence = ' '.join(lemmatized_tokens)\n",
    "\n",
    "    return lemmatized_sentence"
   ]
  },
  {
   "cell_type": "code",
   "execution_count": 173,
   "metadata": {},
   "outputs": [],
   "source": [
    "import json\n",
    "\n",
    "def load_data(path):\n",
    "    # Load intents\n",
    "    with open(path, 'r') as file:\n",
    "        intents = json.load(file)['intents']\n",
    "\n",
    "    intents_dict = {}\n",
    "    response_dict = {}\n",
    "    for intent in intents:\n",
    "        intents_dict[intent['tag']] = intent['patterns']\n",
    "        response_dict[intent['tag']] = intent['responses']\n",
    "\n",
    "    return intents_dict, response_dict"
   ]
  },
  {
   "cell_type": "code",
   "execution_count": 174,
   "metadata": {},
   "outputs": [],
   "source": [
    "intents, responses = load_data(os.path.join(clean_data_path, 'intents_enriched.json'))\n",
    "for k in intents:\n",
    "    if len(intents[k]) != len(responses[k]):\n",
    "        print(k)"
   ]
  },
  {
   "cell_type": "code",
   "execution_count": 175,
   "metadata": {},
   "outputs": [],
   "source": [
    "def makePairs():\n",
    "    print(\"Reading lines...\")\n",
    "    \n",
    "    questions, responses = load_data('../clean_data/intents_enriched.json')\n",
    "\n",
    "    # make pairs of input and response and normalize\n",
    "    pairs = []\n",
    "    for tag in responses:\n",
    "        for i in range(len(responses[tag])):\n",
    "            _, entities = get_intents_and_entities(questions[tag][i], intent_model, entity_model)\n",
    "            augmented_input = augment_input_with_intent_and_entities(normalize_string(questions[tag][i]), tag, entities)\n",
    "            pairs.append([augmented_input, responses[tag][i]])\n",
    "        \n",
    "    inputs = Corpus('inputs')\n",
    "    outputs = Corpus('responses')\n",
    "\n",
    "    return inputs, outputs, pairs"
   ]
  },
  {
   "cell_type": "code",
   "execution_count": 176,
   "metadata": {},
   "outputs": [],
   "source": [
    "def prepareData():\n",
    "    input, output, pairs = makePairs()\n",
    "    print(\"Read %s sentence pairs\" % len(pairs))\n",
    "    print(\"Counting words...\")\n",
    "    for pair in pairs:\n",
    "        input.addSentence(pair[0])\n",
    "        output.addSentence(pair[1])\n",
    "    print(\"Counted words:\")\n",
    "    print(input.name, input.n_words)\n",
    "    print(output.name, output.n_words)\n",
    "    return input, output, pairs"
   ]
  },
  {
   "cell_type": "code",
   "execution_count": 177,
   "metadata": {},
   "outputs": [],
   "source": [
    "def find_max_len(pairs):\n",
    "    max_length = 0\n",
    "    for pair in pairs:\n",
    "        if len(pair[0].split(' ')) > max_length:\n",
    "            max_length = len(pair[0].split(' '))\n",
    "        if len(pair[1].split(' ')) > max_length:\n",
    "            max_length = len(pair[1].split(' '))\n",
    "\n",
    "    max_length += 1\n",
    "\n",
    "    return max_length"
   ]
  },
  {
   "cell_type": "code",
   "execution_count": 178,
   "metadata": {},
   "outputs": [],
   "source": [
    "def indexesFromSentence(obj, sentence):\n",
    "    return [obj.word2index[word] for word in sentence.split(' ')]\n",
    "\n",
    "def tensorFromSentence(obj, sentence):\n",
    "    indexes = indexesFromSentence(obj, sentence)\n",
    "    indexes.append(EOS_token)\n",
    "    return torch.tensor(indexes, dtype=torch.long, device=device).view(1, -1)\n",
    "\n",
    "def get_dataloader(batch_size, new_data=False):\n",
    "    if not new_data:\n",
    "        with open(os.path.join(clean_data_path, 'input_corpus.pkl'), 'rb') as f:\n",
    "            inputs = pickle.load(f)\n",
    "\n",
    "        with open(os.path.join(clean_data_path, 'output_corpus.pkl'), 'rb') as f:\n",
    "            outputs = pickle.load(f)\n",
    "\n",
    "        with open(os.path.join(clean_data_path, 'pairs.pkl'), 'rb') as f:\n",
    "            pairs = pickle.load(f)\n",
    "    \n",
    "    else:\n",
    "        inputs, outputs, pairs = prepareData()\n",
    "        with open(os.path.join(clean_data_path, 'input_corpus.pkl'), 'wb') as f:\n",
    "            pickle.dump(inputs, f)\n",
    "\n",
    "        with open(os.path.join(clean_data_path, 'output_corpus.pkl'), 'wb') as f:\n",
    "            pickle.dump(outputs, f)\n",
    "\n",
    "        with open(os.path.join(clean_data_path, 'pairs.pkl'), 'wb') as f:\n",
    "            pickle.dump(pairs, f)\n",
    "\n",
    "    max_length = find_max_len(pairs)\n",
    "\n",
    "    n = len(pairs)\n",
    "    input_ids = np.zeros((n, max_length), dtype=np.int32)\n",
    "    target_ids = np.zeros((n, max_length), dtype=np.int32)\n",
    "\n",
    "    for idx, (inp, tgt) in enumerate(pairs):\n",
    "        inp_ids = indexesFromSentence(inputs, inp)\n",
    "        tgt_ids = indexesFromSentence(outputs, tgt)\n",
    "        inp_ids.append(EOS_token)\n",
    "        tgt_ids.append(EOS_token)\n",
    "        input_ids[idx, :len(inp_ids)] = inp_ids\n",
    "        target_ids[idx, :len(tgt_ids)] = tgt_ids\n",
    "\n",
    "    train_data = TensorDataset(torch.LongTensor(input_ids).to(device),\n",
    "                               torch.LongTensor(target_ids).to(device))\n",
    "\n",
    "    train_sampler = RandomSampler(train_data)\n",
    "    train_dataloader = DataLoader(train_data, sampler=train_sampler, batch_size=batch_size)\n",
    "    return inputs, outputs, train_dataloader"
   ]
  },
  {
   "cell_type": "code",
   "execution_count": 179,
   "metadata": {},
   "outputs": [],
   "source": [
    "def train_epoch(dataloader, encoder, decoder, encoder_optimizer,\n",
    "          decoder_optimizer, criterion):\n",
    "\n",
    "    total_loss = 0\n",
    "    for data in dataloader:\n",
    "        input_tensor, target_tensor = data\n",
    "\n",
    "        encoder_optimizer.zero_grad()\n",
    "        decoder_optimizer.zero_grad()\n",
    "\n",
    "        encoder_outputs, encoder_hidden = encoder(input_tensor)\n",
    "        decoder_outputs, _, _ = decoder(encoder_outputs, encoder_hidden, target_tensor)\n",
    "\n",
    "        loss = criterion(\n",
    "            decoder_outputs.view(-1, decoder_outputs.size(-1)),\n",
    "            target_tensor.view(-1)\n",
    "        )\n",
    "        loss.backward()\n",
    "\n",
    "        encoder_optimizer.step()\n",
    "        decoder_optimizer.step()\n",
    "\n",
    "        total_loss += loss.item()\n",
    "\n",
    "    return total_loss / len(dataloader)"
   ]
  },
  {
   "cell_type": "code",
   "execution_count": 180,
   "metadata": {},
   "outputs": [],
   "source": [
    "import time\n",
    "import math\n",
    "\n",
    "def asMinutes(s):\n",
    "    m = math.floor(s / 60)\n",
    "    s -= m * 60\n",
    "    return '%dm %ds' % (m, s)\n",
    "\n",
    "def timeSince(since, percent):\n",
    "    now = time.time()\n",
    "    s = now - since\n",
    "    es = s / (percent)\n",
    "    rs = es - s\n",
    "    return '%s (- %s)' % (asMinutes(s), asMinutes(rs))"
   ]
  },
  {
   "cell_type": "code",
   "execution_count": 181,
   "metadata": {},
   "outputs": [],
   "source": [
    "def train(train_dataloader, encoder, decoder, n_epochs, learning_rate=0.001,\n",
    "               print_every=100, plot_every=100):\n",
    "    start = time.time()\n",
    "    plot_losses = []\n",
    "    print_loss_total = 0  # Reset every print_every\n",
    "    plot_loss_total = 0  # Reset every plot_every\n",
    "\n",
    "    encoder_optimizer = optim.Adam(encoder.parameters(), lr=learning_rate)\n",
    "    decoder_optimizer = optim.Adam(decoder.parameters(), lr=learning_rate)\n",
    "    criterion = nn.NLLLoss()\n",
    "\n",
    "    for epoch in range(1, n_epochs + 1):\n",
    "        loss = train_epoch(train_dataloader, encoder, decoder, encoder_optimizer, decoder_optimizer, criterion)\n",
    "        print_loss_total += loss\n",
    "        plot_loss_total += loss\n",
    "\n",
    "        if epoch % print_every == 0:\n",
    "            print_loss_avg = print_loss_total / print_every\n",
    "            print_loss_total = 0\n",
    "            print('%s (%d %d%%) %.4f' % (timeSince(start, epoch / n_epochs),\n",
    "                                        epoch, epoch / n_epochs * 100, print_loss_avg))\n",
    "\n",
    "        if epoch % plot_every == 0:\n",
    "            plot_loss_avg = plot_loss_total / plot_every\n",
    "            plot_losses.append(plot_loss_avg)\n",
    "            plot_loss_total = 0\n",
    "\n",
    "    showPlot(plot_losses)"
   ]
  },
  {
   "cell_type": "code",
   "execution_count": 182,
   "metadata": {},
   "outputs": [],
   "source": [
    "import matplotlib.pyplot as plt\n",
    "import matplotlib.ticker as ticker\n",
    "import numpy as np\n",
    "\n",
    "def showPlot(points):\n",
    "    plt.figure()\n",
    "    fig, ax = plt.subplots()\n",
    "    # this locator puts ticks at regular intervals\n",
    "    loc = ticker.MultipleLocator(base=0.2)\n",
    "    ax.yaxis.set_major_locator(loc)\n",
    "    plt.plot(points)"
   ]
  },
  {
   "cell_type": "code",
   "execution_count": 185,
   "metadata": {},
   "outputs": [
    {
     "name": "stdout",
     "output_type": "stream",
     "text": [
      "Reading lines...\n"
     ]
    },
    {
     "name": "stdout",
     "output_type": "stream",
     "text": [
      "Read 4129 sentence pairs\n",
      "Counting words...\n",
      "Counted words:\n",
      "inputs 467\n",
      "responses 98\n",
      "0m 34s (- 8m 32s) (5 6%) 0.1710\n",
      "1m 8s (- 8m 0s) (10 12%) 0.0091\n",
      "1m 42s (- 7m 22s) (15 18%) 0.0051\n",
      "2m 16s (- 6m 48s) (20 25%) 0.0041\n",
      "2m 49s (- 6m 13s) (25 31%) 0.0029\n",
      "3m 23s (- 5m 39s) (30 37%) 0.0017\n",
      "3m 57s (- 5m 5s) (35 43%) 0.0015\n",
      "4m 31s (- 4m 31s) (40 50%) 0.0009\n",
      "5m 4s (- 3m 57s) (45 56%) 0.0006\n",
      "5m 39s (- 3m 23s) (50 62%) 0.0006\n",
      "6m 13s (- 2m 49s) (55 68%) 0.0003\n",
      "6m 46s (- 2m 15s) (60 75%) 0.0001\n",
      "7m 20s (- 1m 41s) (65 81%) 0.0001\n",
      "7m 54s (- 1m 7s) (70 87%) 0.0005\n",
      "8m 27s (- 0m 33s) (75 93%) 0.0002\n",
      "9m 1s (- 0m 0s) (80 100%) 0.0000\n"
     ]
    },
    {
     "data": {
      "text/plain": [
       "<Figure size 640x480 with 0 Axes>"
      ]
     },
     "metadata": {},
     "output_type": "display_data"
    },
    {
     "data": {
      "image/png": "[encoded data removed]",
      "text/plain": [
       "<Figure size 640x480 with 1 Axes>"
      ]
     },
     "metadata": {},
     "output_type": "display_data"
    }
   ],
   "source": [
    "hidden_size = 128\n",
    "batch_size = 32\n",
    "\n",
    "inputs, outputs, train_dataloader = get_dataloader(batch_size, new_data=True)\n",
    "\n",
    "encoder = EncoderRNN(inputs.n_words, hidden_size).to(device)\n",
    "decoder = AttnDecoderRNN(hidden_size, outputs.n_words).to(device)\n",
    "\n",
    "train(train_dataloader, encoder, decoder, 80, print_every=5, plot_every=5)"
   ]
  },
  {
   "cell_type": "code",
   "execution_count": 203,
   "metadata": {},
   "outputs": [
    {
     "ename": "ModuleNotFoundError",
     "evalue": "No module named 'helpers'",
     "output_type": "error",
     "traceback": [
      "\u001b[0;31m---------------------------------------------------------------------------\u001b[0m",
      "\u001b[0;31mModuleNotFoundError\u001b[0m                       Traceback (most recent call last)",
      "Cell \u001b[0;32mIn[203], line 2\u001b[0m\n\u001b[1;32m      1\u001b[0m \u001b[38;5;28;01mwith\u001b[39;00m \u001b[38;5;28mopen\u001b[39m(os\u001b[38;5;241m.\u001b[39mpath\u001b[38;5;241m.\u001b[39mjoin(clean_data_path, \u001b[38;5;124m'\u001b[39m\u001b[38;5;124minput_corpus.pkl\u001b[39m\u001b[38;5;124m'\u001b[39m), \u001b[38;5;124m'\u001b[39m\u001b[38;5;124mrb\u001b[39m\u001b[38;5;124m'\u001b[39m) \u001b[38;5;28;01mas\u001b[39;00m f:\n\u001b[0;32m----> 2\u001b[0m         inputs \u001b[38;5;241m=\u001b[39m \u001b[43mpickle\u001b[49m\u001b[38;5;241;43m.\u001b[39;49m\u001b[43mload\u001b[49m\u001b[43m(\u001b[49m\u001b[43mf\u001b[49m\u001b[43m)\u001b[49m\n\u001b[1;32m      4\u001b[0m \u001b[38;5;28;01mwith\u001b[39;00m \u001b[38;5;28mopen\u001b[39m(os\u001b[38;5;241m.\u001b[39mpath\u001b[38;5;241m.\u001b[39mjoin(clean_data_path, \u001b[38;5;124m'\u001b[39m\u001b[38;5;124moutput_corpus.pkl\u001b[39m\u001b[38;5;124m'\u001b[39m), \u001b[38;5;124m'\u001b[39m\u001b[38;5;124mrb\u001b[39m\u001b[38;5;124m'\u001b[39m) \u001b[38;5;28;01mas\u001b[39;00m f:\n\u001b[1;32m      5\u001b[0m     outputs \u001b[38;5;241m=\u001b[39m pickle\u001b[38;5;241m.\u001b[39mload(f)\n",
      "\u001b[0;31mModuleNotFoundError\u001b[0m: No module named 'helpers'"
     ]
    }
   ],
   "source": [
    "with open(os.path.join(clean_data_path, 'input_corpus.pkl'), 'rb') as f:\n",
    "    inputs = pickle.load(f)\n",
    "\n",
    "with open(os.path.join(clean_data_path, 'output_corpus.pkl'), 'rb') as f:\n",
    "    outputs = pickle.load(f)\n",
    "\n",
    "with open(os.path.join(clean_data_path, 'pairs.pkl'), 'rb') as f:\n",
    "    pairs = pickle.load(f)"
   ]
  },
  {
   "cell_type": "code",
   "execution_count": 196,
   "metadata": {},
   "outputs": [],
   "source": [
    "def evaluate(encoder, decoder, sentence):\n",
    "    with torch.no_grad():\n",
    "        input_tensor = tensorFromSentence(inputs, sentence)\n",
    "\n",
    "        encoder_outputs, encoder_hidden = encoder(input_tensor)\n",
    "        decoder_outputs, decoder_hidden, decoder_attn = decoder(encoder_outputs, encoder_hidden)\n",
    "\n",
    "        _, topi = decoder_outputs.topk(1)\n",
    "        decoded_ids = topi.squeeze()\n",
    "\n",
    "        decoded_words = []\n",
    "        for idx in decoded_ids:\n",
    "            if idx.item() == EOS_token:\n",
    "                break\n",
    "            decoded_words.append(outputs.index2word[idx.item()])\n",
    "    return decoded_words, decoder_attn"
   ]
  },
  {
   "cell_type": "code",
   "execution_count": null,
   "metadata": {},
   "outputs": [],
   "source": [
    "from nltk.translate.bleu_score import corpus_bleu\n",
    "from nltk.translate.bleu_score import SmoothingFunction\n",
    "\n",
    "def evaluateRandomly(encoder, decoder, n=10):\n",
    "    references = []\n",
    "    hypotheses = []\n",
    "            \n",
    "    for i in range(n):\n",
    "        pair = random.choice(pairs)\n",
    "        print('Input:', pair[0])\n",
    "        print('Target:', pair[1])\n",
    "        output_words, _ = evaluate(encoder, decoder, pair[0])\n",
    "        output_sentence = ' '.join(output_words)\n",
    "        \n",
    "        # Store the reference sentence and the hypothesis for BLEU calculation\n",
    "        references.append([pair[1].split()])\n",
    "        hypotheses.append(output_words)\n",
    "        \n",
    "        print('Output:', output_sentence)\n",
    "        print('')\n",
    "\n",
    "    # Calculate BLEU score\n",
    "    bleu_score = corpus_bleu(references, hypotheses, smoothing_function=SmoothingFunction().method4)\n",
    "    print(f\"Corpus BLEU score: {bleu_score:.2f}\")"
   ]
  },
  {
   "cell_type": "code",
   "execution_count": 194,
   "metadata": {},
   "outputs": [
    {
     "name": "stdout",
     "output_type": "stream",
     "text": [
      "Input: [INTENT]thanks thank you for that\n",
      "Target: You're very welcome. Is there anything else I can assist you with today?\n",
      "Output: You're very welcome. Is there anything else I can assist\n",
      "\n",
      "Input: [INTENT]search_hospital_by_type find me a child hospital near me [ENTITY]DIAGNOSIS\n",
      "Target: Loading hospital details\n",
      "Output: Loading hospital details\n",
      "\n",
      "Input: [INTENT]blood_pressure_search i want to pull up blood pressure history for patient by id [ENTITY]MEDICATION [ENTITY]MEDICATION\n",
      "Target: Please provide patient ID\n",
      "Output: SOS SOS SOS SOS SOS SOS SOS SOS SOS SOS\n",
      "\n",
      "Input: [INTENT]thanks thank you you 're a treasure [ENTITY]BODY_PART\n",
      "Target: You're very welcome. Is there anything else I can assist you with today?\n",
      "Output: You're very welcome. Is there anything else I can assist\n",
      "\n",
      "Input: [INTENT]pharmacy_search show pharmacy near my location [ENTITY]BODY_PART\n",
      "Target: Please provide pharmacy name\n",
      "Output: Please provide pharmacy name\n",
      "\n",
      "Input: [INTENT]pharmacy_search navigate to nearyby drugstore [ENTITY]MEDICATION\n",
      "Target: Please provide pharmacy name\n",
      "Output: Please provide pharmacy name\n",
      "\n",
      "Input: [INTENT]goodbye cheerio have an excellent rest of your morning [ENTITY]MEDICATION\n",
      "Target: Goodbye! Please come again!\n",
      "Output: Goodbye! Please come again!\n",
      "\n",
      "Input: [INTENT]thanks thanks\n",
      "Target: You're very welcome. Is there anything else I can assist you with today?\n",
      "Output: You're very welcome. Is there anything else I can assist\n",
      "\n",
      "Input: [INTENT]goodbye ciao have an outstanding night [ENTITY]MEDICATION\n",
      "Target: Goodbye! Please come again!\n",
      "Output: Goodbye! Please come again!\n",
      "\n",
      "Input: [INTENT]blood_pressure i want to watch my blood pressure [ENTITY]MEDICATION\n",
      "Target: Navigating to Blood Pressure module\n",
      "Output: Navigating to Blood Pressure module\n",
      "\n",
      "Corpus BLEU score: 0.78\n"
     ]
    }
   ],
   "source": [
    "encoder.eval()\n",
    "decoder.eval()\n",
    "evaluateRandomly(encoder, decoder)"
   ]
  },
  {
   "cell_type": "code",
   "execution_count": 201,
   "metadata": {},
   "outputs": [],
   "source": [
    "def process_input(text):\n",
    "    intent, entities = get_intents_and_entities(text, intent_model, entity_model)\n",
    "    augmented_input = augment_input_with_intent_and_entities(normalize_string(text), intent, entities)\n",
    "    return augmented_input"
   ]
  },
  {
   "cell_type": "code",
   "execution_count": 202,
   "metadata": {},
   "outputs": [
    {
     "name": "stdout",
     "output_type": "stream",
     "text": [
      "input = [INTENT]greeting hello how are you\n",
      "output = Well hello. I'm doing well, thank you.\n"
     ]
    },
    {
     "data": {
      "image/png": "[encoded data removed]",
      "text/plain": [
       "<Figure size 640x480 with 2 Axes>"
      ]
     },
     "metadata": {},
     "output_type": "display_data"
    },
    {
     "name": "stdout",
     "output_type": "stream",
     "text": [
      "input = [INTENT]goodbye bye have a good day\n",
      "output = Goodbye! Please come again!\n"
     ]
    },
    {
     "data": {
      "image/png": "[encoded data removed]",
      "text/plain": [
       "<Figure size 640x480 with 2 Axes>"
      ]
     },
     "metadata": {},
     "output_type": "display_data"
    },
    {
     "name": "stdout",
     "output_type": "stream",
     "text": [
      "input = [INTENT]thanks what can you do for me\n",
      "output = SOS SOS SOS SOS SOS SOS SOS SOS SOS SOS\n"
     ]
    },
    {
     "data": {
      "image/png": "[encoded data removed]",
      "text/plain": [
       "<Figure size 640x480 with 2 Axes>"
      ]
     },
     "metadata": {},
     "output_type": "display_data"
    },
    {
     "name": "stdout",
     "output_type": "stream",
     "text": [
      "input = [INTENT]search_hospital_by_params find me a hospital nearby\n",
      "output = Loading hospital details\n"
     ]
    },
    {
     "data": {
      "image/png": "[encoded data removed]",
      "text/plain": [
       "<Figure size 640x480 with 2 Axes>"
      ]
     },
     "metadata": {},
     "output_type": "display_data"
    }
   ],
   "source": [
    "def showAttention(input_sentence, output_words, attentions):\n",
    "    fig = plt.figure()\n",
    "    ax = fig.add_subplot(111)\n",
    "    cax = ax.matshow(attentions.cpu().numpy(), cmap='bone')\n",
    "    fig.colorbar(cax)\n",
    "\n",
    "    ax.set_xticks(np.arange(len(input_sentence.split(' ')) + 2))\n",
    "    ax.set_yticks(np.arange(len(output_words) + 1))\n",
    "\n",
    "    # Set up axes\n",
    "    ax.set_xticklabels([''] + input_sentence.split(' ') +\n",
    "                       ['<EOS>'], rotation=90)\n",
    "    ax.set_yticklabels([''] + output_words)\n",
    "\n",
    "    # Show label at every tick\n",
    "    ax.xaxis.set_major_locator(ticker.MultipleLocator(1))\n",
    "    ax.yaxis.set_major_locator(ticker.MultipleLocator(1))\n",
    "\n",
    "    plt.show()\n",
    "\n",
    "\n",
    "def evaluateAndShowAttention(input_sentence):\n",
    "    output_words, attentions = evaluate(encoder, decoder, input_sentence)\n",
    "    print('input =', input_sentence)\n",
    "    print('output =', ' '.join(output_words))\n",
    "    showAttention(input_sentence, output_words, attentions[0, :len(output_words), :])\n",
    "\n",
    "\n",
    "evaluateAndShowAttention(process_input('Hello. How are you?'))\n",
    "\n",
    "evaluateAndShowAttention(process_input('Bye. Have a good day.'))\n",
    "\n",
    "evaluateAndShowAttention(process_input('What can you do for me?'))\n",
    "\n",
    "evaluateAndShowAttention(process_input('Find me a hospital nearby.'))"
   ]
  },
  {
   "cell_type": "markdown",
   "metadata": {},
   "source": [
    "-----"
   ]
  }
 ],
 "metadata": {
  "kernelspec": {
   "display_name": "Python 3",
   "language": "python",
   "name": "python3"
  },
  "language_info": {
   "codemirror_mode": {
    "name": "ipython",
    "version": 3
   },
   "file_extension": ".py",
   "mimetype": "text/x-python",
   "name": "python",
   "nbconvert_exporter": "python",
   "pygments_lexer": "ipython3",
   "version": "3.12.3"
  }
 },
 "nbformat": 4,
 "nbformat_minor": 2
}
