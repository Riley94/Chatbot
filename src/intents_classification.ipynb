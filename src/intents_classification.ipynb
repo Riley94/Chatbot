{
 "cells": [
  {
   "cell_type": "markdown",
   "metadata": {},
   "source": [
    "# Import Libraries"
   ]
  },
  {
   "cell_type": "code",
   "execution_count": 1,
   "metadata": {},
   "outputs": [],
   "source": [
    "import nltk\n",
    "from nltk.stem import WordNetLemmatizer\n",
    "import torch\n",
    "from torch import nn\n",
    "import matplotlib.pyplot as plt\n",
    "from matplotlib import ticker\n",
    "import time\n",
    "import math\n",
    "import numpy as np\n",
    "import random\n",
    "import json"
   ]
  },
  {
   "cell_type": "code",
   "execution_count": 2,
   "metadata": {},
   "outputs": [],
   "source": [
    "def load_data(path):\n",
    "    # Load intents\n",
    "    with open(path, 'r') as file:\n",
    "        intents = json.load(file)['intents']\n",
    "\n",
    "    intents_dict = {}\n",
    "    response_dict = {}\n",
    "    for intent in intents:\n",
    "        intents_dict[intent['tag']] = intent['patterns']\n",
    "        response_dict[intent['tag']] = intent['responses']\n",
    "\n",
    "    return intents_dict, response_dict"
   ]
  },
  {
   "cell_type": "code",
   "execution_count": 3,
   "metadata": {},
   "outputs": [
    {
     "name": "stdout",
     "output_type": "stream",
     "text": [
      "13\n"
     ]
    }
   ],
   "source": [
    "intents_dict, response_dict = load_data('../clean_data/intents_enriched.json')\n",
    "n_categories = len(intents_dict)\n",
    "print(n_categories)"
   ]
  },
  {
   "cell_type": "markdown",
   "metadata": {},
   "source": [
    "Lemmatize, tokenize and extract intent tags. See scripts/helpers.py for more details"
   ]
  },
  {
   "cell_type": "code",
   "execution_count": 4,
   "metadata": {},
   "outputs": [],
   "source": [
    "def process_intents(intents_dict):\n",
    "    lemmatizer = WordNetLemmatizer()\n",
    "\n",
    "    words = []\n",
    "    intents = []\n",
    "    words_tokenized = []\n",
    "    ignore = ['?', '!', '.', ',']\n",
    "\n",
    "    for intent in intents_dict:\n",
    "        for pattern in intents_dict[intent]:\n",
    "            w = nltk.tokenize.word_tokenize(pattern)\n",
    "            words.extend(w)\n",
    "            words_tokenized.append((w, intent)) # list of tuples containing list of words and tag\n",
    "            if intent not in intents:\n",
    "                intents.append(intent) # unique list of tags\n",
    "\n",
    "    # find base form of word and remove ignore words\n",
    "    words = [lemmatizer.lemmatize(w.lower()) for w in words if w not in ignore]\n",
    "    words = sorted(list(set(words))) # remove duplicates and sort\n",
    "\n",
    "    intents = sorted(list(set(intents)))\n",
    "\n",
    "    return words, intents, words_tokenized"
   ]
  },
  {
   "cell_type": "code",
   "execution_count": 5,
   "metadata": {},
   "outputs": [],
   "source": [
    "words, intents, words_tokenized = process_intents(intents_dict)"
   ]
  },
  {
   "cell_type": "code",
   "execution_count": 6,
   "metadata": {},
   "outputs": [],
   "source": [
    "lemmatizer = WordNetLemmatizer()\n",
    "train_x = []\n",
    "train_y = []\n",
    "\n",
    "for pair in words_tokenized:\n",
    "    words_encoded = []\n",
    "    pattern_words = pair[0] # list of words\n",
    "    pattern_words = [lemmatizer.lemmatize(word.lower()) for word in pattern_words]\n",
    "    for w in words:\n",
    "        words_encoded.append(1 if w in pattern_words else 0)\n",
    "\n",
    "    intents_encoded = [0] * len(intents)\n",
    "    intents_encoded[intents.index(pair[1])] = 1 # pair[1] is the intent\n",
    "\n",
    "    train_x.append(words_encoded)\n",
    "    train_y.append(intents_encoded)\n",
    "\n",
    "train_x = np.array(train_x)\n",
    "train_y = np.array(train_y)"
   ]
  },
  {
   "cell_type": "code",
   "execution_count": 7,
   "metadata": {},
   "outputs": [],
   "source": [
    "from sklearn.model_selection import train_test_split\n",
    "\n",
    "# Split data into training and test set\n",
    "train_x, test_x, train_y, test_y = train_test_split(train_x, train_y, test_size=0.2, random_state=42)"
   ]
  },
  {
   "cell_type": "markdown",
   "metadata": {},
   "source": [
    "Representation of the bag of words"
   ]
  },
  {
   "cell_type": "code",
   "execution_count": 8,
   "metadata": {},
   "outputs": [],
   "source": [
    "def bag_of_words(sentence, words, lemmatizer):\n",
    "    if sentence is None:\n",
    "        return np.zeros(len(words))\n",
    "    sentence_words = nltk.tokenize.word_tokenize(sentence)\n",
    "    sentence_words = [lemmatizer.lemmatize(word.lower()) for word in sentence_words]\n",
    "    bag = [0] * len(words)\n",
    "    for s in sentence_words:\n",
    "        for i, w in enumerate(words):\n",
    "            if w == s:\n",
    "                bag[i] = 1\n",
    "    return np.array(bag)"
   ]
  },
  {
   "cell_type": "code",
   "execution_count": 9,
   "metadata": {},
   "outputs": [
    {
     "name": "stdout",
     "output_type": "stream",
     "text": [
      "[0 0 0 0 0 0 0 0 0 0 0 0 0 0 0 0 0 0 0 0 0 0 0 0 0 0 0 0 0 0 0 0 0 0 0 0 0\n",
      " 0 0 0 0 0 0 0 0 0 0 0 0 0 0 0 0 0 0 0 0 0 0 0 0 0 0 0 0 0 0 0 0 0 0 0 0 0\n",
      " 0 0 0 0 0 0 0 0 0 0 0 0 0 0 0 0 0 0 0 0 0 0 0 0 0 0 0 0 0 0 0 0 0 0 0 0 0\n",
      " 0 0 0 0 0 0 0 0 0 0 0 0 0 0 0 0 0 0 0 0 0 0 0 0 0 0 0 0 1 0 0 0 0 0 0 0 0\n",
      " 0 0 0 0 0 0 0 0 0 0 0 0 0 0 0 0 0 0 0 0 0 0 0 0 0 0 0 0 0 0 0 0 0 0 0 0 0\n",
      " 0 0 0 0 0 0 0 0 0 0 0 0 0 0 0 0 0 0 0 0 0 0 0 0 0 0 0 0 0 0 0 0 0 0 0 0 0\n",
      " 0 0 0 0 0 0 0 0 0 0 0 0 0 0 0 0 0 0 0 0 0 0 0 0 0 0 0 0 0 0 0 0 0 0 0 0 0\n",
      " 0 0 0 0 0 0 0 0 0 0 0 0 0 0 0 0 0 0 0 0 0 0 0 0 0 0 0 0 0 0 0 0 0 0 0 0 0\n",
      " 0 0 0 0 0 0 0 0 0 0 0 0 0 0 0 0 0 0 0 0 0 0 0 0 0 0 0 0 0 0 0 0 0 0 0 0 0\n",
      " 0 0 0 0 0 0 0 0 0 0 0 0 0 0 0 0 0 0 0 0 0 0 0 0 0 0 0 0 0 0 0 0 0 0 0 0 0\n",
      " 0 0 0 0 0 0 0 0 0 0 0 0 0 0 0 0 0 0 0 0 0 0 0 0 0 0 0 0 0 0 0 0 0 0 0 0 0\n",
      " 0 0 0 0 0 0 0 0 0 0 0 0 0 0 0 0 0 0 0 0 0 0 0 0 0 0 0 0 0 0 0 0 0 0 0 0 0\n",
      " 0]\n"
     ]
    }
   ],
   "source": [
    "bag = bag_of_words('Hello', words, lemmatizer)\n",
    "print(bag)"
   ]
  },
  {
   "cell_type": "code",
   "execution_count": 10,
   "metadata": {},
   "outputs": [
    {
     "data": {
      "text/plain": [
       "(torch.Size([3303, 445]),\n",
       " torch.Size([3303, 13]),\n",
       " torch.Size([826, 445]),\n",
       " torch.Size([826, 13]))"
      ]
     },
     "execution_count": 10,
     "metadata": {},
     "output_type": "execute_result"
    }
   ],
   "source": [
    "x_train_tensor = torch.from_numpy(train_x).float()\n",
    "y_train_tensor = torch.from_numpy(train_y).float()\n",
    "x_test_tensor = torch.from_numpy(test_x).float()\n",
    "y_test_tensor = torch.from_numpy(test_y).float()\n",
    "x_train_tensor.shape, y_train_tensor.shape, x_test_tensor.shape, y_test_tensor.shape"
   ]
  },
  {
   "cell_type": "markdown",
   "metadata": {},
   "source": [
    "An RNN architecture with two linear layers and a softmax output layer. The ReLU activation function is used to introduce non-linearity into the model, followed by a dropout layer to prevent overfitting."
   ]
  },
  {
   "cell_type": "markdown",
   "metadata": {},
   "source": [
    "# ToDo\n",
    "Need to experiment with layer depth, cell types (LSTM, GRU, Bidirectional RNN), hidden size, batch normalization, learning rate decay/schedule, optimizer type (Adam, RMSprop), L1/L2 regularization, and using Leaky ReLU or ELU."
   ]
  },
  {
   "cell_type": "code",
   "execution_count": 11,
   "metadata": {},
   "outputs": [],
   "source": [
    "class RNN(nn.Module):\n",
    "    def __init__(self, input_size, hidden_size, output_size):\n",
    "        super(RNN, self).__init__()\n",
    "\n",
    "        self.hidden_size = hidden_size\n",
    "\n",
    "        self.i2h = nn.Linear(input_size + hidden_size, hidden_size)\n",
    "        self.h2o = nn.Linear(hidden_size, output_size)\n",
    "        self.softmax = nn.LogSoftmax(dim=1)\n",
    "        self.ReLU = nn.ReLU()\n",
    "        self.dropout = nn.Dropout(0.2)\n",
    "\n",
    "    def forward(self, input, hidden):\n",
    "        combined = torch.cat((input, hidden), 1)\n",
    "        hidden = self.i2h(combined)\n",
    "        hidden = self.ReLU(hidden)\n",
    "        hidden = self.dropout(hidden)\n",
    "        output = self.h2o(hidden)\n",
    "        output = self.ReLU(output)\n",
    "        output = self.dropout(output)\n",
    "        output = self.softmax(output + 1e-9) # to avoid log(0)\n",
    "        return output, hidden\n",
    "\n",
    "    def initHidden(self):\n",
    "        return torch.zeros(1, self.hidden_size)\n",
    "\n",
    "# n_hidden = 128\n",
    "n_hidden = 256\n",
    "rnn = RNN(len(words), n_hidden, len(intents))"
   ]
  },
  {
   "cell_type": "code",
   "execution_count": 12,
   "metadata": {},
   "outputs": [],
   "source": [
    "hidden = torch.zeros(1, n_hidden)\n",
    "output, next_hidden = rnn(torch.from_numpy(bag).view(1, -1), hidden)"
   ]
  },
  {
   "cell_type": "markdown",
   "metadata": {},
   "source": [
    "Test output before training"
   ]
  },
  {
   "cell_type": "code",
   "execution_count": 13,
   "metadata": {},
   "outputs": [
    {
     "name": "stdout",
     "output_type": "stream",
     "text": [
      "('search_blood_pressure_by_patient_id', 8)\n"
     ]
    }
   ],
   "source": [
    "# from softmax layer outputs, find the most likely category\n",
    "def categoryFromOutput(output):\n",
    "    top_n, top_i = output.topk(1) # get the index of the greatest value\n",
    "    category_i = top_i[0].item()\n",
    "    return intents[category_i], category_i\n",
    "\n",
    "print(categoryFromOutput(output))"
   ]
  },
  {
   "cell_type": "code",
   "execution_count": 14,
   "metadata": {},
   "outputs": [],
   "source": [
    "criterion = nn.NLLLoss()\n",
    "learning_rate = 0.001\n",
    "\n",
    "def train(category_tensor, line_tensor):\n",
    "    hidden = rnn.initHidden()\n",
    "\n",
    "    rnn.zero_grad()\n",
    "\n",
    "    output, hidden = rnn(line_tensor, hidden)\n",
    "\n",
    "    loss = criterion(output, category_tensor)\n",
    "    torch.nn.utils.clip_grad_norm_(rnn.parameters(), max_norm=1)\n",
    "    loss.backward()\n",
    "\n",
    "    # Add parameters' gradients to their values, multiplied by learning rate\n",
    "    for p in rnn.parameters():\n",
    "        p.data.add_(p.grad.data, alpha=-learning_rate)\n",
    "\n",
    "    return output, loss.item()"
   ]
  },
  {
   "cell_type": "markdown",
   "metadata": {},
   "source": [
    "Pick train inputs randomly to avoid overfitting."
   ]
  },
  {
   "cell_type": "code",
   "execution_count": 15,
   "metadata": {},
   "outputs": [
    {
     "name": "stdout",
     "output_type": "stream",
     "text": [
      "category = hospital_search / line = Load hospital near my location\n",
      "category = search_pharmacy_by_name / line = Find Walmart\n",
      "category = options / line = How can you help me here?\n",
      "category = blood_pressure_search / line = I want to search for blood pressure logs for patient by ID\n",
      "category = thanks / line = Thanks a lot.  You're a hero.\n",
      "category = thanks / line = Awesome, thanks.  You're a great help\n",
      "category = options / line = What can you support me with this morning?\n",
      "category = adverse_drug / line = Do desvenlafaxine and K-Dur have adverse interactions?\n",
      "category = search_hospital_by_type / line = Find me a children hospital near me\n",
      "category = search_blood_pressure_by_patient_id / line = View blood pressure records for patient P745620\n"
     ]
    }
   ],
   "source": [
    "def randomChoice(l):\n",
    "    # for empty intents\n",
    "    if len(l) == 0:\n",
    "        return None\n",
    "    return l[random.randint(0, len(l) - 1)]\n",
    "\n",
    "# from training data, get a random training example\n",
    "def randomTrainingExample():\n",
    "    category = randomChoice(intents)\n",
    "    line = randomChoice(intents_dict[category])\n",
    "    category_tensor = torch.tensor([intents.index(category)], dtype=torch.long) # convert category to index tensor\n",
    "    line_tensor = torch.from_numpy(bag_of_words(line, words, lemmatizer)).view(1, -1) # convert input text to tensor of ones and zeros (bag)\n",
    "    return category, line, category_tensor, line_tensor\n",
    "\n",
    "for i in range(10):\n",
    "    category, line, category_tensor, line_tensor = randomTrainingExample()\n",
    "    print('category =', category, '/ line =', line)"
   ]
  },
  {
   "cell_type": "markdown",
   "metadata": {},
   "source": [
    "Train the model"
   ]
  },
  {
   "cell_type": "code",
   "execution_count": 16,
   "metadata": {},
   "outputs": [
    {
     "name": "stdout",
     "output_type": "stream",
     "text": [
      "5000 5% (0m 7s) 2.3504 Hi, how are you doing? / greeting ✓\n",
      "10000 10% (0m 14s) 1.9632 so long. Have a terrific rest of your morning. / goodbye ✓\n",
      "15000 15% (0m 21s) 2.6394 Search for drugstore near my home / search_hospital_by_type ✗ (pharmacy_search)\n",
      "20000 20% (0m 29s) 1.0850 geriatric hospital near my location / search_hospital_by_type ✓\n",
      "25000 25% (0m 36s) 2.7179 I want to locate Costco / search_blood_pressure_by_patient_id ✗ (search_pharmacy_by_name)\n",
      "30000 30% (0m 43s) 3.2310 teaching hospital near me / hospital_search ✗ (search_hospital_by_type)\n",
      "35000 35% (0m 50s) 2.6427 community hospital near my location / search_hospital_by_params ✗ (search_hospital_by_type)\n",
      "40000 40% (0m 57s) 3.1060 I want to display blood pressure data for patient P134596 / blood_pressure ✗ (search_blood_pressure_by_patient_id)\n",
      "45000 45% (1m 4s) 2.6549 Blood pressure readings for patient by name / blood_pressure ✗ (blood_pressure_search)\n",
      "50000 50% (1m 11s) 0.5450 505 Parnassus Ave, San Francisco, CA 94143 / search_hospital_by_params ✓\n",
      "55000 55% (1m 18s) 0.0592 Show all meds with adverse interactions / adverse_drug ✓\n",
      "60000 60% (1m 25s) 0.0035 ciao. Have a fantastic rest of your morning. / goodbye ✓\n",
      "65000 65% (1m 32s) 2.5649 Find drugstores near my position / search_blood_pressure_by_patient_id ✗ (pharmacy_search)\n",
      "70000 70% (1m 39s) 2.5649 navigate to pharmacies near me / search_blood_pressure_by_patient_id ✗ (pharmacy_search)\n",
      "75000 75% (1m 46s) 0.0145 Do OneTouch and birth control have bad side effects? / adverse_drug ✓\n",
      "80000 80% (1m 53s) 0.0108 Howdy, how's it going? / greeting ✓\n",
      "85000 85% (2m 0s) 0.2348 Thanks for helping me / thanks ✓\n",
      "90000 90% (2m 7s) 2.6128 till next time! Have a terrific one. / adverse_drug ✗ (goodbye)\n",
      "95000 95% (2m 14s) 2.9887 Johns Hopkins Hospital / search_hospital_by_type ✗ (search_hospital_by_params)\n",
      "100000 100% (2m 21s) 2.6172 Locate pharmacy near my position / hospital_search ✗ (pharmacy_search)\n"
     ]
    }
   ],
   "source": [
    "n_iters = 100000\n",
    "print_every = 5000\n",
    "plot_every = 1000\n",
    "\n",
    "# Keep track of losses for plotting\n",
    "current_loss = 0\n",
    "all_losses = []\n",
    "\n",
    "def timeSince(since):\n",
    "    now = time.time()\n",
    "    s = now - since\n",
    "    m = math.floor(s / 60)\n",
    "    s -= m * 60\n",
    "    return '%dm %ds' % (m, s)\n",
    "\n",
    "start = time.time()\n",
    "\n",
    "for iter in range(1, n_iters + 1):\n",
    "    category, line, category_tensor, line_tensor = randomTrainingExample()\n",
    "    output, loss = train(category_tensor, line_tensor)\n",
    "    current_loss += loss\n",
    "\n",
    "    # Print iteration number, loss, name and guess\n",
    "    if iter % print_every == 0:\n",
    "        guess, guess_i = categoryFromOutput(output)\n",
    "        correct = '✓' if guess == category else '✗ (%s)' % category\n",
    "        print('%d %d%% (%s) %.4f %s / %s %s' % (iter, iter / n_iters * 100, timeSince(start), loss, line, guess, correct))\n",
    "\n",
    "    # Add current loss avg to list of losses\n",
    "    if iter % plot_every == 0:\n",
    "        all_losses.append(current_loss / plot_every)\n",
    "        current_loss = 0"
   ]
  },
  {
   "cell_type": "markdown",
   "metadata": {},
   "source": [
    "Might be overfit as-is. Will need hyperparam tuning and testing data"
   ]
  },
  {
   "cell_type": "code",
   "execution_count": 17,
   "metadata": {},
   "outputs": [
    {
     "data": {
      "text/plain": [
       "[<matplotlib.lines.Line2D at 0x7f340745d2d0>]"
      ]
     },
     "execution_count": 17,
     "metadata": {},
     "output_type": "execute_result"
    },
    {
     "data": {
      "image/png": "[encoded data removed]",
      "text/plain": [
       "<Figure size 640x480 with 1 Axes>"
      ]
     },
     "metadata": {},
     "output_type": "display_data"
    }
   ],
   "source": [
    "plt.figure()\n",
    "plt.plot(all_losses)"
   ]
  },
  {
   "cell_type": "code",
   "execution_count": 18,
   "metadata": {},
   "outputs": [
    {
     "name": "stdout",
     "output_type": "stream",
     "text": [
      "Test Accuracy: 57.02%\n"
     ]
    }
   ],
   "source": [
    "def evaluate(model, x_test_tensor, y_test_tensor, n_hidden):\n",
    "    # Set model to evaluation mode\n",
    "    model.eval()\n",
    "\n",
    "    correct = 0\n",
    "    total = y_test_tensor.size(0)\n",
    "\n",
    "    # Initialize the hidden state\n",
    "    hidden = model.initHidden()\n",
    "\n",
    "    with torch.no_grad():  # No need to track gradients\n",
    "        for i in range(total):\n",
    "            output, hidden = model(x_test_tensor[i].unsqueeze(0), hidden)  # Pass in the hidden state\n",
    "            _, predicted = torch.max(output, 1)\n",
    "            correct += (predicted == y_test_tensor[i].argmax()).sum().item()\n",
    "            # Optionally: Reset the hidden state at the end of each sequence/test example\n",
    "            # hidden = model.initHidden()\n",
    "\n",
    "    accuracy = correct / total\n",
    "    return accuracy\n",
    "\n",
    "# Assuming n_hidden is the size of your RNN's hidden layer\n",
    "accuracy = evaluate(rnn, x_test_tensor, y_test_tensor, n_hidden)\n",
    "print(f'Test Accuracy: {accuracy * 100:.2f}%')"
   ]
  },
  {
   "cell_type": "code",
   "execution_count": 19,
   "metadata": {},
   "outputs": [
    {
     "name": "stdout",
     "output_type": "stream",
     "text": [
      "Precision: 0.48\n",
      "Recall: 0.57\n",
      "F1 Score: 0.51\n"
     ]
    },
    {
     "name": "stderr",
     "output_type": "stream",
     "text": [
      "/home/riley/.local/lib/python3.10/site-packages/sklearn/metrics/_classification.py:1509: UndefinedMetricWarning: Precision is ill-defined and being set to 0.0 in labels with no predicted samples. Use `zero_division` parameter to control this behavior.\n",
      "  _warn_prf(average, modifier, f\"{metric.capitalize()} is\", len(result))\n"
     ]
    }
   ],
   "source": [
    "from sklearn.metrics import precision_score, recall_score, f1_score\n",
    "\n",
    "def evaluate_advanced_metrics(model, x_test_tensor, y_test_tensor, n_hidden):\n",
    "    model.eval()  # Set the model to evaluation mode\n",
    "    \n",
    "    y_pred = []\n",
    "    y_true = []\n",
    "\n",
    "    # Initialize the hidden state\n",
    "    hidden = model.initHidden()\n",
    "\n",
    "    with torch.no_grad():\n",
    "        for i in range(y_test_tensor.size(0)):\n",
    "            output, hidden = model(x_test_tensor[i].unsqueeze(0), hidden)  # Also pass in and update the hidden state\n",
    "            _, predicted = torch.max(output, 1)\n",
    "            y_pred.append(predicted.item())\n",
    "            y_true.append(y_test_tensor[i].argmax().item())\n",
    "            # Optionally: Reset the hidden state at the end of each sequence/test example\n",
    "            # hidden = model.initHidden()\n",
    "\n",
    "    # Calculate precision, recall, and F1 score\n",
    "    precision = precision_score(y_true, y_pred, average=\"weighted\")\n",
    "    recall = recall_score(y_true, y_pred, average=\"weighted\")\n",
    "    f1 = f1_score(y_true, y_pred, average=\"weighted\")\n",
    "    \n",
    "    return precision, recall, f1\n",
    "\n",
    "precision, recall, f1 = evaluate_advanced_metrics(rnn, x_test_tensor, y_test_tensor, n_hidden)\n",
    "print(f'Precision: {precision:.2f}') # ratio of true positives to all predicted positives\n",
    "print(f'Recall: {recall:.2f}') # ratio of true positives to all actual positives\n",
    "print(f'F1 Score: {f1:.2f}') # harmonic mean of precision and recall"
   ]
  },
  {
   "cell_type": "markdown",
   "metadata": {},
   "source": [
    "still not distinguishing hospital search and search hospital by type"
   ]
  },
  {
   "cell_type": "code",
   "execution_count": 20,
   "metadata": {},
   "outputs": [],
   "source": [
    "def make_confusion(n=10000):\n",
    "    # Keep track of correct guesses in a confusion matrix\n",
    "    confusion = torch.zeros(n_categories, n_categories)\n",
    "\n",
    "    # Just return an output given a line\n",
    "    def evaluate(line_tensor):\n",
    "        hidden = rnn.initHidden()\n",
    "\n",
    "        output, hidden = rnn(line_tensor, hidden)\n",
    "\n",
    "        return output\n",
    "\n",
    "    # Go through a bunch of examples and record which are correctly guessed\n",
    "    for i in range(n):\n",
    "        category, line, category_tensor, line_tensor = randomTrainingExample()\n",
    "        output = evaluate(line_tensor)\n",
    "        guess, guess_i = categoryFromOutput(output)\n",
    "        category_i = intents.index(category)\n",
    "        confusion[category_i][guess_i] += 1\n",
    "\n",
    "    # Normalize by dividing every row by its sum\n",
    "    for i in range(n_categories):\n",
    "        confusion[i] = confusion[i] / confusion[i].sum()\n",
    "\n",
    "    # Set up plot\n",
    "    fig = plt.figure()\n",
    "    ax = fig.add_subplot(111)\n",
    "    cax = ax.matshow(confusion.numpy())\n",
    "    fig.colorbar(cax)\n",
    "\n",
    "    # Set up axes\n",
    "    ax.set_xticklabels([''] + intents, rotation=90)\n",
    "    ax.set_yticklabels([''] + intents)\n",
    "\n",
    "    # Force label at every tick\n",
    "    ax.xaxis.set_major_locator(ticker.MultipleLocator(1))\n",
    "    ax.yaxis.set_major_locator(ticker.MultipleLocator(1))\n",
    "\n",
    "    # sphinx_gallery_thumbnail_number = 2\n",
    "    plt.show()"
   ]
  },
  {
   "cell_type": "code",
   "execution_count": 22,
   "metadata": {},
   "outputs": [
    {
     "name": "stdout",
     "output_type": "stream",
     "text": [
      "\n",
      "> Hey there!\n",
      "(-0.77) greeting\n",
      "(-2.59) search_hospital_by_params\n",
      "(-2.65) search_blood_pressure_by_patient_id\n",
      "\n",
      "> Thanks for that!\n",
      "(-0.29) thanks\n",
      "(-3.82) search_blood_pressure_by_patient_id\n",
      "(-3.86) options\n",
      "\n",
      "> Find me a hospital\n",
      "(-0.35) search_hospital_by_type\n",
      "(-2.42) hospital_search\n",
      "(-3.97) search_blood_pressure_by_patient_id\n"
     ]
    }
   ],
   "source": [
    "def predict(input_line, n_predictions=3):\n",
    "    # Just return an output given a line\n",
    "    def evaluate(line_tensor, model):\n",
    "        hidden = model.initHidden()\n",
    "        output, hidden = model(line_tensor, hidden)\n",
    "\n",
    "        return output\n",
    "    \n",
    "    print('\\n> %s' % input_line)\n",
    "    with torch.no_grad():\n",
    "        output = evaluate(torch.from_numpy(bag_of_words(input_line, words, lemmatizer)).view(1, -1), rnn)\n",
    "\n",
    "        # Get top N categories\n",
    "        topv, topi = output.topk(n_predictions, 1, True)\n",
    "        predictions = []\n",
    "\n",
    "        for i in range(n_predictions):\n",
    "            value = topv[0][i].item()\n",
    "            category_index = topi[0][i].item()\n",
    "            print('(%.2f) %s' % (value, intents[category_index]))\n",
    "            predictions.append([value, intents[category_index]])\n",
    "\n",
    "predict('Hey there!')\n",
    "predict('Thanks for that!')\n",
    "predict('Find me a hospital')"
   ]
  },
  {
   "cell_type": "code",
   "execution_count": null,
   "metadata": {},
   "outputs": [],
   "source": [
    "# Save the model\n",
    "torch.save(rnn, '../clean_data/models/intents_classifier.pth')"
   ]
  }
 ],
 "metadata": {
  "kernelspec": {
   "display_name": "Python 3",
   "language": "python",
   "name": "python3"
  },
  "language_info": {
   "codemirror_mode": {
    "name": "ipython",
    "version": 3
   },
   "file_extension": ".py",
   "mimetype": "text/x-python",
   "name": "python",
   "nbconvert_exporter": "python",
   "pygments_lexer": "ipython3",
   "version": "3.10.12"
  }
 },
 "nbformat": 4,
 "nbformat_minor": 2
}
