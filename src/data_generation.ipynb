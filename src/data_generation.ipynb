{
 "cells": [
  {
   "cell_type": "code",
   "execution_count": 419,
   "metadata": {},
   "outputs": [],
   "source": [
    "import random\n",
    "import fitz\n",
    "import re\n",
    "import json\n",
    "import pandas as pd"
   ]
  },
  {
   "cell_type": "code",
   "execution_count": null,
   "metadata": {},
   "outputs": [],
   "source": [
    "def load_data(path):\n",
    "    # Load intents\n",
    "    with open(path, 'r') as file:\n",
    "        intents = json.load(file)['intents']\n",
    "\n",
    "    intents_dict = {}\n",
    "    response_dict = {}\n",
    "    for intent in intents:\n",
    "        intents_dict[intent['tag']] = intent['patterns']\n",
    "        response_dict[intent['tag']] = intent['responses']\n",
    "\n",
    "    return intents_dict, response_dict"
   ]
  },
  {
   "cell_type": "code",
   "execution_count": 420,
   "metadata": {},
   "outputs": [
    {
     "name": "stdout",
     "output_type": "stream",
     "text": [
      "14\n"
     ]
    }
   ],
   "source": [
    "intents_dict, response_dict = load_data('../../raw_data/intents.json')\n",
    "n_categories = len(intents_dict)\n",
    "print(n_categories)"
   ]
  },
  {
   "cell_type": "markdown",
   "metadata": {},
   "source": [
    "# Programmatically expand intents sections, starting with greeting"
   ]
  },
  {
   "cell_type": "markdown",
   "metadata": {},
   "source": [
    "thesaurus for ease of access to synonyms"
   ]
  },
  {
   "cell_type": "code",
   "execution_count": 421,
   "metadata": {},
   "outputs": [],
   "source": [
    "# load the data\n",
    "pdf_path = \"../raw_data/thesaurus.pdf\"\n",
    "doc = fitz.open(pdf_path)\n",
    "text = \"\"\n",
    "for page in doc:\n",
    "    text += page.get_text(\"text\")"
   ]
  },
  {
   "cell_type": "markdown",
   "metadata": {},
   "source": [
    "Dont need intro text"
   ]
  },
  {
   "cell_type": "code",
   "execution_count": 422,
   "metadata": {},
   "outputs": [
    {
     "name": "stdout",
     "output_type": "stream",
     "text": [
      "aback [adv] taken unawares confused, surprised,\n",
      "thrown off, thrown off guard*; concept 403\n",
      "abaft [ad\n"
     ]
    }
   ],
   "source": [
    "trimmed_text = text[text.find(\"aback\"):]\n",
    "print(trimmed_text[:100])"
   ]
  },
  {
   "cell_type": "code",
   "execution_count": 423,
   "metadata": {},
   "outputs": [],
   "source": [
    "# Regex pattern to match the word, the middle part including square brackets, and the definition\n",
    "start_pattern = r\"(\\w+)\\s\\[\\w+\\d?\\]\\s(.+)\"\n",
    "end_pattern = r\";? ?concepts? \\d{1,3}\"\n",
    "lines = trimmed_text.split(\"\\n\")\n",
    "start_text = \"\"\n",
    "text_cleaned = []\n",
    "\n",
    "for i in range(len(lines)):\n",
    "    start_match = re.match(start_pattern, lines[i])\n",
    "    if start_match:\n",
    "        word, start_text = start_match.groups()\n",
    "\n",
    "        for j in range(i+1, len(lines)):\n",
    "            end_match = re.search(end_pattern, lines[j])\n",
    "            if end_match:\n",
    "                start_text += re.split(end_pattern, lines[j])[0]\n",
    "                i = j\n",
    "                break\n",
    "            else:\n",
    "                start_text += lines[j]\n",
    "\n",
    "        text_cleaned.append((word, start_text))"
   ]
  },
  {
   "cell_type": "code",
   "execution_count": 424,
   "metadata": {},
   "outputs": [
    {
     "name": "stdout",
     "output_type": "stream",
     "text": [
      "['pleasant', 'ﬁne acceptable', 'ace*', 'admirable', 'agreeable', 'bad', 'boss*', 'bully', 'capital', 'choice', 'commendable', 'congenial', 'crack*', 'deluxe', 'excellent', 'exceptional', 'favorable', 'ﬁrst-class', 'ﬁrst-rate', 'gnarly*', 'gratifying', 'great', 'honorable', 'marvelous', 'neat*', 'nice', 'pleasing', 'positive', 'precious', 'prime', 'rad*', 'recherché*', 'reputable', 'satisfactory', 'satisfying', 'select', 'ship-shape*', 'sound', 'spanking*', 'splendid', 'sterling', 'stupendous', 'super', 'superb', 'super-eminent', 'super-excellent', 'superior', 'tip-top*', 'up to snuff*', 'valuable', 'welcome', 'wonderful', 'worthy;']\n"
     ]
    }
   ],
   "source": [
    "# look for word in the text\n",
    "def find_syns(word_to_find, context):\n",
    "    syns = []\n",
    "    for word, definition in text_cleaned:\n",
    "        if word == word_to_find and context in definition:\n",
    "            possible_responses = definition.split(\",\")\n",
    "            for response in possible_responses:\n",
    "                syns.append(response.strip())\n",
    "\n",
    "    return syns\n",
    "\n",
    "# gets all occurences of the word \"good\". Not every \"good\" works for our context, so we add some (context, that is).\n",
    "# For now, i'll just manually edit it.\n",
    "print(find_syns(\"good\", \"excellent\"))"
   ]
  },
  {
   "cell_type": "markdown",
   "metadata": {},
   "source": [
    "# adding greeting intents"
   ]
  },
  {
   "cell_type": "markdown",
   "metadata": {},
   "source": [
    "Get rid of synonyms that don't make sense for our purposes. Copied from above and manually edited. Prepare lists for forming greeting phrases and responses."
   ]
  },
  {
   "cell_type": "code",
   "execution_count": 425,
   "metadata": {},
   "outputs": [
    {
     "name": "stdout",
     "output_type": "stream",
     "text": [
      "60\n"
     ]
    }
   ],
   "source": [
    "import itertools\n",
    "\n",
    "greetings = [\"Hello\", \"Hi\", \"Hey\", \"Howdy\", \"Greetings\", \"Good morning\", \"Good afternoon\", \"Good evening\", \"Hi there\", \"Hello there\"]\n",
    "additional = [\"how are you?\", \"how are you doing?\", \"how's it going?\", \"what's up?\", \"how do you do?\", \"\"]\n",
    "combinations = list(itertools.product(greetings, additional))\n",
    "combinations_joined = [', '.join(combination) if combination[1] != \"\" else combination[0] for combination in combinations]\n",
    "print(len(combinations_joined))"
   ]
  },
  {
   "cell_type": "code",
   "execution_count": 426,
   "metadata": {},
   "outputs": [
    {
     "name": "stdout",
     "output_type": "stream",
     "text": [
      "60\n"
     ]
    }
   ],
   "source": [
    "responses = [\"Well hello\", \"Hi there\", \"Hey yourself\", \"Howdy there\", \"Greetings\", \"Good morning\", \"Good afternoon\", \"Good evening\", \"Hi\", \"Hello\"]\n",
    "help_inquire = \"How may I help you today?\" # for conciseness\n",
    "responses_additional = [\"I'm doing well, thank you.\", \"I'm doing well, thanks for asking.\", \"It's going well, thank you.\", \"Not much, thanks for asking.\",\n",
    "                         \"I'm doing well, thank you.\", \". \"]\n",
    "responses_combined = list(itertools.product(responses, responses_additional))\n",
    "responses_joined = ['. '.join(combination) if combination[1] != \". \" else ''.join(combination) for combination in responses_combined]\n",
    "responses_with_inquiry = [response  + help_inquire for response in responses_joined]\n",
    "print(len(responses_joined))"
   ]
  },
  {
   "cell_type": "markdown",
   "metadata": {},
   "source": [
    "Save updated intents"
   ]
  },
  {
   "cell_type": "code",
   "execution_count": 427,
   "metadata": {},
   "outputs": [],
   "source": [
    "intents_dict['greeting'] = combinations_joined\n",
    "response_dict['greeting'] = responses_joined"
   ]
  },
  {
   "cell_type": "markdown",
   "metadata": {},
   "source": [
    "# adding goodbye intents"
   ]
  },
  {
   "cell_type": "code",
   "execution_count": 428,
   "metadata": {},
   "outputs": [
    {
     "data": {
      "text/plain": [
       "['farewell statement adieu',\n",
       " 'adios',\n",
       " 'bye-bye',\n",
       " 'cheerio',\n",
       " 'ciao',\n",
       " 'godspeed*',\n",
       " 'leave-tak-ing',\n",
       " 'parting',\n",
       " 'so long*',\n",
       " 'swan song*',\n",
       " 'toodle-oo*;']"
      ]
     },
     "execution_count": 428,
     "metadata": {},
     "output_type": "execute_result"
    }
   ],
   "source": [
    "find_syns(\"goodbye\", \"farewell\")"
   ]
  },
  {
   "cell_type": "code",
   "execution_count": 429,
   "metadata": {},
   "outputs": [
    {
     "name": "stdout",
     "output_type": "stream",
     "text": [
      "['farewell statement adieu', 'adios', 'bye-bye', 'cheerio', 'ciao', 'so long*']\n"
     ]
    }
   ],
   "source": [
    "goodbye_syns = find_syns(\"goodbye\", \"farewell\")\n",
    "goodbye_syns.remove(\"leave-tak-ing\")\n",
    "goodbye_syns.remove(\"godspeed*\") # debated on keeping this\n",
    "goodbye_syns.remove(\"swan song*\")\n",
    "goodbye_syns.remove(\"toodle-oo*;\")\n",
    "goodbye_syns.remove(\"parting\")\n",
    "print(goodbye_syns)"
   ]
  },
  {
   "cell_type": "code",
   "execution_count": 430,
   "metadata": {},
   "outputs": [
    {
     "name": "stdout",
     "output_type": "stream",
     "text": [
      "['farewell', 'adios', 'bye-bye', 'cheerio', 'ciao', 'so long']\n"
     ]
    }
   ],
   "source": [
    "goodbye_syns[0] = goodbye_syns[0].split(\" \")[0] # remove the extra words from the first one\n",
    "# remove '*' from the end of the words\n",
    "goodbye_syns = [word.strip(\"*\") for word in goodbye_syns]\n",
    "print(goodbye_syns)"
   ]
  },
  {
   "cell_type": "code",
   "execution_count": 431,
   "metadata": {},
   "outputs": [],
   "source": [
    "# for correct grammar\n",
    "def a_or_an(word):\n",
    "    if word in [\"excellent\", \"amazing\", \"outstanding\", \"exceptional\"]:\n",
    "        return \"an \" + word\n",
    "    else:\n",
    "        return \"a \" + word\n",
    "\n",
    "good_syns = [\"good\", \"great\", \"excellent\", \"amazing\", \"fantastic\", \"superb\", \"terrific\", \"outstanding\", \"exceptional\", \"marvelous\", \"splendid\", \"wonderful\"]\n",
    "\n",
    "goodbye_templates = []\n",
    "response_templates = []\n",
    "goodbye_syns.append(\"goodbye\")\n",
    "goodbye_syns.append(\"till next time\")\n",
    "goodbye_syns.append(\"see you later\")\n",
    "goodbye_syns.append(\"bye\")\n",
    "\n",
    "times = [\"one\", \"day\", \"evening\", \"night\", \"rest of your day\", \"rest of your night\", \"rest of your evening\", \"rest of your morning\"]\n",
    "\n",
    "goodbye_additional = [\"Thanks for your help.\", \"Thanks again.\", \"Thanks for helping.\", \"Take care.\"]\n",
    "for syn in good_syns:\n",
    "    for time in times:\n",
    "        goodbye_additional.append(f\"Have {a_or_an(syn)} {time}.\")\n",
    "    goodbye_additional.append(f\"You've been {a_or_an(syn)} help.\")\n",
    "\n",
    "goodbye_additional.append(\"\")"
   ]
  },
  {
   "cell_type": "code",
   "execution_count": 432,
   "metadata": {},
   "outputs": [],
   "source": [
    "i = 0\n",
    "for gb_syn in goodbye_syns:\n",
    "    for gb_add in goodbye_additional:\n",
    "        goodbye_templates.append(f\"{gb_syn}{random.choice(['!','.'])} {gb_add}\")\n",
    "        if i < 3: # first three are thank yous\n",
    "            response_templates.append(\"It's my pleasure. I'm glad I could be of assistance. Goodbye!\")\n",
    "            i += 1\n",
    "        else:\n",
    "            if gb_add == \"\":\n",
    "                response_templates.append(\"Goodbye! Have a great day!\") # just a goodbye\n",
    "            else:\n",
    "                response_templates.append(\"Goodbye! Please come again!\")"
   ]
  },
  {
   "cell_type": "code",
   "execution_count": 433,
   "metadata": {},
   "outputs": [],
   "source": [
    "intents_dict['goodbye'] = goodbye_templates\n",
    "response_dict['goodbye'] = response_templates"
   ]
  },
  {
   "cell_type": "markdown",
   "metadata": {},
   "source": [
    "# Adding thanks intents"
   ]
  },
  {
   "cell_type": "code",
   "execution_count": 434,
   "metadata": {},
   "outputs": [
    {
     "name": "stdout",
     "output_type": "stream",
     "text": [
      "['Thanks', 'Thank you', \"That's helpful\", 'Awesome, thanks', 'Thanks for helping me']\n"
     ]
    }
   ],
   "source": [
    "print(intents_dict['thanks'])"
   ]
  },
  {
   "cell_type": "code",
   "execution_count": 435,
   "metadata": {},
   "outputs": [
    {
     "name": "stdout",
     "output_type": "stream",
     "text": [
      "['Happy to help!', 'Any time!', 'My pleasure']\n"
     ]
    }
   ],
   "source": [
    "print(response_dict['thanks'])"
   ]
  },
  {
   "cell_type": "code",
   "execution_count": 436,
   "metadata": {},
   "outputs": [
    {
     "name": "stdout",
     "output_type": "stream",
     "text": [
      "['thank you very much', 'thanks a lot', 'thank you so much', 'thanks so much', 'thank you kindly', 'thank you for that.', 'Thanks', 'Thank you', \"That's helpful\", 'Awesome, thanks', 'Thanks for helping me']\n"
     ]
    }
   ],
   "source": [
    "thanks = ['thank you very much', 'thanks a lot', 'thank you so much', 'thanks so much', 'thank you kindly', 'thank you for that.']\n",
    "thanks = thanks + intents_dict['thanks']\n",
    "print(thanks)"
   ]
  },
  {
   "cell_type": "code",
   "execution_count": 437,
   "metadata": {},
   "outputs": [],
   "source": [
    "second_part_nouns = [\"lifesaver\", \"star\", \"gem\", \"legend\", \"hero\", \"saint\", \"miracle worker\", \"godsend\", \"savior\", \"treasure\"]\n",
    "second_part = [\" You've been a great help.\", \" You're a great help\", \" I don't know what I'd do without you.\"]\n",
    "\n",
    "for noun in second_part_nouns:\n",
    "    second_part.append(f\" You're a {noun}.\")\n",
    "    second_part.append(\"\") # for variation"
   ]
  },
  {
   "cell_type": "code",
   "execution_count": 438,
   "metadata": {},
   "outputs": [
    {
     "name": "stdout",
     "output_type": "stream",
     "text": [
      "['Thank you very much', 'Thanks a lot', 'Thank you so much', 'Thanks so much', 'Thank you kindly', 'Thank you for that.', 'Thanks', 'Thank you', \"That's helpful\", 'Awesome, thanks', 'Thanks for helping me']\n"
     ]
    }
   ],
   "source": [
    "# capitalize the first letter of each element\n",
    "thanks = [word.capitalize() for word in thanks]\n",
    "print(thanks)"
   ]
  },
  {
   "cell_type": "code",
   "execution_count": 439,
   "metadata": {},
   "outputs": [
    {
     "name": "stdout",
     "output_type": "stream",
     "text": [
      "253\n"
     ]
    }
   ],
   "source": [
    "combinations = list(itertools.product(thanks, second_part))\n",
    "combinations_joined = ['. '.join(combination) if combination[1] != \"\" else combination[0] for combination in combinations]\n",
    "print(len(combinations_joined))"
   ]
  },
  {
   "cell_type": "code",
   "execution_count": 440,
   "metadata": {},
   "outputs": [],
   "source": [
    "res = []\n",
    "for combination in combinations_joined:\n",
    "    res.append(\"You're very welcome. Is there anything else I can assist you with today?\")\n",
    "\n",
    "intents_dict['thanks'] = combinations_joined\n",
    "response_dict['thanks'] = res"
   ]
  },
  {
   "cell_type": "markdown",
   "metadata": {},
   "source": [
    "# adding options intents"
   ]
  },
  {
   "cell_type": "code",
   "execution_count": 441,
   "metadata": {},
   "outputs": [
    {
     "name": "stdout",
     "output_type": "stream",
     "text": [
      "['How you could help me?', 'What you can do?', 'What help you provide?', 'How you can be helpful?', 'What support is offered']\n"
     ]
    }
   ],
   "source": [
    "print(intents_dict['options'])"
   ]
  },
  {
   "cell_type": "code",
   "execution_count": 442,
   "metadata": {},
   "outputs": [
    {
     "name": "stdout",
     "output_type": "stream",
     "text": [
      "['I can guide you through Adverse drug reaction list, Blood pressure tracking, Hospitals and Pharmacies', 'Offering support for Adverse drug reaction, Blood pressure, Hospitals and Pharmacies']\n"
     ]
    }
   ],
   "source": [
    "print(response_dict['options'])"
   ]
  },
  {
   "cell_type": "markdown",
   "metadata": {},
   "source": [
    "# Todo: make responses more varied (?)"
   ]
  },
  {
   "cell_type": "code",
   "execution_count": 443,
   "metadata": {},
   "outputs": [],
   "source": [
    "options = []\n",
    "responses = []\n",
    "end_part = [\"?\", \" here?\", \" today?\", \" right now?\", \" now?\", \" this evening?\", \" this morning?\", \" this afternoon?\"]\n",
    "help = [\"help\", \"assist\", \"support\", \"aid\"]\n",
    "choices = [\"options\", \"choices\"]\n",
    "response_options = ['I can guide you through the adverse drug reaction list, blood pressure tracking, or find hospitals and pharmacies.',\n",
    "                    'I can offer you support by giving you information on the adverse drug reaction list, blood pressure tracking, or finding hospitals and pharmacies.',\n",
    "                    'I can help you with the adverse drug reaction list, blood pressure tracking, or finding hospitals and pharmacies.']\n",
    "\n",
    "for part in end_part:\n",
    "    options.append(f\"What can I do{part}\")\n",
    "    options.append(f\"What can you do for me{part}\")\n",
    "    for choice in choices:\n",
    "        options.append(f\"What are my {choice}{part}\")\n",
    "    \n",
    "    for help_choice in help:\n",
    "        options.append(f\"What can you {help_choice} me with{part}\")\n",
    "        options.append(f\"How can you {help_choice} me{part}\")\n",
    "        options.append(f\"What can you do to {help_choice} me{part}\")\n",
    "\n",
    "for option in options:\n",
    "    responses.append(random.choice(response_options))"
   ]
  },
  {
   "cell_type": "code",
   "execution_count": 444,
   "metadata": {},
   "outputs": [
    {
     "data": {
      "text/plain": [
       "128"
      ]
     },
     "execution_count": 444,
     "metadata": {},
     "output_type": "execute_result"
    }
   ],
   "source": [
    "len(options)"
   ]
  },
  {
   "cell_type": "markdown",
   "metadata": {},
   "source": [
    "Save the updated options"
   ]
  },
  {
   "cell_type": "code",
   "execution_count": 445,
   "metadata": {},
   "outputs": [],
   "source": [
    "intents_dict['options'] = options\n",
    "response_dict['options'] = responses"
   ]
  },
  {
   "cell_type": "markdown",
   "metadata": {},
   "source": [
    "# adding adverse_drug intents"
   ]
  },
  {
   "cell_type": "code",
   "execution_count": 446,
   "metadata": {},
   "outputs": [
    {
     "data": {
      "text/plain": [
       "['How to check Adverse drug reaction?',\n",
       " 'Open adverse drugs module',\n",
       " 'Give me a list of drugs causing adverse behavior',\n",
       " 'List all drugs suitable for patient with adverse reaction',\n",
       " 'Which drugs dont have adverse reaction?']"
      ]
     },
     "execution_count": 446,
     "metadata": {},
     "output_type": "execute_result"
    }
   ],
   "source": [
    "intents_dict['adverse_drug']"
   ]
  },
  {
   "cell_type": "code",
   "execution_count": 447,
   "metadata": {},
   "outputs": [
    {
     "data": {
      "text/plain": [
       "['Navigating to Adverse drug reaction module']"
      ]
     },
     "execution_count": 447,
     "metadata": {},
     "output_type": "execute_result"
    }
   ],
   "source": [
    "response_dict['adverse_drug']"
   ]
  },
  {
   "cell_type": "code",
   "execution_count": 448,
   "metadata": {},
   "outputs": [],
   "source": [
    "def generate_adverse_drug_question(number_of_questions=10):\n",
    "    inquiries = []\n",
    "    # data collected using code in named_entity_recognition.ipynb\n",
    "    medications = pd.read_csv('../clean_data/medications.csv')\n",
    "    choices = ['bad', 'adverse']\n",
    "    interactions = ['interactions', 'effects', 'side effects', 'behavior']\n",
    "    display = ['display', 'show', 'list', 'provide', 'give']\n",
    "    med_syns = ['medications', 'drugs', 'pharmaceuticals', 'prescriptions', 'meds', 'medicines']\n",
    "    time = ['at the same time?', 'simultaneously?', 'together?', 'with each other?', 'concurrently?']\n",
    "\n",
    "    for i in range(number_of_questions):\n",
    "        inquiries.append(f\"Give me a list of {random.choice(med_syns)} causing {random.choice(choices)} {random.choice(interactions)}\")\n",
    "        inquiries.append(f\"Which {random.choice(med_syns)} have {random.choice(choices)} {random.choice(interactions)}?\")\n",
    "        inquiries.append(f\"{random.choice(display).capitalize()} all {random.choice(med_syns)} with {random.choice(choices)} {random.choice(interactions)}\")\n",
    "        inquiries.append(f\"Is it safe to take {random.choice(medications['medication'].values)} and {random.choice(medications['medication'].values)} {random.choice(time)}\")\n",
    "        inquiries.append(f\"Do {random.choice(medications['medication'].values)} and {random.choice(medications['medication'].values)} have {random.choice(choices)} {random.choice(interactions)}?\")\n",
    "\n",
    "    return inquiries\n",
    "\n",
    "inquiries = generate_adverse_drug_question(20)\n",
    "intents_dict['adverse_drug'] = inquiries\n",
    "response_dict['adverse_drug'] = [\"Navigating to Adverse drug reaction module\" for inquiry in inquiries]"
   ]
  },
  {
   "cell_type": "markdown",
   "metadata": {},
   "source": [
    "# adding blood-pressure intents"
   ]
  },
  {
   "cell_type": "code",
   "execution_count": 449,
   "metadata": {},
   "outputs": [
    {
     "data": {
      "text/plain": [
       "['Open blood pressure module',\n",
       " 'Task related to blood pressure',\n",
       " 'Blood pressure data entry',\n",
       " 'I want to log blood pressure results',\n",
       " 'Blood pressure data management']"
      ]
     },
     "execution_count": 449,
     "metadata": {},
     "output_type": "execute_result"
    }
   ],
   "source": [
    "intents_dict['blood_pressure']"
   ]
  },
  {
   "cell_type": "code",
   "execution_count": 450,
   "metadata": {},
   "outputs": [
    {
     "data": {
      "text/plain": [
       "['Navigating to Blood Pressure module']"
      ]
     },
     "execution_count": 450,
     "metadata": {},
     "output_type": "execute_result"
    }
   ],
   "source": [
    "response_dict['blood_pressure']"
   ]
  },
  {
   "cell_type": "code",
   "execution_count": 451,
   "metadata": {},
   "outputs": [],
   "source": [
    "inquiries = []\n",
    "data = ['results', 'data', 'information', 'readings', 'numbers', 'stats']\n",
    "open_module = ['Open', 'Show', 'Display', 'Start', 'Run', 'Begin', 'Launch']\n",
    "module = ['module', 'manager', 'system', 'app', 'tool', 'program', 'application', 'software']\n",
    "log = ['log', 'record', 'track', 'read', 'view', 'monitor', 'check', 'watch', 'see']\n",
    "i = 0 # for use in first loop\n",
    "for elem in open_module:\n",
    "    for module_syn in module:\n",
    "        inquiries.append(f\"{elem} the {module_syn} for blood pressure\")\n",
    "        inquiries.append(f\"{elem} blood pressure {module_syn}\")\n",
    "\n",
    "for data_syn in data:\n",
    "    for module_syn in module:\n",
    "        inquiries.append(f\"Blood pressure {data_syn} {module_syn}\")\n",
    "    \n",
    "    for elem in open_module:\n",
    "        inquiries.append(f\"{elem} blood pressure {data_syn}\")\n",
    "\n",
    "for log_syn in log:\n",
    "    inquiries.append(f\"{log_syn} my blood pressure\")\n",
    "    inquiries.append(f\"{log_syn} blood pressure\")\n",
    "    inquiries.append(f\"I want to {log_syn} my blood pressure\")\n",
    "\n",
    "    for data_syn in data:\n",
    "        inquiries.append(f\"{log_syn} my blood pressure {data_syn}\")\n",
    "        inquiries.append(f\"{log_syn} blood pressure {data_syn}\")\n",
    "        inquiries.append(f\"I want to {log_syn} my blood pressure {data_syn}\")\n",
    "\n",
    "responses = []\n",
    "\n",
    "for inquiry in inquiries:\n",
    "    responses.append('Navigating to Blood Pressure module')\n",
    "\n",
    "intents_dict['blood_pressure'] = inquiries\n",
    "response_dict['blood_pressure'] = responses"
   ]
  },
  {
   "cell_type": "code",
   "execution_count": 452,
   "metadata": {},
   "outputs": [
    {
     "data": {
      "text/plain": [
       "364"
      ]
     },
     "execution_count": 452,
     "metadata": {},
     "output_type": "execute_result"
    }
   ],
   "source": [
    "len(inquiries)"
   ]
  },
  {
   "cell_type": "markdown",
   "metadata": {},
   "source": [
    "# adding blood_pressure_search intents"
   ]
  },
  {
   "cell_type": "code",
   "execution_count": 453,
   "metadata": {},
   "outputs": [
    {
     "data": {
      "text/plain": [
       "['I want to search for blood pressure result history',\n",
       " 'Blood pressure for patient',\n",
       " 'Load patient blood pressure result',\n",
       " 'Show blood pressure results for patient',\n",
       " 'Find blood pressure results by ID']"
      ]
     },
     "execution_count": 453,
     "metadata": {},
     "output_type": "execute_result"
    }
   ],
   "source": [
    "intents_dict['blood_pressure_search']"
   ]
  },
  {
   "cell_type": "code",
   "execution_count": 454,
   "metadata": {},
   "outputs": [
    {
     "data": {
      "text/plain": [
       "['Please provide Patient ID', 'Patient ID?']"
      ]
     },
     "execution_count": 454,
     "metadata": {},
     "output_type": "execute_result"
    }
   ],
   "source": [
    "response_dict['blood_pressure_search']"
   ]
  },
  {
   "cell_type": "code",
   "execution_count": 455,
   "metadata": {},
   "outputs": [],
   "source": [
    "searches = []\n",
    "search_words = ['search for', 'find', 'locate', 'view', 'show', 'display', 'pull up', 'load']\n",
    "result_words = ['results', 'data', 'information', 'readings', 'numbers', 'stats', 'history', 'logs', 'records']\n",
    "end_part = ['for patient', 'by ID', 'for patient by ID', 'for patient by name', 'for patient by name and ID', 'for patient by name or ID', 'for patient by ID or name']\n",
    "for result_word in result_words:\n",
    "    for end in end_part:\n",
    "        for search_word in search_words:\n",
    "            searches.append(f\"I want to {search_word} blood pressure {result_word} {end}\")\n",
    "            searches.append(f\"{search_word.capitalize()} blood pressure {result_word} {end}\")\n",
    "        searches.append(f\"Show me blood pressure {result_word} {end}\")\n",
    "        searches.append(f\"I need {result_word} {end}\")\n",
    "        searches.append(f\"I want {result_word} {end}\")\n",
    "        searches.append(f\"Blood pressure {result_word} {end}\")\n",
    "\n",
    "intents_dict['blood_pressure_search'] = searches\n",
    "responses = []\n",
    "for search in searches:\n",
    "    responses.append('Please provide patient ID')\n",
    "\n",
    "response_dict['blood_pressure_search'] = responses"
   ]
  },
  {
   "cell_type": "markdown",
   "metadata": {},
   "source": [
    "# adding search_blood_pressure_by_patient_id intents"
   ]
  },
  {
   "cell_type": "code",
   "execution_count": 456,
   "metadata": {},
   "outputs": [
    {
     "data": {
      "text/plain": [
       "[]"
      ]
     },
     "execution_count": 456,
     "metadata": {},
     "output_type": "execute_result"
    }
   ],
   "source": [
    "intents_dict['search_blood_pressure_by_patient_id']"
   ]
  },
  {
   "cell_type": "code",
   "execution_count": 457,
   "metadata": {},
   "outputs": [
    {
     "data": {
      "text/plain": [
       "['Loading Blood pressure result for Patient']"
      ]
     },
     "execution_count": 457,
     "metadata": {},
     "output_type": "execute_result"
    }
   ],
   "source": [
    "response_dict['search_blood_pressure_by_patient_id']"
   ]
  },
  {
   "cell_type": "code",
   "execution_count": 458,
   "metadata": {},
   "outputs": [],
   "source": [
    "def generate_random_patient_ids(num_ids=10, prefix=\"P\", id_length=6):\n",
    "    random_ids = []\n",
    "    for _ in range(num_ids):\n",
    "        id_number = ''.join([str(random.randint(0, 9)) for _ in range(id_length)])\n",
    "        random_ids.append(prefix + id_number)\n",
    "    return random_ids\n",
    "\n",
    "# Generate 100 random patient IDs\n",
    "random_patient_ids = generate_random_patient_ids(num_ids=100)"
   ]
  },
  {
   "cell_type": "code",
   "execution_count": 459,
   "metadata": {},
   "outputs": [],
   "source": [
    "searches = []\n",
    "search_words = ['search for', 'find', 'locate', 'view', 'show', 'display', 'pull up', 'load']\n",
    "result_words = ['results', 'data', 'information', 'readings', 'numbers', 'stats', 'history', 'logs', 'records']\n",
    "for result_word in result_words:\n",
    "    for search_word in search_words:\n",
    "        searches.append(f\"I want to {search_word} blood pressure {result_word} for patient {random.choice(random_patient_ids)}\")\n",
    "        searches.append(f\"{search_word.capitalize()} blood pressure {result_word} for patient {random.choice(random_patient_ids)}\")\n",
    "        searches.append(f\"{random.choice(random_patient_ids)} blood pressure {result_word}\")\n",
    "        searches.append(random.choice(random_patient_ids))\n",
    "\n",
    "intents_dict['search_blood_pressure_by_patient_id'] = searches\n",
    "responses = []\n",
    "for search in searches:\n",
    "    responses.append('Loading blood pressure data')\n",
    "\n",
    "response_dict['search_blood_pressure_by_patient_id'] = responses"
   ]
  },
  {
   "cell_type": "markdown",
   "metadata": {},
   "source": [
    "# adding pharmacy_search intents"
   ]
  },
  {
   "cell_type": "code",
   "execution_count": 460,
   "metadata": {},
   "outputs": [
    {
     "data": {
      "text/plain": [
       "['Find me a pharmacy',\n",
       " 'Find pharmacy',\n",
       " 'List of pharmacies nearby',\n",
       " 'Locate pharmacy',\n",
       " 'Search pharmacy']"
      ]
     },
     "execution_count": 460,
     "metadata": {},
     "output_type": "execute_result"
    }
   ],
   "source": [
    "intents_dict['pharmacy_search']"
   ]
  },
  {
   "cell_type": "code",
   "execution_count": 461,
   "metadata": {},
   "outputs": [
    {
     "data": {
      "text/plain": [
       "['Please provide pharmacy name']"
      ]
     },
     "execution_count": 461,
     "metadata": {},
     "output_type": "execute_result"
    }
   ],
   "source": [
    "response_dict['pharmacy_search']"
   ]
  },
  {
   "cell_type": "code",
   "execution_count": 462,
   "metadata": {},
   "outputs": [],
   "source": [
    "searches = []\n",
    "search_words = ['search for', 'find', 'locate', 'show', 'navigate to']\n",
    "location_words = ['location', 'address', 'home', 'position']\n",
    "pharmacy_words = ['pharmacy', 'drugstore', 'pharmacies', 'drugstores']\n",
    "for search_word in search_words:\n",
    "    searches.append(f\"I want to {search_word} a pharmacy\")\n",
    "    searches.append(f\"{search_word.capitalize()} a pharmacy\")\n",
    "    for pharmacy_word in pharmacy_words:\n",
    "        for location_word in location_words:\n",
    "            searches.append(f\"{search_word.capitalize()} {pharmacy_word} near my {location_word}\")\n",
    "\n",
    "        searches.append(f\"{search_word.capitalize()} {pharmacy_word}\")\n",
    "        searches.append(f\"{search_word} {pharmacy_word} near me\")\n",
    "        searches.append(f\"{search_word.capitalize()} nearyby {pharmacy_word}\")\n",
    "\n",
    "intents_dict['pharmacy_search'] = searches\n",
    "responses = []\n",
    "for search in searches:\n",
    "    responses.append('Please provide pharmacy name')\n",
    "\n",
    "response_dict['pharmacy_search'] = responses"
   ]
  },
  {
   "cell_type": "markdown",
   "metadata": {},
   "source": [
    "# adding search_pharmacy_by_name intents"
   ]
  },
  {
   "cell_type": "code",
   "execution_count": 463,
   "metadata": {},
   "outputs": [
    {
     "data": {
      "text/plain": [
       "[]"
      ]
     },
     "execution_count": 463,
     "metadata": {},
     "output_type": "execute_result"
    }
   ],
   "source": [
    "intents_dict['search_pharmacy_by_name']"
   ]
  },
  {
   "cell_type": "code",
   "execution_count": 464,
   "metadata": {},
   "outputs": [
    {
     "data": {
      "text/plain": [
       "['Loading pharmacy details']"
      ]
     },
     "execution_count": 464,
     "metadata": {},
     "output_type": "execute_result"
    }
   ],
   "source": [
    "response_dict['search_pharmacy_by_name']"
   ]
  },
  {
   "cell_type": "code",
   "execution_count": 465,
   "metadata": {},
   "outputs": [],
   "source": [
    "searches = []\n",
    "search_words = ['search for', 'find', 'locate', 'show', 'navigate to']\n",
    "names = ['CVS', 'Walgreens', 'Rite Aid', 'Walmart', 'Costco', 'Kroger', 'Publix', 'Safeway', 'Albertsons', 'Target']\n",
    "for search_word in search_words:\n",
    "    for name in names:\n",
    "        searches.append(f\"I want to {search_word} {name}\")\n",
    "        searches.append(f\"{search_word.capitalize()} {name}\")\n",
    "        searches.append(f\"{search_word} {name} near me\")\n",
    "        searches.append(f\"{search_word.capitalize()} {name} nearby\")\n",
    "        searches.append(f\"{search_word.capitalize()} {name} near my location\")\n",
    "intents_dict['search_pharmacy_by_name'] = searches\n",
    "responses = []\n",
    "for search in searches:\n",
    "    responses.append('Loading pharmacy details')\n",
    "    \n",
    "response_dict['search_pharmacy_by_name'] = responses"
   ]
  },
  {
   "cell_type": "markdown",
   "metadata": {},
   "source": [
    "# adding hospital_search intents"
   ]
  },
  {
   "cell_type": "code",
   "execution_count": 466,
   "metadata": {},
   "outputs": [
    {
     "data": {
      "text/plain": [
       "['Lookup for hospital',\n",
       " 'Searching for hospital to transfer patient',\n",
       " 'I want to search hospital data',\n",
       " 'Hospital lookup for patient',\n",
       " 'Looking up hospital details']"
      ]
     },
     "execution_count": 466,
     "metadata": {},
     "output_type": "execute_result"
    }
   ],
   "source": [
    "intents_dict['hospital_search']"
   ]
  },
  {
   "cell_type": "code",
   "execution_count": 467,
   "metadata": {},
   "outputs": [
    {
     "data": {
      "text/plain": [
       "['Please provide hospital name or location']"
      ]
     },
     "execution_count": 467,
     "metadata": {},
     "output_type": "execute_result"
    }
   ],
   "source": [
    "response_dict['hospital_search']"
   ]
  },
  {
   "cell_type": "code",
   "execution_count": 468,
   "metadata": {},
   "outputs": [],
   "source": [
    "searches = []\n",
    "search_words = ['search for', 'find', 'locate', 'view', 'show', 'display', 'pull up', 'load', 'lookup']\n",
    "hospital = ['hospital', 'hospitals']\n",
    "location_words = ['location', 'address', 'home', 'position']\n",
    "\n",
    "\n",
    "for search_word in search_words:\n",
    "    searches.append(f\"I want to {search_word} a hospital\")\n",
    "    searches.append(f\"{search_word.capitalize()} a hospital\")\n",
    "    searches.append(f\"{search_word.capitalize()} {random.choice(hospital)}\")\n",
    "    searches.append(f\"{search_word.capitalize()} {random.choice(hospital)} near me\")\n",
    "    searches.append(f\"{search_word.capitalize()} nearyby {random.choice(hospital)}\")\n",
    "    for location_word in location_words:\n",
    "        searches.append(f\"{search_word.capitalize()} {random.choice(hospital)} near my {location_word}\")\n",
    "\n",
    "intents_dict['hospital_search'] = searches\n",
    "responses = []\n",
    "for search in searches:\n",
    "    responses.append('Please provide hospital name, location, or type')\n",
    "\n",
    "response_dict['hospital_search'] = responses"
   ]
  },
  {
   "cell_type": "markdown",
   "metadata": {},
   "source": [
    "# adding search_hospital_by_params intents"
   ]
  },
  {
   "cell_type": "code",
   "execution_count": 469,
   "metadata": {},
   "outputs": [
    {
     "data": {
      "text/plain": [
       "[]"
      ]
     },
     "execution_count": 469,
     "metadata": {},
     "output_type": "execute_result"
    }
   ],
   "source": [
    "intents_dict['search_hospital_by_params']"
   ]
  },
  {
   "cell_type": "code",
   "execution_count": 470,
   "metadata": {},
   "outputs": [
    {
     "data": {
      "text/plain": [
       "['Please provide hospital type']"
      ]
     },
     "execution_count": 470,
     "metadata": {},
     "output_type": "execute_result"
    }
   ],
   "source": [
    "response_dict['search_hospital_by_params']"
   ]
  },
  {
   "cell_type": "code",
   "execution_count": 471,
   "metadata": {},
   "outputs": [],
   "source": [
    "# list of hospital names\n",
    "names = ['Mayo Clinic', 'Cleveland Clinic', 'Johns Hopkins Hospital', 'Massachusetts General Hospital',\n",
    "         'UCSF Medical Center', 'UCLA Medical Center', 'New York-Presbyterian Hospital', 'Stanford Health Care-Stanford Hospital',\n",
    "         'Hospitals of the University of Pennsylvania-Penn Presbyterian', 'Cedars-Sinai Medical Center', 'Northwestern Memorial Hospital',\n",
    "         'UPMC Presbyterian Shadyside', 'University of Michigan Hospitals-Michigan Medicine', 'Mount Sinai Hospital']\n",
    "# list of hospital addresses\n",
    "addresses = ['200 1st St SW, Rochester, MN 55905', '9500 Euclid Ave, Cleveland, OH 44195', '1800 Orleans St, Baltimore, MD 21287',\n",
    "             '55 Fruit St, Boston, MA 02114', '505 Parnassus Ave, San Francisco, CA 94143', '757 Westwood Plaza, Los Angeles, CA 90095',\n",
    "             '525 East 68th St, New York, NY 10065', '300 Pasteur Dr, Stanford, CA 94305', '51 N 39th St, Philadelphia, PA 19104',\n",
    "             '8700 Beverly Blvd, Los Angeles, CA 90048', '251 E Huron St, Chicago, IL 60611', '200 Lothrop St, Pittsburgh, PA 15213',\n",
    "             '1500 E Medical Center Dr, Ann Arbor, MI 48109', '1 Gustave L Levy Pl, New York, NY 10029']\n",
    "\n",
    "intents_dict['search_hospital_by_params'] = names + addresses\n",
    "\n",
    "response_dict['search_hospital_by_params'] = ['Loading hospital details' for _ in range(len(intents_dict['search_hospital_by_params']))]"
   ]
  },
  {
   "cell_type": "markdown",
   "metadata": {},
   "source": [
    "# adding search_hospital_by_type intents"
   ]
  },
  {
   "cell_type": "code",
   "execution_count": 472,
   "metadata": {},
   "outputs": [],
   "source": [
    "# list of hospital types\n",
    "types = ['general', 'community', 'teaching', 'specialty', 'clinic', 'psychiatric', 'rehabilitation', 'children', 'geriatric', 'maternity']\n",
    "searches = []\n",
    "\n",
    "for type in types:\n",
    "    searches.append(f\"Find me a {type} hospital\")\n",
    "    searches.append(f\"{type} hospital\")\n",
    "    searches.append(f\"Find me a {type} hospital near me\")\n",
    "    searches.append(f\"{type} hospital near me\")\n",
    "    searches.append(f\"Find me a {type} hospital near my location\")\n",
    "    searches.append(f\"{type} hospital near my location\")\n",
    "\n",
    "intents_dict['search_hospital_by_type'] = searches\n",
    "response_dict['search_hospital_by_type'] = ['Loading hospital details' for search in searches]"
   ]
  },
  {
   "cell_type": "code",
   "execution_count": 473,
   "metadata": {},
   "outputs": [],
   "source": [
    "# Load the original JSON file\n",
    "with open('../raw_data/intents.json', 'r') as file:\n",
    "    data = json.load(file)\n",
    "\n",
    "# Update the JSON structure with new patterns and responses except for the 'noanswer' intent\n",
    "for intent in data[\"intents\"]:\n",
    "    tag = intent[\"tag\"]\n",
    "    if tag in intents_dict:\n",
    "        intent[\"patterns\"] = intents_dict[tag]\n",
    "    if tag in response_dict:\n",
    "        intent[\"responses\"] = response_dict[tag]\n",
    "\n",
    "data[\"intents\"] = [intent for intent in data[\"intents\"] if intent[\"tag\"] != \"noanswer\"]\n",
    "\n",
    "# Write the updated JSON structure back to a file\n",
    "with open('../clean_data/intents_enriched.json', 'w') as file:\n",
    "    json.dump(data, file, indent=4)"
   ]
  }
 ],
 "metadata": {
  "kernelspec": {
   "display_name": "Python 3",
   "language": "python",
   "name": "python3"
  },
  "language_info": {
   "codemirror_mode": {
    "name": "ipython",
    "version": 3
   },
   "file_extension": ".py",
   "mimetype": "text/x-python",
   "name": "python",
   "nbconvert_exporter": "python",
   "pygments_lexer": "ipython3",
   "version": "3.10.12"
  }
 },
 "nbformat": 4,
 "nbformat_minor": 2
}
