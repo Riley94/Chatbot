{
 "cells": [
  {
   "cell_type": "code",
   "execution_count": 1,
   "metadata": {},
   "outputs": [],
   "source": [
    "import pandas as pd\n",
    "import numpy as np\n",
    "import matplotlib.pyplot as plt\n",
    "import seaborn as sns\n",
    "import os\n",
    "import json\n",
    "import nltk\n",
    "import pickle\n",
    "from torch import FloatTensor, optim, nn, unique"
   ]
  },
  {
   "cell_type": "markdown",
   "metadata": {},
   "source": [
    "Source: https://github.com/katanaml/katana-assistant/blob/master/mlbackend/intents.json"
   ]
  },
  {
   "cell_type": "code",
   "execution_count": 2,
   "metadata": {},
   "outputs": [
    {
     "data": {
      "text/plain": [
       "dict_keys(['intents'])"
      ]
     },
     "execution_count": 2,
     "metadata": {},
     "output_type": "execute_result"
    }
   ],
   "source": [
    "lemmatizer = nltk.stem.WordNetLemmatizer()\n",
    "\n",
    "base_path = os.getcwd()\n",
    "raw_data_path = os.path.join(base_path, '../raw_data/intents.json')\n",
    "\n",
    "with open(raw_data_path, 'r') as f:\n",
    "    data = json.loads(open(raw_data_path).read())\n",
    "\n",
    "data.keys()"
   ]
  },
  {
   "cell_type": "code",
   "execution_count": 14,
   "metadata": {},
   "outputs": [
    {
     "data": {
      "text/plain": [
       "[{'tag': 'greeting',\n",
       "  'patterns': ['Hi there',\n",
       "   'How are you',\n",
       "   'Is anyone there?',\n",
       "   'Hello',\n",
       "   'Good day'],\n",
       "  'responses': ['Hello, thanks for asking',\n",
       "   'Good to see you again',\n",
       "   'Hi there, how can I help?'],\n",
       "  'context': ['']},\n",
       " {'tag': 'goodbye',\n",
       "  'patterns': ['Bye',\n",
       "   'See you later',\n",
       "   'Goodbye',\n",
       "   'Nice chatting to you, bye',\n",
       "   'Till next time'],\n",
       "  'responses': ['See you!', 'Have a nice day', 'Bye! Come back again soon.'],\n",
       "  'context': ['']},\n",
       " {'tag': 'thanks',\n",
       "  'patterns': ['Thanks',\n",
       "   'Thank you',\n",
       "   \"That's helpful\",\n",
       "   'Awesome, thanks',\n",
       "   'Thanks for helping me'],\n",
       "  'responses': ['Happy to help!', 'Any time!', 'My pleasure'],\n",
       "  'context': ['']},\n",
       " {'tag': 'noanswer',\n",
       "  'patterns': [],\n",
       "  'responses': [\"Sorry, can't understand you\",\n",
       "   'Please give me more info',\n",
       "   'Not sure I understand'],\n",
       "  'context': ['']},\n",
       " {'tag': 'options',\n",
       "  'patterns': ['How you could help me?',\n",
       "   'What you can do?',\n",
       "   'What help you provide?',\n",
       "   'How you can be helpful?',\n",
       "   'What support is offered'],\n",
       "  'responses': ['I can guide you through Adverse drug reaction list, Blood pressure tracking, Hospitals and Pharmacies',\n",
       "   'Offering support for Adverse drug reaction, Blood pressure, Hospitals and Pharmacies'],\n",
       "  'context': ['']},\n",
       " {'tag': 'adverse_drug',\n",
       "  'patterns': ['How to check Adverse drug reaction?',\n",
       "   'Open adverse drugs module',\n",
       "   'Give me a list of drugs causing adverse behavior',\n",
       "   'List all drugs suitable for patient with adverse reaction',\n",
       "   'Which drugs dont have adverse reaction?'],\n",
       "  'responses': ['Navigating to Adverse drug reaction module'],\n",
       "  'context': ['']},\n",
       " {'tag': 'blood_pressure',\n",
       "  'patterns': ['Open blood pressure module',\n",
       "   'Task related to blood pressure',\n",
       "   'Blood pressure data entry',\n",
       "   'I want to log blood pressure results',\n",
       "   'Blood pressure data management'],\n",
       "  'responses': ['Navigating to Blood Pressure module'],\n",
       "  'context': ['']},\n",
       " {'tag': 'blood_pressure_search',\n",
       "  'patterns': ['I want to search for blood pressure result history',\n",
       "   'Blood pressure for patient',\n",
       "   'Load patient blood pressure result',\n",
       "   'Show blood pressure results for patient',\n",
       "   'Find blood pressure results by ID'],\n",
       "  'responses': ['Please provide Patient ID', 'Patient ID?'],\n",
       "  'context': ['search_blood_pressure_by_patient_id']},\n",
       " {'tag': 'search_blood_pressure_by_patient_id',\n",
       "  'patterns': [],\n",
       "  'responses': ['Loading Blood pressure result for Patient'],\n",
       "  'context': ['']},\n",
       " {'tag': 'pharmacy_search',\n",
       "  'patterns': ['Find me a pharmacy',\n",
       "   'Find pharmacy',\n",
       "   'List of pharmacies nearby',\n",
       "   'Locate pharmacy',\n",
       "   'Search pharmacy'],\n",
       "  'responses': ['Please provide pharmacy name'],\n",
       "  'context': ['search_pharmacy_by_name']},\n",
       " {'tag': 'search_pharmacy_by_name',\n",
       "  'patterns': [],\n",
       "  'responses': ['Loading pharmacy details'],\n",
       "  'context': ['']},\n",
       " {'tag': 'hospital_search',\n",
       "  'patterns': ['Lookup for hospital',\n",
       "   'Searching for hospital to transfer patient',\n",
       "   'I want to search hospital data',\n",
       "   'Hospital lookup for patient',\n",
       "   'Looking up hospital details'],\n",
       "  'responses': ['Please provide hospital name or location'],\n",
       "  'context': ['search_hospital_by_params']},\n",
       " {'tag': 'search_hospital_by_params',\n",
       "  'patterns': [],\n",
       "  'responses': ['Please provide hospital type'],\n",
       "  'context': ['search_hospital_by_type']},\n",
       " {'tag': 'search_hospital_by_type',\n",
       "  'patterns': [],\n",
       "  'responses': ['Loading hospital details'],\n",
       "  'context': ['']}]"
      ]
     },
     "execution_count": 14,
     "metadata": {},
     "output_type": "execute_result"
    }
   ],
   "source": [
    "data['intents']"
   ]
  },
  {
   "cell_type": "code",
   "execution_count": 3,
   "metadata": {},
   "outputs": [
    {
     "name": "stdout",
     "output_type": "stream",
     "text": [
      "45 pairs of words and tags\n"
     ]
    }
   ],
   "source": [
    "words = []\n",
    "tags = []\n",
    "word_tag_pairs = []\n",
    "ignore = ['?', '!', '.', ',', '\\'s']\n",
    "\n",
    "for intent in data['intents']:\n",
    "    for pattern in intent['patterns']:\n",
    "        w = nltk.tokenize.word_tokenize(pattern)\n",
    "        words.extend(w)\n",
    "        word_tag_pairs.append((w, intent['tag'])) # list of tuples containing list of words and tag\n",
    "        if intent['tag'] not in tags:\n",
    "            tags.append(intent['tag']) # unique list of tags\n",
    "\n",
    "# find base form of word and remove ignore words\n",
    "words = [lemmatizer.lemmatize(w.lower()) for w in words if w not in ignore]\n",
    "words = sorted(list(set(words))) # remove duplicates and sort\n",
    "\n",
    "tags = sorted(list(set(tags)))\n",
    "\n",
    "print(len(word_tag_pairs), \"pairs of words and tags\")"
   ]
  },
  {
   "cell_type": "code",
   "execution_count": 11,
   "metadata": {},
   "outputs": [
    {
     "name": "stdout",
     "output_type": "stream",
     "text": [
      "9 tags ['adverse_drug', 'blood_pressure', 'blood_pressure_search', 'goodbye', 'greeting', 'hospital_search', 'options', 'pharmacy_search', 'thanks']\n"
     ]
    }
   ],
   "source": [
    "print(len(tags), \"tags\", tags)"
   ]
  },
  {
   "cell_type": "code",
   "execution_count": 12,
   "metadata": {},
   "outputs": [
    {
     "name": "stdout",
     "output_type": "stream",
     "text": [
      "84 unique lemmatized words ['a', 'adverse', 'all', 'anyone', 'are', 'awesome', 'be', 'behavior', 'blood', 'by', 'bye', 'can', 'causing', 'chatting', 'check', 'could', 'data', 'day', 'detail', 'do', 'dont', 'drug', 'entry', 'find', 'for', 'give', 'good', 'goodbye', 'have', 'hello', 'help', 'helpful', 'helping', 'hi', 'history', 'hospital', 'how', 'i', 'id', 'is', 'later', 'list', 'load', 'locate', 'log', 'looking', 'lookup', 'management', 'me', 'module', 'nearby', 'next', 'nice', 'of', 'offered', 'open', 'patient', 'pharmacy', 'pressure', 'provide', 'reaction', 'related', 'result', 'search', 'searching', 'see', 'show', 'suitable', 'support', 'task', 'thank', 'thanks', 'that', 'there', 'till', 'time', 'to', 'transfer', 'up', 'want', 'what', 'which', 'with', 'you']\n"
     ]
    }
   ],
   "source": [
    "print(len(words), \"unique lemmatized words\", words)"
   ]
  },
  {
   "cell_type": "code",
   "execution_count": 5,
   "metadata": {},
   "outputs": [],
   "source": [
    "pickle.dump(words, open('words.pkl', 'wb'))\n",
    "pickle.dump(tags, open('tags.pkl', 'wb'))"
   ]
  },
  {
   "cell_type": "code",
   "execution_count": 31,
   "metadata": {},
   "outputs": [
    {
     "name": "stdout",
     "output_type": "stream",
     "text": [
      "(['Hi', 'there'], 'greeting')\n",
      "(['How', 'are', 'you'], 'greeting')\n",
      "(['Is', 'anyone', 'there', '?'], 'greeting')\n",
      "(['Hello'], 'greeting')\n",
      "(['Good', 'day'], 'greeting')\n",
      "(['Bye'], 'goodbye')\n",
      "(['See', 'you', 'later'], 'goodbye')\n",
      "(['Goodbye'], 'goodbye')\n",
      "(['Nice', 'chatting', 'to', 'you', ',', 'bye'], 'goodbye')\n",
      "(['Till', 'next', 'time'], 'goodbye')\n",
      "(['Thanks'], 'thanks')\n",
      "(['Thank', 'you'], 'thanks')\n",
      "(['That', \"'s\", 'helpful'], 'thanks')\n",
      "(['Awesome', ',', 'thanks'], 'thanks')\n",
      "(['Thanks', 'for', 'helping', 'me'], 'thanks')\n",
      "(['How', 'you', 'could', 'help', 'me', '?'], 'options')\n",
      "(['What', 'you', 'can', 'do', '?'], 'options')\n",
      "(['What', 'help', 'you', 'provide', '?'], 'options')\n",
      "(['How', 'you', 'can', 'be', 'helpful', '?'], 'options')\n",
      "(['What', 'support', 'is', 'offered'], 'options')\n",
      "(['How', 'to', 'check', 'Adverse', 'drug', 'reaction', '?'], 'adverse_drug')\n",
      "(['Open', 'adverse', 'drugs', 'module'], 'adverse_drug')\n",
      "(['Give', 'me', 'a', 'list', 'of', 'drugs', 'causing', 'adverse', 'behavior'], 'adverse_drug')\n",
      "(['List', 'all', 'drugs', 'suitable', 'for', 'patient', 'with', 'adverse', 'reaction'], 'adverse_drug')\n",
      "(['Which', 'drugs', 'dont', 'have', 'adverse', 'reaction', '?'], 'adverse_drug')\n",
      "(['Open', 'blood', 'pressure', 'module'], 'blood_pressure')\n",
      "(['Task', 'related', 'to', 'blood', 'pressure'], 'blood_pressure')\n",
      "(['Blood', 'pressure', 'data', 'entry'], 'blood_pressure')\n",
      "(['I', 'want', 'to', 'log', 'blood', 'pressure', 'results'], 'blood_pressure')\n",
      "(['Blood', 'pressure', 'data', 'management'], 'blood_pressure')\n",
      "(['I', 'want', 'to', 'search', 'for', 'blood', 'pressure', 'result', 'history'], 'blood_pressure_search')\n",
      "(['Blood', 'pressure', 'for', 'patient'], 'blood_pressure_search')\n",
      "(['Load', 'patient', 'blood', 'pressure', 'result'], 'blood_pressure_search')\n",
      "(['Show', 'blood', 'pressure', 'results', 'for', 'patient'], 'blood_pressure_search')\n",
      "(['Find', 'blood', 'pressure', 'results', 'by', 'ID'], 'blood_pressure_search')\n",
      "(['Find', 'me', 'a', 'pharmacy'], 'pharmacy_search')\n",
      "(['Find', 'pharmacy'], 'pharmacy_search')\n",
      "(['List', 'of', 'pharmacies', 'nearby'], 'pharmacy_search')\n",
      "(['Locate', 'pharmacy'], 'pharmacy_search')\n",
      "(['Search', 'pharmacy'], 'pharmacy_search')\n",
      "(['Lookup', 'for', 'hospital'], 'hospital_search')\n",
      "(['Searching', 'for', 'hospital', 'to', 'transfer', 'patient'], 'hospital_search')\n",
      "(['I', 'want', 'to', 'search', 'hospital', 'data'], 'hospital_search')\n",
      "(['Hospital', 'lookup', 'for', 'patient'], 'hospital_search')\n",
      "(['Looking', 'up', 'hospital', 'details'], 'hospital_search')\n"
     ]
    }
   ],
   "source": [
    "for pair in word_tag_pairs:\n",
    "    print(pair)"
   ]
  },
  {
   "cell_type": "code",
   "execution_count": 4,
   "metadata": {},
   "outputs": [],
   "source": [
    "train_x = []\n",
    "train_y = []\n",
    "\n",
    "for pair in word_tag_pairs:\n",
    "    words_encoded = []\n",
    "    pattern_words = pair[0] # list of words\n",
    "    pattern_words = [lemmatizer.lemmatize(word.lower()) for word in pattern_words]\n",
    "    for w in words:\n",
    "        words_encoded.append(1 if w in pattern_words else 0)\n",
    "\n",
    "    tags_encoded = [0] * len(tags)\n",
    "    tags_encoded[tags.index(pair[1])] = 1 # pair[1] is the tag\n",
    "\n",
    "    train_x.append(words_encoded)\n",
    "    train_y.append(tags_encoded)\n",
    "\n",
    "train_x = np.array(train_x)\n",
    "train_y = np.array(train_y)"
   ]
  },
  {
   "cell_type": "code",
   "execution_count": 18,
   "metadata": {},
   "outputs": [
    {
     "name": "stdout",
     "output_type": "stream",
     "text": [
      "(45,)\n",
      "(45,)\n"
     ]
    }
   ],
   "source": [
    "print(np.array(train_x).shape)\n",
    "print(np.array(train_y).shape)"
   ]
  },
  {
   "cell_type": "code",
   "execution_count": 6,
   "metadata": {},
   "outputs": [
    {
     "name": "stderr",
     "output_type": "stream",
     "text": [
      "c:\\Python\\Lib\\site-packages\\keras\\src\\layers\\core\\dense.py:85: UserWarning: Do not pass an `input_shape`/`input_dim` argument to a layer. When using Sequential models, prefer using an `Input(shape)` object as the first layer in the model instead.\n",
      "  super().__init__(activity_regularizer=activity_regularizer, **kwargs)\n"
     ]
    }
   ],
   "source": [
    "import tensorflow as tf\n",
    "\n",
    "model = tf.keras.Sequential()\n",
    "model.add(tf.keras.layers.Dense(128, input_shape=(len(train_x[0]),), activation='relu'))\n",
    "model.add(tf.keras.layers.Dropout(0.5))\n",
    "model.add(tf.keras.layers.Dense(64, activation='relu'))\n",
    "model.add(tf.keras.layers.Dropout(0.5))\n",
    "model.add(tf.keras.layers.Dense(len(train_y[0]), activation='softmax'))\n",
    "\n",
    "sgd = tf.keras.optimizers.SGD(learning_rate=0.01, momentum=0.9, nesterov=True)\n",
    "model.compile(loss='categorical_crossentropy', optimizer=sgd, metrics=['accuracy'])"
   ]
  },
  {
   "cell_type": "code",
   "execution_count": 12,
   "metadata": {},
   "outputs": [
    {
     "name": "stdout",
     "output_type": "stream",
     "text": [
      "Epoch 1/200\n",
      "9/9 [==============================] - 1s 3ms/step - loss: 2.2746 - accuracy: 0.0667\n",
      "Epoch 2/200\n",
      "9/9 [==============================] - 0s 4ms/step - loss: 2.1615 - accuracy: 0.1556\n",
      "Epoch 3/200\n",
      "9/9 [==============================] - 0s 4ms/step - loss: 2.0816 - accuracy: 0.1778\n",
      "Epoch 4/200\n",
      "9/9 [==============================] - 0s 4ms/step - loss: 1.9232 - accuracy: 0.2889\n",
      "Epoch 5/200\n",
      "9/9 [==============================] - 0s 3ms/step - loss: 1.9679 - accuracy: 0.3111\n",
      "Epoch 6/200\n",
      "9/9 [==============================] - 0s 4ms/step - loss: 1.7427 - accuracy: 0.4889\n",
      "Epoch 7/200\n",
      "9/9 [==============================] - 0s 3ms/step - loss: 1.6282 - accuracy: 0.6222\n",
      "Epoch 8/200\n",
      "9/9 [==============================] - 0s 3ms/step - loss: 1.5473 - accuracy: 0.4889\n",
      "Epoch 9/200\n",
      "9/9 [==============================] - 0s 3ms/step - loss: 1.3840 - accuracy: 0.6222\n",
      "Epoch 10/200\n",
      "9/9 [==============================] - 0s 3ms/step - loss: 1.1390 - accuracy: 0.7111\n",
      "Epoch 11/200\n",
      "9/9 [==============================] - 0s 4ms/step - loss: 1.2298 - accuracy: 0.6222\n",
      "Epoch 12/200\n",
      "9/9 [==============================] - 0s 4ms/step - loss: 1.1110 - accuracy: 0.6667\n",
      "Epoch 13/200\n",
      "9/9 [==============================] - 0s 5ms/step - loss: 0.8515 - accuracy: 0.8667\n",
      "Epoch 14/200\n",
      "9/9 [==============================] - 0s 4ms/step - loss: 0.8076 - accuracy: 0.8000\n",
      "Epoch 15/200\n",
      "9/9 [==============================] - 0s 5ms/step - loss: 1.0099 - accuracy: 0.6444\n",
      "Epoch 16/200\n",
      "9/9 [==============================] - 0s 5ms/step - loss: 0.5886 - accuracy: 0.9111\n",
      "Epoch 17/200\n",
      "9/9 [==============================] - 0s 6ms/step - loss: 0.7552 - accuracy: 0.7333\n",
      "Epoch 18/200\n",
      "9/9 [==============================] - 0s 5ms/step - loss: 0.6117 - accuracy: 0.9111\n",
      "Epoch 19/200\n",
      "9/9 [==============================] - 0s 5ms/step - loss: 0.4508 - accuracy: 0.8444\n",
      "Epoch 20/200\n",
      "9/9 [==============================] - 0s 5ms/step - loss: 0.4072 - accuracy: 0.9111\n",
      "Epoch 21/200\n",
      "9/9 [==============================] - 0s 4ms/step - loss: 0.5321 - accuracy: 0.8444\n",
      "Epoch 22/200\n",
      "9/9 [==============================] - 0s 5ms/step - loss: 0.4312 - accuracy: 0.8889\n",
      "Epoch 23/200\n",
      "9/9 [==============================] - 0s 4ms/step - loss: 0.3082 - accuracy: 0.9333\n",
      "Epoch 24/200\n",
      "9/9 [==============================] - 0s 4ms/step - loss: 0.6201 - accuracy: 0.7778\n",
      "Epoch 25/200\n",
      "9/9 [==============================] - 0s 4ms/step - loss: 0.2686 - accuracy: 0.9556\n",
      "Epoch 26/200\n",
      "9/9 [==============================] - 0s 5ms/step - loss: 0.3319 - accuracy: 0.9111\n",
      "Epoch 27/200\n",
      "9/9 [==============================] - 0s 5ms/step - loss: 0.3519 - accuracy: 0.9111\n",
      "Epoch 28/200\n",
      "9/9 [==============================] - 0s 5ms/step - loss: 0.2565 - accuracy: 0.9333\n",
      "Epoch 29/200\n",
      "9/9 [==============================] - 0s 4ms/step - loss: 0.3032 - accuracy: 0.9111\n",
      "Epoch 30/200\n",
      "9/9 [==============================] - 0s 4ms/step - loss: 0.3492 - accuracy: 0.8889\n",
      "Epoch 31/200\n",
      "9/9 [==============================] - 0s 4ms/step - loss: 0.3803 - accuracy: 0.9111\n",
      "Epoch 32/200\n",
      "9/9 [==============================] - 0s 5ms/step - loss: 0.2467 - accuracy: 0.9556\n",
      "Epoch 33/200\n",
      "9/9 [==============================] - 0s 5ms/step - loss: 0.1564 - accuracy: 1.0000\n",
      "Epoch 34/200\n",
      "9/9 [==============================] - 0s 5ms/step - loss: 0.2141 - accuracy: 0.9778\n",
      "Epoch 35/200\n",
      "9/9 [==============================] - 0s 4ms/step - loss: 0.1918 - accuracy: 0.9556\n",
      "Epoch 36/200\n",
      "9/9 [==============================] - 0s 6ms/step - loss: 0.1576 - accuracy: 0.9778\n",
      "Epoch 37/200\n",
      "9/9 [==============================] - 0s 10ms/step - loss: 0.2403 - accuracy: 0.9556\n",
      "Epoch 38/200\n",
      "9/9 [==============================] - 0s 5ms/step - loss: 0.2656 - accuracy: 0.8889\n",
      "Epoch 39/200\n",
      "9/9 [==============================] - 0s 5ms/step - loss: 0.2101 - accuracy: 0.9333\n",
      "Epoch 40/200\n",
      "9/9 [==============================] - 0s 4ms/step - loss: 0.2416 - accuracy: 0.9111\n",
      "Epoch 41/200\n",
      "9/9 [==============================] - 0s 3ms/step - loss: 0.2106 - accuracy: 0.9111\n",
      "Epoch 42/200\n",
      "9/9 [==============================] - 0s 3ms/step - loss: 0.1100 - accuracy: 0.9556\n",
      "Epoch 43/200\n",
      "9/9 [==============================] - 0s 3ms/step - loss: 0.1303 - accuracy: 0.9778\n",
      "Epoch 44/200\n",
      "9/9 [==============================] - 0s 3ms/step - loss: 0.0928 - accuracy: 1.0000\n",
      "Epoch 45/200\n",
      "9/9 [==============================] - 0s 3ms/step - loss: 0.1833 - accuracy: 0.9333\n",
      "Epoch 46/200\n",
      "9/9 [==============================] - 0s 3ms/step - loss: 0.1716 - accuracy: 0.9778\n",
      "Epoch 47/200\n",
      "9/9 [==============================] - 0s 3ms/step - loss: 0.1412 - accuracy: 0.9556\n",
      "Epoch 48/200\n",
      "9/9 [==============================] - 0s 3ms/step - loss: 0.1999 - accuracy: 0.9333\n",
      "Epoch 49/200\n",
      "9/9 [==============================] - 0s 3ms/step - loss: 0.1232 - accuracy: 1.0000\n",
      "Epoch 50/200\n",
      "9/9 [==============================] - 0s 3ms/step - loss: 0.1782 - accuracy: 0.9556\n",
      "Epoch 51/200\n",
      "9/9 [==============================] - 0s 3ms/step - loss: 0.2432 - accuracy: 0.9333\n",
      "Epoch 52/200\n",
      "9/9 [==============================] - 0s 3ms/step - loss: 0.2071 - accuracy: 0.9333\n",
      "Epoch 53/200\n",
      "9/9 [==============================] - 0s 3ms/step - loss: 0.0968 - accuracy: 0.9778\n",
      "Epoch 54/200\n",
      "9/9 [==============================] - 0s 3ms/step - loss: 0.0503 - accuracy: 1.0000\n",
      "Epoch 55/200\n",
      "9/9 [==============================] - 0s 3ms/step - loss: 0.1125 - accuracy: 0.9778\n",
      "Epoch 56/200\n",
      "9/9 [==============================] - 0s 3ms/step - loss: 0.0805 - accuracy: 1.0000\n",
      "Epoch 57/200\n",
      "9/9 [==============================] - 0s 3ms/step - loss: 0.1674 - accuracy: 0.9556\n",
      "Epoch 58/200\n",
      "9/9 [==============================] - 0s 3ms/step - loss: 0.1084 - accuracy: 0.9778\n",
      "Epoch 59/200\n",
      "9/9 [==============================] - 0s 3ms/step - loss: 0.1471 - accuracy: 0.9333\n",
      "Epoch 60/200\n",
      "9/9 [==============================] - 0s 3ms/step - loss: 0.1020 - accuracy: 0.9778\n",
      "Epoch 61/200\n",
      "9/9 [==============================] - 0s 3ms/step - loss: 0.0722 - accuracy: 1.0000\n",
      "Epoch 62/200\n",
      "9/9 [==============================] - 0s 3ms/step - loss: 0.0512 - accuracy: 1.0000\n",
      "Epoch 63/200\n",
      "9/9 [==============================] - 0s 3ms/step - loss: 0.1084 - accuracy: 0.9778\n",
      "Epoch 64/200\n",
      "9/9 [==============================] - 0s 3ms/step - loss: 0.0440 - accuracy: 1.0000\n",
      "Epoch 65/200\n",
      "9/9 [==============================] - 0s 3ms/step - loss: 0.0373 - accuracy: 1.0000\n",
      "Epoch 66/200\n",
      "9/9 [==============================] - 0s 3ms/step - loss: 0.0996 - accuracy: 0.9778\n",
      "Epoch 67/200\n",
      "9/9 [==============================] - 0s 3ms/step - loss: 0.0431 - accuracy: 1.0000\n",
      "Epoch 68/200\n",
      "9/9 [==============================] - 0s 3ms/step - loss: 0.0538 - accuracy: 1.0000\n",
      "Epoch 69/200\n",
      "9/9 [==============================] - 0s 3ms/step - loss: 0.0953 - accuracy: 0.9778\n",
      "Epoch 70/200\n",
      "9/9 [==============================] - 0s 3ms/step - loss: 0.1070 - accuracy: 0.9778\n",
      "Epoch 71/200\n",
      "9/9 [==============================] - 0s 3ms/step - loss: 0.0756 - accuracy: 0.9778\n",
      "Epoch 72/200\n",
      "9/9 [==============================] - 0s 3ms/step - loss: 0.0757 - accuracy: 1.0000\n",
      "Epoch 73/200\n",
      "9/9 [==============================] - 0s 3ms/step - loss: 0.0474 - accuracy: 1.0000\n",
      "Epoch 74/200\n",
      "9/9 [==============================] - 0s 3ms/step - loss: 0.0987 - accuracy: 0.9778\n",
      "Epoch 75/200\n",
      "9/9 [==============================] - 0s 3ms/step - loss: 0.0676 - accuracy: 1.0000\n",
      "Epoch 76/200\n",
      "9/9 [==============================] - 0s 3ms/step - loss: 0.0460 - accuracy: 0.9778\n",
      "Epoch 77/200\n",
      "9/9 [==============================] - 0s 3ms/step - loss: 0.0671 - accuracy: 0.9778\n",
      "Epoch 78/200\n",
      "9/9 [==============================] - 0s 3ms/step - loss: 0.0860 - accuracy: 1.0000\n",
      "Epoch 79/200\n",
      "9/9 [==============================] - 0s 3ms/step - loss: 0.0891 - accuracy: 0.9556\n",
      "Epoch 80/200\n",
      "9/9 [==============================] - 0s 3ms/step - loss: 0.0293 - accuracy: 1.0000\n",
      "Epoch 81/200\n",
      "9/9 [==============================] - 0s 3ms/step - loss: 0.0363 - accuracy: 1.0000\n",
      "Epoch 82/200\n",
      "9/9 [==============================] - 0s 4ms/step - loss: 0.0548 - accuracy: 0.9556\n",
      "Epoch 83/200\n",
      "9/9 [==============================] - 0s 3ms/step - loss: 0.0995 - accuracy: 0.9778\n",
      "Epoch 84/200\n",
      "9/9 [==============================] - 0s 3ms/step - loss: 0.0708 - accuracy: 1.0000\n",
      "Epoch 85/200\n",
      "9/9 [==============================] - 0s 3ms/step - loss: 0.0335 - accuracy: 1.0000\n",
      "Epoch 86/200\n",
      "9/9 [==============================] - 0s 3ms/step - loss: 0.0823 - accuracy: 0.9778\n",
      "Epoch 87/200\n",
      "9/9 [==============================] - 0s 3ms/step - loss: 0.0875 - accuracy: 0.9778\n",
      "Epoch 88/200\n",
      "9/9 [==============================] - 0s 4ms/step - loss: 0.0741 - accuracy: 1.0000\n",
      "Epoch 89/200\n",
      "9/9 [==============================] - 0s 3ms/step - loss: 0.0316 - accuracy: 1.0000\n",
      "Epoch 90/200\n",
      "9/9 [==============================] - 0s 3ms/step - loss: 0.0203 - accuracy: 1.0000\n",
      "Epoch 91/200\n",
      "9/9 [==============================] - 0s 3ms/step - loss: 0.0609 - accuracy: 0.9778\n",
      "Epoch 92/200\n",
      "9/9 [==============================] - 0s 3ms/step - loss: 0.0429 - accuracy: 1.0000\n",
      "Epoch 93/200\n",
      "9/9 [==============================] - 0s 3ms/step - loss: 0.1252 - accuracy: 0.9778\n",
      "Epoch 94/200\n",
      "9/9 [==============================] - 0s 3ms/step - loss: 0.0646 - accuracy: 1.0000\n",
      "Epoch 95/200\n",
      "9/9 [==============================] - 0s 3ms/step - loss: 0.0930 - accuracy: 0.9778\n",
      "Epoch 96/200\n",
      "9/9 [==============================] - 0s 3ms/step - loss: 0.0448 - accuracy: 1.0000\n",
      "Epoch 97/200\n",
      "9/9 [==============================] - 0s 3ms/step - loss: 0.0454 - accuracy: 0.9778\n",
      "Epoch 98/200\n",
      "9/9 [==============================] - 0s 4ms/step - loss: 0.0532 - accuracy: 1.0000\n",
      "Epoch 99/200\n",
      "9/9 [==============================] - 0s 3ms/step - loss: 0.0137 - accuracy: 1.0000\n",
      "Epoch 100/200\n",
      "9/9 [==============================] - 0s 3ms/step - loss: 0.0549 - accuracy: 1.0000\n",
      "Epoch 101/200\n",
      "9/9 [==============================] - 0s 3ms/step - loss: 0.0226 - accuracy: 1.0000\n",
      "Epoch 102/200\n",
      "9/9 [==============================] - 0s 3ms/step - loss: 0.0257 - accuracy: 1.0000\n",
      "Epoch 103/200\n",
      "9/9 [==============================] - 0s 3ms/step - loss: 0.0628 - accuracy: 0.9778\n",
      "Epoch 104/200\n",
      "9/9 [==============================] - 0s 3ms/step - loss: 0.0377 - accuracy: 1.0000\n",
      "Epoch 105/200\n",
      "9/9 [==============================] - 0s 3ms/step - loss: 0.0279 - accuracy: 1.0000\n",
      "Epoch 106/200\n",
      "9/9 [==============================] - 0s 3ms/step - loss: 0.0113 - accuracy: 1.0000\n",
      "Epoch 107/200\n",
      "9/9 [==============================] - 0s 3ms/step - loss: 0.0539 - accuracy: 0.9778\n",
      "Epoch 108/200\n",
      "9/9 [==============================] - 0s 4ms/step - loss: 0.1382 - accuracy: 0.9333\n",
      "Epoch 109/200\n",
      "9/9 [==============================] - 0s 4ms/step - loss: 0.0251 - accuracy: 1.0000\n",
      "Epoch 110/200\n",
      "9/9 [==============================] - 0s 5ms/step - loss: 0.0573 - accuracy: 1.0000\n",
      "Epoch 111/200\n",
      "9/9 [==============================] - 0s 5ms/step - loss: 0.0396 - accuracy: 1.0000\n",
      "Epoch 112/200\n",
      "9/9 [==============================] - 0s 4ms/step - loss: 0.0316 - accuracy: 1.0000\n",
      "Epoch 113/200\n",
      "9/9 [==============================] - 0s 3ms/step - loss: 0.0243 - accuracy: 1.0000\n",
      "Epoch 114/200\n",
      "9/9 [==============================] - 0s 6ms/step - loss: 0.0558 - accuracy: 0.9556\n",
      "Epoch 115/200\n",
      "9/9 [==============================] - 0s 5ms/step - loss: 0.0610 - accuracy: 0.9778\n",
      "Epoch 116/200\n",
      "9/9 [==============================] - 0s 6ms/step - loss: 0.0300 - accuracy: 1.0000\n",
      "Epoch 117/200\n",
      "9/9 [==============================] - 0s 5ms/step - loss: 0.0184 - accuracy: 1.0000\n",
      "Epoch 118/200\n",
      "9/9 [==============================] - 0s 4ms/step - loss: 0.0163 - accuracy: 1.0000\n",
      "Epoch 119/200\n",
      "9/9 [==============================] - 0s 4ms/step - loss: 0.0356 - accuracy: 1.0000\n",
      "Epoch 120/200\n",
      "9/9 [==============================] - 0s 3ms/step - loss: 0.0326 - accuracy: 1.0000\n",
      "Epoch 121/200\n",
      "9/9 [==============================] - 0s 3ms/step - loss: 0.0234 - accuracy: 1.0000\n",
      "Epoch 122/200\n",
      "9/9 [==============================] - 0s 4ms/step - loss: 0.0376 - accuracy: 1.0000\n",
      "Epoch 123/200\n",
      "9/9 [==============================] - 0s 3ms/step - loss: 0.0466 - accuracy: 0.9778\n",
      "Epoch 124/200\n",
      "9/9 [==============================] - 0s 4ms/step - loss: 0.0181 - accuracy: 1.0000\n",
      "Epoch 125/200\n",
      "9/9 [==============================] - 0s 3ms/step - loss: 0.0255 - accuracy: 1.0000\n",
      "Epoch 126/200\n",
      "9/9 [==============================] - 0s 3ms/step - loss: 0.0535 - accuracy: 0.9778\n",
      "Epoch 127/200\n",
      "9/9 [==============================] - 0s 3ms/step - loss: 0.0137 - accuracy: 1.0000\n",
      "Epoch 128/200\n",
      "9/9 [==============================] - 0s 3ms/step - loss: 0.0850 - accuracy: 0.9778\n",
      "Epoch 129/200\n",
      "9/9 [==============================] - 0s 3ms/step - loss: 0.0249 - accuracy: 1.0000\n",
      "Epoch 130/200\n",
      "9/9 [==============================] - 0s 4ms/step - loss: 0.0541 - accuracy: 1.0000\n",
      "Epoch 131/200\n",
      "9/9 [==============================] - 0s 3ms/step - loss: 0.0078 - accuracy: 1.0000\n",
      "Epoch 132/200\n",
      "9/9 [==============================] - 0s 3ms/step - loss: 0.0182 - accuracy: 1.0000\n",
      "Epoch 133/200\n",
      "9/9 [==============================] - 0s 3ms/step - loss: 0.0304 - accuracy: 1.0000\n",
      "Epoch 134/200\n",
      "9/9 [==============================] - 0s 3ms/step - loss: 0.0829 - accuracy: 0.9778\n",
      "Epoch 135/200\n",
      "9/9 [==============================] - 0s 3ms/step - loss: 0.0117 - accuracy: 1.0000\n",
      "Epoch 136/200\n",
      "9/9 [==============================] - 0s 3ms/step - loss: 0.0205 - accuracy: 1.0000\n",
      "Epoch 137/200\n",
      "9/9 [==============================] - 0s 3ms/step - loss: 0.0508 - accuracy: 0.9778\n",
      "Epoch 138/200\n",
      "9/9 [==============================] - 0s 3ms/step - loss: 0.0231 - accuracy: 1.0000\n",
      "Epoch 139/200\n",
      "9/9 [==============================] - 0s 3ms/step - loss: 0.0272 - accuracy: 1.0000\n",
      "Epoch 140/200\n",
      "9/9 [==============================] - 0s 3ms/step - loss: 0.0323 - accuracy: 0.9778\n",
      "Epoch 141/200\n",
      "9/9 [==============================] - 0s 3ms/step - loss: 0.0583 - accuracy: 0.9778\n",
      "Epoch 142/200\n",
      "9/9 [==============================] - 0s 3ms/step - loss: 0.0226 - accuracy: 1.0000\n",
      "Epoch 143/200\n",
      "9/9 [==============================] - 0s 3ms/step - loss: 0.0338 - accuracy: 1.0000\n",
      "Epoch 144/200\n",
      "9/9 [==============================] - 0s 3ms/step - loss: 0.0362 - accuracy: 1.0000\n",
      "Epoch 145/200\n",
      "9/9 [==============================] - 0s 3ms/step - loss: 0.0083 - accuracy: 1.0000\n",
      "Epoch 146/200\n",
      "9/9 [==============================] - 0s 3ms/step - loss: 0.0407 - accuracy: 0.9778\n",
      "Epoch 147/200\n",
      "9/9 [==============================] - 0s 3ms/step - loss: 0.0258 - accuracy: 1.0000\n",
      "Epoch 148/200\n",
      "9/9 [==============================] - 0s 3ms/step - loss: 0.0297 - accuracy: 1.0000\n",
      "Epoch 149/200\n",
      "9/9 [==============================] - 0s 3ms/step - loss: 0.0137 - accuracy: 1.0000\n",
      "Epoch 150/200\n",
      "9/9 [==============================] - 0s 3ms/step - loss: 0.0212 - accuracy: 0.9778\n",
      "Epoch 151/200\n",
      "9/9 [==============================] - 0s 3ms/step - loss: 0.0599 - accuracy: 0.9778\n",
      "Epoch 152/200\n",
      "9/9 [==============================] - 0s 4ms/step - loss: 0.0116 - accuracy: 1.0000\n",
      "Epoch 153/200\n",
      "9/9 [==============================] - 0s 3ms/step - loss: 0.0206 - accuracy: 1.0000\n",
      "Epoch 154/200\n",
      "9/9 [==============================] - 0s 3ms/step - loss: 0.0145 - accuracy: 1.0000\n",
      "Epoch 155/200\n",
      "9/9 [==============================] - 0s 3ms/step - loss: 0.0339 - accuracy: 0.9778\n",
      "Epoch 156/200\n",
      "9/9 [==============================] - 0s 3ms/step - loss: 0.0230 - accuracy: 1.0000\n",
      "Epoch 157/200\n",
      "9/9 [==============================] - 0s 3ms/step - loss: 0.0370 - accuracy: 1.0000\n",
      "Epoch 158/200\n",
      "9/9 [==============================] - 0s 3ms/step - loss: 0.0178 - accuracy: 1.0000\n",
      "Epoch 159/200\n",
      "9/9 [==============================] - 0s 3ms/step - loss: 0.0095 - accuracy: 1.0000\n",
      "Epoch 160/200\n",
      "9/9 [==============================] - 0s 3ms/step - loss: 0.0150 - accuracy: 1.0000\n",
      "Epoch 161/200\n",
      "9/9 [==============================] - 0s 3ms/step - loss: 0.0094 - accuracy: 1.0000\n",
      "Epoch 162/200\n",
      "9/9 [==============================] - 0s 3ms/step - loss: 0.0187 - accuracy: 1.0000\n",
      "Epoch 163/200\n",
      "9/9 [==============================] - 0s 3ms/step - loss: 0.0282 - accuracy: 1.0000\n",
      "Epoch 164/200\n",
      "9/9 [==============================] - 0s 3ms/step - loss: 0.0915 - accuracy: 0.9778\n",
      "Epoch 165/200\n",
      "9/9 [==============================] - 0s 3ms/step - loss: 0.0553 - accuracy: 0.9778\n",
      "Epoch 166/200\n",
      "9/9 [==============================] - 0s 3ms/step - loss: 0.0474 - accuracy: 0.9778\n",
      "Epoch 167/200\n",
      "9/9 [==============================] - 0s 3ms/step - loss: 0.0284 - accuracy: 0.9778\n",
      "Epoch 168/200\n",
      "9/9 [==============================] - 0s 3ms/step - loss: 0.0165 - accuracy: 1.0000\n",
      "Epoch 169/200\n",
      "9/9 [==============================] - 0s 3ms/step - loss: 0.0888 - accuracy: 0.9778\n",
      "Epoch 170/200\n",
      "9/9 [==============================] - 0s 3ms/step - loss: 0.0099 - accuracy: 1.0000\n",
      "Epoch 171/200\n",
      "9/9 [==============================] - 0s 5ms/step - loss: 0.0206 - accuracy: 1.0000\n",
      "Epoch 172/200\n",
      "9/9 [==============================] - 0s 6ms/step - loss: 0.0156 - accuracy: 1.0000\n",
      "Epoch 173/200\n",
      "9/9 [==============================] - 0s 6ms/step - loss: 0.0185 - accuracy: 1.0000\n",
      "Epoch 174/200\n",
      "9/9 [==============================] - 0s 7ms/step - loss: 0.0464 - accuracy: 0.9778\n",
      "Epoch 175/200\n",
      "9/9 [==============================] - 0s 4ms/step - loss: 0.0083 - accuracy: 1.0000\n",
      "Epoch 176/200\n",
      "9/9 [==============================] - 0s 4ms/step - loss: 0.0227 - accuracy: 1.0000\n",
      "Epoch 177/200\n",
      "9/9 [==============================] - 0s 3ms/step - loss: 0.0188 - accuracy: 1.0000\n",
      "Epoch 178/200\n",
      "9/9 [==============================] - 0s 3ms/step - loss: 0.0057 - accuracy: 1.0000\n",
      "Epoch 179/200\n",
      "9/9 [==============================] - 0s 4ms/step - loss: 0.0027 - accuracy: 1.0000\n",
      "Epoch 180/200\n",
      "9/9 [==============================] - 0s 4ms/step - loss: 0.0070 - accuracy: 1.0000\n",
      "Epoch 181/200\n",
      "9/9 [==============================] - 0s 3ms/step - loss: 0.0175 - accuracy: 1.0000\n",
      "Epoch 182/200\n",
      "9/9 [==============================] - 0s 3ms/step - loss: 0.0241 - accuracy: 0.9778\n",
      "Epoch 183/200\n",
      "9/9 [==============================] - 0s 3ms/step - loss: 0.0180 - accuracy: 1.0000\n",
      "Epoch 184/200\n",
      "9/9 [==============================] - 0s 3ms/step - loss: 0.0466 - accuracy: 0.9778\n",
      "Epoch 185/200\n",
      "9/9 [==============================] - 0s 3ms/step - loss: 0.0135 - accuracy: 1.0000\n",
      "Epoch 186/200\n",
      "9/9 [==============================] - 0s 4ms/step - loss: 0.0268 - accuracy: 0.9778\n",
      "Epoch 187/200\n",
      "9/9 [==============================] - 0s 4ms/step - loss: 0.0687 - accuracy: 0.9556\n",
      "Epoch 188/200\n",
      "9/9 [==============================] - 0s 4ms/step - loss: 0.0174 - accuracy: 1.0000\n",
      "Epoch 189/200\n",
      "9/9 [==============================] - 0s 3ms/step - loss: 0.0249 - accuracy: 1.0000\n",
      "Epoch 190/200\n",
      "9/9 [==============================] - 0s 3ms/step - loss: 0.0085 - accuracy: 1.0000\n",
      "Epoch 191/200\n",
      "9/9 [==============================] - 0s 5ms/step - loss: 0.0255 - accuracy: 1.0000\n",
      "Epoch 192/200\n",
      "9/9 [==============================] - 0s 3ms/step - loss: 0.0078 - accuracy: 1.0000\n",
      "Epoch 193/200\n",
      "9/9 [==============================] - 0s 3ms/step - loss: 0.0082 - accuracy: 1.0000\n",
      "Epoch 194/200\n",
      "9/9 [==============================] - 0s 3ms/step - loss: 0.0075 - accuracy: 1.0000\n",
      "Epoch 195/200\n",
      "9/9 [==============================] - 0s 3ms/step - loss: 0.0404 - accuracy: 0.9778\n",
      "Epoch 196/200\n",
      "9/9 [==============================] - 0s 3ms/step - loss: 0.0040 - accuracy: 1.0000\n",
      "Epoch 197/200\n",
      "9/9 [==============================] - 0s 3ms/step - loss: 0.0156 - accuracy: 1.0000\n",
      "Epoch 198/200\n",
      "9/9 [==============================] - 0s 3ms/step - loss: 0.0029 - accuracy: 1.0000\n",
      "Epoch 199/200\n",
      "9/9 [==============================] - 0s 3ms/step - loss: 0.0317 - accuracy: 0.9778\n",
      "Epoch 200/200\n",
      "9/9 [==============================] - 0s 3ms/step - loss: 0.0042 - accuracy: 1.0000\n"
     ]
    },
    {
     "data": {
      "text/plain": [
       "<keras.src.callbacks.History at 0x7f7f5465a7a0>"
      ]
     },
     "execution_count": 12,
     "metadata": {},
     "output_type": "execute_result"
    }
   ],
   "source": [
    "model.fit(train_x, train_y, epochs=200, batch_size=5, verbose=1)"
   ]
  },
  {
   "cell_type": "code",
   "execution_count": 7,
   "metadata": {},
   "outputs": [],
   "source": [
    "def clean_up_sentence(sentence):\n",
    "    # tokenize the pattern - split words into array\n",
    "    sentence_words = nltk.word_tokenize(sentence)\n",
    "    # stem each word - create short form for word\n",
    "    sentence_words = [lemmatizer.lemmatize(word.lower()) for word in sentence_words]\n",
    "    return sentence_words\n",
    "\n",
    "# return bag of words array: 0 or 1 for each word in the bag that exists in the sentence\n",
    "def bow(sentence, words, show_details=True):\n",
    "    # tokenize the pattern\n",
    "    sentence_words = clean_up_sentence(sentence)\n",
    "    # bag of words - matrix of N words, vocabulary matrix\n",
    "    bag = [0]*len(words)  \n",
    "    for s in sentence_words:\n",
    "        for i,w in enumerate(words):\n",
    "            if w == s: \n",
    "                # assign 1 if current word is in the vocabulary position\n",
    "                bag[i] = 1\n",
    "                if show_details:\n",
    "                    print (\"found in bag: %s\" % w)\n",
    "\n",
    "    return(np.array(bag))"
   ]
  },
  {
   "cell_type": "code",
   "execution_count": 8,
   "metadata": {},
   "outputs": [
    {
     "name": "stdout",
     "output_type": "stream",
     "text": [
      "found in bag: load\n",
      "found in bag: blood\n",
      "found in bag: for\n",
      "found in bag: patient\n",
      "[0 0 0 0 0 0 0 0 1 0 0 0 0 0 0 0 0 0 0 0 0 0 0 0 1 0 0 0 0 0 0 0 0 0 0 0 0\n",
      " 0 0 0 0 0 1 0 0 0 0 0 0 0 0 0 0 0 0 0 1 0 0 0 0 0 0 0 0 0 0 0 0 0 0 0 0 0\n",
      " 0 0 0 0 0 0 0 0 0 0]\n",
      "['adverse_drug', 'blood_pressure', 'blood_pressure_search', 'goodbye', 'greeting', 'hospital_search', 'options', 'pharmacy_search', 'thanks']\n"
     ]
    }
   ],
   "source": [
    "p = bow(\"Load blood pessure for patient\", words)\n",
    "print (p)\n",
    "print (tags)"
   ]
  },
  {
   "cell_type": "code",
   "execution_count": 17,
   "metadata": {},
   "outputs": [],
   "source": [
    "clean_data_path = os.path.join(base_path, '../clean_data/')\n",
    "# save model and data\n",
    "model.save(f\"{clean_data_path}model.keras\")\n",
    "pickle.dump( {'words':words, 'tags':tags, 'train_x':train_x, 'train_y':train_y}, open( f\"{clean_data_path}data.pkl\", \"wb\"))"
   ]
  },
  {
   "cell_type": "code",
   "execution_count": 9,
   "metadata": {},
   "outputs": [],
   "source": [
    "data = pickle.load( open( f\"{clean_data_path}data.pkl\", \"rb\" ) )\n",
    "words = data['words']\n",
    "classes = data['tags']"
   ]
  },
  {
   "cell_type": "code",
   "execution_count": 11,
   "metadata": {},
   "outputs": [],
   "source": [
    "global graph\n",
    "graph = tf.compat.v1.get_default_graph()\n",
    "\n",
    "with open('../clean_data/model.pkl', 'rb') as f:\n",
    "    model = pickle.load(f)"
   ]
  },
  {
   "cell_type": "code",
   "execution_count": 16,
   "metadata": {},
   "outputs": [
    {
     "name": "stdout",
     "output_type": "stream",
     "text": [
      "None\n"
     ]
    }
   ],
   "source": [
    "print(model)"
   ]
  },
  {
   "cell_type": "code",
   "execution_count": 12,
   "metadata": {},
   "outputs": [],
   "source": [
    "def classify_local(sentence):\n",
    "    ERROR_THRESHOLD = 0.25\n",
    "    \n",
    "    # generate probabilities from the model\n",
    "    input_data = pd.DataFrame([bow(sentence, words)], dtype=float, index=['input'])\n",
    "    results = model.predict([input_data])[0]\n",
    "    # filter out predictions below a threshold, and provide intent index\n",
    "    results = [[i,r] for i,r in enumerate(results) if r>ERROR_THRESHOLD]\n",
    "    # sort by strength of probability\n",
    "    results.sort(key=lambda x: x[1], reverse=True)\n",
    "    return_list = []\n",
    "    for r in results:\n",
    "        return_list.append({'intent':classes[r[0]], 'probability':str(r[1])})\n",
    "    # return tuple of intent and probability\n",
    "    \n",
    "    return return_list"
   ]
  },
  {
   "cell_type": "code",
   "execution_count": 13,
   "metadata": {},
   "outputs": [
    {
     "name": "stdout",
     "output_type": "stream",
     "text": [
      "found in bag: hello\n",
      "found in bag: good\n",
      "found in bag: day\n"
     ]
    },
    {
     "ename": "AttributeError",
     "evalue": "'NoneType' object has no attribute 'predict'",
     "output_type": "error",
     "traceback": [
      "\u001b[1;31m---------------------------------------------------------------------------\u001b[0m",
      "\u001b[1;31mAttributeError\u001b[0m                            Traceback (most recent call last)",
      "Cell \u001b[1;32mIn[13], line 1\u001b[0m\n\u001b[1;32m----> 1\u001b[0m \u001b[43mclassify_local\u001b[49m\u001b[43m(\u001b[49m\u001b[38;5;124;43m'\u001b[39;49m\u001b[38;5;124;43mHello, good day!\u001b[39;49m\u001b[38;5;124;43m'\u001b[39;49m\u001b[43m)\u001b[49m\n",
      "Cell \u001b[1;32mIn[12], line 6\u001b[0m, in \u001b[0;36mclassify_local\u001b[1;34m(sentence)\u001b[0m\n\u001b[0;32m      4\u001b[0m \u001b[38;5;66;03m# generate probabilities from the model\u001b[39;00m\n\u001b[0;32m      5\u001b[0m input_data \u001b[38;5;241m=\u001b[39m pd\u001b[38;5;241m.\u001b[39mDataFrame([bow(sentence, words)], dtype\u001b[38;5;241m=\u001b[39m\u001b[38;5;28mfloat\u001b[39m, index\u001b[38;5;241m=\u001b[39m[\u001b[38;5;124m'\u001b[39m\u001b[38;5;124minput\u001b[39m\u001b[38;5;124m'\u001b[39m])\n\u001b[1;32m----> 6\u001b[0m results \u001b[38;5;241m=\u001b[39m \u001b[43mmodel\u001b[49m\u001b[38;5;241;43m.\u001b[39;49m\u001b[43mpredict\u001b[49m([input_data])[\u001b[38;5;241m0\u001b[39m]\n\u001b[0;32m      7\u001b[0m \u001b[38;5;66;03m# filter out predictions below a threshold, and provide intent index\u001b[39;00m\n\u001b[0;32m      8\u001b[0m results \u001b[38;5;241m=\u001b[39m [[i,r] \u001b[38;5;28;01mfor\u001b[39;00m i,r \u001b[38;5;129;01min\u001b[39;00m \u001b[38;5;28menumerate\u001b[39m(results) \u001b[38;5;28;01mif\u001b[39;00m r\u001b[38;5;241m>\u001b[39mERROR_THRESHOLD]\n",
      "\u001b[1;31mAttributeError\u001b[0m: 'NoneType' object has no attribute 'predict'"
     ]
    }
   ],
   "source": [
    "classify_local('Hello, good day!')"
   ]
  },
  {
   "cell_type": "code",
   "execution_count": 37,
   "metadata": {},
   "outputs": [
    {
     "data": {
      "text/plain": [
       "dict_keys(['words', 'tags', 'train_x', 'train_y'])"
      ]
     },
     "execution_count": 37,
     "metadata": {},
     "output_type": "execute_result"
    }
   ],
   "source": [
    "data.keys()"
   ]
  },
  {
   "cell_type": "code",
   "execution_count": 40,
   "metadata": {},
   "outputs": [],
   "source": [
    "import random\n",
    "def get_response(ints, intents_json):\n",
    "    tag = ints[0]['intent']\n",
    "    list_of_intents = intents_json['intents']\n",
    "    for i in list_of_intents:\n",
    "        if(i['tag'] == tag):\n",
    "            result = random.choice(i['responses'])\n",
    "            break\n",
    "    return result"
   ]
  },
  {
   "cell_type": "code",
   "execution_count": 41,
   "metadata": {},
   "outputs": [
    {
     "name": "stdout",
     "output_type": "stream",
     "text": [
      "found in bag: hello\n",
      "found in bag: there\n",
      "1/1 [==============================] - 0s 21ms/step\n",
      "Hello, thanks for asking\n",
      "found in bag: thanks\n",
      "1/1 [==============================] - 0s 24ms/step\n",
      "Happy to help!\n",
      "found in bag: find\n",
      "found in bag: me\n",
      "found in bag: patient\n",
      "1/1 [==============================] - 0s 23ms/step\n",
      "Please provide Patient ID\n",
      "1/1 [==============================] - 0s 22ms/step\n",
      "See you!\n"
     ]
    }
   ],
   "source": [
    "with open(raw_data_path, 'r') as f:\n",
    "    data = json.loads(open(raw_data_path).read())\n",
    "    \n",
    "while True:\n",
    "    message = input(\"\")\n",
    "    ints = classify_local(message)\n",
    "    res = get_response(ints, data)\n",
    "    print(res)\n",
    "    if message == 'exit':\n",
    "        break"
   ]
  },
  {
   "cell_type": "code",
   "execution_count": 49,
   "metadata": {},
   "outputs": [
    {
     "data": {
      "text/plain": [
       "(torch.Size([45]), torch.Size([45]))"
      ]
     },
     "execution_count": 49,
     "metadata": {},
     "output_type": "execute_result"
    }
   ],
   "source": [
    "tensor_x = FloatTensor(train_x)\n",
    "tensor_y = FloatTensor(train_y)\n",
    "tensor_x.shape, tensor_y.shape"
   ]
  },
  {
   "cell_type": "code",
   "execution_count": 58,
   "metadata": {},
   "outputs": [
    {
     "data": {
      "text/plain": [
       "2"
      ]
     },
     "execution_count": 58,
     "metadata": {},
     "output_type": "execute_result"
    }
   ],
   "source": [
    "len(unique(tensor_y))"
   ]
  },
  {
   "cell_type": "code",
   "execution_count": 50,
   "metadata": {},
   "outputs": [],
   "source": [
    "# Define the model\n",
    "class ChatbotModel(nn.Module):\n",
    "    def __init__(self, input_size, hidden_size, output_size):\n",
    "        super(ChatbotModel, self).__init__()\n",
    "        self.fc1 = nn.Linear(input_size, hidden_size)\n",
    "        self.relu = nn.ReLU()\n",
    "        self.drop = nn.Dropout(0.5)\n",
    "        self.fc2 = nn.Linear(hidden_size, output_size)\n",
    "        self.softmax = nn.LogSoftmax(dim=1)\n",
    "\n",
    "    def forward(self, x):\n",
    "        out = self.fc1(x)\n",
    "        out = self.relu(out)\n",
    "        out = self.drop(out)\n",
    "        out = self.fc2(out)\n",
    "        out = self.softmax(out)\n",
    "        return out\n",
    "\n",
    "# Model parameters\n",
    "input_size = 45  # Size of the input layer (number of features in x)\n",
    "hidden_size = 64  # Can be adjusted\n",
    "output_size = 45  # Assuming y contains integer labels for classes\n",
    "\n",
    "# Instantiate the model\n",
    "model = ChatbotModel(input_size, hidden_size, output_size)\n",
    "\n",
    "# Loss and optimizer\n",
    "criterion = nn.CrossEntropyLoss()  # Using Negative Log-Likelihood Loss for a multi-class classification\n",
    "optimizer = optim.Adam(model.parameters(), lr=0.001)"
   ]
  },
  {
   "cell_type": "code",
   "execution_count": 51,
   "metadata": {},
   "outputs": [
    {
     "data": {
      "text/plain": [
       "tensor(18.4013)"
      ]
     },
     "execution_count": 51,
     "metadata": {},
     "output_type": "execute_result"
    }
   ],
   "source": [
    "criterion(tensor_x, tensor_y)"
   ]
  },
  {
   "cell_type": "code",
   "execution_count": 53,
   "metadata": {},
   "outputs": [
    {
     "data": {
      "text/plain": [
       "torch.Size([1, 45])"
      ]
     },
     "execution_count": 53,
     "metadata": {},
     "output_type": "execute_result"
    }
   ],
   "source": [
    "x_tensor_reshaped = tensor_x.view(-1, 45)\n",
    "x_tensor_reshaped.shape"
   ]
  },
  {
   "cell_type": "code",
   "execution_count": 56,
   "metadata": {},
   "outputs": [
    {
     "data": {
      "text/plain": [
       "tensor([[-0.6353, -0.7545]], grad_fn=<LogSoftmaxBackward0>)"
      ]
     },
     "execution_count": 56,
     "metadata": {},
     "output_type": "execute_result"
    }
   ],
   "source": [
    "outputs = model(x_tensor_reshaped)\n",
    "outputs"
   ]
  },
  {
   "cell_type": "code",
   "execution_count": 57,
   "metadata": {},
   "outputs": [
    {
     "ename": "ValueError",
     "evalue": "Expected input batch_size (1) to match target batch_size (45).",
     "output_type": "error",
     "traceback": [
      "\u001b[1;31m---------------------------------------------------------------------------\u001b[0m",
      "\u001b[1;31mValueError\u001b[0m                                Traceback (most recent call last)",
      "Cell \u001b[1;32mIn[57], line 1\u001b[0m\n\u001b[1;32m----> 1\u001b[0m \u001b[43mcriterion\u001b[49m\u001b[43m(\u001b[49m\u001b[43moutputs\u001b[49m\u001b[43m,\u001b[49m\u001b[43m \u001b[49m\u001b[43mtensor_y\u001b[49m\u001b[43m)\u001b[49m\n",
      "File \u001b[1;32mc:\\Users\\rgbmr\\Documents\\CS5530\\CS5530Assignment1\\Lib\\site-packages\\torch\\nn\\modules\\module.py:1511\u001b[0m, in \u001b[0;36mModule._wrapped_call_impl\u001b[1;34m(self, *args, **kwargs)\u001b[0m\n\u001b[0;32m   1509\u001b[0m     \u001b[38;5;28;01mreturn\u001b[39;00m \u001b[38;5;28mself\u001b[39m\u001b[38;5;241m.\u001b[39m_compiled_call_impl(\u001b[38;5;241m*\u001b[39margs, \u001b[38;5;241m*\u001b[39m\u001b[38;5;241m*\u001b[39mkwargs)  \u001b[38;5;66;03m# type: ignore[misc]\u001b[39;00m\n\u001b[0;32m   1510\u001b[0m \u001b[38;5;28;01melse\u001b[39;00m:\n\u001b[1;32m-> 1511\u001b[0m     \u001b[38;5;28;01mreturn\u001b[39;00m \u001b[38;5;28;43mself\u001b[39;49m\u001b[38;5;241;43m.\u001b[39;49m\u001b[43m_call_impl\u001b[49m\u001b[43m(\u001b[49m\u001b[38;5;241;43m*\u001b[39;49m\u001b[43margs\u001b[49m\u001b[43m,\u001b[49m\u001b[43m \u001b[49m\u001b[38;5;241;43m*\u001b[39;49m\u001b[38;5;241;43m*\u001b[39;49m\u001b[43mkwargs\u001b[49m\u001b[43m)\u001b[49m\n",
      "File \u001b[1;32mc:\\Users\\rgbmr\\Documents\\CS5530\\CS5530Assignment1\\Lib\\site-packages\\torch\\nn\\modules\\module.py:1520\u001b[0m, in \u001b[0;36mModule._call_impl\u001b[1;34m(self, *args, **kwargs)\u001b[0m\n\u001b[0;32m   1515\u001b[0m \u001b[38;5;66;03m# If we don't have any hooks, we want to skip the rest of the logic in\u001b[39;00m\n\u001b[0;32m   1516\u001b[0m \u001b[38;5;66;03m# this function, and just call forward.\u001b[39;00m\n\u001b[0;32m   1517\u001b[0m \u001b[38;5;28;01mif\u001b[39;00m \u001b[38;5;129;01mnot\u001b[39;00m (\u001b[38;5;28mself\u001b[39m\u001b[38;5;241m.\u001b[39m_backward_hooks \u001b[38;5;129;01mor\u001b[39;00m \u001b[38;5;28mself\u001b[39m\u001b[38;5;241m.\u001b[39m_backward_pre_hooks \u001b[38;5;129;01mor\u001b[39;00m \u001b[38;5;28mself\u001b[39m\u001b[38;5;241m.\u001b[39m_forward_hooks \u001b[38;5;129;01mor\u001b[39;00m \u001b[38;5;28mself\u001b[39m\u001b[38;5;241m.\u001b[39m_forward_pre_hooks\n\u001b[0;32m   1518\u001b[0m         \u001b[38;5;129;01mor\u001b[39;00m _global_backward_pre_hooks \u001b[38;5;129;01mor\u001b[39;00m _global_backward_hooks\n\u001b[0;32m   1519\u001b[0m         \u001b[38;5;129;01mor\u001b[39;00m _global_forward_hooks \u001b[38;5;129;01mor\u001b[39;00m _global_forward_pre_hooks):\n\u001b[1;32m-> 1520\u001b[0m     \u001b[38;5;28;01mreturn\u001b[39;00m \u001b[43mforward_call\u001b[49m\u001b[43m(\u001b[49m\u001b[38;5;241;43m*\u001b[39;49m\u001b[43margs\u001b[49m\u001b[43m,\u001b[49m\u001b[43m \u001b[49m\u001b[38;5;241;43m*\u001b[39;49m\u001b[38;5;241;43m*\u001b[39;49m\u001b[43mkwargs\u001b[49m\u001b[43m)\u001b[49m\n\u001b[0;32m   1522\u001b[0m \u001b[38;5;28;01mtry\u001b[39;00m:\n\u001b[0;32m   1523\u001b[0m     result \u001b[38;5;241m=\u001b[39m \u001b[38;5;28;01mNone\u001b[39;00m\n",
      "File \u001b[1;32mc:\\Users\\rgbmr\\Documents\\CS5530\\CS5530Assignment1\\Lib\\site-packages\\torch\\nn\\modules\\loss.py:1179\u001b[0m, in \u001b[0;36mCrossEntropyLoss.forward\u001b[1;34m(self, input, target)\u001b[0m\n\u001b[0;32m   1178\u001b[0m \u001b[38;5;28;01mdef\u001b[39;00m \u001b[38;5;21mforward\u001b[39m(\u001b[38;5;28mself\u001b[39m, \u001b[38;5;28minput\u001b[39m: Tensor, target: Tensor) \u001b[38;5;241m-\u001b[39m\u001b[38;5;241m>\u001b[39m Tensor:\n\u001b[1;32m-> 1179\u001b[0m     \u001b[38;5;28;01mreturn\u001b[39;00m \u001b[43mF\u001b[49m\u001b[38;5;241;43m.\u001b[39;49m\u001b[43mcross_entropy\u001b[49m\u001b[43m(\u001b[49m\u001b[38;5;28;43minput\u001b[39;49m\u001b[43m,\u001b[49m\u001b[43m \u001b[49m\u001b[43mtarget\u001b[49m\u001b[43m,\u001b[49m\u001b[43m \u001b[49m\u001b[43mweight\u001b[49m\u001b[38;5;241;43m=\u001b[39;49m\u001b[38;5;28;43mself\u001b[39;49m\u001b[38;5;241;43m.\u001b[39;49m\u001b[43mweight\u001b[49m\u001b[43m,\u001b[49m\n\u001b[0;32m   1180\u001b[0m \u001b[43m                           \u001b[49m\u001b[43mignore_index\u001b[49m\u001b[38;5;241;43m=\u001b[39;49m\u001b[38;5;28;43mself\u001b[39;49m\u001b[38;5;241;43m.\u001b[39;49m\u001b[43mignore_index\u001b[49m\u001b[43m,\u001b[49m\u001b[43m \u001b[49m\u001b[43mreduction\u001b[49m\u001b[38;5;241;43m=\u001b[39;49m\u001b[38;5;28;43mself\u001b[39;49m\u001b[38;5;241;43m.\u001b[39;49m\u001b[43mreduction\u001b[49m\u001b[43m,\u001b[49m\n\u001b[0;32m   1181\u001b[0m \u001b[43m                           \u001b[49m\u001b[43mlabel_smoothing\u001b[49m\u001b[38;5;241;43m=\u001b[39;49m\u001b[38;5;28;43mself\u001b[39;49m\u001b[38;5;241;43m.\u001b[39;49m\u001b[43mlabel_smoothing\u001b[49m\u001b[43m)\u001b[49m\n",
      "File \u001b[1;32mc:\\Users\\rgbmr\\Documents\\CS5530\\CS5530Assignment1\\Lib\\site-packages\\torch\\nn\\functional.py:3059\u001b[0m, in \u001b[0;36mcross_entropy\u001b[1;34m(input, target, weight, size_average, ignore_index, reduce, reduction, label_smoothing)\u001b[0m\n\u001b[0;32m   3057\u001b[0m \u001b[38;5;28;01mif\u001b[39;00m size_average \u001b[38;5;129;01mis\u001b[39;00m \u001b[38;5;129;01mnot\u001b[39;00m \u001b[38;5;28;01mNone\u001b[39;00m \u001b[38;5;129;01mor\u001b[39;00m reduce \u001b[38;5;129;01mis\u001b[39;00m \u001b[38;5;129;01mnot\u001b[39;00m \u001b[38;5;28;01mNone\u001b[39;00m:\n\u001b[0;32m   3058\u001b[0m     reduction \u001b[38;5;241m=\u001b[39m _Reduction\u001b[38;5;241m.\u001b[39mlegacy_get_string(size_average, reduce)\n\u001b[1;32m-> 3059\u001b[0m \u001b[38;5;28;01mreturn\u001b[39;00m \u001b[43mtorch\u001b[49m\u001b[38;5;241;43m.\u001b[39;49m\u001b[43m_C\u001b[49m\u001b[38;5;241;43m.\u001b[39;49m\u001b[43m_nn\u001b[49m\u001b[38;5;241;43m.\u001b[39;49m\u001b[43mcross_entropy_loss\u001b[49m\u001b[43m(\u001b[49m\u001b[38;5;28;43minput\u001b[39;49m\u001b[43m,\u001b[49m\u001b[43m \u001b[49m\u001b[43mtarget\u001b[49m\u001b[43m,\u001b[49m\u001b[43m \u001b[49m\u001b[43mweight\u001b[49m\u001b[43m,\u001b[49m\u001b[43m \u001b[49m\u001b[43m_Reduction\u001b[49m\u001b[38;5;241;43m.\u001b[39;49m\u001b[43mget_enum\u001b[49m\u001b[43m(\u001b[49m\u001b[43mreduction\u001b[49m\u001b[43m)\u001b[49m\u001b[43m,\u001b[49m\u001b[43m \u001b[49m\u001b[43mignore_index\u001b[49m\u001b[43m,\u001b[49m\u001b[43m \u001b[49m\u001b[43mlabel_smoothing\u001b[49m\u001b[43m)\u001b[49m\n",
      "\u001b[1;31mValueError\u001b[0m: Expected input batch_size (1) to match target batch_size (45)."
     ]
    }
   ],
   "source": [
    "criterion(outputs, tensor_y)"
   ]
  },
  {
   "cell_type": "code",
   "execution_count": 46,
   "metadata": {},
   "outputs": [
    {
     "ename": "RuntimeError",
     "evalue": "mat1 and mat2 shapes cannot be multiplied (45x1 and 45x64)",
     "output_type": "error",
     "traceback": [
      "\u001b[1;31m---------------------------------------------------------------------------\u001b[0m",
      "\u001b[1;31mRuntimeError\u001b[0m                              Traceback (most recent call last)",
      "Cell \u001b[1;32mIn[46], line 5\u001b[0m\n\u001b[0;32m      2\u001b[0m epochs \u001b[38;5;241m=\u001b[39m \u001b[38;5;241m1000\u001b[39m\n\u001b[0;32m      3\u001b[0m \u001b[38;5;28;01mfor\u001b[39;00m epoch \u001b[38;5;129;01min\u001b[39;00m \u001b[38;5;28mrange\u001b[39m(epochs):\n\u001b[0;32m      4\u001b[0m     \u001b[38;5;66;03m# Forward pass\u001b[39;00m\n\u001b[1;32m----> 5\u001b[0m     outputs \u001b[38;5;241m=\u001b[39m \u001b[43mmodel\u001b[49m\u001b[43m(\u001b[49m\u001b[43mx_tensor_reshaped\u001b[49m\u001b[43m)\u001b[49m\n\u001b[0;32m      6\u001b[0m     loss \u001b[38;5;241m=\u001b[39m criterion(outputs, tensor_y)\n\u001b[0;32m      8\u001b[0m     \u001b[38;5;66;03m# Backward and optimize\u001b[39;00m\n",
      "File \u001b[1;32mc:\\Users\\rgbmr\\Documents\\CS5530\\CS5530Assignment1\\Lib\\site-packages\\torch\\nn\\modules\\module.py:1511\u001b[0m, in \u001b[0;36mModule._wrapped_call_impl\u001b[1;34m(self, *args, **kwargs)\u001b[0m\n\u001b[0;32m   1509\u001b[0m     \u001b[38;5;28;01mreturn\u001b[39;00m \u001b[38;5;28mself\u001b[39m\u001b[38;5;241m.\u001b[39m_compiled_call_impl(\u001b[38;5;241m*\u001b[39margs, \u001b[38;5;241m*\u001b[39m\u001b[38;5;241m*\u001b[39mkwargs)  \u001b[38;5;66;03m# type: ignore[misc]\u001b[39;00m\n\u001b[0;32m   1510\u001b[0m \u001b[38;5;28;01melse\u001b[39;00m:\n\u001b[1;32m-> 1511\u001b[0m     \u001b[38;5;28;01mreturn\u001b[39;00m \u001b[38;5;28;43mself\u001b[39;49m\u001b[38;5;241;43m.\u001b[39;49m\u001b[43m_call_impl\u001b[49m\u001b[43m(\u001b[49m\u001b[38;5;241;43m*\u001b[39;49m\u001b[43margs\u001b[49m\u001b[43m,\u001b[49m\u001b[43m \u001b[49m\u001b[38;5;241;43m*\u001b[39;49m\u001b[38;5;241;43m*\u001b[39;49m\u001b[43mkwargs\u001b[49m\u001b[43m)\u001b[49m\n",
      "File \u001b[1;32mc:\\Users\\rgbmr\\Documents\\CS5530\\CS5530Assignment1\\Lib\\site-packages\\torch\\nn\\modules\\module.py:1520\u001b[0m, in \u001b[0;36mModule._call_impl\u001b[1;34m(self, *args, **kwargs)\u001b[0m\n\u001b[0;32m   1515\u001b[0m \u001b[38;5;66;03m# If we don't have any hooks, we want to skip the rest of the logic in\u001b[39;00m\n\u001b[0;32m   1516\u001b[0m \u001b[38;5;66;03m# this function, and just call forward.\u001b[39;00m\n\u001b[0;32m   1517\u001b[0m \u001b[38;5;28;01mif\u001b[39;00m \u001b[38;5;129;01mnot\u001b[39;00m (\u001b[38;5;28mself\u001b[39m\u001b[38;5;241m.\u001b[39m_backward_hooks \u001b[38;5;129;01mor\u001b[39;00m \u001b[38;5;28mself\u001b[39m\u001b[38;5;241m.\u001b[39m_backward_pre_hooks \u001b[38;5;129;01mor\u001b[39;00m \u001b[38;5;28mself\u001b[39m\u001b[38;5;241m.\u001b[39m_forward_hooks \u001b[38;5;129;01mor\u001b[39;00m \u001b[38;5;28mself\u001b[39m\u001b[38;5;241m.\u001b[39m_forward_pre_hooks\n\u001b[0;32m   1518\u001b[0m         \u001b[38;5;129;01mor\u001b[39;00m _global_backward_pre_hooks \u001b[38;5;129;01mor\u001b[39;00m _global_backward_hooks\n\u001b[0;32m   1519\u001b[0m         \u001b[38;5;129;01mor\u001b[39;00m _global_forward_hooks \u001b[38;5;129;01mor\u001b[39;00m _global_forward_pre_hooks):\n\u001b[1;32m-> 1520\u001b[0m     \u001b[38;5;28;01mreturn\u001b[39;00m \u001b[43mforward_call\u001b[49m\u001b[43m(\u001b[49m\u001b[38;5;241;43m*\u001b[39;49m\u001b[43margs\u001b[49m\u001b[43m,\u001b[49m\u001b[43m \u001b[49m\u001b[38;5;241;43m*\u001b[39;49m\u001b[38;5;241;43m*\u001b[39;49m\u001b[43mkwargs\u001b[49m\u001b[43m)\u001b[49m\n\u001b[0;32m   1522\u001b[0m \u001b[38;5;28;01mtry\u001b[39;00m:\n\u001b[0;32m   1523\u001b[0m     result \u001b[38;5;241m=\u001b[39m \u001b[38;5;28;01mNone\u001b[39;00m\n",
      "Cell \u001b[1;32mIn[41], line 12\u001b[0m, in \u001b[0;36mChatbotModel.forward\u001b[1;34m(self, x)\u001b[0m\n\u001b[0;32m     11\u001b[0m \u001b[38;5;28;01mdef\u001b[39;00m \u001b[38;5;21mforward\u001b[39m(\u001b[38;5;28mself\u001b[39m, x):\n\u001b[1;32m---> 12\u001b[0m     out \u001b[38;5;241m=\u001b[39m \u001b[38;5;28;43mself\u001b[39;49m\u001b[38;5;241;43m.\u001b[39;49m\u001b[43mfc1\u001b[49m\u001b[43m(\u001b[49m\u001b[43mx\u001b[49m\u001b[43m)\u001b[49m\n\u001b[0;32m     13\u001b[0m     out \u001b[38;5;241m=\u001b[39m \u001b[38;5;28mself\u001b[39m\u001b[38;5;241m.\u001b[39mrelu(out)\n\u001b[0;32m     14\u001b[0m     out \u001b[38;5;241m=\u001b[39m \u001b[38;5;28mself\u001b[39m\u001b[38;5;241m.\u001b[39mdrop(out)\n",
      "File \u001b[1;32mc:\\Users\\rgbmr\\Documents\\CS5530\\CS5530Assignment1\\Lib\\site-packages\\torch\\nn\\modules\\module.py:1511\u001b[0m, in \u001b[0;36mModule._wrapped_call_impl\u001b[1;34m(self, *args, **kwargs)\u001b[0m\n\u001b[0;32m   1509\u001b[0m     \u001b[38;5;28;01mreturn\u001b[39;00m \u001b[38;5;28mself\u001b[39m\u001b[38;5;241m.\u001b[39m_compiled_call_impl(\u001b[38;5;241m*\u001b[39margs, \u001b[38;5;241m*\u001b[39m\u001b[38;5;241m*\u001b[39mkwargs)  \u001b[38;5;66;03m# type: ignore[misc]\u001b[39;00m\n\u001b[0;32m   1510\u001b[0m \u001b[38;5;28;01melse\u001b[39;00m:\n\u001b[1;32m-> 1511\u001b[0m     \u001b[38;5;28;01mreturn\u001b[39;00m \u001b[38;5;28;43mself\u001b[39;49m\u001b[38;5;241;43m.\u001b[39;49m\u001b[43m_call_impl\u001b[49m\u001b[43m(\u001b[49m\u001b[38;5;241;43m*\u001b[39;49m\u001b[43margs\u001b[49m\u001b[43m,\u001b[49m\u001b[43m \u001b[49m\u001b[38;5;241;43m*\u001b[39;49m\u001b[38;5;241;43m*\u001b[39;49m\u001b[43mkwargs\u001b[49m\u001b[43m)\u001b[49m\n",
      "File \u001b[1;32mc:\\Users\\rgbmr\\Documents\\CS5530\\CS5530Assignment1\\Lib\\site-packages\\torch\\nn\\modules\\module.py:1520\u001b[0m, in \u001b[0;36mModule._call_impl\u001b[1;34m(self, *args, **kwargs)\u001b[0m\n\u001b[0;32m   1515\u001b[0m \u001b[38;5;66;03m# If we don't have any hooks, we want to skip the rest of the logic in\u001b[39;00m\n\u001b[0;32m   1516\u001b[0m \u001b[38;5;66;03m# this function, and just call forward.\u001b[39;00m\n\u001b[0;32m   1517\u001b[0m \u001b[38;5;28;01mif\u001b[39;00m \u001b[38;5;129;01mnot\u001b[39;00m (\u001b[38;5;28mself\u001b[39m\u001b[38;5;241m.\u001b[39m_backward_hooks \u001b[38;5;129;01mor\u001b[39;00m \u001b[38;5;28mself\u001b[39m\u001b[38;5;241m.\u001b[39m_backward_pre_hooks \u001b[38;5;129;01mor\u001b[39;00m \u001b[38;5;28mself\u001b[39m\u001b[38;5;241m.\u001b[39m_forward_hooks \u001b[38;5;129;01mor\u001b[39;00m \u001b[38;5;28mself\u001b[39m\u001b[38;5;241m.\u001b[39m_forward_pre_hooks\n\u001b[0;32m   1518\u001b[0m         \u001b[38;5;129;01mor\u001b[39;00m _global_backward_pre_hooks \u001b[38;5;129;01mor\u001b[39;00m _global_backward_hooks\n\u001b[0;32m   1519\u001b[0m         \u001b[38;5;129;01mor\u001b[39;00m _global_forward_hooks \u001b[38;5;129;01mor\u001b[39;00m _global_forward_pre_hooks):\n\u001b[1;32m-> 1520\u001b[0m     \u001b[38;5;28;01mreturn\u001b[39;00m \u001b[43mforward_call\u001b[49m\u001b[43m(\u001b[49m\u001b[38;5;241;43m*\u001b[39;49m\u001b[43margs\u001b[49m\u001b[43m,\u001b[49m\u001b[43m \u001b[49m\u001b[38;5;241;43m*\u001b[39;49m\u001b[38;5;241;43m*\u001b[39;49m\u001b[43mkwargs\u001b[49m\u001b[43m)\u001b[49m\n\u001b[0;32m   1522\u001b[0m \u001b[38;5;28;01mtry\u001b[39;00m:\n\u001b[0;32m   1523\u001b[0m     result \u001b[38;5;241m=\u001b[39m \u001b[38;5;28;01mNone\u001b[39;00m\n",
      "File \u001b[1;32mc:\\Users\\rgbmr\\Documents\\CS5530\\CS5530Assignment1\\Lib\\site-packages\\torch\\nn\\modules\\linear.py:116\u001b[0m, in \u001b[0;36mLinear.forward\u001b[1;34m(self, input)\u001b[0m\n\u001b[0;32m    115\u001b[0m \u001b[38;5;28;01mdef\u001b[39;00m \u001b[38;5;21mforward\u001b[39m(\u001b[38;5;28mself\u001b[39m, \u001b[38;5;28minput\u001b[39m: Tensor) \u001b[38;5;241m-\u001b[39m\u001b[38;5;241m>\u001b[39m Tensor:\n\u001b[1;32m--> 116\u001b[0m     \u001b[38;5;28;01mreturn\u001b[39;00m \u001b[43mF\u001b[49m\u001b[38;5;241;43m.\u001b[39;49m\u001b[43mlinear\u001b[49m\u001b[43m(\u001b[49m\u001b[38;5;28;43minput\u001b[39;49m\u001b[43m,\u001b[49m\u001b[43m \u001b[49m\u001b[38;5;28;43mself\u001b[39;49m\u001b[38;5;241;43m.\u001b[39;49m\u001b[43mweight\u001b[49m\u001b[43m,\u001b[49m\u001b[43m \u001b[49m\u001b[38;5;28;43mself\u001b[39;49m\u001b[38;5;241;43m.\u001b[39;49m\u001b[43mbias\u001b[49m\u001b[43m)\u001b[49m\n",
      "\u001b[1;31mRuntimeError\u001b[0m: mat1 and mat2 shapes cannot be multiplied (45x1 and 45x64)"
     ]
    }
   ],
   "source": [
    "# Training loop\n",
    "epochs = 1000\n",
    "for epoch in range(epochs):\n",
    "    # Forward pass\n",
    "    outputs = model(x_tensor_reshaped)\n",
    "    loss = criterion(outputs, tensor_y)\n",
    "\n",
    "    # Backward and optimize\n",
    "    optimizer.zero_grad()\n",
    "    loss.backward()\n",
    "    optimizer.step()\n",
    "\n",
    "    if (epoch+1) % 100 == 0:\n",
    "        print(f'Epoch [{epoch+1}/{epochs}], Loss: {loss.item()}')"
   ]
  },
  {
   "cell_type": "code",
   "execution_count": null,
   "metadata": {},
   "outputs": [],
   "source": [
    "model = Sequential()\n",
    "model.add_module('layer1', Linear(45, ))"
   ]
  },
  {
   "cell_type": "code",
   "execution_count": 2,
   "metadata": {},
   "outputs": [
    {
     "name": "stdout",
     "output_type": "stream",
     "text": [
      "        tag              text     type\n",
      "0  greeting          Hi there  pattern\n",
      "1  greeting       How are you  pattern\n",
      "2  greeting  Is anyone there?  pattern\n",
      "3  greeting             Hello  pattern\n",
      "4  greeting          Good day  pattern\n"
     ]
    }
   ],
   "source": [
    "base_path = os.getcwd()\n",
    "raw_data_path = os.path.join(base_path, '../raw_data/intents.json')\n",
    "\n",
    "# Load JSON data\n",
    "with open(raw_data_path) as file:\n",
    "    data = json.load(file)\n",
    "\n",
    "# Flatten the data into a list of dictionaries, each representing a row in the DataFrame\n",
    "rows = []\n",
    "for intent in data['intents']:\n",
    "    tag = intent['tag']\n",
    "    for pattern in intent.get('patterns', []):\n",
    "        rows.append({'tag': tag, 'text': pattern, 'type': 'pattern'})\n",
    "    for response in intent.get('responses', []):\n",
    "        rows.append({'tag': tag, 'text': response, 'type': 'response'})\n",
    "\n",
    "# Create a DataFrame\n",
    "df = pd.DataFrame(rows)\n",
    "\n",
    "# Display the DataFrame structure\n",
    "print(df.head())"
   ]
  },
  {
   "cell_type": "code",
   "execution_count": 5,
   "metadata": {},
   "outputs": [],
   "source": [
    "\n",
    "data_raw = pd.read_json(raw_data_path)"
   ]
  },
  {
   "cell_type": "code",
   "execution_count": 6,
   "metadata": {},
   "outputs": [
    {
     "data": {
      "text/html": [
       "<div>\n",
       "<style scoped>\n",
       "    .dataframe tbody tr th:only-of-type {\n",
       "        vertical-align: middle;\n",
       "    }\n",
       "\n",
       "    .dataframe tbody tr th {\n",
       "        vertical-align: top;\n",
       "    }\n",
       "\n",
       "    .dataframe thead th {\n",
       "        text-align: right;\n",
       "    }\n",
       "</style>\n",
       "<table border=\"1\" class=\"dataframe\">\n",
       "  <thead>\n",
       "    <tr style=\"text-align: right;\">\n",
       "      <th></th>\n",
       "      <th>intents</th>\n",
       "    </tr>\n",
       "  </thead>\n",
       "  <tbody>\n",
       "    <tr>\n",
       "      <th>0</th>\n",
       "      <td>{'tag': 'greeting', 'patterns': ['Hi there', '...</td>\n",
       "    </tr>\n",
       "    <tr>\n",
       "      <th>1</th>\n",
       "      <td>{'tag': 'goodbye', 'patterns': ['Bye', 'See yo...</td>\n",
       "    </tr>\n",
       "    <tr>\n",
       "      <th>2</th>\n",
       "      <td>{'tag': 'thanks', 'patterns': ['Thanks', 'Than...</td>\n",
       "    </tr>\n",
       "    <tr>\n",
       "      <th>3</th>\n",
       "      <td>{'tag': 'noanswer', 'patterns': [], 'responses...</td>\n",
       "    </tr>\n",
       "    <tr>\n",
       "      <th>4</th>\n",
       "      <td>{'tag': 'options', 'patterns': ['How you could...</td>\n",
       "    </tr>\n",
       "  </tbody>\n",
       "</table>\n",
       "</div>"
      ],
      "text/plain": [
       "                                             intents\n",
       "0  {'tag': 'greeting', 'patterns': ['Hi there', '...\n",
       "1  {'tag': 'goodbye', 'patterns': ['Bye', 'See yo...\n",
       "2  {'tag': 'thanks', 'patterns': ['Thanks', 'Than...\n",
       "3  {'tag': 'noanswer', 'patterns': [], 'responses...\n",
       "4  {'tag': 'options', 'patterns': ['How you could..."
      ]
     },
     "execution_count": 6,
     "metadata": {},
     "output_type": "execute_result"
    }
   ],
   "source": [
    "data_raw.head()"
   ]
  },
  {
   "cell_type": "code",
   "execution_count": 8,
   "metadata": {},
   "outputs": [
    {
     "data": {
      "text/plain": [
       "14"
      ]
     },
     "execution_count": 8,
     "metadata": {},
     "output_type": "execute_result"
    }
   ],
   "source": [
    "data_raw.size"
   ]
  },
  {
   "cell_type": "code",
   "execution_count": null,
   "metadata": {},
   "outputs": [],
   "source": [
    "# Example dictionary of terms and common misspellings\n",
    "healthcare_terms = {\n",
    "    \"aspirin\": [\"asprin\", \"aspirn\", \"aspiren\"],\n",
    "    \"diabetes\": [\"diabtes\", \"diabete\", \"diabetis\"],\n",
    "    \"hypertension\": [\"hypertention\", \"high blood pre\", \"highblood pressure\"],\n",
    "    # Add more terms and their common misspellings\n",
    "    \"vaccination\": [\"vaccination\", \"vaccin\", \"vaccinat\"],\n",
    "    \"covid\": [\"covid\", \"covid-19\", \"covid19\"],\n",
    "    \"cancer\": [\"cancer\", \"canser\", \"cansir\"],\n",
    "    \"pregnant\": [\"pregnint\", \"pregnent\", \"pregnet\"]\n",
    "}\n",
    "\n",
    "# Flatten the dictionary for easier lookup\n",
    "misspelling_to_correct = {misspelling: correct for correct, misspellings in healthcare_terms.items() for misspelling in misspellings}\n",
    "\n",
    "def correct_input(input_sentence):\n",
    "    corrected_words = []\n",
    "    for word in input_sentence.split():\n",
    "        # Correct the word if it's a known misspelling\n",
    "        corrected_word = misspelling_to_correct.get(word.lower(), word)\n",
    "        corrected_words.append(corrected_word)\n",
    "    return \" \".join(corrected_words)\n",
    "\n",
    "# Example usage\n",
    "user_input = \"I have diabtes and highblood pressure\"\n",
    "corrected_input = correct_input(user_input)\n",
    "print(\"Corrected Input:\", corrected_input)\n"
   ]
  }
 ],
 "metadata": {
  "kernelspec": {
   "display_name": "CS5530Assignment1",
   "language": "python",
   "name": "python3"
  },
  "language_info": {
   "codemirror_mode": {
    "name": "ipython",
    "version": 3
   },
   "file_extension": ".py",
   "mimetype": "text/x-python",
   "name": "python",
   "nbconvert_exporter": "python",
   "pygments_lexer": "ipython3",
   "version": "3.12.2"
  }
 },
 "nbformat": 4,
 "nbformat_minor": 2
}
