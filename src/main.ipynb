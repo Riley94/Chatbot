{
 "cells": [
  {
   "cell_type": "markdown",
   "metadata": {},
   "source": [
    "# Data Exploration and Preprocessing"
   ]
  },
  {
   "cell_type": "markdown",
   "metadata": {},
   "source": [
    "-------------------------"
   ]
  },
  {
   "cell_type": "code",
   "execution_count": 1,
   "metadata": {},
   "outputs": [],
   "source": [
    "import json"
   ]
  },
  {
   "cell_type": "code",
   "execution_count": 2,
   "metadata": {},
   "outputs": [
    {
     "name": "stdout",
     "output_type": "stream",
     "text": [
      "[{'tag': 'greeting', 'patterns': ['Hi there', 'How are you', 'Is anyone there?', 'Hello', 'Good day'], 'responses': ['Hello, thanks for asking', 'Good to see you again', 'Hi there, how can I help?'], 'context': ['']}, {'tag': 'goodbye', 'patterns': ['Bye', 'See you later', 'Goodbye', 'Nice chatting to you, bye', 'Till next time'], 'responses': ['See you!', 'Have a nice day', 'Bye! Come back again soon.'], 'context': ['']}, {'tag': 'thanks', 'patterns': ['Thanks', 'Thank you', \"That's helpful\", 'Awesome, thanks', 'Thanks for helping me'], 'responses': ['Happy to help!', 'Any time!', 'My pleasure'], 'context': ['']}, {'tag': 'noanswer', 'patterns': [], 'responses': [\"Sorry, can't understand you\", 'Please give me more info', 'Not sure I understand'], 'context': ['']}, {'tag': 'options', 'patterns': ['How you could help me?', 'What you can do?', 'What help you provide?', 'How you can be helpful?', 'What support is offered'], 'responses': ['I can guide you through Adverse drug reaction list, Blood pressure tracking, Hospitals and Pharmacies', 'Offering support for Adverse drug reaction, Blood pressure, Hospitals and Pharmacies'], 'context': ['']}, {'tag': 'adverse_drug', 'patterns': ['How to check Adverse drug reaction?', 'Open adverse drugs module', 'Give me a list of drugs causing adverse behavior', 'List all drugs suitable for patient with adverse reaction', 'Which drugs dont have adverse reaction?'], 'responses': ['Navigating to Adverse drug reaction module'], 'context': ['']}, {'tag': 'blood_pressure', 'patterns': ['Open blood pressure module', 'Task related to blood pressure', 'Blood pressure data entry', 'I want to log blood pressure results', 'Blood pressure data management'], 'responses': ['Navigating to Blood Pressure module'], 'context': ['']}, {'tag': 'blood_pressure_search', 'patterns': ['I want to search for blood pressure result history', 'Blood pressure for patient', 'Load patient blood pressure result', 'Show blood pressure results for patient', 'Find blood pressure results by ID'], 'responses': ['Please provide Patient ID', 'Patient ID?'], 'context': ['search_blood_pressure_by_patient_id']}, {'tag': 'search_blood_pressure_by_patient_id', 'patterns': [], 'responses': ['Loading Blood pressure result for Patient'], 'context': ['']}, {'tag': 'pharmacy_search', 'patterns': ['Find me a pharmacy', 'Find pharmacy', 'List of pharmacies nearby', 'Locate pharmacy', 'Search pharmacy'], 'responses': ['Please provide pharmacy name'], 'context': ['search_pharmacy_by_name']}, {'tag': 'search_pharmacy_by_name', 'patterns': [], 'responses': ['Loading pharmacy details'], 'context': ['']}, {'tag': 'hospital_search', 'patterns': ['Lookup for hospital', 'Searching for hospital to transfer patient', 'I want to search hospital data', 'Hospital lookup for patient', 'Looking up hospital details'], 'responses': ['Please provide hospital name or location'], 'context': ['search_hospital_by_params']}, {'tag': 'search_hospital_by_params', 'patterns': [], 'responses': ['Please provide hospital type'], 'context': ['search_hospital_by_type']}, {'tag': 'search_hospital_by_type', 'patterns': [], 'responses': ['Loading hospital details'], 'context': ['']}]\n"
     ]
    }
   ],
   "source": [
    "# Load intents\n",
    "with open('../raw_data/intents.json', 'r') as file:\n",
    "    intents = json.load(file)['intents']\n",
    "\n",
    "print(intents)"
   ]
  },
  {
   "cell_type": "code",
   "execution_count": 3,
   "metadata": {},
   "outputs": [
    {
     "name": "stdout",
     "output_type": "stream",
     "text": [
      "{'greeting': ['Hi there', 'How are you', 'Is anyone there?', 'Hello', 'Good day'], 'goodbye': ['Bye', 'See you later', 'Goodbye', 'Nice chatting to you, bye', 'Till next time'], 'thanks': ['Thanks', 'Thank you', \"That's helpful\", 'Awesome, thanks', 'Thanks for helping me'], 'noanswer': [], 'options': ['How you could help me?', 'What you can do?', 'What help you provide?', 'How you can be helpful?', 'What support is offered'], 'adverse_drug': ['How to check Adverse drug reaction?', 'Open adverse drugs module', 'Give me a list of drugs causing adverse behavior', 'List all drugs suitable for patient with adverse reaction', 'Which drugs dont have adverse reaction?'], 'blood_pressure': ['Open blood pressure module', 'Task related to blood pressure', 'Blood pressure data entry', 'I want to log blood pressure results', 'Blood pressure data management'], 'blood_pressure_search': ['I want to search for blood pressure result history', 'Blood pressure for patient', 'Load patient blood pressure result', 'Show blood pressure results for patient', 'Find blood pressure results by ID'], 'search_blood_pressure_by_patient_id': [], 'pharmacy_search': ['Find me a pharmacy', 'Find pharmacy', 'List of pharmacies nearby', 'Locate pharmacy', 'Search pharmacy'], 'search_pharmacy_by_name': [], 'hospital_search': ['Lookup for hospital', 'Searching for hospital to transfer patient', 'I want to search hospital data', 'Hospital lookup for patient', 'Looking up hospital details'], 'search_hospital_by_params': [], 'search_hospital_by_type': []}\n"
     ]
    }
   ],
   "source": [
    "intents_dict = {}\n",
    "for intent in intents:\n",
    "    intents_dict[intent['tag']] = intent['patterns']\n",
    "\n",
    "print(intents_dict)"
   ]
  },
  {
   "cell_type": "code",
   "execution_count": 97,
   "metadata": {},
   "outputs": [
    {
     "name": "stdout",
     "output_type": "stream",
     "text": [
      "14\n"
     ]
    }
   ],
   "source": [
    "n_categories = len(intents_dict)\n",
    "print(n_categories)"
   ]
  },
  {
   "cell_type": "code",
   "execution_count": 99,
   "metadata": {},
   "outputs": [
    {
     "name": "stdout",
     "output_type": "stream",
     "text": [
      "greeting ['Hi there', 'How are you', 'Is anyone there?', 'Hello', 'Good day']\n",
      "goodbye ['Bye', 'See you later', 'Goodbye', 'Nice chatting to you, bye', 'Till next time']\n",
      "thanks ['Thanks', 'Thank you', \"That's helpful\", 'Awesome, thanks', 'Thanks for helping me']\n",
      "noanswer []\n",
      "options ['How you could help me?', 'What you can do?', 'What help you provide?', 'How you can be helpful?', 'What support is offered']\n",
      "adverse_drug ['How to check Adverse drug reaction?', 'Open adverse drugs module', 'Give me a list of drugs causing adverse behavior', 'List all drugs suitable for patient with adverse reaction', 'Which drugs dont have adverse reaction?']\n",
      "blood_pressure ['Open blood pressure module', 'Task related to blood pressure', 'Blood pressure data entry', 'I want to log blood pressure results', 'Blood pressure data management']\n",
      "blood_pressure_search ['I want to search for blood pressure result history', 'Blood pressure for patient', 'Load patient blood pressure result', 'Show blood pressure results for patient', 'Find blood pressure results by ID']\n",
      "search_blood_pressure_by_patient_id []\n",
      "pharmacy_search ['Find me a pharmacy', 'Find pharmacy', 'List of pharmacies nearby', 'Locate pharmacy', 'Search pharmacy']\n",
      "search_pharmacy_by_name []\n",
      "hospital_search ['Lookup for hospital', 'Searching for hospital to transfer patient', 'I want to search hospital data', 'Hospital lookup for patient', 'Looking up hospital details']\n",
      "search_hospital_by_params []\n",
      "search_hospital_by_type []\n"
     ]
    }
   ],
   "source": [
    "for intent in intents_dict:\n",
    "    print(intent, intents_dict[intent])"
   ]
  },
  {
   "cell_type": "code",
   "execution_count": 101,
   "metadata": {},
   "outputs": [
    {
     "name": "stdout",
     "output_type": "stream",
     "text": [
      "45 pairs of words and tags\n"
     ]
    }
   ],
   "source": [
    "import nltk\n",
    "from nltk.stem import WordNetLemmatizer\n",
    "\n",
    "lemmatizer = WordNetLemmatizer()\n",
    "\n",
    "words = []\n",
    "intents = []\n",
    "words_tokenized = []\n",
    "ignore = ['?', '!', '.', ',', '\\'s']\n",
    "\n",
    "for intent in intents_dict:\n",
    "    for pattern in intents_dict[intent]:\n",
    "        w = nltk.tokenize.word_tokenize(pattern)\n",
    "        words.extend(w)\n",
    "        words_tokenized.append((w, intent)) # list of tuples containing list of words and tag\n",
    "        if intent not in intents:\n",
    "            intents.append(intent) # unique list of tags\n",
    "\n",
    "# find base form of word and remove ignore words\n",
    "words = [lemmatizer.lemmatize(w.lower()) for w in words if w not in ignore]\n",
    "words = sorted(list(set(words))) # remove duplicates and sort\n",
    "\n",
    "intents = sorted(list(set(intents)))\n",
    "\n",
    "print(len(words_tokenized), \"pairs of words and tags\")"
   ]
  },
  {
   "cell_type": "code",
   "execution_count": 102,
   "metadata": {},
   "outputs": [],
   "source": [
    "import numpy as np\n",
    "\n",
    "train_x = []\n",
    "train_y = []\n",
    "\n",
    "def bag_of_words(sentence, words, lemmatizer):\n",
    "    if sentence is None:\n",
    "        return np.zeros(len(words))\n",
    "    sentence_words = nltk.tokenize.word_tokenize(sentence)\n",
    "    sentence_words = [lemmatizer.lemmatize(word.lower()) for word in sentence_words]\n",
    "    bag = [0] * len(words)\n",
    "    for s in sentence_words:\n",
    "        for i, w in enumerate(words):\n",
    "            if w == s:\n",
    "                bag[i] = 1\n",
    "    return np.array(bag)\n",
    "\n",
    "for pair in words_tokenized:\n",
    "    words_encoded = []\n",
    "    pattern_words = pair[0] # list of words\n",
    "    pattern_words = [lemmatizer.lemmatize(word.lower()) for word in pattern_words]\n",
    "    for w in words:\n",
    "        words_encoded.append(1 if w in pattern_words else 0)\n",
    "\n",
    "    intents_encoded = [0] * len(intents)\n",
    "    intents_encoded[intents.index(pair[1])] = 1 # pair[1] is the intent\n",
    "\n",
    "    train_x.append(words_encoded)\n",
    "    train_y.append(intents_encoded)\n",
    "\n",
    "train_x = np.array(train_x)\n",
    "train_y = np.array(train_y)"
   ]
  },
  {
   "cell_type": "code",
   "execution_count": 103,
   "metadata": {},
   "outputs": [
    {
     "name": "stdout",
     "output_type": "stream",
     "text": [
      "[0 0 0 0 0 0 0 0 0 0 0 0 0 0 0 0 0 0 0 0 0 0 0 0 0 0 0 0 0 0 0 0 0 1 0 0 0\n",
      " 0 0 0 0 0 0 0 0 0 0 0 0 0 0 0 0 0 0 0 0 0 0 0 0 0 0 0 0 0 0 0 0 0 0 0 0 1\n",
      " 0 0 0 0 0 0 0 0 0 0]\n"
     ]
    }
   ],
   "source": [
    "bag = bag_of_words('Hi there', words, lemmatizer)\n",
    "print(bag)"
   ]
  },
  {
   "cell_type": "code",
   "execution_count": 104,
   "metadata": {},
   "outputs": [
    {
     "name": "stdout",
     "output_type": "stream",
     "text": [
      "hi\n",
      "there\n"
     ]
    }
   ],
   "source": [
    "for i, w in enumerate(words):\n",
    "    if bag[i] == 1:\n",
    "        print(w)"
   ]
  },
  {
   "cell_type": "code",
   "execution_count": 15,
   "metadata": {},
   "outputs": [
    {
     "name": "stdout",
     "output_type": "stream",
     "text": [
      "[(['Hi', 'there'], 'greeting'), (['How', 'are', 'you'], 'greeting'), (['Is', 'anyone', 'there', '?'], 'greeting'), (['Hello'], 'greeting'), (['Good', 'day'], 'greeting'), (['Bye'], 'goodbye'), (['See', 'you', 'later'], 'goodbye'), (['Goodbye'], 'goodbye'), (['Nice', 'chatting', 'to', 'you', ',', 'bye'], 'goodbye'), (['Till', 'next', 'time'], 'goodbye'), (['Thanks'], 'thanks'), (['Thank', 'you'], 'thanks'), (['That', \"'s\", 'helpful'], 'thanks'), (['Awesome', ',', 'thanks'], 'thanks'), (['Thanks', 'for', 'helping', 'me'], 'thanks'), (['How', 'you', 'could', 'help', 'me', '?'], 'options'), (['What', 'you', 'can', 'do', '?'], 'options'), (['What', 'help', 'you', 'provide', '?'], 'options'), (['How', 'you', 'can', 'be', 'helpful', '?'], 'options'), (['What', 'support', 'is', 'offered'], 'options'), (['How', 'to', 'check', 'Adverse', 'drug', 'reaction', '?'], 'adverse_drug'), (['Open', 'adverse', 'drugs', 'module'], 'adverse_drug'), (['Give', 'me', 'a', 'list', 'of', 'drugs', 'causing', 'adverse', 'behavior'], 'adverse_drug'), (['List', 'all', 'drugs', 'suitable', 'for', 'patient', 'with', 'adverse', 'reaction'], 'adverse_drug'), (['Which', 'drugs', 'dont', 'have', 'adverse', 'reaction', '?'], 'adverse_drug'), (['Open', 'blood', 'pressure', 'module'], 'blood_pressure'), (['Task', 'related', 'to', 'blood', 'pressure'], 'blood_pressure'), (['Blood', 'pressure', 'data', 'entry'], 'blood_pressure'), (['I', 'want', 'to', 'log', 'blood', 'pressure', 'results'], 'blood_pressure'), (['Blood', 'pressure', 'data', 'management'], 'blood_pressure'), (['I', 'want', 'to', 'search', 'for', 'blood', 'pressure', 'result', 'history'], 'blood_pressure_search'), (['Blood', 'pressure', 'for', 'patient'], 'blood_pressure_search'), (['Load', 'patient', 'blood', 'pressure', 'result'], 'blood_pressure_search'), (['Show', 'blood', 'pressure', 'results', 'for', 'patient'], 'blood_pressure_search'), (['Find', 'blood', 'pressure', 'results', 'by', 'ID'], 'blood_pressure_search'), (['Find', 'me', 'a', 'pharmacy'], 'pharmacy_search'), (['Find', 'pharmacy'], 'pharmacy_search'), (['List', 'of', 'pharmacies', 'nearby'], 'pharmacy_search'), (['Locate', 'pharmacy'], 'pharmacy_search'), (['Search', 'pharmacy'], 'pharmacy_search'), (['Lookup', 'for', 'hospital'], 'hospital_search'), (['Searching', 'for', 'hospital', 'to', 'transfer', 'patient'], 'hospital_search'), (['I', 'want', 'to', 'search', 'hospital', 'data'], 'hospital_search'), (['Hospital', 'lookup', 'for', 'patient'], 'hospital_search'), (['Looking', 'up', 'hospital', 'details'], 'hospital_search')]\n"
     ]
    }
   ],
   "source": [
    "print(words_tokenized)"
   ]
  },
  {
   "cell_type": "code",
   "execution_count": 7,
   "metadata": {},
   "outputs": [
    {
     "data": {
      "text/plain": [
       "((45, 84), (45, 9))"
      ]
     },
     "execution_count": 7,
     "metadata": {},
     "output_type": "execute_result"
    }
   ],
   "source": [
    "train_x.shape, train_y.shape"
   ]
  },
  {
   "cell_type": "code",
   "execution_count": 321,
   "metadata": {},
   "outputs": [
    {
     "data": {
      "text/plain": [
       "(array([[0, 0, 0, ..., 0, 0, 0],\n",
       "        [0, 0, 0, ..., 0, 0, 1],\n",
       "        [0, 0, 0, ..., 0, 0, 0],\n",
       "        ...,\n",
       "        [0, 0, 0, ..., 0, 0, 0],\n",
       "        [0, 0, 0, ..., 0, 0, 0],\n",
       "        [0, 0, 0, ..., 0, 0, 0]]),\n",
       " array([[0, 0, 0, 0, 1, 0, 0, 0, 0],\n",
       "        [0, 0, 0, 0, 1, 0, 0, 0, 0],\n",
       "        [0, 0, 0, 0, 1, 0, 0, 0, 0],\n",
       "        [0, 0, 0, 0, 1, 0, 0, 0, 0],\n",
       "        [0, 0, 0, 0, 1, 0, 0, 0, 0],\n",
       "        [0, 0, 0, 1, 0, 0, 0, 0, 0],\n",
       "        [0, 0, 0, 1, 0, 0, 0, 0, 0],\n",
       "        [0, 0, 0, 1, 0, 0, 0, 0, 0],\n",
       "        [0, 0, 0, 1, 0, 0, 0, 0, 0],\n",
       "        [0, 0, 0, 1, 0, 0, 0, 0, 0],\n",
       "        [0, 0, 0, 0, 0, 0, 0, 0, 1],\n",
       "        [0, 0, 0, 0, 0, 0, 0, 0, 1],\n",
       "        [0, 0, 0, 0, 0, 0, 0, 0, 1],\n",
       "        [0, 0, 0, 0, 0, 0, 0, 0, 1],\n",
       "        [0, 0, 0, 0, 0, 0, 0, 0, 1],\n",
       "        [0, 0, 0, 0, 0, 0, 1, 0, 0],\n",
       "        [0, 0, 0, 0, 0, 0, 1, 0, 0],\n",
       "        [0, 0, 0, 0, 0, 0, 1, 0, 0],\n",
       "        [0, 0, 0, 0, 0, 0, 1, 0, 0],\n",
       "        [0, 0, 0, 0, 0, 0, 1, 0, 0],\n",
       "        [1, 0, 0, 0, 0, 0, 0, 0, 0],\n",
       "        [1, 0, 0, 0, 0, 0, 0, 0, 0],\n",
       "        [1, 0, 0, 0, 0, 0, 0, 0, 0],\n",
       "        [1, 0, 0, 0, 0, 0, 0, 0, 0],\n",
       "        [1, 0, 0, 0, 0, 0, 0, 0, 0],\n",
       "        [0, 1, 0, 0, 0, 0, 0, 0, 0],\n",
       "        [0, 1, 0, 0, 0, 0, 0, 0, 0],\n",
       "        [0, 1, 0, 0, 0, 0, 0, 0, 0],\n",
       "        [0, 1, 0, 0, 0, 0, 0, 0, 0],\n",
       "        [0, 1, 0, 0, 0, 0, 0, 0, 0],\n",
       "        [0, 0, 1, 0, 0, 0, 0, 0, 0],\n",
       "        [0, 0, 1, 0, 0, 0, 0, 0, 0],\n",
       "        [0, 0, 1, 0, 0, 0, 0, 0, 0],\n",
       "        [0, 0, 1, 0, 0, 0, 0, 0, 0],\n",
       "        [0, 0, 1, 0, 0, 0, 0, 0, 0],\n",
       "        [0, 0, 0, 0, 0, 0, 0, 1, 0],\n",
       "        [0, 0, 0, 0, 0, 0, 0, 1, 0],\n",
       "        [0, 0, 0, 0, 0, 0, 0, 1, 0],\n",
       "        [0, 0, 0, 0, 0, 0, 0, 1, 0],\n",
       "        [0, 0, 0, 0, 0, 0, 0, 1, 0],\n",
       "        [0, 0, 0, 0, 0, 1, 0, 0, 0],\n",
       "        [0, 0, 0, 0, 0, 1, 0, 0, 0],\n",
       "        [0, 0, 0, 0, 0, 1, 0, 0, 0],\n",
       "        [0, 0, 0, 0, 0, 1, 0, 0, 0],\n",
       "        [0, 0, 0, 0, 0, 1, 0, 0, 0]]))"
      ]
     },
     "execution_count": 321,
     "metadata": {},
     "output_type": "execute_result"
    }
   ],
   "source": [
    "train_x, train_y"
   ]
  },
  {
   "cell_type": "code",
   "execution_count": 105,
   "metadata": {},
   "outputs": [
    {
     "data": {
      "text/plain": [
       "(tensor([[0., 0., 0.,  ..., 0., 0., 0.],\n",
       "         [0., 0., 0.,  ..., 0., 0., 1.],\n",
       "         [0., 0., 0.,  ..., 0., 0., 0.],\n",
       "         ...,\n",
       "         [0., 0., 0.,  ..., 0., 0., 0.],\n",
       "         [0., 0., 0.,  ..., 0., 0., 0.],\n",
       "         [0., 0., 0.,  ..., 0., 0., 0.]]),\n",
       " tensor([[0., 0., 0., 0., 1., 0., 0., 0., 0.],\n",
       "         [0., 0., 0., 0., 1., 0., 0., 0., 0.],\n",
       "         [0., 0., 0., 0., 1., 0., 0., 0., 0.],\n",
       "         [0., 0., 0., 0., 1., 0., 0., 0., 0.],\n",
       "         [0., 0., 0., 0., 1., 0., 0., 0., 0.],\n",
       "         [0., 0., 0., 1., 0., 0., 0., 0., 0.],\n",
       "         [0., 0., 0., 1., 0., 0., 0., 0., 0.],\n",
       "         [0., 0., 0., 1., 0., 0., 0., 0., 0.],\n",
       "         [0., 0., 0., 1., 0., 0., 0., 0., 0.],\n",
       "         [0., 0., 0., 1., 0., 0., 0., 0., 0.],\n",
       "         [0., 0., 0., 0., 0., 0., 0., 0., 1.],\n",
       "         [0., 0., 0., 0., 0., 0., 0., 0., 1.],\n",
       "         [0., 0., 0., 0., 0., 0., 0., 0., 1.],\n",
       "         [0., 0., 0., 0., 0., 0., 0., 0., 1.],\n",
       "         [0., 0., 0., 0., 0., 0., 0., 0., 1.],\n",
       "         [0., 0., 0., 0., 0., 0., 1., 0., 0.],\n",
       "         [0., 0., 0., 0., 0., 0., 1., 0., 0.],\n",
       "         [0., 0., 0., 0., 0., 0., 1., 0., 0.],\n",
       "         [0., 0., 0., 0., 0., 0., 1., 0., 0.],\n",
       "         [0., 0., 0., 0., 0., 0., 1., 0., 0.],\n",
       "         [1., 0., 0., 0., 0., 0., 0., 0., 0.],\n",
       "         [1., 0., 0., 0., 0., 0., 0., 0., 0.],\n",
       "         [1., 0., 0., 0., 0., 0., 0., 0., 0.],\n",
       "         [1., 0., 0., 0., 0., 0., 0., 0., 0.],\n",
       "         [1., 0., 0., 0., 0., 0., 0., 0., 0.],\n",
       "         [0., 1., 0., 0., 0., 0., 0., 0., 0.],\n",
       "         [0., 1., 0., 0., 0., 0., 0., 0., 0.],\n",
       "         [0., 1., 0., 0., 0., 0., 0., 0., 0.],\n",
       "         [0., 1., 0., 0., 0., 0., 0., 0., 0.],\n",
       "         [0., 1., 0., 0., 0., 0., 0., 0., 0.],\n",
       "         [0., 0., 1., 0., 0., 0., 0., 0., 0.],\n",
       "         [0., 0., 1., 0., 0., 0., 0., 0., 0.],\n",
       "         [0., 0., 1., 0., 0., 0., 0., 0., 0.],\n",
       "         [0., 0., 1., 0., 0., 0., 0., 0., 0.],\n",
       "         [0., 0., 1., 0., 0., 0., 0., 0., 0.],\n",
       "         [0., 0., 0., 0., 0., 0., 0., 1., 0.],\n",
       "         [0., 0., 0., 0., 0., 0., 0., 1., 0.],\n",
       "         [0., 0., 0., 0., 0., 0., 0., 1., 0.],\n",
       "         [0., 0., 0., 0., 0., 0., 0., 1., 0.],\n",
       "         [0., 0., 0., 0., 0., 0., 0., 1., 0.],\n",
       "         [0., 0., 0., 0., 0., 1., 0., 0., 0.],\n",
       "         [0., 0., 0., 0., 0., 1., 0., 0., 0.],\n",
       "         [0., 0., 0., 0., 0., 1., 0., 0., 0.],\n",
       "         [0., 0., 0., 0., 0., 1., 0., 0., 0.],\n",
       "         [0., 0., 0., 0., 0., 1., 0., 0., 0.]]))"
      ]
     },
     "execution_count": 105,
     "metadata": {},
     "output_type": "execute_result"
    }
   ],
   "source": [
    "import torch\n",
    "x_tensor = torch.from_numpy(train_x).float()\n",
    "y_tensor = torch.from_numpy(train_y).float()\n",
    "x_tensor, y_tensor"
   ]
  },
  {
   "cell_type": "markdown",
   "metadata": {},
   "source": [
    "----"
   ]
  },
  {
   "cell_type": "markdown",
   "metadata": {},
   "source": [
    "# Intent Classification"
   ]
  },
  {
   "cell_type": "markdown",
   "metadata": {},
   "source": [
    "-------------------------------------------------------------------------------"
   ]
  },
  {
   "cell_type": "code",
   "execution_count": 118,
   "metadata": {},
   "outputs": [],
   "source": [
    "import torch.nn as nn\n",
    "\n",
    "class RNN(nn.Module):\n",
    "    def __init__(self, input_size, hidden_size, output_size):\n",
    "        super(RNN, self).__init__()\n",
    "\n",
    "        self.hidden_size = hidden_size\n",
    "\n",
    "        self.i2h = nn.Linear(input_size + hidden_size, hidden_size)\n",
    "        self.h2o = nn.Linear(hidden_size, output_size)\n",
    "        self.softmax = nn.LogSoftmax(dim=1)\n",
    "        self.ReLU = nn.ReLU()\n",
    "        self.dropout = nn.Dropout(0.2)\n",
    "\n",
    "    def forward(self, input, hidden):\n",
    "        combined = torch.cat((input, hidden), 1)\n",
    "        hidden = self.i2h(combined)\n",
    "        hidden = self.ReLU(hidden)\n",
    "        hidden = self.dropout(hidden)\n",
    "        output = self.h2o(hidden)\n",
    "        output = self.ReLU(output)\n",
    "        output = self.dropout(output)\n",
    "        output = self.softmax(output + 1e-9)\n",
    "        return output, hidden\n",
    "\n",
    "    def initHidden(self):\n",
    "        return torch.zeros(1, self.hidden_size)\n",
    "\n",
    "n_hidden = 128\n",
    "rnn = RNN(len(words), n_hidden, len(intents))"
   ]
  },
  {
   "cell_type": "code",
   "execution_count": 106,
   "metadata": {},
   "outputs": [
    {
     "data": {
      "text/plain": [
       "9"
      ]
     },
     "execution_count": 106,
     "metadata": {},
     "output_type": "execute_result"
    }
   ],
   "source": [
    "y_tensor.shape[1]"
   ]
  },
  {
   "cell_type": "code",
   "execution_count": 57,
   "metadata": {},
   "outputs": [
    {
     "data": {
      "text/plain": [
       "84"
      ]
     },
     "execution_count": 57,
     "metadata": {},
     "output_type": "execute_result"
    }
   ],
   "source": [
    "len(words)"
   ]
  },
  {
   "cell_type": "code",
   "execution_count": 38,
   "metadata": {},
   "outputs": [
    {
     "data": {
      "text/plain": [
       "(torch.Size([45, 84]), torch.Size([45, 9]))"
      ]
     },
     "execution_count": 38,
     "metadata": {},
     "output_type": "execute_result"
    }
   ],
   "source": [
    "x_tensor.shape, y_tensor.shape"
   ]
  },
  {
   "cell_type": "code",
   "execution_count": 109,
   "metadata": {},
   "outputs": [],
   "source": [
    "hidden = torch.zeros(1, n_hidden)\n",
    "output, next_hidden = rnn(torch.from_numpy(bag).view(1, -1), hidden)\n",
    "# output, next_hidden = rnn(x_tensor[0].view(1, -1), hidden)"
   ]
  },
  {
   "cell_type": "code",
   "execution_count": 119,
   "metadata": {},
   "outputs": [
    {
     "name": "stdout",
     "output_type": "stream",
     "text": [
      "('greeting', 4)\n"
     ]
    }
   ],
   "source": [
    "def categoryFromOutput(output):\n",
    "    top_n, top_i = output.topk(1)\n",
    "    category_i = top_i[0].item()\n",
    "    return intents[category_i], category_i\n",
    "\n",
    "print(categoryFromOutput(output))"
   ]
  },
  {
   "cell_type": "code",
   "execution_count": 120,
   "metadata": {},
   "outputs": [
    {
     "name": "stdout",
     "output_type": "stream",
     "text": [
      "category = thanks / line = Awesome, thanks\n",
      "category = adverse_drug / line = Which drugs dont have adverse reaction?\n",
      "category = thanks / line = Thank you\n",
      "category = hospital_search / line = Hospital lookup for patient\n",
      "category = blood_pressure_search / line = Find blood pressure results by ID\n",
      "category = greeting / line = Is anyone there?\n",
      "category = thanks / line = Thanks for helping me\n",
      "category = greeting / line = Hi there\n",
      "category = hospital_search / line = Searching for hospital to transfer patient\n",
      "category = blood_pressure / line = I want to log blood pressure results\n"
     ]
    }
   ],
   "source": [
    "import random\n",
    "\n",
    "def randomChoice(l):\n",
    "    if len(l) == 0:\n",
    "        return None\n",
    "    return l[random.randint(0, len(l) - 1)]\n",
    "\n",
    "def randomTrainingExample():\n",
    "    category = randomChoice(intents)\n",
    "    line = randomChoice(intents_dict[category])\n",
    "    category_tensor = torch.tensor([intents.index(category)], dtype=torch.long)\n",
    "    line_tensor = torch.from_numpy(bag_of_words(line, words, lemmatizer)).view(1, -1)\n",
    "    return category, line, category_tensor, line_tensor\n",
    "\n",
    "for i in range(10):\n",
    "    category, line, category_tensor, line_tensor = randomTrainingExample()\n",
    "    print('category =', category, '/ line =', line)"
   ]
  },
  {
   "cell_type": "code",
   "execution_count": 121,
   "metadata": {},
   "outputs": [],
   "source": [
    "criterion = nn.NLLLoss()\n",
    "# first attempt was 0.005\n",
    "# second attempt was 0.001, both resulted in nan loss (exploding gradients)\n",
    "learning_rate = 0.001 # Seems to be the right rate.\n",
    "\n",
    "def train(category_tensor, line_tensor):\n",
    "    hidden = rnn.initHidden()\n",
    "\n",
    "    rnn.zero_grad()\n",
    "\n",
    "    output, hidden = rnn(line_tensor, hidden)\n",
    "\n",
    "    loss = criterion(output, category_tensor)\n",
    "    torch.nn.utils.clip_grad_norm_(rnn.parameters(), max_norm=1)\n",
    "    loss.backward()\n",
    "\n",
    "    # Add parameters' gradients to their values, multiplied by learning rate\n",
    "    for p in rnn.parameters():\n",
    "        p.data.add_(p.grad.data, alpha=-learning_rate)\n",
    "\n",
    "    return output, loss.item()"
   ]
  },
  {
   "cell_type": "code",
   "execution_count": 80,
   "metadata": {},
   "outputs": [
    {
     "data": {
      "text/plain": [
       "tensor([0])"
      ]
     },
     "execution_count": 80,
     "metadata": {},
     "output_type": "execute_result"
    }
   ],
   "source": [
    "category, line, category_tensor, line_tensor = randomTrainingExample()\n",
    "line_tensor[3]"
   ]
  },
  {
   "cell_type": "code",
   "execution_count": 56,
   "metadata": {},
   "outputs": [
    {
     "data": {
      "text/plain": [
       "tensor([12])"
      ]
     },
     "execution_count": 56,
     "metadata": {},
     "output_type": "execute_result"
    }
   ],
   "source": [
    "category_tensor"
   ]
  },
  {
   "cell_type": "code",
   "execution_count": 122,
   "metadata": {},
   "outputs": [
    {
     "name": "stdout",
     "output_type": "stream",
     "text": [
      "5000 5% (0m 5s) 1.8689 Blood pressure data management / blood_pressure ✓\n",
      "10000 10% (0m 10s) 1.2166 I want to log blood pressure results / blood_pressure ✓\n",
      "15000 15% (0m 15s) 2.3274 Locate pharmacy / goodbye ✗ (pharmacy_search)\n",
      "20000 20% (0m 20s) 2.2400 Find me a pharmacy / goodbye ✗ (pharmacy_search)\n",
      "25000 25% (0m 25s) 0.1730 Task related to blood pressure / blood_pressure ✓\n",
      "30000 30% (0m 30s) 0.0520 What help you provide? / options ✓\n",
      "35000 35% (0m 35s) 2.2117 Search pharmacy / blood_pressure_search ✗ (pharmacy_search)\n",
      "40000 40% (0m 40s) 2.2135 List of pharmacies nearby / goodbye ✗ (pharmacy_search)\n",
      "45000 45% (0m 45s) 0.3224 Blood pressure for patient / blood_pressure_search ✓\n",
      "50000 50% (0m 50s) 0.0972 How you can be helpful? / options ✓\n",
      "55000 55% (0m 55s) 0.4406 Hello / greeting ✓\n",
      "60000 60% (1m 0s) 0.0062 List all drugs suitable for patient with adverse reaction / adverse_drug ✓\n",
      "65000 65% (1m 5s) 0.0251 I want to log blood pressure results / blood_pressure ✓\n",
      "70000 70% (1m 10s) 0.0038 Nice chatting to you, bye / goodbye ✓\n",
      "75000 75% (1m 15s) 0.0581 See you later / goodbye ✓\n",
      "80000 80% (1m 20s) 2.1972 Search pharmacy / pharmacy_search ✓\n",
      "85000 85% (1m 25s) 2.1972 How to check Adverse drug reaction? / pharmacy_search ✗ (adverse_drug)\n",
      "90000 90% (1m 30s) 2.2164 Good day / goodbye ✗ (greeting)\n",
      "95000 95% (1m 35s) 2.1978 That's helpful / adverse_drug ✗ (thanks)\n",
      "100000 100% (1m 40s) 0.0039 Load patient blood pressure result / blood_pressure_search ✓\n"
     ]
    }
   ],
   "source": [
    "import time\n",
    "import math\n",
    "\n",
    "n_iters = 100000\n",
    "print_every = 5000\n",
    "plot_every = 1000\n",
    "\n",
    "\n",
    "\n",
    "# Keep track of losses for plotting\n",
    "current_loss = 0\n",
    "all_losses = []\n",
    "\n",
    "def timeSince(since):\n",
    "    now = time.time()\n",
    "    s = now - since\n",
    "    m = math.floor(s / 60)\n",
    "    s -= m * 60\n",
    "    return '%dm %ds' % (m, s)\n",
    "\n",
    "start = time.time()\n",
    "\n",
    "for iter in range(1, n_iters + 1):\n",
    "    category, line, category_tensor, line_tensor = randomTrainingExample()\n",
    "    output, loss = train(category_tensor, line_tensor)\n",
    "    current_loss += loss\n",
    "\n",
    "    # Print ``iter`` number, loss, name and guess\n",
    "    if iter % print_every == 0:\n",
    "        guess, guess_i = categoryFromOutput(output)\n",
    "        correct = '✓' if guess == category else '✗ (%s)' % category\n",
    "        print('%d %d%% (%s) %.4f %s / %s %s' % (iter, iter / n_iters * 100, timeSince(start), loss, line, guess, correct))\n",
    "\n",
    "    # Add current loss avg to list of losses\n",
    "    if iter % plot_every == 0:\n",
    "        all_losses.append(current_loss / plot_every)\n",
    "        current_loss = 0"
   ]
  },
  {
   "cell_type": "code",
   "execution_count": 123,
   "metadata": {},
   "outputs": [
    {
     "data": {
      "text/plain": [
       "[<matplotlib.lines.Line2D at 0x7f8765ea2b60>]"
      ]
     },
     "execution_count": 123,
     "metadata": {},
     "output_type": "execute_result"
    },
    {
     "data": {
      "image/png": "[encoded data removed]",
      "text/plain": [
       "<Figure size 640x480 with 1 Axes>"
      ]
     },
     "metadata": {},
     "output_type": "display_data"
    }
   ],
   "source": [
    "import matplotlib.pyplot as plt\n",
    "import matplotlib.ticker as ticker\n",
    "\n",
    "plt.figure()\n",
    "plt.plot(all_losses)"
   ]
  },
  {
   "cell_type": "code",
   "execution_count": 126,
   "metadata": {},
   "outputs": [
    {
     "name": "stderr",
     "output_type": "stream",
     "text": [
      "/tmp/ipykernel_20422/1655712744.py:32: UserWarning: set_ticklabels() should only be used with a fixed number of ticks, i.e. after set_ticks() or using a FixedLocator.\n",
      "  ax.set_xticklabels([''] + intents, rotation=90)\n",
      "/tmp/ipykernel_20422/1655712744.py:33: UserWarning: set_ticklabels() should only be used with a fixed number of ticks, i.e. after set_ticks() or using a FixedLocator.\n",
      "  ax.set_yticklabels([''] + intents)\n"
     ]
    },
    {
     "data": {
      "image/png": "[encoded data removed]",
      "text/plain": [
       "<Figure size 640x480 with 2 Axes>"
      ]
     },
     "metadata": {},
     "output_type": "display_data"
    }
   ],
   "source": [
    "# Keep track of correct guesses in a confusion matrix\n",
    "confusion = torch.zeros(n_categories, n_categories)\n",
    "n_confusion = 10000\n",
    "\n",
    "# Just return an output given a line\n",
    "def evaluate(line_tensor):\n",
    "    hidden = rnn.initHidden()\n",
    "\n",
    "    output, hidden = rnn(line_tensor, hidden)\n",
    "\n",
    "    return output\n",
    "\n",
    "# Go through a bunch of examples and record which are correctly guessed\n",
    "for i in range(n_confusion):\n",
    "    category, line, category_tensor, line_tensor = randomTrainingExample()\n",
    "    output = evaluate(line_tensor)\n",
    "    guess, guess_i = categoryFromOutput(output)\n",
    "    category_i = intents.index(category)\n",
    "    confusion[category_i][guess_i] += 1\n",
    "\n",
    "# Normalize by dividing every row by its sum\n",
    "for i in range(n_categories):\n",
    "    confusion[i] = confusion[i] / confusion[i].sum()\n",
    "\n",
    "# Set up plot\n",
    "fig = plt.figure()\n",
    "ax = fig.add_subplot(111)\n",
    "cax = ax.matshow(confusion.numpy())\n",
    "fig.colorbar(cax)\n",
    "\n",
    "# Set up axes\n",
    "ax.set_xticklabels([''] + intents, rotation=90)\n",
    "ax.set_yticklabels([''] + intents)\n",
    "\n",
    "# Force label at every tick\n",
    "ax.xaxis.set_major_locator(ticker.MultipleLocator(1))\n",
    "ax.yaxis.set_major_locator(ticker.MultipleLocator(1))\n",
    "\n",
    "# sphinx_gallery_thumbnail_number = 2\n",
    "plt.show()"
   ]
  },
  {
   "cell_type": "code",
   "execution_count": 128,
   "metadata": {},
   "outputs": [
    {
     "name": "stdout",
     "output_type": "stream",
     "text": [
      "\n",
      "> Hey there!\n",
      "(-0.11) greeting\n",
      "(-3.89) thanks\n",
      "(-4.46) pharmacy_search\n",
      "\n",
      "> Thanks for that!\n",
      "(-2.20) pharmacy_search\n",
      "(-2.20) hospital_search\n",
      "(-2.20) options\n",
      "\n",
      "> Find me a hospital\n",
      "(-2.20) pharmacy_search\n",
      "(-2.20) hospital_search\n",
      "(-2.20) options\n"
     ]
    }
   ],
   "source": [
    "def predict(input_line, n_predictions=3):\n",
    "    print('\\n> %s' % input_line)\n",
    "    with torch.no_grad():\n",
    "        output = evaluate(torch.from_numpy(bag_of_words(input_line, words, lemmatizer)).view(1, -1))\n",
    "\n",
    "        # Get top N categories\n",
    "        topv, topi = output.topk(n_predictions, 1, True)\n",
    "        predictions = []\n",
    "\n",
    "        for i in range(n_predictions):\n",
    "            value = topv[0][i].item()\n",
    "            category_index = topi[0][i].item()\n",
    "            print('(%.2f) %s' % (value, intents[category_index]))\n",
    "            predictions.append([value, intents[category_index]])\n",
    "\n",
    "predict('Hey there!')\n",
    "predict('Thanks for that!')\n",
    "predict('Find me a hospital')"
   ]
  },
  {
   "cell_type": "markdown",
   "metadata": {},
   "source": [
    "# Note: Everything above is in a working state. Everything below is a work in progress."
   ]
  },
  {
   "cell_type": "markdown",
   "metadata": {},
   "source": [
    "--------------------------------------------------------------------------------"
   ]
  },
  {
   "cell_type": "markdown",
   "metadata": {},
   "source": [
    "# Named Entity Recognition"
   ]
  },
  {
   "cell_type": "markdown",
   "metadata": {},
   "source": [
    "-------------------------------------------------------------------------------------------"
   ]
  },
  {
   "cell_type": "code",
   "execution_count": 14,
   "metadata": {},
   "outputs": [],
   "source": [
    "import spacy\n",
    "\n",
    "nlp = spacy.load(\"en_core_web_lg\")\n",
    "\n",
    "ner_categories = [\"PERSON\", \"ORG\", \"GPE\", \"PRODUCT\"]"
   ]
  },
  {
   "cell_type": "code",
   "execution_count": 16,
   "metadata": {},
   "outputs": [
    {
     "name": "stdout",
     "output_type": "stream",
     "text": [
      "[('Task', 'PRODUCT')]\n"
     ]
    }
   ],
   "source": [
    "entities = []\n",
    "for intent in intents_dict:\n",
    "    for sentence in intents_dict[intent]:\n",
    "        doc = nlp(sentence)\n",
    "        for entity in doc.ents:\n",
    "            if entity.label_ in ner_categories:\n",
    "                entities.append((entity.text, entity.label_))\n",
    "            \n",
    "print(entities)"
   ]
  },
  {
   "cell_type": "markdown",
   "metadata": {},
   "source": [
    "Labeled Data Generation"
   ]
  },
  {
   "cell_type": "code",
   "execution_count": 17,
   "metadata": {},
   "outputs": [],
   "source": [
    "# To generate 1000 examples for training an NER model in the specified format,\n",
    "# we will create a simplified script that generates these examples with random elements.\n",
    "# These examples will be somewhat generic and may not fully represent the complexity of real healthcare data.\n",
    "\n",
    "import json\n",
    "import random\n",
    "\n",
    "# Data for generating examples\n",
    "# Need to add more for variation\n",
    "conditions = [\"Type 2 Diabetes\", \"hypertension\", \"fracture\"]\n",
    "medications = [\"Metformin\", \"Aspirin\", \"Ibuprofen\"]\n",
    "dosages = [\"500 mg twice daily\", \"100mg\", \"200mg\"]\n",
    "test_names = [\"Blood pressure\", \"MRI scan\", \"echocardiogram\"]\n",
    "symptoms = [\"shortness of breath\", \"persistent cough\", \"stomach bleeding\"]\n",
    "anatomies = [\"left femur\", \"right knee\", \"abdominal region\"]\n",
    "dates = [\"October 10th\", \"May 5th\", \"June 12th\"]\n",
    "times = [\"3 PM\", \"10 AM\", \"5 PM\"]\n",
    "\n",
    "# Function to generate a random date\n",
    "def generate_example():\n",
    "    example = {}\n",
    "    text_elements = [\n",
    "        f\"The patient was diagnosed with {random.choice(conditions)} last year.\",\n",
    "        f\"He has been prescribed {random.choice(medications)} {random.choice(dosages)}.\",\n",
    "        f\"A follow-up appointment is scheduled for {random.choice(times)} on {random.choice(dates)}.\",\n",
    "        f\"{random.choice(test_names)} measurements indicate {random.choice(conditions)}.\",\n",
    "        f\"The {random.choice(test_names)} revealed a {random.choice(conditions)} in the {random.choice(anatomies)}.\",\n",
    "        f\"Patient presents with {random.choice(symptoms)}.\",\n",
    "        f\"Prescribe {random.choice(dosages)} of {random.choice(medications)} for pain relief.\",\n",
    "        f\"The {random.choice(test_names)} shows normal heart function.\",\n",
    "        f\"She mentioned an allergy to {random.choice(medications)}.\",\n",
    "        f\"Examine the {random.choice(symptoms)} in the patient's {random.choice(anatomies)}.\",\n",
    "    ]\n",
    "    text = random.choice(text_elements)\n",
    "    # Simplified entity recognition (just a placeholder, not accurate)\n",
    "    entities = [{\"start\": text.find(random.choice(conditions)), \"end\": text.find(random.choice(conditions)) + len(random.choice(conditions)), \"label\": \"Condition\"}]\n",
    "    example[\"text\"] = text\n",
    "    example[\"entities\"] = entities\n",
    "    return example\n",
    "\n",
    "# Generate 1000 examples\n",
    "train_data = [generate_example() for _ in range(1000)]\n",
    "\n",
    "# Save the examples to a JSON file\n",
    "file_path = '../clean_data/train_data.json'\n",
    "with open(file_path, 'w') as file:\n",
    "    json.dump(train_data, file, indent=2)"
   ]
  },
  {
   "cell_type": "code",
   "execution_count": null,
   "metadata": {},
   "outputs": [],
   "source": [
    "import spacy\n",
    "from spacy.training import Example\n",
    "\n",
    "# Load a blank or existing model\n",
    "nlp = spacy.blank('en')\n",
    "\n",
    "# Add the NER pipeline if not already present\n",
    "if 'ner' not in nlp.pipe_names:\n",
    "    ner = nlp.create_pipe('ner')\n",
    "    nlp.add_pipe('ner')\n",
    "else:\n",
    "    ner = nlp.get_pipe('ner')\n",
    "\n",
    "# Add your new entity labels to the NER model\n",
    "for entity in ['Condition', 'Medication', 'Dosage', 'TestName', 'TestResult', 'Anatomy']:\n",
    "    ner.add_label(entity)\n",
    "\n",
    "# Prepare training data in the format (text, annotations)\n",
    "train_data = [\n",
    "    (\"Patient complains of severe headache since yesterday.\", {\"entities\": [(22, 31, \"Symptom\")]}),\n",
    "    (\"The patient was diagnosed with Type 2 Diabetes last year.\", {\"entities\": [(30, 47, \"Condition\")]}),\n",
    "    (\"He has been prescribed Metformin 500 mg twice daily.\", {\"entities\": [(22, 31, \"Medication\"), (32, 38, \"Dosage\")]}),\n",
    "    (\"A follow-up appointment is scheduled for 3 PM on October 10th.\", {\"entities\": [(43, 47, \"Time\"), (51, 61, \"Date\")]}),\n",
    "    (\"Blood pressure measurements indicate hypertension.\", {\"entities\": [(0, 15, \"TestName\"), (37, 49, \"Condition\")]}),\n",
    "    (\"The MRI scan revealed a fracture in the left femur.\", {\"entities\": [(4, 8, \"TestName\"), (35, 40, \"Anatomy\")]}),\n",
    "    (\"Patient presents with shortness of breath and coughing.\", {\"entities\": [(23, 42, \"Symptom\")]}),\n",
    "    (\"Prescribe 100mg of Aspirin for pain relief.\", {\"entities\": [(9, 14, \"Dosage\"), (18, 25, \"Medication\")]}),\n",
    "    (\"The echocardiogram shows normal heart function.\", {\"entities\": [(4, 18, \"TestName\"), (31, 36, \"TestResult\")]}),\n",
    "    (\"She mentioned an allergy to Penicillin.\", {\"entities\": [(22, 32, \"Medication\")]}),\n",
    "    (\"Examine the swelling in the patient's right knee.\", {\"entities\": [(17, 25, \"Symptom\"), (39, 43, \"Anatomy\")]}),\n",
    "    (\"Advise the patient to monitor their blood glucose levels daily.\", {\"entities\": [(44, 58, \"TestName\")]}),\n",
    "    (\"Ultrasound of the abdominal region scheduled for May 5th.\", {\"entities\": [(0, 9, \"TestName\"), (13, 29, \"Anatomy\"), (48, 54, \"Date\")]}),\n",
    "    (\"Refer to a specialist for evaluation of persistent cough.\", {\"entities\": [(36, 49, \"Symptom\")]}),\n",
    "    (\"Discontinue Ibuprofen if there is any sign of stomach bleeding.\", {\"entities\": [(12, 21, \"Medication\"), (58, 74, \"Symptom\")]}),\n",
    "    (\"The patient's blood test results indicate anemia.\", {\"entities\": [(18, 28, \"TestName\"), (30, 37, \"TestResult\")]}),\n",
    "    (\"The X-ray shows a fracture in the right wrist.\", {\"entities\": [(4, 9, \"TestName\"), (24, 35, \"Anatomy\")]}),\n",
    "    (\"The patient is experiencing dizziness and lightheadedness.\", {\"entities\": [(24, 33, \"Symptom\"), (38, 52, \"Symptom\")]}),\n",
    "    (\"The CT scan revealed a tumor in the brain.\", {\"entities\": [(4, 12, \"TestName\"), (26, 31, \"Anatomy\")]}),\n",
    "    (\"The patient's blood pressure is 140/90 mmHg.\", {\"entities\": [(18, 33, \"TestName\"), (35, 42, \"TestResult\")]}),\n",
    "    (\"The patient is allergic to Sulfa drugs.\", {\"entities\": [(22, 33, \"Medication\")]}),\n",
    "    (\"The patient's blood test results indicate elevated cholesterol.\", {\"entities\": [(18, 28, \"TestName\"), (30, 50, \"TestResult\")]}),\n",
    "    (\"The patient is experiencing pain in the lower back.\", {\"entities\": [(24, 28, \"Symptom\"), (32, 41, \"Anatomy\")]}),\n",
    "    (\"The patient's blood test results indicate low hemoglobin.\", {\"entities\": [(18, 28, \"TestName\"), (30, 42, \"TestResult\")]}),\n",
    "    (\"The patient is experiencing pain in the upper abdomen.\", {\"entities\": [(24, 28, \"Symptom\"), (32, 44, \"Anatomy\")]}),\n",
    "    (\"The patient is allergic to Penicillin.\", {\"entities\": [(22, 32, \"Medication\")]}),\n",
    "    (\"The patient's blood test results indicate high blood sugar.\", {\"entities\": [(18, 28, \"TestName\"), (30, 47, \"TestResult\")]}),\n",
    "    (\"The patient is experiencing pain in the left knee.\", {\"entities\": [(24, 28, \"Symptom\"), (32, 36, \"Anatomy\")]}),\n",
    "    (\"The patient is allergic to Codeine.\", {\"entities\": [(22, 29, \"Medication\")]}),\n",
    "]\n",
    "\n",
    "# Train your model\n",
    "# This is a simplified example; see spaCy documentation for details on training\n",
    "optimizer = nlp.begin_training()\n",
    "for itn in range(10):  # Number of training iterations\n",
    "    for text, annotations in train_data:\n",
    "        doc = nlp.make_doc(text)\n",
    "        example = Example.from_dict(doc, annotations)\n",
    "        nlp.update([example], drop=0.5, sgd=optimizer)\n",
    "\n",
    "# Save the trained model\n",
    "nlp.to_disk('/path/to/your/model')"
   ]
  },
  {
   "cell_type": "code",
   "execution_count": null,
   "metadata": {},
   "outputs": [],
   "source": [
    "class BiLSTMForNER(nn.Module):\n",
    "    def __init__(self, vocab_size, embedding_dim, hidden_dim, num_tags):\n",
    "        super(BiLSTMForNER, self).__init__()\n",
    "        self.embedding = nn.Embedding(vocab_size, embedding_dim)\n",
    "        self.lstm = nn.LSTM(embedding_dim, hidden_dim // 2,\n",
    "                            num_layers=1, bidirectional=True)\n",
    "        self.fc = nn.Linear(hidden_dim, num_tags)\n",
    "\n",
    "    def forward(self, sentence):\n",
    "        embeds = self.embedding(sentence)\n",
    "        lstm_out, _ = self.lstm(embeds.view(len(sentence), 1, -1))\n",
    "        tag_space = self.fc(lstm_out.view(len(sentence), -1))\n",
    "        tag_scores = torch.log_softmax(tag_space, dim=1)\n",
    "        return tag_scores"
   ]
  },
  {
   "cell_type": "markdown",
   "metadata": {},
   "source": [
    "-----------------------------------------------------------"
   ]
  },
  {
   "cell_type": "markdown",
   "metadata": {},
   "source": [
    "# Dialogue Management"
   ]
  },
  {
   "cell_type": "markdown",
   "metadata": {},
   "source": [
    "--------------------------------------"
   ]
  },
  {
   "cell_type": "code",
   "execution_count": null,
   "metadata": {},
   "outputs": [],
   "source": []
  },
  {
   "cell_type": "markdown",
   "metadata": {},
   "source": [
    "--------"
   ]
  },
  {
   "cell_type": "markdown",
   "metadata": {},
   "source": [
    "# Query and Command Processing"
   ]
  },
  {
   "cell_type": "markdown",
   "metadata": {},
   "source": [
    "---------------------------------------------------------------------------------------"
   ]
  },
  {
   "cell_type": "code",
   "execution_count": null,
   "metadata": {},
   "outputs": [],
   "source": []
  },
  {
   "cell_type": "markdown",
   "metadata": {},
   "source": [
    "-------"
   ]
  },
  {
   "cell_type": "markdown",
   "metadata": {},
   "source": [
    "# Response Generation"
   ]
  },
  {
   "cell_type": "markdown",
   "metadata": {},
   "source": [
    "-------------------------------------------------------"
   ]
  },
  {
   "cell_type": "code",
   "execution_count": 279,
   "metadata": {},
   "outputs": [],
   "source": [
    "import torch.nn as nn\n",
    "\n",
    "class RNN(nn.Module):\n",
    "    def __init__(self, input_size, hidden_size, output_size):\n",
    "        super(RNN, self).__init__()\n",
    "\n",
    "        self.hidden_size = hidden_size\n",
    "\n",
    "        self.i2h = nn.Linear(n_categories + input_size + hidden_size, hidden_size)\n",
    "        self.i2o = nn.Linear(n_categories + input_size + hidden_size, output_size)\n",
    "        self.o2o = nn.Linear(hidden_size + output_size, output_size)\n",
    "        self.dropout = nn.Dropout(0.1)\n",
    "        self.softmax = nn.LogSoftmax(dim=1)\n",
    "\n",
    "    def forward(self, category, input, hidden):\n",
    "        input_combined = torch.cat((category, input, hidden), 1)\n",
    "        hidden = self.i2h(input_combined)\n",
    "        output = self.i2o(input_combined)\n",
    "        output_combined = torch.cat((hidden, output), 1)\n",
    "        output = self.o2o(output_combined)\n",
    "        output = self.dropout(output)\n",
    "        output = self.softmax(output + 1e-9)\n",
    "        return output, hidden\n",
    "\n",
    "    def initHidden(self):\n",
    "        return torch.zeros(1, self.hidden_size)\n",
    "\n",
    "n_hidden = 128\n",
    "rnn = RNN(n_letters, n_hidden, n_categories)"
   ]
  },
  {
   "cell_type": "code",
   "execution_count": 168,
   "metadata": {},
   "outputs": [
    {
     "name": "stdout",
     "output_type": "stream",
     "text": [
      "['greeting', 'goodbye', 'thanks', 'noanswer', 'options', 'adverse_drug', 'blood_pressure', 'blood_pressure_search', 'search_blood_pressure_by_patient_id', 'pharmacy_search', 'search_pharmacy_by_name', 'hospital_search', 'search_hospital_by_params', 'search_hospital_by_type']\n"
     ]
    }
   ],
   "source": [
    "print(all_categories)"
   ]
  },
  {
   "cell_type": "code",
   "execution_count": 280,
   "metadata": {},
   "outputs": [],
   "source": [
    "import random\n",
    "\n",
    "\n",
    "# Random item from a list\n",
    "def randomChoice(l):\n",
    "    if len(l) == 0:\n",
    "        return None\n",
    "    return l[random.randint(0, len(l) - 1)]\n",
    "\n",
    "# Get a random category and random line from that category\n",
    "def randomTrainingPair():\n",
    "    category = randomChoice(all_categories)\n",
    "    line = randomChoice(intents_dict[category])\n",
    "    return category, line"
   ]
  },
  {
   "cell_type": "code",
   "execution_count": 281,
   "metadata": {},
   "outputs": [],
   "source": [
    "# One-hot vector for category\n",
    "def categoryTensor(category):\n",
    "    li = all_categories.index(category)\n",
    "    tensor = torch.zeros(1, n_categories)\n",
    "    tensor[0][li] = 1\n",
    "    return tensor\n",
    "\n",
    "# One-hot matrix of first to last letters (not including EOS) for input\n",
    "def inputTensor(line):\n",
    "    if not line:\n",
    "        return torch.zeros(1, 1, n_letters)\n",
    "    tensor = torch.zeros(len(line), 1, n_letters)\n",
    "    for li in range(len(line)):\n",
    "        letter = line[li]\n",
    "        tensor[li][0][all_letters.find(letter)] = 1\n",
    "    return tensor\n",
    "\n",
    "# ``LongTensor`` of second letter to end (EOS) for target\n",
    "def targetTensor(line):\n",
    "    if not line:\n",
    "        # Return a tensor with only the EOS token for empty lines\n",
    "        return torch.LongTensor([n_letters - 1])\n",
    "    else:\n",
    "        letter_indexes = [all_letters.find(line[li]) for li in range(1, len(line))]\n",
    "        letter_indexes.append(n_letters - 1)  # Append the EOS token\n",
    "        return torch.LongTensor(letter_indexes)\n"
   ]
  },
  {
   "cell_type": "code",
   "execution_count": 292,
   "metadata": {},
   "outputs": [],
   "source": [
    "criterion = nn.NLLLoss(ignore_index=-1)\n",
    "\n",
    "learning_rate = 0.00001\n",
    "\n",
    "def train(category_tensor, input_line_tensor, target_line_tensor):\n",
    "    target_line_tensor.unsqueeze_(-1)\n",
    "    hidden = rnn.initHidden()\n",
    "\n",
    "    rnn.zero_grad()\n",
    "\n",
    "    loss = 0 # you can also just simply use ``loss = 0``\n",
    "\n",
    "    for i in range(input_line_tensor.size(0)):\n",
    "        output, hidden = rnn(category_tensor, input_line_tensor[i], hidden)\n",
    "        l = criterion(output, target_line_tensor[i])\n",
    "        loss += l\n",
    "\n",
    "    torch.nn.utils.clip_grad_norm_(rnn.parameters(), max_norm=1)\n",
    "    loss.backward()\n",
    "\n",
    "    for p in rnn.parameters():\n",
    "        p.data.add_(p.grad.data, alpha=-learning_rate)\n",
    "\n",
    "    return output, loss.item() / input_line_tensor.size(0)"
   ]
  },
  {
   "cell_type": "code",
   "execution_count": 282,
   "metadata": {},
   "outputs": [],
   "source": [
    "# Make category, input, and target tensors from a random category, line pair\n",
    "def randomTrainingExample():\n",
    "    category, line = randomTrainingPair()\n",
    "    category_tensor = categoryTensor(category)\n",
    "    input_line_tensor = inputTensor(line)\n",
    "    target_line_tensor = targetTensor(line)\n",
    "    return category_tensor, input_line_tensor, target_line_tensor"
   ]
  },
  {
   "cell_type": "code",
   "execution_count": 284,
   "metadata": {},
   "outputs": [],
   "source": [
    "import time\n",
    "import math\n",
    "\n",
    "def timeSince(since):\n",
    "    now = time.time()\n",
    "    s = now - since\n",
    "    m = math.floor(s / 60)\n",
    "    s -= m * 60\n",
    "    return '%dm %ds' % (m, s)"
   ]
  },
  {
   "cell_type": "code",
   "execution_count": 293,
   "metadata": {},
   "outputs": [
    {
     "name": "stdout",
     "output_type": "stream",
     "text": [
      "0m 50s (5000 5%) 3.9832\n",
      "1m 48s (10000 10%) 3.8661\n",
      "2m 46s (15000 15%) 3.6812\n",
      "3m 39s (20000 20%) nan\n",
      "4m 26s (25000 25%) 3.2908\n",
      "5m 13s (30000 30%) 3.3220\n",
      "5m 58s (35000 35%) 3.2384\n",
      "6m 45s (40000 40%) 3.2123\n",
      "7m 31s (45000 45%) 3.1854\n",
      "8m 19s (50000 50%) 3.0520\n",
      "9m 14s (55000 55%) nan\n",
      "10m 1s (60000 60%) 3.0307\n",
      "10m 50s (65000 65%) 2.8514\n",
      "11m 41s (70000 70%) nan\n",
      "12m 27s (75000 75%) nan\n",
      "13m 14s (80000 80%) 2.9875\n",
      "14m 5s (85000 85%) 2.9477\n",
      "14m 52s (90000 90%) 2.8325\n",
      "15m 40s (95000 95%) 3.0620\n",
      "16m 29s (100000 100%) 3.0236\n"
     ]
    }
   ],
   "source": [
    "rnn = RNN(n_letters, 128, n_letters)\n",
    "\n",
    "n_iters = 100000\n",
    "print_every = 5000\n",
    "plot_every = 500\n",
    "all_losses = []\n",
    "total_loss = 0 # Reset every ``plot_every`` ``iters``\n",
    "\n",
    "start = time.time()\n",
    "\n",
    "for iter in range(1, n_iters + 1):\n",
    "    category_tensor, input_line_tensor, target_line_tensor = randomTrainingExample()\n",
    "    output, loss = train(category_tensor, input_line_tensor, target_line_tensor)\n",
    "    total_loss += loss\n",
    "\n",
    "    if iter % print_every == 0:\n",
    "        print('%s (%d %d%%) %.4f' % (timeSince(start), iter, iter / n_iters * 100, loss))\n",
    "\n",
    "    if iter % plot_every == 0:\n",
    "        all_losses.append(total_loss / plot_every)\n",
    "        total_loss = 0"
   ]
  },
  {
   "cell_type": "code",
   "execution_count": 294,
   "metadata": {},
   "outputs": [
    {
     "data": {
      "text/plain": [
       "[<matplotlib.lines.Line2D at 0x7f9ba0381030>]"
      ]
     },
     "execution_count": 294,
     "metadata": {},
     "output_type": "execute_result"
    },
    {
     "data": {
      "image/png": "[encoded data removed]",
      "text/plain": [
       "<Figure size 640x480 with 1 Axes>"
      ]
     },
     "metadata": {},
     "output_type": "display_data"
    }
   ],
   "source": [
    "import matplotlib.pyplot as plt\n",
    "\n",
    "plt.figure()\n",
    "plt.plot(all_losses)"
   ]
  },
  {
   "cell_type": "code",
   "execution_count": 222,
   "metadata": {},
   "outputs": [
    {
     "name": "stdout",
     "output_type": "stream",
     "text": [
      "HLLLLLLLLLLLLLLLLLLLL\n",
      "eLLLLLLLLLLLLLLLLLLLL\n",
      "lLLLLLLLLLLLLLLLLLLLL\n",
      "GLLLLLLLLLLLLLLLLLLLL\n",
      "oLLLLLLLLLLLLLLLLLLLL\n",
      "oLLLLLLLLLLLLLLLLLLLL\n",
      "TLLLLLLLLLLLLLLLLLLLL\n",
      "hLLLLLLLLLLLLLLLLLLLL\n",
      "aLLLLLLLLLLLLLLLLLLLL\n"
     ]
    }
   ],
   "source": [
    "max_length = 20\n",
    "\n",
    "# Sample from a category and starting letter\n",
    "def sample(category, start_letter='A'):\n",
    "    with torch.no_grad():  # no need to track history in sampling\n",
    "        category_tensor = categoryTensor(category)\n",
    "        input = inputTensor(start_letter)\n",
    "        hidden = rnn.initHidden()\n",
    "\n",
    "        output_name = start_letter\n",
    "\n",
    "        for i in range(max_length):\n",
    "            output, hidden = rnn(category_tensor, input[0], hidden)\n",
    "            topv, topi = output.topk(1)\n",
    "            topi = topi[0][0]\n",
    "            if topi == n_letters - 1:\n",
    "                break\n",
    "            else:\n",
    "                letter = all_letters[topi]\n",
    "                output_name += letter\n",
    "            input = inputTensor(letter)\n",
    "\n",
    "        return output_name\n",
    "\n",
    "# Get multiple samples from one category and multiple starting letters\n",
    "def samples(category, start_letters='ABC'):\n",
    "    for start_letter in start_letters:\n",
    "        print(sample(category, start_letter))\n",
    "\n",
    "samples('greeting', 'Hel')\n",
    "\n",
    "samples('goodbye', 'Goo')\n",
    "\n",
    "samples('thanks', 'Tha')"
   ]
  },
  {
   "cell_type": "markdown",
   "metadata": {},
   "source": [
    "------------------------------------------------------------"
   ]
  },
  {
   "cell_type": "markdown",
   "metadata": {},
   "source": [
    "# TO BE MOVED"
   ]
  },
  {
   "cell_type": "code",
   "execution_count": 210,
   "metadata": {},
   "outputs": [
    {
     "name": "stdout",
     "output_type": "stream",
     "text": [
      "P461508\n",
      "P678434\n",
      "P198322\n",
      "P747217\n",
      "P184991\n",
      "P570284\n",
      "P873097\n",
      "P094463\n",
      "P857921\n",
      "P442367\n"
     ]
    }
   ],
   "source": [
    "import random\n",
    "\n",
    "def generate_random_patient_ids(num_ids=10, prefix=\"P\", id_length=6):\n",
    "    random_ids = []\n",
    "    for _ in range(num_ids):\n",
    "        id_number = ''.join([str(random.randint(0, 9)) for _ in range(id_length)])\n",
    "        random_ids.append(prefix + id_number)\n",
    "    return random_ids\n",
    "\n",
    "# Generate 10 random patient IDs\n",
    "random_patient_ids = generate_random_patient_ids()\n",
    "\n",
    "for id in random_patient_ids:\n",
    "    print(id)"
   ]
  },
  {
   "cell_type": "markdown",
   "metadata": {},
   "source": [
    "# ------------------------------------------------------------------"
   ]
  }
 ],
 "metadata": {
  "kernelspec": {
   "display_name": "Python 3",
   "language": "python",
   "name": "python3"
  },
  "language_info": {
   "codemirror_mode": {
    "name": "ipython",
    "version": 3
   },
   "file_extension": ".py",
   "mimetype": "text/x-python",
   "name": "python",
   "nbconvert_exporter": "python",
   "pygments_lexer": "ipython3",
   "version": "3.10.12"
  }
 },
 "nbformat": 4,
 "nbformat_minor": 2
}
