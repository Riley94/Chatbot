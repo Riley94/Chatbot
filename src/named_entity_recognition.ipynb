{
 "cells": [
  {
   "cell_type": "markdown",
   "metadata": {},
   "source": [
    "Install Libraries if Needed"
   ]
  },
  {
   "cell_type": "code",
   "execution_count": null,
   "metadata": {},
   "outputs": [],
   "source": [
    "!pip install spacy pandas numpy pickle matplotlib seaborn scikit-learn beautifulsoup4 requests googleapiclient"
   ]
  },
  {
   "cell_type": "markdown",
   "metadata": {},
   "source": [
    "# Import Libraries"
   ]
  },
  {
   "cell_type": "code",
   "execution_count": 1,
   "metadata": {},
   "outputs": [],
   "source": [
    "import spacy\n",
    "import os\n",
    "import json\n",
    "import pandas as pd\n",
    "import pickle\n",
    "from googleapiclient.discovery import build\n",
    "from google_auth_oauthlib.flow import InstalledAppFlow\n",
    "from google.auth.transport.requests import Request\n",
    "from googleapiclient.http import MediaIoBaseDownload\n",
    "from bs4 import BeautifulSoup\n",
    "import requests\n",
    "import random\n",
    "from spacy.training import Example\n",
    "from spacy.util import minibatch, compounding\n",
    "import io\n",
    "import re\n",
    "import datetime\n",
    "import numpy as np\n",
    "from sklearn.metrics import confusion_matrix\n",
    "import seaborn as sns\n",
    "import matplotlib.pyplot as plt"
   ]
  },
  {
   "cell_type": "markdown",
   "metadata": {},
   "source": [
    "# Data Collection"
   ]
  },
  {
   "cell_type": "markdown",
   "metadata": {},
   "source": [
    "--------"
   ]
  },
  {
   "cell_type": "code",
   "execution_count": 2,
   "metadata": {},
   "outputs": [
    {
     "name": "stdout",
     "output_type": "stream",
     "text": [
      "      medication\n",
      "0  acetaminophen\n",
      "1      acyclovir\n",
      "2       Adderall\n",
      "3      albuterol\n",
      "4    alendronate\n"
     ]
    }
   ],
   "source": [
    "# if csv exists, load it\n",
    "if os.path.exists('../clean_data/medications.csv'):\n",
    "    medications = pd.read_csv('../clean_data/medications.csv')\n",
    "# otherwise, scrape the data\n",
    "else:\n",
    "    url = \"https://healthy.kaiserpermanente.org/health-wellness/drug-encyclopedia.\"\n",
    "\n",
    "    medications = []\n",
    "\n",
    "    # iterate from 'a' to 'z'\n",
    "    for letter in range(97, 123):\n",
    "        url = url + chr(letter)\n",
    "        response = requests.get(url)\n",
    "        soup = BeautifulSoup(response.text, 'html.parser')\n",
    "        for li in soup.select(\".drug-column-4\"):\n",
    "            medications.append(li.text)\n",
    "        \n",
    "        url = \"https://healthy.kaiserpermanente.org/health-wellness/drug-encyclopedia.\"\n",
    "\n",
    "    # split by new line\n",
    "    medications = [medication.split('\\n') for medication in medications]\n",
    "    # flatten and remove empty strings\n",
    "    medications = [medication for sublist in medications for medication in sublist if medication != '']\n",
    "    medications = pd.DataFrame(medications, columns=['medication'])\n",
    "    medications.to_csv('../clean_data/medications.csv', index=False)\n",
    "\n",
    "\n",
    "print(medications.head())"
   ]
  },
  {
   "cell_type": "markdown",
   "metadata": {},
   "source": [
    "380 medication names to randomize NER data"
   ]
  },
  {
   "cell_type": "code",
   "execution_count": 3,
   "metadata": {},
   "outputs": [],
   "source": [
    "# Define the scope of the application\n",
    "SCOPES = ['https://www.googleapis.com/auth/drive']\n",
    "# Function to authenticate and create the service\n",
    "def create_service():\n",
    "    creds = None\n",
    "    # The file token.pickle stores the user's access and refresh tokens.\n",
    "    if os.path.exists('token.pickle'):\n",
    "        with open('token.pickle', 'rb') as token:\n",
    "            creds = pickle.load(token)\n",
    "    # If there are no (valid) credentials available, let the user log in.\n",
    "    if not creds or not creds.valid:\n",
    "        if creds and creds.expired and creds.refresh_token:\n",
    "            creds.refresh(Request())\n",
    "        else:\n",
    "            flow = InstalledAppFlow.from_client_secrets_file('credentials.json', SCOPES)\n",
    "            creds = flow.run_local_server(port=0)\n",
    "        # Save the credentials for the next run\n",
    "        with open('token.pickle', 'wb') as token:\n",
    "            pickle.dump(creds, token)\n",
    "    \n",
    "    service = build('drive', 'v3', credentials=creds)\n",
    "    return service\n",
    "\n",
    "# Function to list files in a given folder ID\n",
    "def list_files_in_folder(service, folder_id):\n",
    "    results = service.files().list(q=f\"'{folder_id}' in parents\", fields=\"nextPageToken, files(id, name)\").execute()\n",
    "    items = results.get('files', [])\n",
    "    return items\n",
    "\n",
    "# Function to download a file\n",
    "def download_or_export_file(service, file_id, file_name, mime_type):\n",
    "    try:\n",
    "        # Check if the file is a Google Doc by its MIME type\n",
    "        if mime_type.startswith('application/vnd.google-apps.'):\n",
    "            # Define export MIME type for Google Docs (e.g., 'application/pdf' for Google Docs)\n",
    "            if mime_type == 'application/vnd.google-apps.document':\n",
    "                export_mime_type = 'application/pdf'\n",
    "                file_name += '.pdf'  # Append appropriate file extension\n",
    "            elif mime_type == 'application/vnd.google-apps.spreadsheet':\n",
    "                export_mime_type = 'application/vnd.openxmlformats-officedocument.spreadsheetml.sheet'\n",
    "                file_name += '.xlsx'  # Append appropriate file extension\n",
    "            elif mime_type == 'application/vnd.google-apps.presentation':\n",
    "                export_mime_type = 'application/vnd.openxmlformats-officedocument.presentationml.presentation'\n",
    "                file_name += '.pptx'  # Append appropriate file extension\n",
    "            else:\n",
    "                # Default to PDF for other Google Apps documents\n",
    "                export_mime_type = 'application/pdf'\n",
    "                file_name += '.pdf'\n",
    "            \n",
    "            request = service.files().export_media(fileId=file_id, mimeType=export_mime_type)\n",
    "        else:\n",
    "            # For binary files, use the get_media method\n",
    "            request = service.files().get_media(fileId=file_id)\n",
    "        \n",
    "        # Perform the download or export\n",
    "        fh = io.BytesIO()\n",
    "        downloader = MediaIoBaseDownload(fh, request)\n",
    "        done = False\n",
    "        while not done:\n",
    "            status, done = downloader.next_chunk()\n",
    "            print(f\"Download {int(status.progress() * 100)}%.\")\n",
    "        \n",
    "        # Write the file's contents to a local file\n",
    "        with open(file_name, 'wb') as f:\n",
    "            f.write(fh.getbuffer())\n",
    "        print(f\"File '{file_name}' downloaded successfully.\")\n",
    "    \n",
    "    except Exception as e:\n",
    "        print(f\"An error occurred: {e}\")\n",
    "\n",
    "def find_folders_by_name(service, folder_name):\n",
    "    \"\"\"Find folders by name and return their IDs.\"\"\"\n",
    "    query = f\"mimeType='application/vnd.google-apps.folder' and name='{folder_name}'\"\n",
    "    response = service.files().list(q=query, spaces='drive', fields='files(id, name)').execute()\n",
    "    return response.get('files', [])\n",
    "\n",
    "def find_subfolder_id(service, parent_folder_id, subfolder_name):\n",
    "    \"\"\"Find a specific subfolder within a parent folder.\"\"\"\n",
    "    query = f\"'{parent_folder_id}' in parents and mimeType='application/vnd.google-apps.folder' and name='{subfolder_name}'\"\n",
    "    response = service.files().list(q=query, spaces='drive', fields='files(id, name)').execute()\n",
    "    files = response.get('files', [])\n",
    "    if files:\n",
    "        return files[0]['id']  # Return the ID of the first matching subfolder\n",
    "    return None\n",
    "\n",
    "def download_txt_files_from_folder(service, folder_id):\n",
    "    \"\"\"Download all .txt files from a specified folder.\"\"\"\n",
    "    query = f\"'{folder_id}' in parents and mimeType='text/plain'\"\n",
    "    response = service.files().list(q=query, spaces='drive', fields='files(id, name, mimeType)').execute()\n",
    "    files = response.get('files', [])\n",
    "    for file in files:\n",
    "        print(f\"Downloading/exporting {file['name']}...\")\n",
    "        download_or_export_file(service, file['id'], file['name'], file['mimeType'])"
   ]
  },
  {
   "cell_type": "markdown",
   "metadata": {},
   "source": [
    "Toy diagnosis data. Might look into a better source, but this will work for now"
   ]
  },
  {
   "cell_type": "code",
   "execution_count": 4,
   "metadata": {},
   "outputs": [
    {
     "name": "stdout",
     "output_type": "stream",
     "text": [
      "                               diagnosis\n",
      "0                Acute Myeloid Leukaemia\n",
      "1   Adrenocortical Carcinoma (Localised)\n",
      "2  Adrenocortical Carcinoma (Metastatic)\n",
      "3    Adrenocortical Carcinoma (Regional)\n",
      "4                           ALL (B Cell)\n"
     ]
    }
   ],
   "source": [
    "# again, if csv exists, load it\n",
    "if os.path.exists('../clean_data/diagnoses.csv'):\n",
    "    diagnoses = pd.read_csv('../clean_data/diagnoses.csv')\n",
    "# otherwise, download it from Google Drive\n",
    "else:\n",
    "    service = create_service()  # Assume this is implemented as shown before\n",
    "    top_level_folder_names = ['Base-Game', 'Mod-Diagnoses']\n",
    "\n",
    "    for folder_name in top_level_folder_names:\n",
    "        folders = find_folders_by_name(service, folder_name)\n",
    "        for folder in folders:\n",
    "            dept_diagnoses_folder_id = find_subfolder_id(service, folder['id'], 'Dept-Diagnoses')\n",
    "            if dept_diagnoses_folder_id:\n",
    "                download_txt_files_from_folder(service, dept_diagnoses_folder_id)\n",
    "    \n",
    "    diagnoses = []\n",
    "    # loop through all files and extract the text following '##' (diagnosis names)\n",
    "    for file in os.listdir('../raw_data/diagnoses'):\n",
    "        with open(f'../raw_data/diagnoses/{file}', 'r') as f:\n",
    "            for line in f:\n",
    "                if '##' in line:\n",
    "                    diagnoses.append(line.split('##')[1].strip())\n",
    "    \n",
    "    diagnoses = pd.DataFrame(diagnoses, columns=['diagnosis']).to_csv('../clean_data/diagnoses.csv', index=False)\n",
    "\n",
    "print(diagnoses.head())"
   ]
  },
  {
   "cell_type": "markdown",
   "metadata": {},
   "source": [
    "634 diagnoses to randomize NER training data"
   ]
  },
  {
   "cell_type": "markdown",
   "metadata": {},
   "source": [
    "Some dosages are nonsensical, but will hopefully allow the model to generalize well"
   ]
  },
  {
   "cell_type": "code",
   "execution_count": 5,
   "metadata": {},
   "outputs": [
    {
     "name": "stdout",
     "output_type": "stream",
     "text": [
      "['430 g every 11 hours', '80 g', '180 mL', '250 mL', '1000 mL', '560 L every 44 hours', '655 mL', '960 L', '930 g', '370 mL', '955 L every 2 hours', '20 mg', '120 L', '960 mL', '900 g', '825 mL every 17 hours', '75 mg', '240 mL', '50 g', '670 mg', '155 mg every 13 hours', '315 L', '690 g', '340 g', '170 g', '560 mL every 38 hours', '770 g', '75 mL', '770 mg', '390 mg', '710 g every 44 hours', '635 L', '985 mg', '595 mg', '585 mg', '290 mg every 46 hours', '760 L', '60 mg', '655 mL', '80 L', '420 L every 20 hours', '485 mL', '905 mg', '590 g', '560 L', '740 mg every 46 hours', '435 g', '775 mg', '745 mL', '745 mL', '445 mL once daily', '985 mg', '280 L', '50 mg', '905 L', '450 L every 0 hours', '360 L', '55 g', '610 g', '825 L', '190 g every 11 hours', '515 g', '365 mL', '30 mg', '180 mL', '255 g every 18 hours', '565 g', '880 mg', '600 mg', '735 L', '740 mg every 43 hours', '115 mg', '170 mg', '295 L', '165 L', '545 mg every 37 hours', '735 mg', '45 mL', '615 L', '780 mg', '750 g every 33 hours', '110 L', '525 L', '250 g', '695 mg', '720 mg every 45 hours', '525 g', '770 mL', '715 mL', '540 L', '290 mg every 43 hours', '1000 mg', '200 mg', '575 L', '735 mg', '755 mg as needed', '220 g', '930 g', '965 g', '925 g', '35 mL every 47 hours', '1000 mL', '670 mL', '380 mL', '685 L', '220 mg every 9 hours', '770 g', '410 L', '450 mg', '140 L', '200 mg every 45 hours', '995 mL', '735 mL', '20 mg', '495 g', '125 mg every 11 hours', '650 L', '955 L', '445 mL', '160 mL', '935 g every 9 hours', '435 mL', '580 mg', '975 L', '240 mL', '955 mg every 8 hours', '700 mL', '120 g', '690 g', '185 g', '565 mg every 17 hours', '380 mg', '275 g', '425 g', '60 mL', '445 g every 14 hours', '450 L', '455 mL', '930 mg', '565 mg', '70 L every 7 hours', '250 mg', '70 mg', '110 mg', '860 L', '920 g every 12 hours', '270 g', '910 g', '185 mg', '340 g', '195 L every 26 hours', '585 L', '625 L', '590 mL', '895 mL', '690 g every 38 hours', '430 mL', '190 L', '110 mg', '580 g', '595 L every 30 hours', '100 L', '120 g', '380 g', '630 L', '380 g every 20 hours', '680 L', '315 mL', '25 mg', '30 g', '195 mg every 45 hours', '530 mL', '785 L', '140 mL', '440 mL', '815 mL every 25 hours', '80 mL', '85 g', '20 g', '10 L', '485 g every 30 hours', '440 g', '735 mL', '185 L', '535 mg', '195 g every 41 hours', '970 mL', '340 g', '900 mL', '920 L', '360 mL every 46 hours', '865 g', '780 L', '995 mL', '325 g', '260 mg every 12 hours', '650 L', '990 mL', '600 mg', '1000 L', '15 mg every 44 hours', '65 mg', '560 mg', '800 L', '695 g', '835 mL every 25 hours', '925 g', '355 g', '335 mL', '965 mg', '565 mg every 18 hours', '885 mg', '855 L', '250 L', '765 g', '5 g every 33 hours', '190 mL', '865 L', '230 mg', '720 L', '775 mg every 37 hours', '700 L', '355 g', '120 mg', '240 L', '205 L every 42 hours', '220 mg', '355 mg', '935 mL', '515 mg', '945 L every 9 hours', '15 L', '715 mL', '830 mL', '480 mL', '575 L every 6 hours', '565 L', '325 mL', '675 g', '610 mg', '560 L every 41 hours', '105 L', '820 mg', '575 g', '675 mg', '215 mL every 17 hours', '160 g', '600 mL', '365 mL', '200 L', '785 mg every 34 hours', '975 g', '575 g', '435 mg', '355 L', '725 mL every 0 hours', '670 g', '505 mL', '700 L', '665 L', '900 g every 25 hours', '665 g', '650 g', '600 g', '695 mg', '820 g every 44 hours', '665 g', '100 mL', '25 L', '320 mL', '850 L every 32 hours', '445 mL', '935 mg', '715 mg', '770 L', '730 L every 31 hours', '925 mg', '450 g', '780 L', '490 mL', '855 L every 22 hours', '695 L', '780 g', '485 g', '205 mL', '440 L every 11 hours', '720 g', '190 g', '220 mg', '265 g', '460 L every 42 hours', '540 mL', '110 mg', '865 g', '400 g', '365 mL every 34 hours', '235 mL', '330 mL', '865 g', '755 mL']\n"
     ]
    }
   ],
   "source": [
    "# randomly generate dosage data\n",
    "dosages = []\n",
    "units = ['mg', 'g', 'mL', 'L']\n",
    "concat_every = 5\n",
    "frequency = ['twice daily', 'once daily', 'as needed']\n",
    "\n",
    "for hour in range(48):\n",
    "    frequency.append(f'every {hour} hours')\n",
    "\n",
    "for i in range(300):\n",
    "    dosage = str(random.choice(range(5, 1001, 5))) + f' {random.choice(units)}'\n",
    "    if i % concat_every == 0:\n",
    "        dosage += ' ' + random.choice(frequency)\n",
    "    dosages.append(dosage)\n",
    "\n",
    "print(dosages)"
   ]
  },
  {
   "cell_type": "markdown",
   "metadata": {},
   "source": [
    "Tests"
   ]
  },
  {
   "cell_type": "code",
   "execution_count": 6,
   "metadata": {},
   "outputs": [],
   "source": [
    "# if csv exists, load it\n",
    "if os.path.exists('../clean_data/tests.csv'):\n",
    "    tests = pd.read_csv('../clean_data/tests.csv')\n",
    "# otherwise, scrape the data\n",
    "else:\n",
    "    url = \"https://medlineplus.gov/lab-tests/\"\n",
    "\n",
    "    response = requests.get(url)\n",
    "    soup = BeautifulSoup(response.text, 'html.parser')\n",
    "    tests = []\n",
    "    # select all uorderdered lists with class 'withident breaklist'\n",
    "    for item in soup.select(\".withident.breaklist\"):\n",
    "        tests.append(item.text)\n",
    "\n",
    "    tests = pd.DataFrame(tests, columns=['test'])\n",
    "    tests['test'] = tests['test'].str.split('\\n')\n",
    "    tests = tests.explode('test')\n",
    "    tests = tests[tests['test'] != '']\n",
    "    tests.to_csv('../clean_data/tests.csv', index=False)"
   ]
  },
  {
   "cell_type": "markdown",
   "metadata": {},
   "source": [
    "Symptoms"
   ]
  },
  {
   "cell_type": "code",
   "execution_count": 7,
   "metadata": {},
   "outputs": [],
   "source": [
    "# if csv exists, load it\n",
    "if os.path.exists('../clean_data/symptoms.csv'):\n",
    "    symptoms = pd.read_csv('../clean_data/symptoms.csv')\n",
    "else:\n",
    "    symptoms = []\n",
    "    pattern = r\"\\+\\s(.+?)\\s\\(\\d+% of cases \\| .+?\\)\"\n",
    "\n",
    "    # loop through all files and extract the text following '##' (diagnosis names)\n",
    "    for file in os.listdir('../raw_data/diagnoses'):\n",
    "        with open(f'../raw_data/diagnoses/{file}', 'r') as f:\n",
    "            for line in f:\n",
    "                match = re.search(pattern, line)\n",
    "                if match:\n",
    "                    symptoms.append(match.group(1))\n",
    "\n",
    "    symptoms = pd.DataFrame(symptoms, columns=['symptom'])\n",
    "    # make unique\n",
    "    symptoms = symptoms.drop_duplicates()\n",
    "    symptoms.to_csv('../clean_data/symptoms.csv', index=False)"
   ]
  },
  {
   "cell_type": "markdown",
   "metadata": {},
   "source": [
    "Dates"
   ]
  },
  {
   "cell_type": "code",
   "execution_count": 8,
   "metadata": {},
   "outputs": [
    {
     "name": "stdout",
     "output_type": "stream",
     "text": [
      "['January 01', 'January 02', 'January 03', 'January 04', 'January 05', 'January 06', 'January 07', 'January 08', 'January 09', 'January 10', 'January 11', 'January 12', 'January 13', 'January 14', 'January 15', 'January 16', 'January 17', 'January 18', 'January 19', 'January 20', 'January 21', 'January 22', 'January 23', 'January 24', 'January 25', 'January 26', 'January 27', 'January 28', 'February 01', 'February 02', 'February 03', 'February 04', 'February 05', 'February 06', 'February 07', 'February 08', 'February 09', 'February 10', 'February 11', 'February 12', 'February 13', 'February 14', 'February 15', 'February 16', 'February 17', 'February 18', 'February 19', 'February 20', 'February 21', 'February 22', 'February 23', 'February 24', 'February 25', 'February 26', 'February 27', 'February 28', 'March 01', 'March 02', 'March 03', 'March 04', 'March 05', 'March 06', 'March 07', 'March 08', 'March 09', 'March 10', 'March 11', 'March 12', 'March 13', 'March 14', 'March 15', 'March 16', 'March 17', 'March 18', 'March 19', 'March 20', 'March 21', 'March 22', 'March 23', 'March 24', 'March 25', 'March 26', 'March 27', 'March 28', 'April 01', 'April 02', 'April 03', 'April 04', 'April 05', 'April 06', 'April 07', 'April 08', 'April 09', 'April 10', 'April 11', 'April 12', 'April 13', 'April 14', 'April 15', 'April 16', 'April 17', 'April 18', 'April 19', 'April 20', 'April 21', 'April 22', 'April 23', 'April 24', 'April 25', 'April 26', 'April 27', 'April 28', 'May 01', 'May 02', 'May 03', 'May 04', 'May 05', 'May 06', 'May 07', 'May 08', 'May 09', 'May 10', 'May 11', 'May 12', 'May 13', 'May 14', 'May 15', 'May 16', 'May 17', 'May 18', 'May 19', 'May 20', 'May 21', 'May 22', 'May 23', 'May 24', 'May 25', 'May 26', 'May 27', 'May 28', 'June 01', 'June 02', 'June 03', 'June 04', 'June 05', 'June 06', 'June 07', 'June 08', 'June 09', 'June 10', 'June 11', 'June 12', 'June 13', 'June 14', 'June 15', 'June 16', 'June 17', 'June 18', 'June 19', 'June 20', 'June 21', 'June 22', 'June 23', 'June 24', 'June 25', 'June 26', 'June 27', 'June 28', 'July 01', 'July 02', 'July 03', 'July 04', 'July 05', 'July 06', 'July 07', 'July 08', 'July 09', 'July 10', 'July 11', 'July 12', 'July 13', 'July 14', 'July 15', 'July 16', 'July 17', 'July 18', 'July 19', 'July 20', 'July 21', 'July 22', 'July 23', 'July 24', 'July 25', 'July 26', 'July 27', 'July 28', 'August 01', 'August 02', 'August 03', 'August 04', 'August 05', 'August 06', 'August 07', 'August 08', 'August 09', 'August 10', 'August 11', 'August 12', 'August 13', 'August 14', 'August 15', 'August 16', 'August 17', 'August 18', 'August 19', 'August 20', 'August 21', 'August 22', 'August 23', 'August 24', 'August 25', 'August 26', 'August 27', 'August 28', 'September 01', 'September 02', 'September 03', 'September 04', 'September 05', 'September 06', 'September 07', 'September 08', 'September 09', 'September 10', 'September 11', 'September 12', 'September 13', 'September 14', 'September 15', 'September 16', 'September 17', 'September 18', 'September 19', 'September 20', 'September 21', 'September 22', 'September 23', 'September 24', 'September 25', 'September 26', 'September 27', 'September 28', 'October 01', 'October 02', 'October 03', 'October 04', 'October 05', 'October 06', 'October 07', 'October 08', 'October 09', 'October 10', 'October 11', 'October 12', 'October 13', 'October 14', 'October 15', 'October 16', 'October 17', 'October 18', 'October 19', 'October 20', 'October 21', 'October 22', 'October 23', 'October 24', 'October 25', 'October 26', 'October 27', 'October 28', 'November 01', 'November 02', 'November 03', 'November 04', 'November 05', 'November 06', 'November 07', 'November 08', 'November 09', 'November 10', 'November 11', 'November 12', 'November 13', 'November 14', 'November 15', 'November 16', 'November 17', 'November 18', 'November 19', 'November 20', 'November 21', 'November 22', 'November 23', 'November 24', 'November 25', 'November 26', 'November 27', 'November 28', 'December 01', 'December 02', 'December 03', 'December 04', 'December 05', 'December 06', 'December 07', 'December 08', 'December 09', 'December 10', 'December 11', 'December 12', 'December 13', 'December 14', 'December 15', 'December 16', 'December 17', 'December 18', 'December 19', 'December 20', 'December 21', 'December 22', 'December 23', 'December 24', 'December 25', 'December 26', 'December 27', 'December 28']\n"
     ]
    }
   ],
   "source": [
    "dates = []\n",
    "\n",
    "# generate dates in the format \"Month Day\"\n",
    "for i in range(1, 13):\n",
    "    for j in range(1, 29):\n",
    "        # year is arbitrary\n",
    "        date = datetime.date(2021, i, j)\n",
    "        full_date = f\"{date.strftime('%B')} {date.strftime('%d')}\"\n",
    "        dates.append(full_date)\n",
    "\n",
    "print(dates)"
   ]
  },
  {
   "cell_type": "markdown",
   "metadata": {},
   "source": [
    "Times"
   ]
  },
  {
   "cell_type": "code",
   "execution_count": 72,
   "metadata": {},
   "outputs": [],
   "source": [
    "times = []\n",
    "# generate times in the format \"Hour AM/PM\"\n",
    "for i in range(1, 13):\n",
    "    for j in [\"AM\", \"PM\"]:\n",
    "        time = f\"{i} {j}\"\n",
    "        times.append(time)"
   ]
  },
  {
   "cell_type": "markdown",
   "metadata": {},
   "source": [
    "-------------------"
   ]
  },
  {
   "cell_type": "markdown",
   "metadata": {},
   "source": [
    "# Data Processing"
   ]
  },
  {
   "cell_type": "markdown",
   "metadata": {},
   "source": [
    "---------"
   ]
  },
  {
   "cell_type": "code",
   "execution_count": 9,
   "metadata": {},
   "outputs": [],
   "source": [
    "# Function to generate a random date\n",
    "def generate_example():\n",
    "    output = {}\n",
    "    genders = ['he', 'she', 'they', 'the patient'] # for variation\n",
    "    diagnosis = random.choice(diagnoses['diagnosis'].values)\n",
    "    medication = random.choice(medications['medication'].values)\n",
    "    dosage = random.choice(dosages)\n",
    "    test_name = random.choice(tests['test'].values)\n",
    "    symptom = random.choice(symptoms['symptom'].values)\n",
    "    gender = random.choice(genders)\n",
    "    date = random.choice(dates)\n",
    "    time = random.choice(times)\n",
    "\n",
    "    choices = [diagnosis, medication, dosage, test_name, symptom, date, time]\n",
    "    choice_map = ['diagnosis', 'medication', 'dosage', 'test_name', 'symptom', 'date', 'time']\n",
    "    entities = []\n",
    "\n",
    "    text_elements = [\n",
    "        f\"{gender.capitalize()} was diagnosed with {diagnosis} last year.\",\n",
    "        f\"{gender.capitalize()} has been prescribed {medication} {dosage}.\",\n",
    "        f\"{test_name.capitalize()} measurements indicate {diagnosis}.\",\n",
    "        f\"Patient presents with {symptom}. Need to run {test_name}.\",\n",
    "        f\"Prescribe {dosage} of {medication} for {symptom}.\",\n",
    "        f\"Schedule an appointment for {date} at {time}.\",\n",
    "        f\"Cancel the appointment for {date} at {time}.\",\n",
    "        f\"{gender.capitalize()} mentioned an allergy to {medication}.\",\n",
    "    ]\n",
    "    text = random.choice(text_elements)\n",
    "    annotated_segments = []\n",
    "    for index, choice in enumerate(choices):\n",
    "        start_pos = text.find(choice)\n",
    "        if start_pos != -1 and not any(start <= start_pos < end for start, end in annotated_segments):\n",
    "            end_pos = start_pos + len(choice)\n",
    "            entities.append({\"start\": start_pos, \"end\": end_pos, \"label\": choice_map[index]})\n",
    "            annotated_segments.append((start_pos, end_pos))\n",
    "    \n",
    "    output[\"text\"] = text\n",
    "    output[\"entities\"] = entities\n",
    "    return output\n",
    "\n",
    "# Generate 1000 examples\n",
    "train_data = [generate_example() for _ in range(1000)]\n",
    "\n",
    "# Save the examples to a JSON file\n",
    "file_path = '../clean_data/train_data.json'\n",
    "with open(file_path, 'w') as file:\n",
    "    json.dump(train_data, file, indent=2)"
   ]
  },
  {
   "cell_type": "code",
   "execution_count": 10,
   "metadata": {},
   "outputs": [],
   "source": [
    "# Load JSON data\n",
    "with open('../clean_data/train_data.json', 'r') as file:\n",
    "    data = json.load(file)\n",
    "\n",
    "# Convert the JSON data to the desired format\n",
    "formatted_data = []\n",
    "for item in data:\n",
    "    text = item['text']\n",
    "    entities = []\n",
    "    for entity in item['entities']:\n",
    "        start = entity['start']\n",
    "        end = entity['end']\n",
    "        label = entity['label']\n",
    "        entities.append((start, end, label.upper()))  # Convert label to uppercase as shown in the example\n",
    "    formatted_data.append((text, {\"entities\": entities}))"
   ]
  },
  {
   "cell_type": "code",
   "execution_count": 11,
   "metadata": {},
   "outputs": [],
   "source": [
    "from sklearn.model_selection import train_test_split\n",
    "\n",
    "# Split data into training and test set\n",
    "train, test = train_test_split(formatted_data, test_size=0.2, random_state=42)"
   ]
  },
  {
   "cell_type": "code",
   "execution_count": 12,
   "metadata": {},
   "outputs": [
    {
     "name": "stdout",
     "output_type": "stream",
     "text": [
      "{'DOSAGE', 'TEST_NAME', 'DIAGNOSIS', 'MEDICATION', 'SYMPTOM'}\n"
     ]
    }
   ],
   "source": [
    "entity_labels = set()\n",
    "for text, annotations in formatted_data:\n",
    "    for entity in annotations['entities']:\n",
    "        entity_labels.add(entity[2])\n",
    "\n",
    "print(entity_labels)"
   ]
  },
  {
   "cell_type": "markdown",
   "metadata": {},
   "source": [
    "---"
   ]
  },
  {
   "cell_type": "code",
   "execution_count": 14,
   "metadata": {},
   "outputs": [
    {
     "name": "stdout",
     "output_type": "stream",
     "text": [
      "\u001b[38;5;2m✔ Download and installation successful\u001b[0m\n",
      "You can now load the package via spacy.load('en_core_web_sm')\n",
      "\u001b[38;5;3m⚠ Restart to reload dependencies\u001b[0m\n",
      "If you are in a Jupyter or Colab notebook, you may need to restart Python in\n",
      "order to load all the package's dependencies. You can do this by selecting the\n",
      "'Restart kernel' or 'Restart runtime' option.\n"
     ]
    }
   ],
   "source": [
    "spacy.cli.download(\"en_core_web_sm\")\n",
    "nlp = spacy.load('en_core_web_sm') # use a pre-trained model\n",
    "\n",
    "# Add the NER pipeline if not already present\n",
    "if 'ner' not in nlp.pipe_names:\n",
    "    ner = nlp.create_pipe('ner')\n",
    "    nlp.add_pipe('ner')\n",
    "else:\n",
    "    ner = nlp.get_pipe('ner')\n",
    "\n",
    "# Add entity labels to the model\n",
    "for entity in entity_labels:\n",
    "    ner.add_label(entity)"
   ]
  },
  {
   "cell_type": "markdown",
   "metadata": {},
   "source": [
    "Current labels"
   ]
  },
  {
   "cell_type": "code",
   "execution_count": 15,
   "metadata": {},
   "outputs": [
    {
     "name": "stdout",
     "output_type": "stream",
     "text": [
      "('CARDINAL', 'DATE', 'DIAGNOSIS', 'DOSAGE', 'EVENT', 'FAC', 'GPE', 'LANGUAGE', 'LAW', 'LOC', 'MEDICATION', 'MONEY', 'NORP', 'ORDINAL', 'ORG', 'PERCENT', 'PERSON', 'PRODUCT', 'QUANTITY', 'SYMPTOM', 'TEST_NAME', 'TIME', 'WORK_OF_ART')\n"
     ]
    }
   ],
   "source": [
    "ner = nlp.get_pipe(\"ner\")\n",
    "print(ner.labels)"
   ]
  },
  {
   "cell_type": "markdown",
   "metadata": {},
   "source": [
    "Currently not predicting any entity labels in the dataset"
   ]
  },
  {
   "cell_type": "code",
   "execution_count": 16,
   "metadata": {},
   "outputs": [
    {
     "name": "stderr",
     "output_type": "stream",
     "text": [
      "c:\\Users\\rgbmr\\AppData\\Local\\Programs\\Python\\Python312\\Lib\\site-packages\\spacy\\training\\iob_utils.py:149: UserWarning: [W030] Some entities could not be aligned in the text \"The patient has been prescribed folic acid 380 g.\" with entities \"[(32, 42, 'MEDICATION'), (43, 48, 'DOSAGE')]\". Use `spacy.training.offsets_to_biluo_tags(nlp.make_doc(text), entities)` to check the alignment. Misaligned entities ('-') will be ignored during training.\n",
      "  warnings.warn(\n",
      "c:\\Users\\rgbmr\\AppData\\Local\\Programs\\Python\\Python312\\Lib\\site-packages\\spacy\\training\\iob_utils.py:149: UserWarning: [W030] Some entities could not be aligned in the text \"She has been prescribed topiramate 340 g.\" with entities \"[(24, 34, 'MEDICATION'), (35, 40, 'DOSAGE')]\". Use `spacy.training.offsets_to_biluo_tags(nlp.make_doc(text), entities)` to check the alignment. Misaligned entities ('-') will be ignored during training.\n",
      "  warnings.warn(\n",
      "c:\\Users\\rgbmr\\AppData\\Local\\Programs\\Python\\Python312\\Lib\\site-packages\\spacy\\training\\iob_utils.py:149: UserWarning: [W030] Some entities could not be aligned in the text \"He has been prescribed effexor 695 g.\" with entities \"[(23, 30, 'MEDICATION'), (31, 36, 'DOSAGE')]\". Use `spacy.training.offsets_to_biluo_tags(nlp.make_doc(text), entities)` to check the alignment. Misaligned entities ('-') will be ignored during training.\n",
      "  warnings.warn(\n",
      "c:\\Users\\rgbmr\\AppData\\Local\\Programs\\Python\\Python312\\Lib\\site-packages\\spacy\\training\\iob_utils.py:149: UserWarning: [W030] Some entities could not be aligned in the text \"The patient has been prescribed Haldol 715 mL.\" with entities \"[(32, 38, 'MEDICATION'), (39, 45, 'DOSAGE')]\". Use `spacy.training.offsets_to_biluo_tags(nlp.make_doc(text), entities)` to check the alignment. Misaligned entities ('-') will be ignored during training.\n",
      "  warnings.warn(\n",
      "c:\\Users\\rgbmr\\AppData\\Local\\Programs\\Python\\Python312\\Lib\\site-packages\\spacy\\training\\iob_utils.py:149: UserWarning: [W030] Some entities could not be aligned in the text \"They has been prescribed buprenorphine 735 L.\" with entities \"[(25, 38, 'MEDICATION'), (39, 44, 'DOSAGE')]\". Use `spacy.training.offsets_to_biluo_tags(nlp.make_doc(text), entities)` to check the alignment. Misaligned entities ('-') will be ignored during training.\n",
      "  warnings.warn(\n",
      "c:\\Users\\rgbmr\\AppData\\Local\\Programs\\Python\\Python312\\Lib\\site-packages\\spacy\\training\\iob_utils.py:149: UserWarning: [W030] Some entities could not be aligned in the text \"She has been prescribed tolterodine 400 g.\" with entities \"[(24, 35, 'MEDICATION'), (36, 41, 'DOSAGE')]\". Use `spacy.training.offsets_to_biluo_tags(nlp.make_doc(text), entities)` to check the alignment. Misaligned entities ('-') will be ignored during training.\n",
      "  warnings.warn(\n",
      "c:\\Users\\rgbmr\\AppData\\Local\\Programs\\Python\\Python312\\Lib\\site-packages\\spacy\\training\\iob_utils.py:149: UserWarning: [W030] Some entities could not be aligned in the text \"She has been prescribed HySept 160 mL.\" with entities \"[(24, 30, 'MEDICATION'), (31, 37, 'DOSAGE')]\". Use `spacy.training.offsets_to_biluo_tags(nlp.make_doc(text), entities)` to check the alignment. Misaligned entities ('-') will be ignored during training.\n",
      "  warnings.warn(\n",
      "c:\\Users\\rgbmr\\AppData\\Local\\Programs\\Python\\Python312\\Lib\\site-packages\\spacy\\training\\iob_utils.py:149: UserWarning: [W030] Some entities could not be aligned in the text \"Prescribe 180 mL of sitagliptin for Breast Abscess...\" with entities \"[(20, 31, 'MEDICATION'), (10, 16, 'DOSAGE'), (36, ...\". Use `spacy.training.offsets_to_biluo_tags(nlp.make_doc(text), entities)` to check the alignment. Misaligned entities ('-') will be ignored during training.\n",
      "  warnings.warn(\n",
      "c:\\Users\\rgbmr\\AppData\\Local\\Programs\\Python\\Python312\\Lib\\site-packages\\spacy\\training\\iob_utils.py:149: UserWarning: [W030] Some entities could not be aligned in the text \"The patient has been prescribed Zantac 270 g.\" with entities \"[(32, 38, 'MEDICATION'), (39, 44, 'DOSAGE')]\". Use `spacy.training.offsets_to_biluo_tags(nlp.make_doc(text), entities)` to check the alignment. Misaligned entities ('-') will be ignored during training.\n",
      "  warnings.warn(\n",
      "c:\\Users\\rgbmr\\AppData\\Local\\Programs\\Python\\Python312\\Lib\\site-packages\\spacy\\training\\iob_utils.py:149: UserWarning: [W030] Some entities could not be aligned in the text \"They has been prescribed amoxicillin 990 mL.\" with entities \"[(25, 36, 'MEDICATION'), (37, 43, 'DOSAGE')]\". Use `spacy.training.offsets_to_biluo_tags(nlp.make_doc(text), entities)` to check the alignment. Misaligned entities ('-') will be ignored during training.\n",
      "  warnings.warn(\n",
      "c:\\Users\\rgbmr\\AppData\\Local\\Programs\\Python\\Python312\\Lib\\site-packages\\spacy\\training\\iob_utils.py:149: UserWarning: [W030] Some entities could not be aligned in the text \"He has been prescribed nasal relief spray 895 mL.\" with entities \"[(23, 41, 'MEDICATION'), (42, 48, 'DOSAGE')]\". Use `spacy.training.offsets_to_biluo_tags(nlp.make_doc(text), entities)` to check the alignment. Misaligned entities ('-') will be ignored during training.\n",
      "  warnings.warn(\n",
      "c:\\Users\\rgbmr\\AppData\\Local\\Programs\\Python\\Python312\\Lib\\site-packages\\spacy\\training\\iob_utils.py:149: UserWarning: [W030] Some entities could not be aligned in the text \"He has been prescribed bumetanide 800 L.\" with entities \"[(23, 33, 'MEDICATION'), (34, 39, 'DOSAGE')]\". Use `spacy.training.offsets_to_biluo_tags(nlp.make_doc(text), entities)` to check the alignment. Misaligned entities ('-') will be ignored during training.\n",
      "  warnings.warn(\n",
      "c:\\Users\\rgbmr\\AppData\\Local\\Programs\\Python\\Python312\\Lib\\site-packages\\spacy\\training\\iob_utils.py:149: UserWarning: [W030] Some entities could not be aligned in the text \"Patient presents with Breast Abscess.. Need to run...\" with entities \"[(51, 65, 'TEST_NAME'), (22, 37, 'SYMPTOM')]\". Use `spacy.training.offsets_to_biluo_tags(nlp.make_doc(text), entities)` to check the alignment. Misaligned entities ('-') will be ignored during training.\n",
      "  warnings.warn(\n",
      "c:\\Users\\rgbmr\\AppData\\Local\\Programs\\Python\\Python312\\Lib\\site-packages\\spacy\\training\\iob_utils.py:149: UserWarning: [W030] Some entities could not be aligned in the text \"The patient has been prescribed valsartan 340 g.\" with entities \"[(32, 41, 'MEDICATION'), (42, 47, 'DOSAGE')]\". Use `spacy.training.offsets_to_biluo_tags(nlp.make_doc(text), entities)` to check the alignment. Misaligned entities ('-') will be ignored during training.\n",
      "  warnings.warn(\n",
      "c:\\Users\\rgbmr\\AppData\\Local\\Programs\\Python\\Python312\\Lib\\site-packages\\spacy\\training\\iob_utils.py:149: UserWarning: [W030] Some entities could not be aligned in the text \"He has been prescribed oxycodone 575 g.\" with entities \"[(23, 32, 'MEDICATION'), (33, 38, 'DOSAGE')]\". Use `spacy.training.offsets_to_biluo_tags(nlp.make_doc(text), entities)` to check the alignment. Misaligned entities ('-') will be ignored during training.\n",
      "  warnings.warn(\n",
      "c:\\Users\\rgbmr\\AppData\\Local\\Programs\\Python\\Python312\\Lib\\site-packages\\spacy\\training\\iob_utils.py:149: UserWarning: [W030] Some entities could not be aligned in the text \"The patient has been prescribed tamsulosin 650 L.\" with entities \"[(32, 42, 'MEDICATION'), (43, 48, 'DOSAGE')]\". Use `spacy.training.offsets_to_biluo_tags(nlp.make_doc(text), entities)` to check the alignment. Misaligned entities ('-') will be ignored during training.\n",
      "  warnings.warn(\n",
      "c:\\Users\\rgbmr\\AppData\\Local\\Programs\\Python\\Python312\\Lib\\site-packages\\spacy\\training\\iob_utils.py:149: UserWarning: [W030] Some entities could not be aligned in the text \"Phosphate in urine measurements indicate Hepatitis...\" with entities \"[(41, 52, 'DIAGNOSIS')]\". Use `spacy.training.offsets_to_biluo_tags(nlp.make_doc(text), entities)` to check the alignment. Misaligned entities ('-') will be ignored during training.\n",
      "  warnings.warn(\n",
      "c:\\Users\\rgbmr\\AppData\\Local\\Programs\\Python\\Python312\\Lib\\site-packages\\spacy\\training\\iob_utils.py:149: UserWarning: [W030] Some entities could not be aligned in the text \"She mentioned an allergy to Retin-A.\" with entities \"[(28, 35, 'MEDICATION')]\". Use `spacy.training.offsets_to_biluo_tags(nlp.make_doc(text), entities)` to check the alignment. Misaligned entities ('-') will be ignored during training.\n",
      "  warnings.warn(\n",
      "c:\\Users\\rgbmr\\AppData\\Local\\Programs\\Python\\Python312\\Lib\\site-packages\\spacy\\training\\iob_utils.py:149: UserWarning: [W030] Some entities could not be aligned in the text \"She has been prescribed Virtussin 445 mL.\" with entities \"[(24, 33, 'MEDICATION'), (34, 40, 'DOSAGE')]\". Use `spacy.training.offsets_to_biluo_tags(nlp.make_doc(text), entities)` to check the alignment. Misaligned entities ('-') will be ignored during training.\n",
      "  warnings.warn(\n",
      "c:\\Users\\rgbmr\\AppData\\Local\\Programs\\Python\\Python312\\Lib\\site-packages\\spacy\\training\\iob_utils.py:149: UserWarning: [W030] Some entities could not be aligned in the text \"He has been prescribed Efudex 355 g.\" with entities \"[(23, 29, 'MEDICATION'), (30, 35, 'DOSAGE')]\". Use `spacy.training.offsets_to_biluo_tags(nlp.make_doc(text), entities)` to check the alignment. Misaligned entities ('-') will be ignored during training.\n",
      "  warnings.warn(\n",
      "c:\\Users\\rgbmr\\AppData\\Local\\Programs\\Python\\Python312\\Lib\\site-packages\\spacy\\training\\iob_utils.py:149: UserWarning: [W030] Some entities could not be aligned in the text \"Prescribe 440 g of lorazepam for Amenorrhea .\" with entities \"[(19, 28, 'MEDICATION'), (10, 15, 'DOSAGE'), (33, ...\". Use `spacy.training.offsets_to_biluo_tags(nlp.make_doc(text), entities)` to check the alignment. Misaligned entities ('-') will be ignored during training.\n",
      "  warnings.warn(\n",
      "c:\\Users\\rgbmr\\AppData\\Local\\Programs\\Python\\Python312\\Lib\\site-packages\\spacy\\training\\iob_utils.py:149: UserWarning: [W030] Some entities could not be aligned in the text \"Arterial blood gas (abg) test measurements indicat...\" with entities \"[(52, 63, 'DIAGNOSIS')]\". Use `spacy.training.offsets_to_biluo_tags(nlp.make_doc(text), entities)` to check the alignment. Misaligned entities ('-') will be ignored during training.\n",
      "  warnings.warn(\n",
      "c:\\Users\\rgbmr\\AppData\\Local\\Programs\\Python\\Python312\\Lib\\site-packages\\spacy\\training\\iob_utils.py:149: UserWarning: [W030] Some entities could not be aligned in the text \"She has been prescribed Allegra 340 g.\" with entities \"[(24, 31, 'MEDICATION'), (32, 37, 'DOSAGE')]\". Use `spacy.training.offsets_to_biluo_tags(nlp.make_doc(text), entities)` to check the alignment. Misaligned entities ('-') will be ignored during training.\n",
      "  warnings.warn(\n",
      "c:\\Users\\rgbmr\\AppData\\Local\\Programs\\Python\\Python312\\Lib\\site-packages\\spacy\\training\\iob_utils.py:149: UserWarning: [W030] Some entities could not be aligned in the text \"They has been prescribed nabumetone 560 L.\" with entities \"[(25, 35, 'MEDICATION'), (36, 41, 'DOSAGE')]\". Use `spacy.training.offsets_to_biluo_tags(nlp.make_doc(text), entities)` to check the alignment. Misaligned entities ('-') will be ignored during training.\n",
      "  warnings.warn(\n",
      "c:\\Users\\rgbmr\\AppData\\Local\\Programs\\Python\\Python312\\Lib\\site-packages\\spacy\\training\\iob_utils.py:149: UserWarning: [W030] Some entities could not be aligned in the text \"They has been prescribed tapentadol 655 mL.\" with entities \"[(25, 35, 'MEDICATION'), (36, 42, 'DOSAGE')]\". Use `spacy.training.offsets_to_biluo_tags(nlp.make_doc(text), entities)` to check the alignment. Misaligned entities ('-') will be ignored during training.\n",
      "  warnings.warn(\n",
      "c:\\Users\\rgbmr\\AppData\\Local\\Programs\\Python\\Python312\\Lib\\site-packages\\spacy\\training\\iob_utils.py:149: UserWarning: [W030] Some entities could not be aligned in the text \"They has been prescribed sodium chloride decyl glu...\" with entities \"[(25, 56, 'MEDICATION'), (57, 62, 'DOSAGE')]\". Use `spacy.training.offsets_to_biluo_tags(nlp.make_doc(text), entities)` to check the alignment. Misaligned entities ('-') will be ignored during training.\n",
      "  warnings.warn(\n",
      "c:\\Users\\rgbmr\\AppData\\Local\\Programs\\Python\\Python312\\Lib\\site-packages\\spacy\\training\\iob_utils.py:149: UserWarning: [W030] Some entities could not be aligned in the text \"She has been prescribed diosmin 720 g.\" with entities \"[(24, 31, 'MEDICATION'), (32, 37, 'DOSAGE')]\". Use `spacy.training.offsets_to_biluo_tags(nlp.make_doc(text), entities)` to check the alignment. Misaligned entities ('-') will be ignored during training.\n",
      "  warnings.warn(\n",
      "c:\\Users\\rgbmr\\AppData\\Local\\Programs\\Python\\Python312\\Lib\\site-packages\\spacy\\training\\iob_utils.py:149: UserWarning: [W030] Some entities could not be aligned in the text \"They has been prescribed Ultracet 630 L.\" with entities \"[(25, 33, 'MEDICATION'), (34, 39, 'DOSAGE')]\". Use `spacy.training.offsets_to_biluo_tags(nlp.make_doc(text), entities)` to check the alignment. Misaligned entities ('-') will be ignored during training.\n",
      "  warnings.warn(\n",
      "c:\\Users\\rgbmr\\AppData\\Local\\Programs\\Python\\Python312\\Lib\\site-packages\\spacy\\training\\iob_utils.py:149: UserWarning: [W030] Some entities could not be aligned in the text \"He has been prescribed Zantac 335 mL.\" with entities \"[(23, 29, 'MEDICATION'), (30, 36, 'DOSAGE')]\". Use `spacy.training.offsets_to_biluo_tags(nlp.make_doc(text), entities)` to check the alignment. Misaligned entities ('-') will be ignored during training.\n",
      "  warnings.warn(\n",
      "c:\\Users\\rgbmr\\AppData\\Local\\Programs\\Python\\Python312\\Lib\\site-packages\\spacy\\training\\iob_utils.py:149: UserWarning: [W030] Some entities could not be aligned in the text \"He has been prescribed diclofenac 600 g.\" with entities \"[(23, 33, 'MEDICATION'), (34, 39, 'DOSAGE')]\". Use `spacy.training.offsets_to_biluo_tags(nlp.make_doc(text), entities)` to check the alignment. Misaligned entities ('-') will be ignored during training.\n",
      "  warnings.warn(\n",
      "c:\\Users\\rgbmr\\AppData\\Local\\Programs\\Python\\Python312\\Lib\\site-packages\\spacy\\training\\iob_utils.py:149: UserWarning: [W030] Some entities could not be aligned in the text \"She has been prescribed ferrous fumarate 55 g.\" with entities \"[(24, 40, 'MEDICATION'), (41, 45, 'DOSAGE')]\". Use `spacy.training.offsets_to_biluo_tags(nlp.make_doc(text), entities)` to check the alignment. Misaligned entities ('-') will be ignored during training.\n",
      "  warnings.warn(\n",
      "c:\\Users\\rgbmr\\AppData\\Local\\Programs\\Python\\Python312\\Lib\\site-packages\\spacy\\training\\iob_utils.py:149: UserWarning: [W030] Some entities could not be aligned in the text \"He has been prescribed Mucinex 735 mL.\" with entities \"[(23, 30, 'MEDICATION'), (31, 37, 'DOSAGE')]\". Use `spacy.training.offsets_to_biluo_tags(nlp.make_doc(text), entities)` to check the alignment. Misaligned entities ('-') will be ignored during training.\n",
      "  warnings.warn(\n",
      "c:\\Users\\rgbmr\\AppData\\Local\\Programs\\Python\\Python312\\Lib\\site-packages\\spacy\\training\\iob_utils.py:149: UserWarning: [W030] Some entities could not be aligned in the text \"He has been prescribed famotidine 635 L.\" with entities \"[(23, 33, 'MEDICATION'), (34, 39, 'DOSAGE')]\". Use `spacy.training.offsets_to_biluo_tags(nlp.make_doc(text), entities)` to check the alignment. Misaligned entities ('-') will be ignored during training.\n",
      "  warnings.warn(\n",
      "c:\\Users\\rgbmr\\AppData\\Local\\Programs\\Python\\Python312\\Lib\\site-packages\\spacy\\training\\iob_utils.py:149: UserWarning: [W030] Some entities could not be aligned in the text \"The patient has been prescribed Celexa 250 L.\" with entities \"[(32, 38, 'MEDICATION'), (39, 44, 'DOSAGE')]\". Use `spacy.training.offsets_to_biluo_tags(nlp.make_doc(text), entities)` to check the alignment. Misaligned entities ('-') will be ignored during training.\n",
      "  warnings.warn(\n",
      "c:\\Users\\rgbmr\\AppData\\Local\\Programs\\Python\\Python312\\Lib\\site-packages\\spacy\\training\\iob_utils.py:149: UserWarning: [W030] Some entities could not be aligned in the text \"He has been prescribed omeprazole 715 mL.\" with entities \"[(23, 33, 'MEDICATION'), (34, 40, 'DOSAGE')]\". Use `spacy.training.offsets_to_biluo_tags(nlp.make_doc(text), entities)` to check the alignment. Misaligned entities ('-') will be ignored during training.\n",
      "  warnings.warn(\n",
      "c:\\Users\\rgbmr\\AppData\\Local\\Programs\\Python\\Python312\\Lib\\site-packages\\spacy\\training\\iob_utils.py:149: UserWarning: [W030] Some entities could not be aligned in the text \"The patient has been prescribed levothyroxine 700 ...\" with entities \"[(32, 45, 'MEDICATION'), (46, 51, 'DOSAGE')]\". Use `spacy.training.offsets_to_biluo_tags(nlp.make_doc(text), entities)` to check the alignment. Misaligned entities ('-') will be ignored during training.\n",
      "  warnings.warn(\n",
      "c:\\Users\\rgbmr\\AppData\\Local\\Programs\\Python\\Python312\\Lib\\site-packages\\spacy\\training\\iob_utils.py:149: UserWarning: [W030] Some entities could not be aligned in the text \"They has been prescribed imiquimod 720 L.\" with entities \"[(25, 34, 'MEDICATION'), (35, 40, 'DOSAGE')]\". Use `spacy.training.offsets_to_biluo_tags(nlp.make_doc(text), entities)` to check the alignment. Misaligned entities ('-') will be ignored during training.\n",
      "  warnings.warn(\n",
      "c:\\Users\\rgbmr\\AppData\\Local\\Programs\\Python\\Python312\\Lib\\site-packages\\spacy\\training\\iob_utils.py:149: UserWarning: [W030] Some entities could not be aligned in the text \"She has been prescribed morphine 865 L.\" with entities \"[(24, 32, 'MEDICATION'), (33, 38, 'DOSAGE')]\". Use `spacy.training.offsets_to_biluo_tags(nlp.make_doc(text), entities)` to check the alignment. Misaligned entities ('-') will be ignored during training.\n",
      "  warnings.warn(\n",
      "c:\\Users\\rgbmr\\AppData\\Local\\Programs\\Python\\Python312\\Lib\\site-packages\\spacy\\training\\iob_utils.py:149: UserWarning: [W030] Some entities could not be aligned in the text \"He has been prescribed potassium chloride 340 g.\" with entities \"[(23, 41, 'MEDICATION'), (42, 47, 'DOSAGE')]\". Use `spacy.training.offsets_to_biluo_tags(nlp.make_doc(text), entities)` to check the alignment. Misaligned entities ('-') will be ignored during training.\n",
      "  warnings.warn(\n",
      "c:\\Users\\rgbmr\\AppData\\Local\\Programs\\Python\\Python312\\Lib\\site-packages\\spacy\\training\\iob_utils.py:149: UserWarning: [W030] Some entities could not be aligned in the text \"She has been prescribed insulin 55 g.\" with entities \"[(24, 31, 'MEDICATION'), (32, 36, 'DOSAGE')]\". Use `spacy.training.offsets_to_biluo_tags(nlp.make_doc(text), entities)` to check the alignment. Misaligned entities ('-') will be ignored during training.\n",
      "  warnings.warn(\n",
      "c:\\Users\\rgbmr\\AppData\\Local\\Programs\\Python\\Python312\\Lib\\site-packages\\spacy\\training\\iob_utils.py:149: UserWarning: [W030] Some entities could not be aligned in the text \"The patient has been prescribed baclofen 1000 mL.\" with entities \"[(32, 40, 'MEDICATION'), (41, 48, 'DOSAGE')]\". Use `spacy.training.offsets_to_biluo_tags(nlp.make_doc(text), entities)` to check the alignment. Misaligned entities ('-') will be ignored during training.\n",
      "  warnings.warn(\n",
      "c:\\Users\\rgbmr\\AppData\\Local\\Programs\\Python\\Python312\\Lib\\site-packages\\spacy\\training\\iob_utils.py:149: UserWarning: [W030] Some entities could not be aligned in the text \"The patient has been prescribed simvastatin 665 g.\" with entities \"[(32, 43, 'MEDICATION'), (44, 49, 'DOSAGE')]\". Use `spacy.training.offsets_to_biluo_tags(nlp.make_doc(text), entities)` to check the alignment. Misaligned entities ('-') will be ignored during training.\n",
      "  warnings.warn(\n",
      "c:\\Users\\rgbmr\\AppData\\Local\\Programs\\Python\\Python312\\Lib\\site-packages\\spacy\\training\\iob_utils.py:149: UserWarning: [W030] Some entities could not be aligned in the text \"They has been prescribed potassium chloride 180 mL...\" with entities \"[(25, 43, 'MEDICATION'), (44, 50, 'DOSAGE')]\". Use `spacy.training.offsets_to_biluo_tags(nlp.make_doc(text), entities)` to check the alignment. Misaligned entities ('-') will be ignored during training.\n",
      "  warnings.warn(\n",
      "c:\\Users\\rgbmr\\AppData\\Local\\Programs\\Python\\Python312\\Lib\\site-packages\\spacy\\training\\iob_utils.py:149: UserWarning: [W030] Some entities could not be aligned in the text \"He has been prescribed fluorouracil 780 L.\" with entities \"[(23, 35, 'MEDICATION'), (36, 41, 'DOSAGE')]\". Use `spacy.training.offsets_to_biluo_tags(nlp.make_doc(text), entities)` to check the alignment. Misaligned entities ('-') will be ignored during training.\n",
      "  warnings.warn(\n",
      "c:\\Users\\rgbmr\\AppData\\Local\\Programs\\Python\\Python312\\Lib\\site-packages\\spacy\\training\\iob_utils.py:149: UserWarning: [W030] Some entities could not be aligned in the text \"He has been prescribed effexor 495 g.\" with entities \"[(23, 30, 'MEDICATION'), (31, 36, 'DOSAGE')]\". Use `spacy.training.offsets_to_biluo_tags(nlp.make_doc(text), entities)` to check the alignment. Misaligned entities ('-') will be ignored during training.\n",
      "  warnings.warn(\n",
      "c:\\Users\\rgbmr\\AppData\\Local\\Programs\\Python\\Python312\\Lib\\site-packages\\spacy\\training\\iob_utils.py:149: UserWarning: [W030] Some entities could not be aligned in the text \"He has been prescribed ipratropium 670 g.\" with entities \"[(23, 34, 'MEDICATION'), (35, 40, 'DOSAGE')]\". Use `spacy.training.offsets_to_biluo_tags(nlp.make_doc(text), entities)` to check the alignment. Misaligned entities ('-') will be ignored during training.\n",
      "  warnings.warn(\n",
      "c:\\Users\\rgbmr\\AppData\\Local\\Programs\\Python\\Python312\\Lib\\site-packages\\spacy\\training\\iob_utils.py:149: UserWarning: [W030] Some entities could not be aligned in the text \"They has been prescribed Eldoquin 485 mL.\" with entities \"[(25, 33, 'MEDICATION'), (34, 40, 'DOSAGE')]\". Use `spacy.training.offsets_to_biluo_tags(nlp.make_doc(text), entities)` to check the alignment. Misaligned entities ('-') will be ignored during training.\n",
      "  warnings.warn(\n",
      "c:\\Users\\rgbmr\\AppData\\Local\\Programs\\Python\\Python312\\Lib\\site-packages\\spacy\\training\\iob_utils.py:149: UserWarning: [W030] Some entities could not be aligned in the text \"The patient has been prescribed clonidine 185 L.\" with entities \"[(32, 41, 'MEDICATION'), (42, 47, 'DOSAGE')]\". Use `spacy.training.offsets_to_biluo_tags(nlp.make_doc(text), entities)` to check the alignment. Misaligned entities ('-') will be ignored during training.\n",
      "  warnings.warn(\n",
      "c:\\Users\\rgbmr\\AppData\\Local\\Programs\\Python\\Python312\\Lib\\site-packages\\spacy\\training\\iob_utils.py:149: UserWarning: [W030] Some entities could not be aligned in the text \"He has been prescribed sumatriptan 445 mL.\" with entities \"[(23, 34, 'MEDICATION'), (35, 41, 'DOSAGE')]\". Use `spacy.training.offsets_to_biluo_tags(nlp.make_doc(text), entities)` to check the alignment. Misaligned entities ('-') will be ignored during training.\n",
      "  warnings.warn(\n",
      "c:\\Users\\rgbmr\\AppData\\Local\\Programs\\Python\\Python312\\Lib\\site-packages\\spacy\\training\\iob_utils.py:149: UserWarning: [W030] Some entities could not be aligned in the text \"They has been prescribed Augmentin 180 mL.\" with entities \"[(25, 34, 'MEDICATION'), (35, 41, 'DOSAGE')]\". Use `spacy.training.offsets_to_biluo_tags(nlp.make_doc(text), entities)` to check the alignment. Misaligned entities ('-') will be ignored during training.\n",
      "  warnings.warn(\n",
      "c:\\Users\\rgbmr\\AppData\\Local\\Programs\\Python\\Python312\\Lib\\site-packages\\spacy\\training\\iob_utils.py:149: UserWarning: [W030] Some entities could not be aligned in the text \"They has been prescribed bisacodyl 180 mL.\" with entities \"[(25, 34, 'MEDICATION'), (35, 41, 'DOSAGE')]\". Use `spacy.training.offsets_to_biluo_tags(nlp.make_doc(text), entities)` to check the alignment. Misaligned entities ('-') will be ignored during training.\n",
      "  warnings.warn(\n",
      "c:\\Users\\rgbmr\\AppData\\Local\\Programs\\Python\\Python312\\Lib\\site-packages\\spacy\\training\\iob_utils.py:149: UserWarning: [W030] Some entities could not be aligned in the text \"The patient has been prescribed Breo Ellipta 140 m...\" with entities \"[(32, 44, 'MEDICATION'), (45, 51, 'DOSAGE')]\". Use `spacy.training.offsets_to_biluo_tags(nlp.make_doc(text), entities)` to check the alignment. Misaligned entities ('-') will be ignored during training.\n",
      "  warnings.warn(\n",
      "c:\\Users\\rgbmr\\AppData\\Local\\Programs\\Python\\Python312\\Lib\\site-packages\\spacy\\training\\iob_utils.py:149: UserWarning: [W030] Some entities could not be aligned in the text \"The patient has been prescribed epinephrine 340 g.\" with entities \"[(32, 43, 'MEDICATION'), (44, 49, 'DOSAGE')]\". Use `spacy.training.offsets_to_biluo_tags(nlp.make_doc(text), entities)` to check the alignment. Misaligned entities ('-') will be ignored during training.\n",
      "  warnings.warn(\n",
      "c:\\Users\\rgbmr\\AppData\\Local\\Programs\\Python\\Python312\\Lib\\site-packages\\spacy\\training\\iob_utils.py:149: UserWarning: [W030] Some entities could not be aligned in the text \"Patient presents with Abdominal Mass. Need to run ...\" with entities \"[(50, 64, 'TEST_NAME'), (22, 36, 'SYMPTOM')]\". Use `spacy.training.offsets_to_biluo_tags(nlp.make_doc(text), entities)` to check the alignment. Misaligned entities ('-') will be ignored during training.\n",
      "  warnings.warn(\n",
      "c:\\Users\\rgbmr\\AppData\\Local\\Programs\\Python\\Python312\\Lib\\site-packages\\spacy\\training\\iob_utils.py:149: UserWarning: [W030] Some entities could not be aligned in the text \"The patient has been prescribed norgestimate 235 m...\" with entities \"[(32, 44, 'MEDICATION'), (45, 51, 'DOSAGE')]\". Use `spacy.training.offsets_to_biluo_tags(nlp.make_doc(text), entities)` to check the alignment. Misaligned entities ('-') will be ignored during training.\n",
      "  warnings.warn(\n",
      "c:\\Users\\rgbmr\\AppData\\Local\\Programs\\Python\\Python312\\Lib\\site-packages\\spacy\\training\\iob_utils.py:149: UserWarning: [W030] Some entities could not be aligned in the text \"They has been prescribed Celexa 780 L.\" with entities \"[(25, 31, 'MEDICATION'), (32, 37, 'DOSAGE')]\". Use `spacy.training.offsets_to_biluo_tags(nlp.make_doc(text), entities)` to check the alignment. Misaligned entities ('-') will be ignored during training.\n",
      "  warnings.warn(\n",
      "c:\\Users\\rgbmr\\AppData\\Local\\Programs\\Python\\Python312\\Lib\\site-packages\\spacy\\training\\iob_utils.py:149: UserWarning: [W030] Some entities could not be aligned in the text \"She has been prescribed Zovirax 920 L.\" with entities \"[(24, 31, 'MEDICATION'), (32, 37, 'DOSAGE')]\". Use `spacy.training.offsets_to_biluo_tags(nlp.make_doc(text), entities)` to check the alignment. Misaligned entities ('-') will be ignored during training.\n",
      "  warnings.warn(\n",
      "c:\\Users\\rgbmr\\AppData\\Local\\Programs\\Python\\Python312\\Lib\\site-packages\\spacy\\training\\iob_utils.py:149: UserWarning: [W030] Some entities could not be aligned in the text \"He has been prescribed finasteride 120 g.\" with entities \"[(23, 34, 'MEDICATION'), (35, 40, 'DOSAGE')]\". Use `spacy.training.offsets_to_biluo_tags(nlp.make_doc(text), entities)` to check the alignment. Misaligned entities ('-') will be ignored during training.\n",
      "  warnings.warn(\n",
      "c:\\Users\\rgbmr\\AppData\\Local\\Programs\\Python\\Python312\\Lib\\site-packages\\spacy\\training\\iob_utils.py:149: UserWarning: [W030] Some entities could not be aligned in the text \"She has been prescribed Jardiance 270 g.\" with entities \"[(24, 33, 'MEDICATION'), (34, 39, 'DOSAGE')]\". Use `spacy.training.offsets_to_biluo_tags(nlp.make_doc(text), entities)` to check the alignment. Misaligned entities ('-') will be ignored during training.\n",
      "  warnings.warn(\n",
      "c:\\Users\\rgbmr\\AppData\\Local\\Programs\\Python\\Python312\\Lib\\site-packages\\spacy\\training\\iob_utils.py:149: UserWarning: [W030] Some entities could not be aligned in the text \"The patient has been prescribed Celexa 340 g.\" with entities \"[(32, 38, 'MEDICATION'), (39, 44, 'DOSAGE')]\". Use `spacy.training.offsets_to_biluo_tags(nlp.make_doc(text), entities)` to check the alignment. Misaligned entities ('-') will be ignored during training.\n",
      "  warnings.warn(\n",
      "c:\\Users\\rgbmr\\AppData\\Local\\Programs\\Python\\Python312\\Lib\\site-packages\\spacy\\training\\iob_utils.py:149: UserWarning: [W030] Some entities could not be aligned in the text \"Renin test measurements indicate Non-Seminoma Test...\" with entities \"[(33, 72, 'DIAGNOSIS')]\". Use `spacy.training.offsets_to_biluo_tags(nlp.make_doc(text), entities)` to check the alignment. Misaligned entities ('-') will be ignored during training.\n",
      "  warnings.warn(\n",
      "c:\\Users\\rgbmr\\AppData\\Local\\Programs\\Python\\Python312\\Lib\\site-packages\\spacy\\training\\iob_utils.py:149: UserWarning: [W030] Some entities could not be aligned in the text \"The patient has been prescribed ketoconazole 455 m...\" with entities \"[(32, 44, 'MEDICATION'), (45, 51, 'DOSAGE')]\". Use `spacy.training.offsets_to_biluo_tags(nlp.make_doc(text), entities)` to check the alignment. Misaligned entities ('-') will be ignored during training.\n",
      "  warnings.warn(\n",
      "c:\\Users\\rgbmr\\AppData\\Local\\Programs\\Python\\Python312\\Lib\\site-packages\\spacy\\training\\iob_utils.py:149: UserWarning: [W030] Some entities could not be aligned in the text \"The patient has been prescribed benzonatate 445 mL...\" with entities \"[(32, 43, 'MEDICATION'), (44, 50, 'DOSAGE')]\". Use `spacy.training.offsets_to_biluo_tags(nlp.make_doc(text), entities)` to check the alignment. Misaligned entities ('-') will be ignored during training.\n",
      "  warnings.warn(\n",
      "c:\\Users\\rgbmr\\AppData\\Local\\Programs\\Python\\Python312\\Lib\\site-packages\\spacy\\training\\iob_utils.py:149: UserWarning: [W030] Some entities could not be aligned in the text \"They has been prescribed mirtazapine 770 g.\" with entities \"[(25, 36, 'MEDICATION'), (37, 42, 'DOSAGE')]\". Use `spacy.training.offsets_to_biluo_tags(nlp.make_doc(text), entities)` to check the alignment. Misaligned entities ('-') will be ignored during training.\n",
      "  warnings.warn(\n",
      "c:\\Users\\rgbmr\\AppData\\Local\\Programs\\Python\\Python312\\Lib\\site-packages\\spacy\\training\\iob_utils.py:149: UserWarning: [W030] Some entities could not be aligned in the text \"He has been prescribed Xifaxan 600 g.\" with entities \"[(23, 30, 'MEDICATION'), (31, 36, 'DOSAGE')]\". Use `spacy.training.offsets_to_biluo_tags(nlp.make_doc(text), entities)` to check the alignment. Misaligned entities ('-') will be ignored during training.\n",
      "  warnings.warn(\n",
      "c:\\Users\\rgbmr\\AppData\\Local\\Programs\\Python\\Python312\\Lib\\site-packages\\spacy\\training\\iob_utils.py:149: UserWarning: [W030] Some entities could not be aligned in the text \"They has been prescribed amiodarone 170 g.\" with entities \"[(25, 35, 'MEDICATION'), (36, 41, 'DOSAGE')]\". Use `spacy.training.offsets_to_biluo_tags(nlp.make_doc(text), entities)` to check the alignment. Misaligned entities ('-') will be ignored during training.\n",
      "  warnings.warn(\n",
      "c:\\Users\\rgbmr\\AppData\\Local\\Programs\\Python\\Python312\\Lib\\site-packages\\spacy\\training\\iob_utils.py:149: UserWarning: [W030] Some entities could not be aligned in the text \"He has been prescribed topiramate 165 L.\" with entities \"[(23, 33, 'MEDICATION'), (34, 39, 'DOSAGE')]\". Use `spacy.training.offsets_to_biluo_tags(nlp.make_doc(text), entities)` to check the alignment. Misaligned entities ('-') will be ignored during training.\n",
      "  warnings.warn(\n",
      "c:\\Users\\rgbmr\\AppData\\Local\\Programs\\Python\\Python312\\Lib\\site-packages\\spacy\\training\\iob_utils.py:149: UserWarning: [W030] Some entities could not be aligned in the text \"The patient has been prescribed metformin 60 mL.\" with entities \"[(32, 41, 'MEDICATION'), (42, 47, 'DOSAGE')]\". Use `spacy.training.offsets_to_biluo_tags(nlp.make_doc(text), entities)` to check the alignment. Misaligned entities ('-') will be ignored during training.\n",
      "  warnings.warn(\n",
      "c:\\Users\\rgbmr\\AppData\\Local\\Programs\\Python\\Python312\\Lib\\site-packages\\spacy\\training\\iob_utils.py:149: UserWarning: [W030] Some entities could not be aligned in the text \"She has been prescribed olanzapine 295 L.\" with entities \"[(24, 34, 'MEDICATION'), (35, 40, 'DOSAGE')]\". Use `spacy.training.offsets_to_biluo_tags(nlp.make_doc(text), entities)` to check the alignment. Misaligned entities ('-') will be ignored during training.\n",
      "  warnings.warn(\n",
      "c:\\Users\\rgbmr\\AppData\\Local\\Programs\\Python\\Python312\\Lib\\site-packages\\spacy\\training\\iob_utils.py:149: UserWarning: [W030] Some entities could not be aligned in the text \"They has been prescribed triamcinolone 575 g.\" with entities \"[(25, 38, 'MEDICATION'), (39, 44, 'DOSAGE')]\". Use `spacy.training.offsets_to_biluo_tags(nlp.make_doc(text), entities)` to check the alignment. Misaligned entities ('-') will be ignored during training.\n",
      "  warnings.warn(\n",
      "c:\\Users\\rgbmr\\AppData\\Local\\Programs\\Python\\Python312\\Lib\\site-packages\\spacy\\training\\iob_utils.py:149: UserWarning: [W030] Some entities could not be aligned in the text \"He has been prescribed Ventolin 670 g.\" with entities \"[(23, 31, 'MEDICATION'), (32, 37, 'DOSAGE')]\". Use `spacy.training.offsets_to_biluo_tags(nlp.make_doc(text), entities)` to check the alignment. Misaligned entities ('-') will be ignored during training.\n",
      "  warnings.warn(\n",
      "c:\\Users\\rgbmr\\AppData\\Local\\Programs\\Python\\Python312\\Lib\\site-packages\\spacy\\training\\iob_utils.py:149: UserWarning: [W030] Some entities could not be aligned in the text \"He has been prescribed alprazolam 80 L.\" with entities \"[(23, 33, 'MEDICATION'), (34, 38, 'DOSAGE')]\". Use `spacy.training.offsets_to_biluo_tags(nlp.make_doc(text), entities)` to check the alignment. Misaligned entities ('-') will be ignored during training.\n",
      "  warnings.warn(\n",
      "c:\\Users\\rgbmr\\AppData\\Local\\Programs\\Python\\Python312\\Lib\\site-packages\\spacy\\training\\iob_utils.py:149: UserWarning: [W030] Some entities could not be aligned in the text \"They has been prescribed lisinopril 590 g.\" with entities \"[(25, 35, 'MEDICATION'), (36, 41, 'DOSAGE')]\". Use `spacy.training.offsets_to_biluo_tags(nlp.make_doc(text), entities)` to check the alignment. Misaligned entities ('-') will be ignored during training.\n",
      "  warnings.warn(\n",
      "c:\\Users\\rgbmr\\AppData\\Local\\Programs\\Python\\Python312\\Lib\\site-packages\\spacy\\training\\iob_utils.py:149: UserWarning: [W030] Some entities could not be aligned in the text \"He has been prescribed Flagyl 530 mL.\" with entities \"[(23, 29, 'MEDICATION'), (30, 36, 'DOSAGE')]\". Use `spacy.training.offsets_to_biluo_tags(nlp.make_doc(text), entities)` to check the alignment. Misaligned entities ('-') will be ignored during training.\n",
      "  warnings.warn(\n",
      "c:\\Users\\rgbmr\\AppData\\Local\\Programs\\Python\\Python312\\Lib\\site-packages\\spacy\\training\\iob_utils.py:149: UserWarning: [W030] Some entities could not be aligned in the text \"The patient has been prescribed lactulose 700 mL.\" with entities \"[(32, 41, 'MEDICATION'), (42, 48, 'DOSAGE')]\". Use `spacy.training.offsets_to_biluo_tags(nlp.make_doc(text), entities)` to check the alignment. Misaligned entities ('-') will be ignored during training.\n",
      "  warnings.warn(\n",
      "c:\\Users\\rgbmr\\AppData\\Local\\Programs\\Python\\Python312\\Lib\\site-packages\\spacy\\training\\iob_utils.py:149: UserWarning: [W030] Some entities could not be aligned in the text \"She has been prescribed oxandrolone 10 L.\" with entities \"[(24, 35, 'MEDICATION'), (36, 40, 'DOSAGE')]\". Use `spacy.training.offsets_to_biluo_tags(nlp.make_doc(text), entities)` to check the alignment. Misaligned entities ('-') will be ignored during training.\n",
      "  warnings.warn(\n",
      "c:\\Users\\rgbmr\\AppData\\Local\\Programs\\Python\\Python312\\Lib\\site-packages\\spacy\\training\\iob_utils.py:149: UserWarning: [W030] Some entities could not be aligned in the text \"He has been prescribed Kenalog 485 mL.\" with entities \"[(23, 30, 'MEDICATION'), (31, 37, 'DOSAGE')]\". Use `spacy.training.offsets_to_biluo_tags(nlp.make_doc(text), entities)` to check the alignment. Misaligned entities ('-') will be ignored during training.\n",
      "  warnings.warn(\n",
      "c:\\Users\\rgbmr\\AppData\\Local\\Programs\\Python\\Python312\\Lib\\site-packages\\spacy\\training\\iob_utils.py:149: UserWarning: [W030] Some entities could not be aligned in the text \"The patient has been prescribed ezetimibe 315 L.\" with entities \"[(32, 41, 'MEDICATION'), (42, 47, 'DOSAGE')]\". Use `spacy.training.offsets_to_biluo_tags(nlp.make_doc(text), entities)` to check the alignment. Misaligned entities ('-') will be ignored during training.\n",
      "  warnings.warn(\n",
      "c:\\Users\\rgbmr\\AppData\\Local\\Programs\\Python\\Python312\\Lib\\site-packages\\spacy\\training\\iob_utils.py:149: UserWarning: [W030] Some entities could not be aligned in the text \"They has been prescribed Namenda 995 mL.\" with entities \"[(25, 32, 'MEDICATION'), (33, 39, 'DOSAGE')]\". Use `spacy.training.offsets_to_biluo_tags(nlp.make_doc(text), entities)` to check the alignment. Misaligned entities ('-') will be ignored during training.\n",
      "  warnings.warn(\n",
      "c:\\Users\\rgbmr\\AppData\\Local\\Programs\\Python\\Python312\\Lib\\site-packages\\spacy\\training\\iob_utils.py:149: UserWarning: [W030] Some entities could not be aligned in the text \"He has been prescribed Ginkgo Biloba 80 L.\" with entities \"[(23, 36, 'MEDICATION'), (37, 41, 'DOSAGE')]\". Use `spacy.training.offsets_to_biluo_tags(nlp.make_doc(text), entities)` to check the alignment. Misaligned entities ('-') will be ignored during training.\n",
      "  warnings.warn(\n",
      "c:\\Users\\rgbmr\\AppData\\Local\\Programs\\Python\\Python312\\Lib\\site-packages\\spacy\\training\\iob_utils.py:149: UserWarning: [W030] Some entities could not be aligned in the text \"17-hydroxyprogesterone measurements indicate Clear...\" with entities \"[(45, 85, 'DIAGNOSIS')]\". Use `spacy.training.offsets_to_biluo_tags(nlp.make_doc(text), entities)` to check the alignment. Misaligned entities ('-') will be ignored during training.\n",
      "  warnings.warn(\n",
      "c:\\Users\\rgbmr\\AppData\\Local\\Programs\\Python\\Python312\\Lib\\site-packages\\spacy\\training\\iob_utils.py:149: UserWarning: [W030] Some entities could not be aligned in the text \"Concussion tests measurements indicate Hepatitis A...\" with entities \"[(39, 50, 'DIAGNOSIS')]\". Use `spacy.training.offsets_to_biluo_tags(nlp.make_doc(text), entities)` to check the alignment. Misaligned entities ('-') will be ignored during training.\n",
      "  warnings.warn(\n",
      "c:\\Users\\rgbmr\\AppData\\Local\\Programs\\Python\\Python312\\Lib\\site-packages\\spacy\\training\\iob_utils.py:149: UserWarning: [W030] Some entities could not be aligned in the text \"She has been prescribed Sprintec 505 mL.\" with entities \"[(24, 32, 'MEDICATION'), (33, 39, 'DOSAGE')]\". Use `spacy.training.offsets_to_biluo_tags(nlp.make_doc(text), entities)` to check the alignment. Misaligned entities ('-') will be ignored during training.\n",
      "  warnings.warn(\n",
      "c:\\Users\\rgbmr\\AppData\\Local\\Programs\\Python\\Python312\\Lib\\site-packages\\spacy\\training\\iob_utils.py:149: UserWarning: [W030] Some entities could not be aligned in the text \"He has been prescribed hydralazine 250 L.\" with entities \"[(23, 34, 'MEDICATION'), (35, 40, 'DOSAGE')]\". Use `spacy.training.offsets_to_biluo_tags(nlp.make_doc(text), entities)` to check the alignment. Misaligned entities ('-') will be ignored during training.\n",
      "  warnings.warn(\n",
      "c:\\Users\\rgbmr\\AppData\\Local\\Programs\\Python\\Python312\\Lib\\site-packages\\spacy\\training\\iob_utils.py:149: UserWarning: [W030] Some entities could not be aligned in the text \"She has been prescribed Esomeprazole 1000 L.\" with entities \"[(24, 36, 'MEDICATION'), (37, 43, 'DOSAGE')]\". Use `spacy.training.offsets_to_biluo_tags(nlp.make_doc(text), entities)` to check the alignment. Misaligned entities ('-') will be ignored during training.\n",
      "  warnings.warn(\n",
      "c:\\Users\\rgbmr\\AppData\\Local\\Programs\\Python\\Python312\\Lib\\site-packages\\spacy\\training\\iob_utils.py:149: UserWarning: [W030] Some entities could not be aligned in the text \"She has been prescribed sodium bicarbonate 920 L.\" with entities \"[(24, 42, 'MEDICATION'), (43, 48, 'DOSAGE')]\". Use `spacy.training.offsets_to_biluo_tags(nlp.make_doc(text), entities)` to check the alignment. Misaligned entities ('-') will be ignored during training.\n",
      "  warnings.warn(\n",
      "c:\\Users\\rgbmr\\AppData\\Local\\Programs\\Python\\Python312\\Lib\\site-packages\\spacy\\training\\iob_utils.py:149: UserWarning: [W030] Some entities could not be aligned in the text \"The patient has been prescribed tetracycline 85 g.\" with entities \"[(32, 44, 'MEDICATION'), (45, 49, 'DOSAGE')]\". Use `spacy.training.offsets_to_biluo_tags(nlp.make_doc(text), entities)` to check the alignment. Misaligned entities ('-') will be ignored during training.\n",
      "  warnings.warn(\n",
      "c:\\Users\\rgbmr\\AppData\\Local\\Programs\\Python\\Python312\\Lib\\site-packages\\spacy\\training\\iob_utils.py:149: UserWarning: [W030] Some entities could not be aligned in the text \"The patient has been prescribed Breo Ellipta 120 g...\" with entities \"[(32, 44, 'MEDICATION'), (45, 50, 'DOSAGE')]\". Use `spacy.training.offsets_to_biluo_tags(nlp.make_doc(text), entities)` to check the alignment. Misaligned entities ('-') will be ignored during training.\n",
      "  warnings.warn(\n",
      "c:\\Users\\rgbmr\\AppData\\Local\\Programs\\Python\\Python312\\Lib\\site-packages\\spacy\\training\\iob_utils.py:149: UserWarning: [W030] Some entities could not be aligned in the text \"They has been prescribed Wellbutrin 110 L.\" with entities \"[(25, 35, 'MEDICATION'), (36, 41, 'DOSAGE')]\". Use `spacy.training.offsets_to_biluo_tags(nlp.make_doc(text), entities)` to check the alignment. Misaligned entities ('-') will be ignored during training.\n",
      "  warnings.warn(\n",
      "c:\\Users\\rgbmr\\AppData\\Local\\Programs\\Python\\Python312\\Lib\\site-packages\\spacy\\training\\iob_utils.py:149: UserWarning: [W030] Some entities could not be aligned in the text \"They has been prescribed griseofulvin 655 mL.\" with entities \"[(25, 37, 'MEDICATION'), (38, 44, 'DOSAGE')]\". Use `spacy.training.offsets_to_biluo_tags(nlp.make_doc(text), entities)` to check the alignment. Misaligned entities ('-') will be ignored during training.\n",
      "  warnings.warn(\n",
      "c:\\Users\\rgbmr\\AppData\\Local\\Programs\\Python\\Python312\\Lib\\site-packages\\spacy\\training\\iob_utils.py:149: UserWarning: [W030] Some entities could not be aligned in the text \"The patient has been prescribed viagra 55 g.\" with entities \"[(32, 38, 'MEDICATION'), (39, 43, 'DOSAGE')]\". Use `spacy.training.offsets_to_biluo_tags(nlp.make_doc(text), entities)` to check the alignment. Misaligned entities ('-') will be ignored during training.\n",
      "  warnings.warn(\n",
      "c:\\Users\\rgbmr\\AppData\\Local\\Programs\\Python\\Python312\\Lib\\site-packages\\spacy\\training\\iob_utils.py:149: UserWarning: [W030] Some entities could not be aligned in the text \"They has been prescribed imiquimod 635 L.\" with entities \"[(25, 34, 'MEDICATION'), (35, 40, 'DOSAGE')]\". Use `spacy.training.offsets_to_biluo_tags(nlp.make_doc(text), entities)` to check the alignment. Misaligned entities ('-') will be ignored during training.\n",
      "  warnings.warn(\n",
      "c:\\Users\\rgbmr\\AppData\\Local\\Programs\\Python\\Python312\\Lib\\site-packages\\spacy\\training\\iob_utils.py:149: UserWarning: [W030] Some entities could not be aligned in the text \"They has been prescribed Lamictal 715 mL.\" with entities \"[(25, 33, 'MEDICATION'), (34, 40, 'DOSAGE')]\". Use `spacy.training.offsets_to_biluo_tags(nlp.make_doc(text), entities)` to check the alignment. Misaligned entities ('-') will be ignored during training.\n",
      "  warnings.warn(\n",
      "c:\\Users\\rgbmr\\AppData\\Local\\Programs\\Python\\Python312\\Lib\\site-packages\\spacy\\training\\iob_utils.py:149: UserWarning: [W030] Some entities could not be aligned in the text \"They has been prescribed Xylocaine 275 g.\" with entities \"[(25, 34, 'MEDICATION'), (35, 40, 'DOSAGE')]\". Use `spacy.training.offsets_to_biluo_tags(nlp.make_doc(text), entities)` to check the alignment. Misaligned entities ('-') will be ignored during training.\n",
      "  warnings.warn(\n",
      "c:\\Users\\rgbmr\\AppData\\Local\\Programs\\Python\\Python312\\Lib\\site-packages\\spacy\\training\\iob_utils.py:149: UserWarning: [W030] Some entities could not be aligned in the text \"The patient has been prescribed norethindrone 975 ...\" with entities \"[(32, 45, 'MEDICATION'), (46, 51, 'DOSAGE')]\". Use `spacy.training.offsets_to_biluo_tags(nlp.make_doc(text), entities)` to check the alignment. Misaligned entities ('-') will be ignored during training.\n",
      "  warnings.warn(\n",
      "c:\\Users\\rgbmr\\AppData\\Local\\Programs\\Python\\Python312\\Lib\\site-packages\\spacy\\training\\iob_utils.py:149: UserWarning: [W030] Some entities could not be aligned in the text \"He has been prescribed Haldol 585 L.\" with entities \"[(23, 29, 'MEDICATION'), (30, 35, 'DOSAGE')]\". Use `spacy.training.offsets_to_biluo_tags(nlp.make_doc(text), entities)` to check the alignment. Misaligned entities ('-') will be ignored during training.\n",
      "  warnings.warn(\n",
      "c:\\Users\\rgbmr\\AppData\\Local\\Programs\\Python\\Python312\\Lib\\site-packages\\spacy\\training\\iob_utils.py:149: UserWarning: [W030] Some entities could not be aligned in the text \"She has been prescribed neurontin 800 L.\" with entities \"[(24, 33, 'MEDICATION'), (34, 39, 'DOSAGE')]\". Use `spacy.training.offsets_to_biluo_tags(nlp.make_doc(text), entities)` to check the alignment. Misaligned entities ('-') will be ignored during training.\n",
      "  warnings.warn(\n",
      "c:\\Users\\rgbmr\\AppData\\Local\\Programs\\Python\\Python312\\Lib\\site-packages\\spacy\\training\\iob_utils.py:149: UserWarning: [W030] Some entities could not be aligned in the text \"They has been prescribed ketotifen 900 g.\" with entities \"[(25, 34, 'MEDICATION'), (35, 40, 'DOSAGE')]\". Use `spacy.training.offsets_to_biluo_tags(nlp.make_doc(text), entities)` to check the alignment. Misaligned entities ('-') will be ignored during training.\n",
      "  warnings.warn(\n",
      "c:\\Users\\rgbmr\\AppData\\Local\\Programs\\Python\\Python312\\Lib\\site-packages\\spacy\\training\\iob_utils.py:149: UserWarning: [W030] Some entities could not be aligned in the text \"The patient has been prescribed latanoprost 185 L.\" with entities \"[(32, 43, 'MEDICATION'), (44, 49, 'DOSAGE')]\". Use `spacy.training.offsets_to_biluo_tags(nlp.make_doc(text), entities)` to check the alignment. Misaligned entities ('-') will be ignored during training.\n",
      "  warnings.warn(\n",
      "c:\\Users\\rgbmr\\AppData\\Local\\Programs\\Python\\Python312\\Lib\\site-packages\\spacy\\training\\iob_utils.py:149: UserWarning: [W030] Some entities could not be aligned in the text \"They has been prescribed glimepiride 85 g.\" with entities \"[(25, 36, 'MEDICATION'), (37, 41, 'DOSAGE')]\". Use `spacy.training.offsets_to_biluo_tags(nlp.make_doc(text), entities)` to check the alignment. Misaligned entities ('-') will be ignored during training.\n",
      "  warnings.warn(\n",
      "c:\\Users\\rgbmr\\AppData\\Local\\Programs\\Python\\Python312\\Lib\\site-packages\\spacy\\training\\iob_utils.py:149: UserWarning: [W030] Some entities could not be aligned in the text \"The patient has been prescribed Vitamin B12 970 mL...\" with entities \"[(32, 43, 'MEDICATION'), (44, 50, 'DOSAGE')]\". Use `spacy.training.offsets_to_biluo_tags(nlp.make_doc(text), entities)` to check the alignment. Misaligned entities ('-') will be ignored during training.\n",
      "  warnings.warn(\n",
      "c:\\Users\\rgbmr\\AppData\\Local\\Programs\\Python\\Python312\\Lib\\site-packages\\spacy\\training\\iob_utils.py:149: UserWarning: [W030] Some entities could not be aligned in the text \"He has been prescribed itraconazole 85 g.\" with entities \"[(23, 35, 'MEDICATION'), (36, 40, 'DOSAGE')]\". Use `spacy.training.offsets_to_biluo_tags(nlp.make_doc(text), entities)` to check the alignment. Misaligned entities ('-') will be ignored during training.\n",
      "  warnings.warn(\n",
      "c:\\Users\\rgbmr\\AppData\\Local\\Programs\\Python\\Python312\\Lib\\site-packages\\spacy\\training\\iob_utils.py:149: UserWarning: [W030] Some entities could not be aligned in the text \"She has been prescribed ipratropium 485 mL.\" with entities \"[(24, 35, 'MEDICATION'), (36, 42, 'DOSAGE')]\". Use `spacy.training.offsets_to_biluo_tags(nlp.make_doc(text), entities)` to check the alignment. Misaligned entities ('-') will be ignored during training.\n",
      "  warnings.warn(\n",
      "c:\\Users\\rgbmr\\AppData\\Local\\Programs\\Python\\Python312\\Lib\\site-packages\\spacy\\training\\iob_utils.py:149: UserWarning: [W030] Some entities could not be aligned in the text \"The patient has been prescribed pantoprazole 250 g...\" with entities \"[(32, 44, 'MEDICATION'), (45, 50, 'DOSAGE')]\". Use `spacy.training.offsets_to_biluo_tags(nlp.make_doc(text), entities)` to check the alignment. Misaligned entities ('-') will be ignored during training.\n",
      "  warnings.warn(\n",
      "c:\\Users\\rgbmr\\AppData\\Local\\Programs\\Python\\Python312\\Lib\\site-packages\\spacy\\training\\iob_utils.py:149: UserWarning: [W030] Some entities could not be aligned in the text \"They has been prescribed Estrace 990 mL.\" with entities \"[(25, 32, 'MEDICATION'), (33, 39, 'DOSAGE')]\". Use `spacy.training.offsets_to_biluo_tags(nlp.make_doc(text), entities)` to check the alignment. Misaligned entities ('-') will be ignored during training.\n",
      "  warnings.warn(\n",
      "c:\\Users\\rgbmr\\AppData\\Local\\Programs\\Python\\Python312\\Lib\\site-packages\\spacy\\training\\iob_utils.py:149: UserWarning: [W030] Some entities could not be aligned in the text \"Patient presents with Numbness. Need to run Total ...\" with entities \"[(44, 91, 'TEST_NAME'), (22, 30, 'SYMPTOM')]\". Use `spacy.training.offsets_to_biluo_tags(nlp.make_doc(text), entities)` to check the alignment. Misaligned entities ('-') will be ignored during training.\n",
      "  warnings.warn(\n",
      "c:\\Users\\rgbmr\\AppData\\Local\\Programs\\Python\\Python312\\Lib\\site-packages\\spacy\\training\\iob_utils.py:149: UserWarning: [W030] Some entities could not be aligned in the text \"They has been prescribed nystatin 960 mL.\" with entities \"[(25, 33, 'MEDICATION'), (34, 40, 'DOSAGE')]\". Use `spacy.training.offsets_to_biluo_tags(nlp.make_doc(text), entities)` to check the alignment. Misaligned entities ('-') will be ignored during training.\n",
      "  warnings.warn(\n",
      "c:\\Users\\rgbmr\\AppData\\Local\\Programs\\Python\\Python312\\Lib\\site-packages\\spacy\\training\\iob_utils.py:149: UserWarning: [W030] Some entities could not be aligned in the text \"They has been prescribed Generlac 585 L.\" with entities \"[(25, 33, 'MEDICATION'), (34, 39, 'DOSAGE')]\". Use `spacy.training.offsets_to_biluo_tags(nlp.make_doc(text), entities)` to check the alignment. Misaligned entities ('-') will be ignored during training.\n",
      "  warnings.warn(\n",
      "c:\\Users\\rgbmr\\AppData\\Local\\Programs\\Python\\Python312\\Lib\\site-packages\\spacy\\training\\iob_utils.py:149: UserWarning: [W030] Some entities could not be aligned in the text \"He has been prescribed Hydromet 780 L.\" with entities \"[(23, 31, 'MEDICATION'), (32, 37, 'DOSAGE')]\". Use `spacy.training.offsets_to_biluo_tags(nlp.make_doc(text), entities)` to check the alignment. Misaligned entities ('-') will be ignored during training.\n",
      "  warnings.warn(\n"
     ]
    },
    {
     "name": "stdout",
     "output_type": "stream",
     "text": [
      "Precision: 0.000\n",
      "Recall: 0.000\n",
      "F1 Score: 0.000\n"
     ]
    }
   ],
   "source": [
    "def get_examples(data):\n",
    "    examples = []\n",
    "    for text, annotations in formatted_data:\n",
    "        doc = nlp.make_doc(text)\n",
    "        examples.append(Example.from_dict(doc, annotations))\n",
    "    return examples\n",
    "\n",
    "examples = get_examples(test)\n",
    "# Evaluate the model\n",
    "scores = nlp.evaluate(examples)\n",
    "print(f\"Precision: {scores['ents_p']:.3f}\")\n",
    "print(f\"Recall: {scores['ents_r']:.3f}\")\n",
    "print(f\"F1 Score: {scores['ents_f']:.3f}\")"
   ]
  },
  {
   "cell_type": "code",
   "execution_count": null,
   "metadata": {},
   "outputs": [],
   "source": [
    "# Example text\n",
    "text = \"Patient was administered 500mg of Ibuprofen.\"\n",
    "\n",
    "# Process the text\n",
    "doc = nlp(text)\n",
    "\n",
    "# Iterate over the predicted entities\n",
    "for ent in doc.ents:\n",
    "    print(ent.text, ent.label_)"
   ]
  },
  {
   "cell_type": "markdown",
   "metadata": {},
   "source": [
    "Train"
   ]
  },
  {
   "cell_type": "code",
   "execution_count": 18,
   "metadata": {},
   "outputs": [
    {
     "name": "stderr",
     "output_type": "stream",
     "text": [
      "c:\\Users\\rgbmr\\AppData\\Local\\Programs\\Python\\Python312\\Lib\\site-packages\\spacy\\training\\iob_utils.py:149: UserWarning: [W030] Some entities could not be aligned in the text \"She has been prescribed Virtussin 445 mL.\" with entities \"[(24, 33, 'MEDICATION'), (34, 40, 'DOSAGE')]\". Use `spacy.training.offsets_to_biluo_tags(nlp.make_doc(text), entities)` to check the alignment. Misaligned entities ('-') will be ignored during training.\n",
      "  warnings.warn(\n",
      "c:\\Users\\rgbmr\\AppData\\Local\\Programs\\Python\\Python312\\Lib\\site-packages\\spacy\\training\\iob_utils.py:149: UserWarning: [W030] Some entities could not be aligned in the text \"Phosphate in urine measurements indicate Hepatitis...\" with entities \"[(41, 52, 'DIAGNOSIS')]\". Use `spacy.training.offsets_to_biluo_tags(nlp.make_doc(text), entities)` to check the alignment. Misaligned entities ('-') will be ignored during training.\n",
      "  warnings.warn(\n",
      "c:\\Users\\rgbmr\\AppData\\Local\\Programs\\Python\\Python312\\Lib\\site-packages\\spacy\\training\\iob_utils.py:149: UserWarning: [W030] Some entities could not be aligned in the text \"Arterial blood gas (abg) test measurements indicat...\" with entities \"[(52, 63, 'DIAGNOSIS')]\". Use `spacy.training.offsets_to_biluo_tags(nlp.make_doc(text), entities)` to check the alignment. Misaligned entities ('-') will be ignored during training.\n",
      "  warnings.warn(\n",
      "c:\\Users\\rgbmr\\AppData\\Local\\Programs\\Python\\Python312\\Lib\\site-packages\\spacy\\training\\iob_utils.py:149: UserWarning: [W030] Some entities could not be aligned in the text \"The patient has been prescribed Celexa 250 L.\" with entities \"[(32, 38, 'MEDICATION'), (39, 44, 'DOSAGE')]\". Use `spacy.training.offsets_to_biluo_tags(nlp.make_doc(text), entities)` to check the alignment. Misaligned entities ('-') will be ignored during training.\n",
      "  warnings.warn(\n",
      "c:\\Users\\rgbmr\\AppData\\Local\\Programs\\Python\\Python312\\Lib\\site-packages\\spacy\\training\\iob_utils.py:149: UserWarning: [W030] Some entities could not be aligned in the text \"The patient has been prescribed tetracycline 85 g.\" with entities \"[(32, 44, 'MEDICATION'), (45, 49, 'DOSAGE')]\". Use `spacy.training.offsets_to_biluo_tags(nlp.make_doc(text), entities)` to check the alignment. Misaligned entities ('-') will be ignored during training.\n",
      "  warnings.warn(\n",
      "c:\\Users\\rgbmr\\AppData\\Local\\Programs\\Python\\Python312\\Lib\\site-packages\\spacy\\training\\iob_utils.py:149: UserWarning: [W030] Some entities could not be aligned in the text \"They has been prescribed Wellbutrin 110 L.\" with entities \"[(25, 35, 'MEDICATION'), (36, 41, 'DOSAGE')]\". Use `spacy.training.offsets_to_biluo_tags(nlp.make_doc(text), entities)` to check the alignment. Misaligned entities ('-') will be ignored during training.\n",
      "  warnings.warn(\n",
      "c:\\Users\\rgbmr\\AppData\\Local\\Programs\\Python\\Python312\\Lib\\site-packages\\spacy\\training\\iob_utils.py:149: UserWarning: [W030] Some entities could not be aligned in the text \"The patient has been prescribed epinephrine 340 g.\" with entities \"[(32, 43, 'MEDICATION'), (44, 49, 'DOSAGE')]\". Use `spacy.training.offsets_to_biluo_tags(nlp.make_doc(text), entities)` to check the alignment. Misaligned entities ('-') will be ignored during training.\n",
      "  warnings.warn(\n",
      "c:\\Users\\rgbmr\\AppData\\Local\\Programs\\Python\\Python312\\Lib\\site-packages\\spacy\\training\\iob_utils.py:149: UserWarning: [W030] Some entities could not be aligned in the text \"He has been prescribed nasal relief spray 895 mL.\" with entities \"[(23, 41, 'MEDICATION'), (42, 48, 'DOSAGE')]\". Use `spacy.training.offsets_to_biluo_tags(nlp.make_doc(text), entities)` to check the alignment. Misaligned entities ('-') will be ignored during training.\n",
      "  warnings.warn(\n",
      "c:\\Users\\rgbmr\\AppData\\Local\\Programs\\Python\\Python312\\Lib\\site-packages\\spacy\\training\\iob_utils.py:149: UserWarning: [W030] Some entities could not be aligned in the text \"She has been prescribed Allegra 340 g.\" with entities \"[(24, 31, 'MEDICATION'), (32, 37, 'DOSAGE')]\". Use `spacy.training.offsets_to_biluo_tags(nlp.make_doc(text), entities)` to check the alignment. Misaligned entities ('-') will be ignored during training.\n",
      "  warnings.warn(\n",
      "c:\\Users\\rgbmr\\AppData\\Local\\Programs\\Python\\Python312\\Lib\\site-packages\\spacy\\training\\iob_utils.py:149: UserWarning: [W030] Some entities could not be aligned in the text \"The patient has been prescribed clonidine 185 L.\" with entities \"[(32, 41, 'MEDICATION'), (42, 47, 'DOSAGE')]\". Use `spacy.training.offsets_to_biluo_tags(nlp.make_doc(text), entities)` to check the alignment. Misaligned entities ('-') will be ignored during training.\n",
      "  warnings.warn(\n",
      "c:\\Users\\rgbmr\\AppData\\Local\\Programs\\Python\\Python312\\Lib\\site-packages\\spacy\\training\\iob_utils.py:149: UserWarning: [W030] Some entities could not be aligned in the text \"The patient has been prescribed Breo Ellipta 120 g...\" with entities \"[(32, 44, 'MEDICATION'), (45, 50, 'DOSAGE')]\". Use `spacy.training.offsets_to_biluo_tags(nlp.make_doc(text), entities)` to check the alignment. Misaligned entities ('-') will be ignored during training.\n",
      "  warnings.warn(\n",
      "c:\\Users\\rgbmr\\AppData\\Local\\Programs\\Python\\Python312\\Lib\\site-packages\\spacy\\training\\iob_utils.py:149: UserWarning: [W030] Some entities could not be aligned in the text \"He has been prescribed sumatriptan 445 mL.\" with entities \"[(23, 34, 'MEDICATION'), (35, 41, 'DOSAGE')]\". Use `spacy.training.offsets_to_biluo_tags(nlp.make_doc(text), entities)` to check the alignment. Misaligned entities ('-') will be ignored during training.\n",
      "  warnings.warn(\n",
      "c:\\Users\\rgbmr\\AppData\\Local\\Programs\\Python\\Python312\\Lib\\site-packages\\spacy\\training\\iob_utils.py:149: UserWarning: [W030] Some entities could not be aligned in the text \"He has been prescribed finasteride 120 g.\" with entities \"[(23, 34, 'MEDICATION'), (35, 40, 'DOSAGE')]\". Use `spacy.training.offsets_to_biluo_tags(nlp.make_doc(text), entities)` to check the alignment. Misaligned entities ('-') will be ignored during training.\n",
      "  warnings.warn(\n",
      "c:\\Users\\rgbmr\\AppData\\Local\\Programs\\Python\\Python312\\Lib\\site-packages\\spacy\\training\\iob_utils.py:149: UserWarning: [W030] Some entities could not be aligned in the text \"The patient has been prescribed metformin 60 mL.\" with entities \"[(32, 41, 'MEDICATION'), (42, 47, 'DOSAGE')]\". Use `spacy.training.offsets_to_biluo_tags(nlp.make_doc(text), entities)` to check the alignment. Misaligned entities ('-') will be ignored during training.\n",
      "  warnings.warn(\n",
      "c:\\Users\\rgbmr\\AppData\\Local\\Programs\\Python\\Python312\\Lib\\site-packages\\spacy\\training\\iob_utils.py:149: UserWarning: [W030] Some entities could not be aligned in the text \"She has been prescribed sodium bicarbonate 920 L.\" with entities \"[(24, 42, 'MEDICATION'), (43, 48, 'DOSAGE')]\". Use `spacy.training.offsets_to_biluo_tags(nlp.make_doc(text), entities)` to check the alignment. Misaligned entities ('-') will be ignored during training.\n",
      "  warnings.warn(\n",
      "c:\\Users\\rgbmr\\AppData\\Local\\Programs\\Python\\Python312\\Lib\\site-packages\\spacy\\training\\iob_utils.py:149: UserWarning: [W030] Some entities could not be aligned in the text \"He has been prescribed Kenalog 485 mL.\" with entities \"[(23, 30, 'MEDICATION'), (31, 37, 'DOSAGE')]\". Use `spacy.training.offsets_to_biluo_tags(nlp.make_doc(text), entities)` to check the alignment. Misaligned entities ('-') will be ignored during training.\n",
      "  warnings.warn(\n",
      "c:\\Users\\rgbmr\\AppData\\Local\\Programs\\Python\\Python312\\Lib\\site-packages\\spacy\\training\\iob_utils.py:149: UserWarning: [W030] Some entities could not be aligned in the text \"The patient has been prescribed ezetimibe 315 L.\" with entities \"[(32, 41, 'MEDICATION'), (42, 47, 'DOSAGE')]\". Use `spacy.training.offsets_to_biluo_tags(nlp.make_doc(text), entities)` to check the alignment. Misaligned entities ('-') will be ignored during training.\n",
      "  warnings.warn(\n",
      "c:\\Users\\rgbmr\\AppData\\Local\\Programs\\Python\\Python312\\Lib\\site-packages\\spacy\\training\\iob_utils.py:149: UserWarning: [W030] Some entities could not be aligned in the text \"The patient has been prescribed latanoprost 185 L.\" with entities \"[(32, 43, 'MEDICATION'), (44, 49, 'DOSAGE')]\". Use `spacy.training.offsets_to_biluo_tags(nlp.make_doc(text), entities)` to check the alignment. Misaligned entities ('-') will be ignored during training.\n",
      "  warnings.warn(\n",
      "c:\\Users\\rgbmr\\AppData\\Local\\Programs\\Python\\Python312\\Lib\\site-packages\\spacy\\training\\iob_utils.py:149: UserWarning: [W030] Some entities could not be aligned in the text \"The patient has been prescribed valsartan 340 g.\" with entities \"[(32, 41, 'MEDICATION'), (42, 47, 'DOSAGE')]\". Use `spacy.training.offsets_to_biluo_tags(nlp.make_doc(text), entities)` to check the alignment. Misaligned entities ('-') will be ignored during training.\n",
      "  warnings.warn(\n",
      "c:\\Users\\rgbmr\\AppData\\Local\\Programs\\Python\\Python312\\Lib\\site-packages\\spacy\\training\\iob_utils.py:149: UserWarning: [W030] Some entities could not be aligned in the text \"She mentioned an allergy to Retin-A.\" with entities \"[(28, 35, 'MEDICATION')]\". Use `spacy.training.offsets_to_biluo_tags(nlp.make_doc(text), entities)` to check the alignment. Misaligned entities ('-') will be ignored during training.\n",
      "  warnings.warn(\n",
      "c:\\Users\\rgbmr\\AppData\\Local\\Programs\\Python\\Python312\\Lib\\site-packages\\spacy\\training\\iob_utils.py:149: UserWarning: [W030] Some entities could not be aligned in the text \"He has been prescribed effexor 695 g.\" with entities \"[(23, 30, 'MEDICATION'), (31, 36, 'DOSAGE')]\". Use `spacy.training.offsets_to_biluo_tags(nlp.make_doc(text), entities)` to check the alignment. Misaligned entities ('-') will be ignored during training.\n",
      "  warnings.warn(\n",
      "c:\\Users\\rgbmr\\AppData\\Local\\Programs\\Python\\Python312\\Lib\\site-packages\\spacy\\training\\iob_utils.py:149: UserWarning: [W030] Some entities could not be aligned in the text \"He has been prescribed itraconazole 85 g.\" with entities \"[(23, 35, 'MEDICATION'), (36, 40, 'DOSAGE')]\". Use `spacy.training.offsets_to_biluo_tags(nlp.make_doc(text), entities)` to check the alignment. Misaligned entities ('-') will be ignored during training.\n",
      "  warnings.warn(\n",
      "c:\\Users\\rgbmr\\AppData\\Local\\Programs\\Python\\Python312\\Lib\\site-packages\\spacy\\training\\iob_utils.py:149: UserWarning: [W030] Some entities could not be aligned in the text \"She has been prescribed oxandrolone 10 L.\" with entities \"[(24, 35, 'MEDICATION'), (36, 40, 'DOSAGE')]\". Use `spacy.training.offsets_to_biluo_tags(nlp.make_doc(text), entities)` to check the alignment. Misaligned entities ('-') will be ignored during training.\n",
      "  warnings.warn(\n",
      "c:\\Users\\rgbmr\\AppData\\Local\\Programs\\Python\\Python312\\Lib\\site-packages\\spacy\\training\\iob_utils.py:149: UserWarning: [W030] Some entities could not be aligned in the text \"They has been prescribed Lamictal 715 mL.\" with entities \"[(25, 33, 'MEDICATION'), (34, 40, 'DOSAGE')]\". Use `spacy.training.offsets_to_biluo_tags(nlp.make_doc(text), entities)` to check the alignment. Misaligned entities ('-') will be ignored during training.\n",
      "  warnings.warn(\n",
      "c:\\Users\\rgbmr\\AppData\\Local\\Programs\\Python\\Python312\\Lib\\site-packages\\spacy\\training\\iob_utils.py:149: UserWarning: [W030] Some entities could not be aligned in the text \"She has been prescribed insulin 55 g.\" with entities \"[(24, 31, 'MEDICATION'), (32, 36, 'DOSAGE')]\". Use `spacy.training.offsets_to_biluo_tags(nlp.make_doc(text), entities)` to check the alignment. Misaligned entities ('-') will be ignored during training.\n",
      "  warnings.warn(\n",
      "c:\\Users\\rgbmr\\AppData\\Local\\Programs\\Python\\Python312\\Lib\\site-packages\\spacy\\training\\iob_utils.py:149: UserWarning: [W030] Some entities could not be aligned in the text \"He has been prescribed Ventolin 670 g.\" with entities \"[(23, 31, 'MEDICATION'), (32, 37, 'DOSAGE')]\". Use `spacy.training.offsets_to_biluo_tags(nlp.make_doc(text), entities)` to check the alignment. Misaligned entities ('-') will be ignored during training.\n",
      "  warnings.warn(\n",
      "c:\\Users\\rgbmr\\AppData\\Local\\Programs\\Python\\Python312\\Lib\\site-packages\\spacy\\training\\iob_utils.py:149: UserWarning: [W030] Some entities could not be aligned in the text \"They has been prescribed glimepiride 85 g.\" with entities \"[(25, 36, 'MEDICATION'), (37, 41, 'DOSAGE')]\". Use `spacy.training.offsets_to_biluo_tags(nlp.make_doc(text), entities)` to check the alignment. Misaligned entities ('-') will be ignored during training.\n",
      "  warnings.warn(\n",
      "c:\\Users\\rgbmr\\AppData\\Local\\Programs\\Python\\Python312\\Lib\\site-packages\\spacy\\training\\iob_utils.py:149: UserWarning: [W030] Some entities could not be aligned in the text \"He has been prescribed alprazolam 80 L.\" with entities \"[(23, 33, 'MEDICATION'), (34, 38, 'DOSAGE')]\". Use `spacy.training.offsets_to_biluo_tags(nlp.make_doc(text), entities)` to check the alignment. Misaligned entities ('-') will be ignored during training.\n",
      "  warnings.warn(\n",
      "c:\\Users\\rgbmr\\AppData\\Local\\Programs\\Python\\Python312\\Lib\\site-packages\\spacy\\training\\iob_utils.py:149: UserWarning: [W030] Some entities could not be aligned in the text \"She has been prescribed tolterodine 400 g.\" with entities \"[(24, 35, 'MEDICATION'), (36, 41, 'DOSAGE')]\". Use `spacy.training.offsets_to_biluo_tags(nlp.make_doc(text), entities)` to check the alignment. Misaligned entities ('-') will be ignored during training.\n",
      "  warnings.warn(\n",
      "c:\\Users\\rgbmr\\AppData\\Local\\Programs\\Python\\Python312\\Lib\\site-packages\\spacy\\training\\iob_utils.py:149: UserWarning: [W030] Some entities could not be aligned in the text \"They has been prescribed amoxicillin 990 mL.\" with entities \"[(25, 36, 'MEDICATION'), (37, 43, 'DOSAGE')]\". Use `spacy.training.offsets_to_biluo_tags(nlp.make_doc(text), entities)` to check the alignment. Misaligned entities ('-') will be ignored during training.\n",
      "  warnings.warn(\n",
      "c:\\Users\\rgbmr\\AppData\\Local\\Programs\\Python\\Python312\\Lib\\site-packages\\spacy\\training\\iob_utils.py:149: UserWarning: [W030] Some entities could not be aligned in the text \"The patient has been prescribed benzonatate 445 mL...\" with entities \"[(32, 43, 'MEDICATION'), (44, 50, 'DOSAGE')]\". Use `spacy.training.offsets_to_biluo_tags(nlp.make_doc(text), entities)` to check the alignment. Misaligned entities ('-') will be ignored during training.\n",
      "  warnings.warn(\n",
      "c:\\Users\\rgbmr\\AppData\\Local\\Programs\\Python\\Python312\\Lib\\site-packages\\spacy\\training\\iob_utils.py:149: UserWarning: [W030] Some entities could not be aligned in the text \"She has been prescribed Sprintec 505 mL.\" with entities \"[(24, 32, 'MEDICATION'), (33, 39, 'DOSAGE')]\". Use `spacy.training.offsets_to_biluo_tags(nlp.make_doc(text), entities)` to check the alignment. Misaligned entities ('-') will be ignored during training.\n",
      "  warnings.warn(\n",
      "c:\\Users\\rgbmr\\AppData\\Local\\Programs\\Python\\Python312\\Lib\\site-packages\\spacy\\training\\iob_utils.py:149: UserWarning: [W030] Some entities could not be aligned in the text \"He has been prescribed fluorouracil 780 L.\" with entities \"[(23, 35, 'MEDICATION'), (36, 41, 'DOSAGE')]\". Use `spacy.training.offsets_to_biluo_tags(nlp.make_doc(text), entities)` to check the alignment. Misaligned entities ('-') will be ignored during training.\n",
      "  warnings.warn(\n",
      "c:\\Users\\rgbmr\\AppData\\Local\\Programs\\Python\\Python312\\Lib\\site-packages\\spacy\\training\\iob_utils.py:149: UserWarning: [W030] Some entities could not be aligned in the text \"They has been prescribed sodium chloride decyl glu...\" with entities \"[(25, 56, 'MEDICATION'), (57, 62, 'DOSAGE')]\". Use `spacy.training.offsets_to_biluo_tags(nlp.make_doc(text), entities)` to check the alignment. Misaligned entities ('-') will be ignored during training.\n",
      "  warnings.warn(\n",
      "c:\\Users\\rgbmr\\AppData\\Local\\Programs\\Python\\Python312\\Lib\\site-packages\\spacy\\training\\iob_utils.py:149: UserWarning: [W030] Some entities could not be aligned in the text \"They has been prescribed Xylocaine 275 g.\" with entities \"[(25, 34, 'MEDICATION'), (35, 40, 'DOSAGE')]\". Use `spacy.training.offsets_to_biluo_tags(nlp.make_doc(text), entities)` to check the alignment. Misaligned entities ('-') will be ignored during training.\n",
      "  warnings.warn(\n",
      "c:\\Users\\rgbmr\\AppData\\Local\\Programs\\Python\\Python312\\Lib\\site-packages\\spacy\\training\\iob_utils.py:149: UserWarning: [W030] Some entities could not be aligned in the text \"17-hydroxyprogesterone measurements indicate Clear...\" with entities \"[(45, 85, 'DIAGNOSIS')]\". Use `spacy.training.offsets_to_biluo_tags(nlp.make_doc(text), entities)` to check the alignment. Misaligned entities ('-') will be ignored during training.\n",
      "  warnings.warn(\n",
      "c:\\Users\\rgbmr\\AppData\\Local\\Programs\\Python\\Python312\\Lib\\site-packages\\spacy\\training\\iob_utils.py:149: UserWarning: [W030] Some entities could not be aligned in the text \"They has been prescribed potassium chloride 180 mL...\" with entities \"[(25, 43, 'MEDICATION'), (44, 50, 'DOSAGE')]\". Use `spacy.training.offsets_to_biluo_tags(nlp.make_doc(text), entities)` to check the alignment. Misaligned entities ('-') will be ignored during training.\n",
      "  warnings.warn(\n",
      "c:\\Users\\rgbmr\\AppData\\Local\\Programs\\Python\\Python312\\Lib\\site-packages\\spacy\\training\\iob_utils.py:149: UserWarning: [W030] Some entities could not be aligned in the text \"She has been prescribed Jardiance 270 g.\" with entities \"[(24, 33, 'MEDICATION'), (34, 39, 'DOSAGE')]\". Use `spacy.training.offsets_to_biluo_tags(nlp.make_doc(text), entities)` to check the alignment. Misaligned entities ('-') will be ignored during training.\n",
      "  warnings.warn(\n",
      "c:\\Users\\rgbmr\\AppData\\Local\\Programs\\Python\\Python312\\Lib\\site-packages\\spacy\\training\\iob_utils.py:149: UserWarning: [W030] Some entities could not be aligned in the text \"He has been prescribed diclofenac 600 g.\" with entities \"[(23, 33, 'MEDICATION'), (34, 39, 'DOSAGE')]\". Use `spacy.training.offsets_to_biluo_tags(nlp.make_doc(text), entities)` to check the alignment. Misaligned entities ('-') will be ignored during training.\n",
      "  warnings.warn(\n",
      "c:\\Users\\rgbmr\\AppData\\Local\\Programs\\Python\\Python312\\Lib\\site-packages\\spacy\\training\\iob_utils.py:149: UserWarning: [W030] Some entities could not be aligned in the text \"Prescribe 440 g of lorazepam for Amenorrhea .\" with entities \"[(19, 28, 'MEDICATION'), (10, 15, 'DOSAGE'), (33, ...\". Use `spacy.training.offsets_to_biluo_tags(nlp.make_doc(text), entities)` to check the alignment. Misaligned entities ('-') will be ignored during training.\n",
      "  warnings.warn(\n",
      "c:\\Users\\rgbmr\\AppData\\Local\\Programs\\Python\\Python312\\Lib\\site-packages\\spacy\\training\\iob_utils.py:149: UserWarning: [W030] Some entities could not be aligned in the text \"He has been prescribed Xifaxan 600 g.\" with entities \"[(23, 30, 'MEDICATION'), (31, 36, 'DOSAGE')]\". Use `spacy.training.offsets_to_biluo_tags(nlp.make_doc(text), entities)` to check the alignment. Misaligned entities ('-') will be ignored during training.\n",
      "  warnings.warn(\n",
      "c:\\Users\\rgbmr\\AppData\\Local\\Programs\\Python\\Python312\\Lib\\site-packages\\spacy\\training\\iob_utils.py:149: UserWarning: [W030] Some entities could not be aligned in the text \"Patient presents with Numbness. Need to run Total ...\" with entities \"[(44, 91, 'TEST_NAME'), (22, 30, 'SYMPTOM')]\". Use `spacy.training.offsets_to_biluo_tags(nlp.make_doc(text), entities)` to check the alignment. Misaligned entities ('-') will be ignored during training.\n",
      "  warnings.warn(\n",
      "c:\\Users\\rgbmr\\AppData\\Local\\Programs\\Python\\Python312\\Lib\\site-packages\\spacy\\training\\iob_utils.py:149: UserWarning: [W030] Some entities could not be aligned in the text \"They has been prescribed Generlac 585 L.\" with entities \"[(25, 33, 'MEDICATION'), (34, 39, 'DOSAGE')]\". Use `spacy.training.offsets_to_biluo_tags(nlp.make_doc(text), entities)` to check the alignment. Misaligned entities ('-') will be ignored during training.\n",
      "  warnings.warn(\n",
      "c:\\Users\\rgbmr\\AppData\\Local\\Programs\\Python\\Python312\\Lib\\site-packages\\spacy\\training\\iob_utils.py:149: UserWarning: [W030] Some entities could not be aligned in the text \"The patient has been prescribed norgestimate 235 m...\" with entities \"[(32, 44, 'MEDICATION'), (45, 51, 'DOSAGE')]\". Use `spacy.training.offsets_to_biluo_tags(nlp.make_doc(text), entities)` to check the alignment. Misaligned entities ('-') will be ignored during training.\n",
      "  warnings.warn(\n",
      "c:\\Users\\rgbmr\\AppData\\Local\\Programs\\Python\\Python312\\Lib\\site-packages\\spacy\\training\\iob_utils.py:149: UserWarning: [W030] Some entities could not be aligned in the text \"They has been prescribed Augmentin 180 mL.\" with entities \"[(25, 34, 'MEDICATION'), (35, 41, 'DOSAGE')]\". Use `spacy.training.offsets_to_biluo_tags(nlp.make_doc(text), entities)` to check the alignment. Misaligned entities ('-') will be ignored during training.\n",
      "  warnings.warn(\n",
      "c:\\Users\\rgbmr\\AppData\\Local\\Programs\\Python\\Python312\\Lib\\site-packages\\spacy\\training\\iob_utils.py:149: UserWarning: [W030] Some entities could not be aligned in the text \"He has been prescribed Zantac 335 mL.\" with entities \"[(23, 29, 'MEDICATION'), (30, 36, 'DOSAGE')]\". Use `spacy.training.offsets_to_biluo_tags(nlp.make_doc(text), entities)` to check the alignment. Misaligned entities ('-') will be ignored during training.\n",
      "  warnings.warn(\n",
      "c:\\Users\\rgbmr\\AppData\\Local\\Programs\\Python\\Python312\\Lib\\site-packages\\spacy\\training\\iob_utils.py:149: UserWarning: [W030] Some entities could not be aligned in the text \"The patient has been prescribed Haldol 715 mL.\" with entities \"[(32, 38, 'MEDICATION'), (39, 45, 'DOSAGE')]\". Use `spacy.training.offsets_to_biluo_tags(nlp.make_doc(text), entities)` to check the alignment. Misaligned entities ('-') will be ignored during training.\n",
      "  warnings.warn(\n",
      "c:\\Users\\rgbmr\\AppData\\Local\\Programs\\Python\\Python312\\Lib\\site-packages\\spacy\\training\\iob_utils.py:149: UserWarning: [W030] Some entities could not be aligned in the text \"They has been prescribed ketotifen 900 g.\" with entities \"[(25, 34, 'MEDICATION'), (35, 40, 'DOSAGE')]\". Use `spacy.training.offsets_to_biluo_tags(nlp.make_doc(text), entities)` to check the alignment. Misaligned entities ('-') will be ignored during training.\n",
      "  warnings.warn(\n",
      "c:\\Users\\rgbmr\\AppData\\Local\\Programs\\Python\\Python312\\Lib\\site-packages\\spacy\\training\\iob_utils.py:149: UserWarning: [W030] Some entities could not be aligned in the text \"The patient has been prescribed ketoconazole 455 m...\" with entities \"[(32, 44, 'MEDICATION'), (45, 51, 'DOSAGE')]\". Use `spacy.training.offsets_to_biluo_tags(nlp.make_doc(text), entities)` to check the alignment. Misaligned entities ('-') will be ignored during training.\n",
      "  warnings.warn(\n",
      "c:\\Users\\rgbmr\\AppData\\Local\\Programs\\Python\\Python312\\Lib\\site-packages\\spacy\\training\\iob_utils.py:149: UserWarning: [W030] Some entities could not be aligned in the text \"He has been prescribed Hydromet 780 L.\" with entities \"[(23, 31, 'MEDICATION'), (32, 37, 'DOSAGE')]\". Use `spacy.training.offsets_to_biluo_tags(nlp.make_doc(text), entities)` to check the alignment. Misaligned entities ('-') will be ignored during training.\n",
      "  warnings.warn(\n",
      "c:\\Users\\rgbmr\\AppData\\Local\\Programs\\Python\\Python312\\Lib\\site-packages\\spacy\\training\\iob_utils.py:149: UserWarning: [W030] Some entities could not be aligned in the text \"The patient has been prescribed pantoprazole 250 g...\" with entities \"[(32, 44, 'MEDICATION'), (45, 50, 'DOSAGE')]\". Use `spacy.training.offsets_to_biluo_tags(nlp.make_doc(text), entities)` to check the alignment. Misaligned entities ('-') will be ignored during training.\n",
      "  warnings.warn(\n",
      "c:\\Users\\rgbmr\\AppData\\Local\\Programs\\Python\\Python312\\Lib\\site-packages\\spacy\\training\\iob_utils.py:149: UserWarning: [W030] Some entities could not be aligned in the text \"The patient has been prescribed norethindrone 975 ...\" with entities \"[(32, 45, 'MEDICATION'), (46, 51, 'DOSAGE')]\". Use `spacy.training.offsets_to_biluo_tags(nlp.make_doc(text), entities)` to check the alignment. Misaligned entities ('-') will be ignored during training.\n",
      "  warnings.warn(\n",
      "c:\\Users\\rgbmr\\AppData\\Local\\Programs\\Python\\Python312\\Lib\\site-packages\\spacy\\training\\iob_utils.py:149: UserWarning: [W030] Some entities could not be aligned in the text \"The patient has been prescribed Celexa 340 g.\" with entities \"[(32, 38, 'MEDICATION'), (39, 44, 'DOSAGE')]\". Use `spacy.training.offsets_to_biluo_tags(nlp.make_doc(text), entities)` to check the alignment. Misaligned entities ('-') will be ignored during training.\n",
      "  warnings.warn(\n",
      "c:\\Users\\rgbmr\\AppData\\Local\\Programs\\Python\\Python312\\Lib\\site-packages\\spacy\\training\\iob_utils.py:149: UserWarning: [W030] Some entities could not be aligned in the text \"They has been prescribed bisacodyl 180 mL.\" with entities \"[(25, 34, 'MEDICATION'), (35, 41, 'DOSAGE')]\". Use `spacy.training.offsets_to_biluo_tags(nlp.make_doc(text), entities)` to check the alignment. Misaligned entities ('-') will be ignored during training.\n",
      "  warnings.warn(\n",
      "c:\\Users\\rgbmr\\AppData\\Local\\Programs\\Python\\Python312\\Lib\\site-packages\\spacy\\training\\iob_utils.py:149: UserWarning: [W030] Some entities could not be aligned in the text \"Concussion tests measurements indicate Hepatitis A...\" with entities \"[(39, 50, 'DIAGNOSIS')]\". Use `spacy.training.offsets_to_biluo_tags(nlp.make_doc(text), entities)` to check the alignment. Misaligned entities ('-') will be ignored during training.\n",
      "  warnings.warn(\n",
      "c:\\Users\\rgbmr\\AppData\\Local\\Programs\\Python\\Python312\\Lib\\site-packages\\spacy\\training\\iob_utils.py:149: UserWarning: [W030] Some entities could not be aligned in the text \"He has been prescribed omeprazole 715 mL.\" with entities \"[(23, 33, 'MEDICATION'), (34, 40, 'DOSAGE')]\". Use `spacy.training.offsets_to_biluo_tags(nlp.make_doc(text), entities)` to check the alignment. Misaligned entities ('-') will be ignored during training.\n",
      "  warnings.warn(\n",
      "c:\\Users\\rgbmr\\AppData\\Local\\Programs\\Python\\Python312\\Lib\\site-packages\\spacy\\training\\iob_utils.py:149: UserWarning: [W030] Some entities could not be aligned in the text \"Patient presents with Breast Abscess.. Need to run...\" with entities \"[(51, 65, 'TEST_NAME'), (22, 37, 'SYMPTOM')]\". Use `spacy.training.offsets_to_biluo_tags(nlp.make_doc(text), entities)` to check the alignment. Misaligned entities ('-') will be ignored during training.\n",
      "  warnings.warn(\n",
      "c:\\Users\\rgbmr\\AppData\\Local\\Programs\\Python\\Python312\\Lib\\site-packages\\spacy\\training\\iob_utils.py:149: UserWarning: [W030] Some entities could not be aligned in the text \"They has been prescribed mirtazapine 770 g.\" with entities \"[(25, 36, 'MEDICATION'), (37, 42, 'DOSAGE')]\". Use `spacy.training.offsets_to_biluo_tags(nlp.make_doc(text), entities)` to check the alignment. Misaligned entities ('-') will be ignored during training.\n",
      "  warnings.warn(\n",
      "c:\\Users\\rgbmr\\AppData\\Local\\Programs\\Python\\Python312\\Lib\\site-packages\\spacy\\training\\iob_utils.py:149: UserWarning: [W030] Some entities could not be aligned in the text \"He has been prescribed famotidine 635 L.\" with entities \"[(23, 33, 'MEDICATION'), (34, 39, 'DOSAGE')]\". Use `spacy.training.offsets_to_biluo_tags(nlp.make_doc(text), entities)` to check the alignment. Misaligned entities ('-') will be ignored during training.\n",
      "  warnings.warn(\n",
      "c:\\Users\\rgbmr\\AppData\\Local\\Programs\\Python\\Python312\\Lib\\site-packages\\spacy\\training\\iob_utils.py:149: UserWarning: [W030] Some entities could not be aligned in the text \"She has been prescribed Esomeprazole 1000 L.\" with entities \"[(24, 36, 'MEDICATION'), (37, 43, 'DOSAGE')]\". Use `spacy.training.offsets_to_biluo_tags(nlp.make_doc(text), entities)` to check the alignment. Misaligned entities ('-') will be ignored during training.\n",
      "  warnings.warn(\n",
      "c:\\Users\\rgbmr\\AppData\\Local\\Programs\\Python\\Python312\\Lib\\site-packages\\spacy\\training\\iob_utils.py:149: UserWarning: [W030] Some entities could not be aligned in the text \"She has been prescribed ipratropium 485 mL.\" with entities \"[(24, 35, 'MEDICATION'), (36, 42, 'DOSAGE')]\". Use `spacy.training.offsets_to_biluo_tags(nlp.make_doc(text), entities)` to check the alignment. Misaligned entities ('-') will be ignored during training.\n",
      "  warnings.warn(\n",
      "c:\\Users\\rgbmr\\AppData\\Local\\Programs\\Python\\Python312\\Lib\\site-packages\\spacy\\training\\iob_utils.py:149: UserWarning: [W030] Some entities could not be aligned in the text \"The patient has been prescribed simvastatin 665 g.\" with entities \"[(32, 43, 'MEDICATION'), (44, 49, 'DOSAGE')]\". Use `spacy.training.offsets_to_biluo_tags(nlp.make_doc(text), entities)` to check the alignment. Misaligned entities ('-') will be ignored during training.\n",
      "  warnings.warn(\n",
      "c:\\Users\\rgbmr\\AppData\\Local\\Programs\\Python\\Python312\\Lib\\site-packages\\spacy\\training\\iob_utils.py:149: UserWarning: [W030] Some entities could not be aligned in the text \"They has been prescribed Estrace 990 mL.\" with entities \"[(25, 32, 'MEDICATION'), (33, 39, 'DOSAGE')]\". Use `spacy.training.offsets_to_biluo_tags(nlp.make_doc(text), entities)` to check the alignment. Misaligned entities ('-') will be ignored during training.\n",
      "  warnings.warn(\n",
      "c:\\Users\\rgbmr\\AppData\\Local\\Programs\\Python\\Python312\\Lib\\site-packages\\spacy\\training\\iob_utils.py:149: UserWarning: [W030] Some entities could not be aligned in the text \"He has been prescribed potassium chloride 340 g.\" with entities \"[(23, 41, 'MEDICATION'), (42, 47, 'DOSAGE')]\". Use `spacy.training.offsets_to_biluo_tags(nlp.make_doc(text), entities)` to check the alignment. Misaligned entities ('-') will be ignored during training.\n",
      "  warnings.warn(\n",
      "c:\\Users\\rgbmr\\AppData\\Local\\Programs\\Python\\Python312\\Lib\\site-packages\\spacy\\training\\iob_utils.py:149: UserWarning: [W030] Some entities could not be aligned in the text \"She has been prescribed olanzapine 295 L.\" with entities \"[(24, 34, 'MEDICATION'), (35, 40, 'DOSAGE')]\". Use `spacy.training.offsets_to_biluo_tags(nlp.make_doc(text), entities)` to check the alignment. Misaligned entities ('-') will be ignored during training.\n",
      "  warnings.warn(\n",
      "c:\\Users\\rgbmr\\AppData\\Local\\Programs\\Python\\Python312\\Lib\\site-packages\\spacy\\training\\iob_utils.py:149: UserWarning: [W030] Some entities could not be aligned in the text \"They has been prescribed triamcinolone 575 g.\" with entities \"[(25, 38, 'MEDICATION'), (39, 44, 'DOSAGE')]\". Use `spacy.training.offsets_to_biluo_tags(nlp.make_doc(text), entities)` to check the alignment. Misaligned entities ('-') will be ignored during training.\n",
      "  warnings.warn(\n",
      "c:\\Users\\rgbmr\\AppData\\Local\\Programs\\Python\\Python312\\Lib\\site-packages\\spacy\\training\\iob_utils.py:149: UserWarning: [W030] Some entities could not be aligned in the text \"He has been prescribed Haldol 585 L.\" with entities \"[(23, 29, 'MEDICATION'), (30, 35, 'DOSAGE')]\". Use `spacy.training.offsets_to_biluo_tags(nlp.make_doc(text), entities)` to check the alignment. Misaligned entities ('-') will be ignored during training.\n",
      "  warnings.warn(\n",
      "c:\\Users\\rgbmr\\AppData\\Local\\Programs\\Python\\Python312\\Lib\\site-packages\\spacy\\training\\iob_utils.py:149: UserWarning: [W030] Some entities could not be aligned in the text \"Renin test measurements indicate Non-Seminoma Test...\" with entities \"[(33, 72, 'DIAGNOSIS')]\". Use `spacy.training.offsets_to_biluo_tags(nlp.make_doc(text), entities)` to check the alignment. Misaligned entities ('-') will be ignored during training.\n",
      "  warnings.warn(\n",
      "c:\\Users\\rgbmr\\AppData\\Local\\Programs\\Python\\Python312\\Lib\\site-packages\\spacy\\training\\iob_utils.py:149: UserWarning: [W030] Some entities could not be aligned in the text \"She has been prescribed Zovirax 920 L.\" with entities \"[(24, 31, 'MEDICATION'), (32, 37, 'DOSAGE')]\". Use `spacy.training.offsets_to_biluo_tags(nlp.make_doc(text), entities)` to check the alignment. Misaligned entities ('-') will be ignored during training.\n",
      "  warnings.warn(\n",
      "c:\\Users\\rgbmr\\AppData\\Local\\Programs\\Python\\Python312\\Lib\\site-packages\\spacy\\training\\iob_utils.py:149: UserWarning: [W030] Some entities could not be aligned in the text \"Prescribe 180 mL of sitagliptin for Breast Abscess...\" with entities \"[(20, 31, 'MEDICATION'), (10, 16, 'DOSAGE'), (36, ...\". Use `spacy.training.offsets_to_biluo_tags(nlp.make_doc(text), entities)` to check the alignment. Misaligned entities ('-') will be ignored during training.\n",
      "  warnings.warn(\n",
      "c:\\Users\\rgbmr\\AppData\\Local\\Programs\\Python\\Python312\\Lib\\site-packages\\spacy\\training\\iob_utils.py:149: UserWarning: [W030] Some entities could not be aligned in the text \"The patient has been prescribed Vitamin B12 970 mL...\" with entities \"[(32, 43, 'MEDICATION'), (44, 50, 'DOSAGE')]\". Use `spacy.training.offsets_to_biluo_tags(nlp.make_doc(text), entities)` to check the alignment. Misaligned entities ('-') will be ignored during training.\n",
      "  warnings.warn(\n",
      "c:\\Users\\rgbmr\\AppData\\Local\\Programs\\Python\\Python312\\Lib\\site-packages\\spacy\\training\\iob_utils.py:149: UserWarning: [W030] Some entities could not be aligned in the text \"She has been prescribed neurontin 800 L.\" with entities \"[(24, 33, 'MEDICATION'), (34, 39, 'DOSAGE')]\". Use `spacy.training.offsets_to_biluo_tags(nlp.make_doc(text), entities)` to check the alignment. Misaligned entities ('-') will be ignored during training.\n",
      "  warnings.warn(\n",
      "c:\\Users\\rgbmr\\AppData\\Local\\Programs\\Python\\Python312\\Lib\\site-packages\\spacy\\training\\iob_utils.py:149: UserWarning: [W030] Some entities could not be aligned in the text \"They has been prescribed nabumetone 560 L.\" with entities \"[(25, 35, 'MEDICATION'), (36, 41, 'DOSAGE')]\". Use `spacy.training.offsets_to_biluo_tags(nlp.make_doc(text), entities)` to check the alignment. Misaligned entities ('-') will be ignored during training.\n",
      "  warnings.warn(\n",
      "c:\\Users\\rgbmr\\AppData\\Local\\Programs\\Python\\Python312\\Lib\\site-packages\\spacy\\training\\iob_utils.py:149: UserWarning: [W030] Some entities could not be aligned in the text \"He has been prescribed oxycodone 575 g.\" with entities \"[(23, 32, 'MEDICATION'), (33, 38, 'DOSAGE')]\". Use `spacy.training.offsets_to_biluo_tags(nlp.make_doc(text), entities)` to check the alignment. Misaligned entities ('-') will be ignored during training.\n",
      "  warnings.warn(\n",
      "c:\\Users\\rgbmr\\AppData\\Local\\Programs\\Python\\Python312\\Lib\\site-packages\\spacy\\training\\iob_utils.py:149: UserWarning: [W030] Some entities could not be aligned in the text \"She has been prescribed topiramate 340 g.\" with entities \"[(24, 34, 'MEDICATION'), (35, 40, 'DOSAGE')]\". Use `spacy.training.offsets_to_biluo_tags(nlp.make_doc(text), entities)` to check the alignment. Misaligned entities ('-') will be ignored during training.\n",
      "  warnings.warn(\n",
      "c:\\Users\\rgbmr\\AppData\\Local\\Programs\\Python\\Python312\\Lib\\site-packages\\spacy\\training\\iob_utils.py:149: UserWarning: [W030] Some entities could not be aligned in the text \"The patient has been prescribed Breo Ellipta 140 m...\" with entities \"[(32, 44, 'MEDICATION'), (45, 51, 'DOSAGE')]\". Use `spacy.training.offsets_to_biluo_tags(nlp.make_doc(text), entities)` to check the alignment. Misaligned entities ('-') will be ignored during training.\n",
      "  warnings.warn(\n",
      "c:\\Users\\rgbmr\\AppData\\Local\\Programs\\Python\\Python312\\Lib\\site-packages\\spacy\\training\\iob_utils.py:149: UserWarning: [W030] Some entities could not be aligned in the text \"She has been prescribed ferrous fumarate 55 g.\" with entities \"[(24, 40, 'MEDICATION'), (41, 45, 'DOSAGE')]\". Use `spacy.training.offsets_to_biluo_tags(nlp.make_doc(text), entities)` to check the alignment. Misaligned entities ('-') will be ignored during training.\n",
      "  warnings.warn(\n",
      "c:\\Users\\rgbmr\\AppData\\Local\\Programs\\Python\\Python312\\Lib\\site-packages\\spacy\\training\\iob_utils.py:149: UserWarning: [W030] Some entities could not be aligned in the text \"The patient has been prescribed tamsulosin 650 L.\" with entities \"[(32, 42, 'MEDICATION'), (43, 48, 'DOSAGE')]\". Use `spacy.training.offsets_to_biluo_tags(nlp.make_doc(text), entities)` to check the alignment. Misaligned entities ('-') will be ignored during training.\n",
      "  warnings.warn(\n",
      "c:\\Users\\rgbmr\\AppData\\Local\\Programs\\Python\\Python312\\Lib\\site-packages\\spacy\\training\\iob_utils.py:149: UserWarning: [W030] Some entities could not be aligned in the text \"They has been prescribed Celexa 780 L.\" with entities \"[(25, 31, 'MEDICATION'), (32, 37, 'DOSAGE')]\". Use `spacy.training.offsets_to_biluo_tags(nlp.make_doc(text), entities)` to check the alignment. Misaligned entities ('-') will be ignored during training.\n",
      "  warnings.warn(\n",
      "c:\\Users\\rgbmr\\AppData\\Local\\Programs\\Python\\Python312\\Lib\\site-packages\\spacy\\training\\iob_utils.py:149: UserWarning: [W030] Some entities could not be aligned in the text \"They has been prescribed Namenda 995 mL.\" with entities \"[(25, 32, 'MEDICATION'), (33, 39, 'DOSAGE')]\". Use `spacy.training.offsets_to_biluo_tags(nlp.make_doc(text), entities)` to check the alignment. Misaligned entities ('-') will be ignored during training.\n",
      "  warnings.warn(\n",
      "c:\\Users\\rgbmr\\AppData\\Local\\Programs\\Python\\Python312\\Lib\\site-packages\\spacy\\training\\iob_utils.py:149: UserWarning: [W030] Some entities could not be aligned in the text \"He has been prescribed Ginkgo Biloba 80 L.\" with entities \"[(23, 36, 'MEDICATION'), (37, 41, 'DOSAGE')]\". Use `spacy.training.offsets_to_biluo_tags(nlp.make_doc(text), entities)` to check the alignment. Misaligned entities ('-') will be ignored during training.\n",
      "  warnings.warn(\n",
      "c:\\Users\\rgbmr\\AppData\\Local\\Programs\\Python\\Python312\\Lib\\site-packages\\spacy\\training\\iob_utils.py:149: UserWarning: [W030] Some entities could not be aligned in the text \"The patient has been prescribed viagra 55 g.\" with entities \"[(32, 38, 'MEDICATION'), (39, 43, 'DOSAGE')]\". Use `spacy.training.offsets_to_biluo_tags(nlp.make_doc(text), entities)` to check the alignment. Misaligned entities ('-') will be ignored during training.\n",
      "  warnings.warn(\n",
      "c:\\Users\\rgbmr\\AppData\\Local\\Programs\\Python\\Python312\\Lib\\site-packages\\spacy\\training\\iob_utils.py:149: UserWarning: [W030] Some entities could not be aligned in the text \"The patient has been prescribed Zantac 270 g.\" with entities \"[(32, 38, 'MEDICATION'), (39, 44, 'DOSAGE')]\". Use `spacy.training.offsets_to_biluo_tags(nlp.make_doc(text), entities)` to check the alignment. Misaligned entities ('-') will be ignored during training.\n",
      "  warnings.warn(\n",
      "c:\\Users\\rgbmr\\AppData\\Local\\Programs\\Python\\Python312\\Lib\\site-packages\\spacy\\training\\iob_utils.py:149: UserWarning: [W030] Some entities could not be aligned in the text \"They has been prescribed nystatin 960 mL.\" with entities \"[(25, 33, 'MEDICATION'), (34, 40, 'DOSAGE')]\". Use `spacy.training.offsets_to_biluo_tags(nlp.make_doc(text), entities)` to check the alignment. Misaligned entities ('-') will be ignored during training.\n",
      "  warnings.warn(\n",
      "c:\\Users\\rgbmr\\AppData\\Local\\Programs\\Python\\Python312\\Lib\\site-packages\\spacy\\training\\iob_utils.py:149: UserWarning: [W030] Some entities could not be aligned in the text \"Patient presents with Abdominal Mass. Need to run ...\" with entities \"[(50, 64, 'TEST_NAME'), (22, 36, 'SYMPTOM')]\". Use `spacy.training.offsets_to_biluo_tags(nlp.make_doc(text), entities)` to check the alignment. Misaligned entities ('-') will be ignored during training.\n",
      "  warnings.warn(\n",
      "c:\\Users\\rgbmr\\AppData\\Local\\Programs\\Python\\Python312\\Lib\\site-packages\\spacy\\training\\iob_utils.py:149: UserWarning: [W030] Some entities could not be aligned in the text \"The patient has been prescribed lactulose 700 mL.\" with entities \"[(32, 41, 'MEDICATION'), (42, 48, 'DOSAGE')]\". Use `spacy.training.offsets_to_biluo_tags(nlp.make_doc(text), entities)` to check the alignment. Misaligned entities ('-') will be ignored during training.\n",
      "  warnings.warn(\n",
      "c:\\Users\\rgbmr\\AppData\\Local\\Programs\\Python\\Python312\\Lib\\site-packages\\spacy\\training\\iob_utils.py:149: UserWarning: [W030] Some entities could not be aligned in the text \"He has been prescribed Flagyl 530 mL.\" with entities \"[(23, 29, 'MEDICATION'), (30, 36, 'DOSAGE')]\". Use `spacy.training.offsets_to_biluo_tags(nlp.make_doc(text), entities)` to check the alignment. Misaligned entities ('-') will be ignored during training.\n",
      "  warnings.warn(\n",
      "c:\\Users\\rgbmr\\AppData\\Local\\Programs\\Python\\Python312\\Lib\\site-packages\\spacy\\training\\iob_utils.py:149: UserWarning: [W030] Some entities could not be aligned in the text \"They has been prescribed buprenorphine 735 L.\" with entities \"[(25, 38, 'MEDICATION'), (39, 44, 'DOSAGE')]\". Use `spacy.training.offsets_to_biluo_tags(nlp.make_doc(text), entities)` to check the alignment. Misaligned entities ('-') will be ignored during training.\n",
      "  warnings.warn(\n",
      "c:\\Users\\rgbmr\\AppData\\Local\\Programs\\Python\\Python312\\Lib\\site-packages\\spacy\\training\\iob_utils.py:149: UserWarning: [W030] Some entities could not be aligned in the text \"The patient has been prescribed folic acid 380 g.\" with entities \"[(32, 42, 'MEDICATION'), (43, 48, 'DOSAGE')]\". Use `spacy.training.offsets_to_biluo_tags(nlp.make_doc(text), entities)` to check the alignment. Misaligned entities ('-') will be ignored during training.\n",
      "  warnings.warn(\n",
      "c:\\Users\\rgbmr\\AppData\\Local\\Programs\\Python\\Python312\\Lib\\site-packages\\spacy\\training\\iob_utils.py:149: UserWarning: [W030] Some entities could not be aligned in the text \"They has been prescribed imiquimod 720 L.\" with entities \"[(25, 34, 'MEDICATION'), (35, 40, 'DOSAGE')]\". Use `spacy.training.offsets_to_biluo_tags(nlp.make_doc(text), entities)` to check the alignment. Misaligned entities ('-') will be ignored during training.\n",
      "  warnings.warn(\n",
      "c:\\Users\\rgbmr\\AppData\\Local\\Programs\\Python\\Python312\\Lib\\site-packages\\spacy\\training\\iob_utils.py:149: UserWarning: [W030] Some entities could not be aligned in the text \"They has been prescribed Ultracet 630 L.\" with entities \"[(25, 33, 'MEDICATION'), (34, 39, 'DOSAGE')]\". Use `spacy.training.offsets_to_biluo_tags(nlp.make_doc(text), entities)` to check the alignment. Misaligned entities ('-') will be ignored during training.\n",
      "  warnings.warn(\n",
      "c:\\Users\\rgbmr\\AppData\\Local\\Programs\\Python\\Python312\\Lib\\site-packages\\spacy\\training\\iob_utils.py:149: UserWarning: [W030] Some entities could not be aligned in the text \"He has been prescribed ipratropium 670 g.\" with entities \"[(23, 34, 'MEDICATION'), (35, 40, 'DOSAGE')]\". Use `spacy.training.offsets_to_biluo_tags(nlp.make_doc(text), entities)` to check the alignment. Misaligned entities ('-') will be ignored during training.\n",
      "  warnings.warn(\n"
     ]
    },
    {
     "name": "stdout",
     "output_type": "stream",
     "text": [
      "Losses {'tok2vec': 0.0, 'tagger': 0.0, 'parser': 0.0, 'ner': 1721.7745040957798}\n",
      "Losses {'tok2vec': 0.0, 'tagger': 0.0, 'parser': 0.0, 'ner': 563.9236694982989}\n",
      "Losses {'tok2vec': 0.0, 'tagger': 0.0, 'parser': 0.0, 'ner': 262.9772060102004}\n",
      "Losses {'tok2vec': 0.0, 'tagger': 0.0, 'parser': 0.0, 'ner': 133.52582567790213}\n",
      "Losses {'tok2vec': 0.0, 'tagger': 0.0, 'parser': 0.0, 'ner': 113.5636037903834}\n",
      "Losses {'tok2vec': 0.0, 'tagger': 0.0, 'parser': 0.0, 'ner': 66.68138932776573}\n",
      "Losses {'tok2vec': 0.0, 'tagger': 0.0, 'parser': 0.0, 'ner': 100.76740942597998}\n",
      "Losses {'tok2vec': 0.0, 'tagger': 0.0, 'parser': 0.0, 'ner': 71.2341747569445}\n",
      "Losses {'tok2vec': 0.0, 'tagger': 0.0, 'parser': 0.0, 'ner': 56.365639546283205}\n",
      "Losses {'tok2vec': 0.0, 'tagger': 0.0, 'parser': 0.0, 'ner': 95.15087533563049}\n"
     ]
    }
   ],
   "source": [
    "optimizer = nlp.resume_training()\n",
    "for itn in range(10):  # Number of training iterations\n",
    "    losses = {}\n",
    "    for batch in minibatch(train, size=compounding(4.0, 32.0, 1.001)):\n",
    "        for text, annotations in batch:\n",
    "            doc = nlp.make_doc(text)\n",
    "            example = Example.from_dict(doc, annotations)\n",
    "            nlp.update([example], drop=0.5, sgd=optimizer, losses=losses)\n",
    "    print(\"Losses\", losses)\n",
    "\n",
    "# Save the model\n",
    "nlp.to_disk('../clean_data/models/ner_model')"
   ]
  },
  {
   "cell_type": "markdown",
   "metadata": {},
   "source": [
    "Will need more rigorous testing/improvement im sure, but fine for now"
   ]
  },
  {
   "cell_type": "code",
   "execution_count": 19,
   "metadata": {},
   "outputs": [
    {
     "name": "stdout",
     "output_type": "stream",
     "text": [
      "500mg DOSAGE\n",
      "Ibuprofen MEDICATION\n"
     ]
    }
   ],
   "source": [
    "# Example text\n",
    "text = \"Patient was administered 500mg of Ibuprofen.\"\n",
    "\n",
    "# Process the text\n",
    "doc = nlp(text)\n",
    "\n",
    "# Iterate over the predicted entities\n",
    "for ent in doc.ents:\n",
    "    print(ent.text, ent.label_)"
   ]
  },
  {
   "cell_type": "markdown",
   "metadata": {},
   "source": [
    "Much improved"
   ]
  },
  {
   "cell_type": "code",
   "execution_count": 20,
   "metadata": {},
   "outputs": [
    {
     "name": "stdout",
     "output_type": "stream",
     "text": [
      "Precision: 0.993\n",
      "Recall: 0.993\n",
      "F1 Score: 0.993\n"
     ]
    }
   ],
   "source": [
    "# Evaluate the model\n",
    "scores = nlp.evaluate(examples)\n",
    "print(f\"Precision: {scores['ents_p']:.3f}\")\n",
    "print(f\"Recall: {scores['ents_r']:.3f}\")\n",
    "print(f\"F1 Score: {scores['ents_f']:.3f}\")"
   ]
  },
  {
   "cell_type": "code",
   "execution_count": 21,
   "metadata": {},
   "outputs": [
    {
     "name": "stdout",
     "output_type": "stream",
     "text": [
      "            DOSAGE  TEST_NAME  DIAGNOSIS  MEDICATION  SYMPTOM\n",
      "DOSAGE         233          0          0           0        0\n",
      "TEST_NAME        0        177          0           0        2\n",
      "DIAGNOSIS        0          0        319           0        4\n",
      "MEDICATION       0          0          5         489        0\n",
      "SYMPTOM         98          1         14           1      342\n"
     ]
    }
   ],
   "source": [
    "entity_labels = list(entity_labels)\n",
    "\n",
    "label_indices = {label: idx for idx, label in enumerate(entity_labels)}\n",
    "num_labels = len(entity_labels)\n",
    "\n",
    "# Initialize the confusion matrix\n",
    "conf_matrix = np.zeros((num_labels, num_labels), dtype=int)\n",
    "\n",
    "# Assume examples is your validation/test set\n",
    "for example in examples:\n",
    "    true_ents = [(ent.start_char, ent.end_char, ent.label_) for ent in example.reference.ents]\n",
    "    doc = nlp(example.text)\n",
    "    pred_ents = [(ent.start_char, ent.end_char, ent.label_) for ent in doc.ents]\n",
    "\n",
    "    # Map predicted entities to true entities and increment the confusion matrix\n",
    "    for true_ent in true_ents:\n",
    "        true_label_idx = label_indices[true_ent[2]]\n",
    "        # Check if the true entity is in the predictions\n",
    "        if true_ent in pred_ents:\n",
    "            pred_label_idx = true_label_idx\n",
    "        else:\n",
    "            # If not, find a matching span with a different label, or no entity\n",
    "            pred_label_idx = label_indices.get(next((pe[2] for pe in pred_ents if pe[0] == true_ent[0] and pe[1] == true_ent[1]), 'O'), num_labels - 1)\n",
    "        conf_matrix[true_label_idx, pred_label_idx] += 1\n",
    "\n",
    "    # Check for false positives\n",
    "    for pred_ent in pred_ents:\n",
    "        if pred_ent not in true_ents:\n",
    "            pred_label_idx = label_indices[pred_ent[2]]\n",
    "            conf_matrix[-1, pred_label_idx] += 1  # 'O' row\n",
    "\n",
    "# Now `conf_matrix` contains the confusion matrix\n",
    "# Optionally, convert it to a DataFrame for better readability\n",
    "df_conf_matrix = pd.DataFrame(conf_matrix, index=entity_labels, columns=entity_labels)\n",
    "\n",
    "print(df_conf_matrix)"
   ]
  },
  {
   "cell_type": "markdown",
   "metadata": {},
   "source": [
    "Symptom may be underrepresented"
   ]
  },
  {
   "cell_type": "code",
   "execution_count": 24,
   "metadata": {},
   "outputs": [
    {
     "data": {
      "image/png": "[encoded data removed]",
      "text/plain": [
       "<Figure size 1000x800 with 2 Axes>"
      ]
     },
     "metadata": {},
     "output_type": "display_data"
    }
   ],
   "source": [
    "# Normalize the confusion matrix\n",
    "df_conf_matrix_normalized = df_conf_matrix.div(df_conf_matrix.sum(axis=1), axis=0)\n",
    "\n",
    "plt.figure(figsize=(10, 8))  # Adjust the size as needed\n",
    "sns.heatmap(df_conf_matrix_normalized, annot=True, cmap='Blues', fmt='.2f', xticklabels=df_conf_matrix.columns, yticklabels=df_conf_matrix.index)\n",
    "\n",
    "plt.title('Normalized Confusion Matrix')\n",
    "plt.ylabel('True label')\n",
    "plt.xlabel('Predicted label')\n",
    "plt.xticks(rotation=45)  # Rotate the x labels to fit longer names, if necessary\n",
    "plt.yticks(rotation=45)  # Rotate the y labels for consistency\n",
    "\n",
    "plt.show()"
   ]
  },
  {
   "cell_type": "code",
   "execution_count": 25,
   "metadata": {},
   "outputs": [
    {
     "data": {
      "text/html": [
       "<span class=\"tex2jax_ignore\"><div class=\"entities\" style=\"line-height: 2.5; direction: ltr\">They mentioned an allergy to \n",
       "<mark class=\"entity\" style=\"background: #ddd; padding: 0.45em 0.6em; margin: 0 0.25em; line-height: 1; border-radius: 0.35em;\">\n",
       "    K-Dur\n",
       "    <span style=\"font-size: 0.8em; font-weight: bold; line-height: 1; border-radius: 0.35em; vertical-align: middle; margin-left: 0.5rem\">MEDICATION</span>\n",
       "</mark>\n",
       ".</div></span>"
      ],
      "text/plain": [
       "<IPython.core.display.HTML object>"
      ]
     },
     "metadata": {},
     "output_type": "display_data"
    }
   ],
   "source": [
    "from spacy import displacy\n",
    "\n",
    "example_text = test[0][0]\n",
    "doc = nlp(example_text)\n",
    "displacy.render(doc, style=\"ent\", jupyter=True)"
   ]
  }
 ],
 "metadata": {
  "kernelspec": {
   "display_name": "Python 3",
   "language": "python",
   "name": "python3"
  },
  "language_info": {
   "codemirror_mode": {
    "name": "ipython",
    "version": 3
   },
   "file_extension": ".py",
   "mimetype": "text/x-python",
   "name": "python",
   "nbconvert_exporter": "python",
   "pygments_lexer": "ipython3",
   "version": "3.12.3"
  }
 },
 "nbformat": 4,
 "nbformat_minor": 2
}
