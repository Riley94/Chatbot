{
 "cells": [
  {
   "cell_type": "markdown",
   "metadata": {},
   "source": [
    "# Import Libraries"
   ]
  },
  {
   "cell_type": "code",
   "execution_count": 64,
   "metadata": {},
   "outputs": [],
   "source": [
    "import spacy\n",
    "import os\n",
    "import json\n",
    "import pandas as pd\n",
    "import pickle\n",
    "from googleapiclient.discovery import build\n",
    "from google_auth_oauthlib.flow import InstalledAppFlow\n",
    "from google.auth.transport.requests import Request\n",
    "from googleapiclient.http import MediaIoBaseDownload\n",
    "from bs4 import BeautifulSoup\n",
    "import requests\n",
    "import random\n",
    "from spacy.training import Example\n",
    "from spacy.util import minibatch, compounding\n",
    "import io\n",
    "import re\n",
    "import datetime"
   ]
  },
  {
   "cell_type": "markdown",
   "metadata": {},
   "source": [
    "# Data Collection"
   ]
  },
  {
   "cell_type": "markdown",
   "metadata": {},
   "source": [
    "--------"
   ]
  },
  {
   "cell_type": "code",
   "execution_count": 65,
   "metadata": {},
   "outputs": [
    {
     "name": "stdout",
     "output_type": "stream",
     "text": [
      "      medication\n",
      "0  acetaminophen\n",
      "1      acyclovir\n",
      "2       Adderall\n",
      "3      albuterol\n",
      "4    alendronate\n"
     ]
    }
   ],
   "source": [
    "# if csv exists, load it\n",
    "if os.path.exists('../clean_data/medications.csv'):\n",
    "    medications = pd.read_csv('../clean_data/medications.csv')\n",
    "# otherwise, scrape the data\n",
    "else:\n",
    "    url = \"https://healthy.kaiserpermanente.org/health-wellness/drug-encyclopedia.\"\n",
    "\n",
    "    medications = []\n",
    "\n",
    "    # iterate from 'a' to 'z'\n",
    "    for letter in range(97, 123):\n",
    "        url = url + chr(letter)\n",
    "        response = requests.get(url)\n",
    "        soup = BeautifulSoup(response.text, 'html.parser')\n",
    "        for li in soup.select(\".drug-column-4\"):\n",
    "            medications.append(li.text)\n",
    "        \n",
    "        url = \"https://healthy.kaiserpermanente.org/health-wellness/drug-encyclopedia.\"\n",
    "\n",
    "    # split by new line\n",
    "    medications = [medication.split('\\n') for medication in medications]\n",
    "    # flatten and remove empty strings\n",
    "    medications = [medication for sublist in medications for medication in sublist if medication != '']\n",
    "    medications = pd.DataFrame(medications, columns=['medication'])\n",
    "    medications.to_csv('../clean_data/medications.csv', index=False)\n",
    "\n",
    "\n",
    "print(medications.head())"
   ]
  },
  {
   "cell_type": "markdown",
   "metadata": {},
   "source": [
    "380 medication names to randomize NER data"
   ]
  },
  {
   "cell_type": "code",
   "execution_count": 66,
   "metadata": {},
   "outputs": [],
   "source": [
    "# Define the scope of the application\n",
    "SCOPES = ['https://www.googleapis.com/auth/drive']\n",
    "# Function to authenticate and create the service\n",
    "def create_service():\n",
    "    creds = None\n",
    "    # The file token.pickle stores the user's access and refresh tokens.\n",
    "    if os.path.exists('token.pickle'):\n",
    "        with open('token.pickle', 'rb') as token:\n",
    "            creds = pickle.load(token)\n",
    "    # If there are no (valid) credentials available, let the user log in.\n",
    "    if not creds or not creds.valid:\n",
    "        if creds and creds.expired and creds.refresh_token:\n",
    "            creds.refresh(Request())\n",
    "        else:\n",
    "            flow = InstalledAppFlow.from_client_secrets_file('credentials.json', SCOPES)\n",
    "            creds = flow.run_local_server(port=0)\n",
    "        # Save the credentials for the next run\n",
    "        with open('token.pickle', 'wb') as token:\n",
    "            pickle.dump(creds, token)\n",
    "    \n",
    "    service = build('drive', 'v3', credentials=creds)\n",
    "    return service\n",
    "\n",
    "# Function to list files in a given folder ID\n",
    "def list_files_in_folder(service, folder_id):\n",
    "    results = service.files().list(q=f\"'{folder_id}' in parents\", fields=\"nextPageToken, files(id, name)\").execute()\n",
    "    items = results.get('files', [])\n",
    "    return items\n",
    "\n",
    "# Function to download a file\n",
    "def download_or_export_file(service, file_id, file_name, mime_type):\n",
    "    try:\n",
    "        # Check if the file is a Google Doc by its MIME type\n",
    "        if mime_type.startswith('application/vnd.google-apps.'):\n",
    "            # Define export MIME type for Google Docs (e.g., 'application/pdf' for Google Docs)\n",
    "            if mime_type == 'application/vnd.google-apps.document':\n",
    "                export_mime_type = 'application/pdf'\n",
    "                file_name += '.pdf'  # Append appropriate file extension\n",
    "            elif mime_type == 'application/vnd.google-apps.spreadsheet':\n",
    "                export_mime_type = 'application/vnd.openxmlformats-officedocument.spreadsheetml.sheet'\n",
    "                file_name += '.xlsx'  # Append appropriate file extension\n",
    "            elif mime_type == 'application/vnd.google-apps.presentation':\n",
    "                export_mime_type = 'application/vnd.openxmlformats-officedocument.presentationml.presentation'\n",
    "                file_name += '.pptx'  # Append appropriate file extension\n",
    "            else:\n",
    "                # Default to PDF for other Google Apps documents\n",
    "                export_mime_type = 'application/pdf'\n",
    "                file_name += '.pdf'\n",
    "            \n",
    "            request = service.files().export_media(fileId=file_id, mimeType=export_mime_type)\n",
    "        else:\n",
    "            # For binary files, use the get_media method\n",
    "            request = service.files().get_media(fileId=file_id)\n",
    "        \n",
    "        # Perform the download or export\n",
    "        fh = io.BytesIO()\n",
    "        downloader = MediaIoBaseDownload(fh, request)\n",
    "        done = False\n",
    "        while not done:\n",
    "            status, done = downloader.next_chunk()\n",
    "            print(f\"Download {int(status.progress() * 100)}%.\")\n",
    "        \n",
    "        # Write the file's contents to a local file\n",
    "        with open(file_name, 'wb') as f:\n",
    "            f.write(fh.getbuffer())\n",
    "        print(f\"File '{file_name}' downloaded successfully.\")\n",
    "    \n",
    "    except Exception as e:\n",
    "        print(f\"An error occurred: {e}\")\n",
    "\n",
    "def find_folders_by_name(service, folder_name):\n",
    "    \"\"\"Find folders by name and return their IDs.\"\"\"\n",
    "    query = f\"mimeType='application/vnd.google-apps.folder' and name='{folder_name}'\"\n",
    "    response = service.files().list(q=query, spaces='drive', fields='files(id, name)').execute()\n",
    "    return response.get('files', [])\n",
    "\n",
    "def find_subfolder_id(service, parent_folder_id, subfolder_name):\n",
    "    \"\"\"Find a specific subfolder within a parent folder.\"\"\"\n",
    "    query = f\"'{parent_folder_id}' in parents and mimeType='application/vnd.google-apps.folder' and name='{subfolder_name}'\"\n",
    "    response = service.files().list(q=query, spaces='drive', fields='files(id, name)').execute()\n",
    "    files = response.get('files', [])\n",
    "    if files:\n",
    "        return files[0]['id']  # Return the ID of the first matching subfolder\n",
    "    return None\n",
    "\n",
    "def download_txt_files_from_folder(service, folder_id):\n",
    "    \"\"\"Download all .txt files from a specified folder.\"\"\"\n",
    "    query = f\"'{folder_id}' in parents and mimeType='text/plain'\"\n",
    "    response = service.files().list(q=query, spaces='drive', fields='files(id, name, mimeType)').execute()\n",
    "    files = response.get('files', [])\n",
    "    for file in files:\n",
    "        print(f\"Downloading/exporting {file['name']}...\")\n",
    "        download_or_export_file(service, file['id'], file['name'], file['mimeType'])"
   ]
  },
  {
   "cell_type": "markdown",
   "metadata": {},
   "source": [
    "Toy diagnosis data. Might look into a better source, but this will work for now"
   ]
  },
  {
   "cell_type": "code",
   "execution_count": 67,
   "metadata": {},
   "outputs": [
    {
     "name": "stdout",
     "output_type": "stream",
     "text": [
      "                               diagnosis\n",
      "0                Acute Myeloid Leukaemia\n",
      "1   Adrenocortical Carcinoma (Localised)\n",
      "2  Adrenocortical Carcinoma (Metastatic)\n",
      "3    Adrenocortical Carcinoma (Regional)\n",
      "4                           ALL (B Cell)\n"
     ]
    }
   ],
   "source": [
    "# again, if csv exists, load it\n",
    "if os.path.exists('../clean_data/diagnoses.csv'):\n",
    "    diagnoses = pd.read_csv('../clean_data/diagnoses.csv')\n",
    "# otherwise, download it from Google Drive\n",
    "else:\n",
    "    service = create_service()  # Assume this is implemented as shown before\n",
    "    top_level_folder_names = ['Base-Game', 'Mod-Diagnoses']\n",
    "\n",
    "    for folder_name in top_level_folder_names:\n",
    "        folders = find_folders_by_name(service, folder_name)\n",
    "        for folder in folders:\n",
    "            dept_diagnoses_folder_id = find_subfolder_id(service, folder['id'], 'Dept-Diagnoses')\n",
    "            if dept_diagnoses_folder_id:\n",
    "                download_txt_files_from_folder(service, dept_diagnoses_folder_id)\n",
    "    \n",
    "    diagnoses = []\n",
    "    # loop through all files and extract the text following '##' (diagnosis names)\n",
    "    for file in os.listdir('../raw_data/diagnoses'):\n",
    "        with open(f'../raw_data/diagnoses/{file}', 'r') as f:\n",
    "            for line in f:\n",
    "                if '##' in line:\n",
    "                    diagnoses.append(line.split('##')[1].strip())\n",
    "    \n",
    "    diagnoses = pd.DataFrame(diagnoses, columns=['diagnosis']).to_csv('../clean_data/diagnoses.csv', index=False)\n",
    "\n",
    "print(diagnoses.head())"
   ]
  },
  {
   "cell_type": "markdown",
   "metadata": {},
   "source": [
    "634 diagnoses to randomize NER training data"
   ]
  },
  {
   "cell_type": "markdown",
   "metadata": {},
   "source": [
    "Some dosages are nonsensical, but will hopefully allow the model to generalize well"
   ]
  },
  {
   "cell_type": "code",
   "execution_count": 68,
   "metadata": {},
   "outputs": [
    {
     "name": "stdout",
     "output_type": "stream",
     "text": [
      "['685 mL every 10 hours', '410 mg', '860 mL', '25 g', '210 mL', '685 L every 21 hours', '905 mL', '565 mL', '510 mL', '570 mg', '120 g every 1 hours', '270 L', '820 mL', '250 g', '505 mg', '410 g every 43 hours', '10 g', '770 mL', '985 L', '510 mg', '835 mL every 45 hours', '230 g', '95 mL', '130 g', '935 mL', '385 g every 26 hours', '745 mL', '215 mL', '375 L', '90 g', '230 mL every 19 hours', '625 L', '580 mg', '805 L', '250 L', '30 g every 5 hours', '760 L', '155 mL', '825 mg', '985 mL', '355 mL every 22 hours', '670 mL', '145 mg', '425 L', '390 mg', '395 mL every 40 hours', '260 mL', '965 g', '510 mL', '305 mL', '465 L every 11 hours', '825 mg', '345 mL', '120 mL', '845 mg', '105 mg every 6 hours', '45 mL', '490 mg', '275 g', '745 mg', '300 mg twice daily', '615 g', '605 L', '505 g', '730 g', '500 g twice daily', '140 L', '240 g', '975 mg', '5 g', '615 mg every 14 hours', '345 mL', '975 g', '730 mg', '120 L', '860 mL every 34 hours', '110 mL', '740 mg', '300 mg', '240 mL', '845 mg every 47 hours', '165 L', '365 g', '975 mL', '625 g', '610 g every 19 hours', '125 L', '170 mL', '445 mL', '620 mL', '480 mL every 5 hours', '245 mg', '675 L', '930 mL', '635 g', '645 g once daily', '685 mg', '110 mL', '910 mg', '450 L', '685 mg every 7 hours', '330 L', '925 g', '930 g', '155 L', '115 L every 42 hours', '690 L', '325 mg', '455 g', '665 mg', '505 mL every 35 hours', '800 mg', '120 mg', '420 L', '20 mL', '700 mg every 18 hours', '825 g', '510 mg', '485 mg', '515 g', '420 g every 23 hours', '655 g', '385 g', '345 mg', '880 g', '200 g every 24 hours', '270 L', '180 mg', '380 g', '175 L', '300 g every 43 hours', '80 mg', '260 mL', '325 g', '45 mL', '270 mg every 34 hours', '855 L', '775 g', '70 L', '425 L', '130 mg every 30 hours', '320 L', '70 mL', '270 mg', '690 mL', '885 g every 7 hours', '385 mL', '450 mg', '610 mg', '405 mg', '510 mL every 42 hours', '135 mL', '555 L', '180 g', '735 mL', '80 L every 16 hours', '590 mL', '120 mL', '320 mL', '865 g', '155 L every 27 hours', '775 g', '80 g', '915 g', '195 mL', '980 L every 36 hours', '385 mL', '120 mg', '345 g', '590 g', '905 g every 25 hours', '620 mL', '745 g', '305 mg', '470 L', '620 L every 0 hours', '755 L', '800 mL', '485 L', '920 L', '670 mg every 6 hours', '435 mL', '45 L', '720 g', '995 mg', '815 L every 46 hours', '165 mg', '840 mg', '890 mL', '955 mg', '440 g every 0 hours', '110 mL', '150 mL', '585 mg', '815 L', '380 mg every 45 hours', '440 mg', '15 g', '290 mg', '360 mL', '935 L every 12 hours', '755 mL', '550 mL', '920 g', '595 mg', '645 mg every 5 hours', '465 mg', '425 g', '300 mL', '880 mg', '305 g every 35 hours', '535 mL', '340 L', '720 g', '405 g', '135 mg every 8 hours', '915 g', '790 mg', '880 L', '190 mg', '735 L once daily', '335 g', '755 mL', '720 mg', '820 mg', '90 mg every 16 hours', '240 mg', '245 mL', '630 L', '650 g', '825 mg every 7 hours', '800 mL', '555 L', '270 mg', '1000 mL', '615 g once daily', '30 mL', '65 g', '505 mL', '860 mg', '435 mL every 46 hours', '930 L', '740 L', '995 mL', '50 mL', '840 mg every 21 hours', '430 L', '220 mg', '865 L', '135 mL', '420 L every 1 hours', '200 mL', '350 L', '725 mL', '765 L', '30 mL every 26 hours', '515 mg', '770 g', '195 L', '535 g', '80 L every 13 hours', '895 g', '945 L', '835 mL', '810 mL', '400 mg every 5 hours', '565 g', '435 mg', '25 mg', '290 g', '445 g every 4 hours', '25 L', '980 L', '965 L', '720 L', '60 mg every 13 hours', '40 mL', '610 L', '695 L', '955 mg', '340 L every 15 hours', '435 g', '740 g', '95 mg', '855 mL', '455 L every 6 hours', '320 L', '880 mg', '675 L', '120 mg', '405 g every 11 hours', '365 g', '425 mg', '480 mL', '995 mL', '205 L every 45 hours', '925 g', '160 L', '565 mL', '675 g']\n"
     ]
    }
   ],
   "source": [
    "# randomly generate dosage data\n",
    "dosages = []\n",
    "units = ['mg', 'g', 'mL', 'L']\n",
    "concat_every = 5\n",
    "frequency = ['twice daily', 'once daily', 'as needed']\n",
    "\n",
    "for hour in range(48):\n",
    "    frequency.append(f'every {hour} hours')\n",
    "\n",
    "for i in range(300):\n",
    "    dosage = str(random.choice(range(5, 1001, 5))) + f' {random.choice(units)}'\n",
    "    if i % concat_every == 0:\n",
    "        dosage += ' ' + random.choice(frequency)\n",
    "    dosages.append(dosage)\n",
    "\n",
    "print(dosages)"
   ]
  },
  {
   "cell_type": "markdown",
   "metadata": {},
   "source": [
    "Tests"
   ]
  },
  {
   "cell_type": "code",
   "execution_count": 69,
   "metadata": {},
   "outputs": [],
   "source": [
    "# if csv exists, load it\n",
    "if os.path.exists('../clean_data/tests.csv'):\n",
    "    tests = pd.read_csv('../clean_data/tests.csv')\n",
    "# otherwise, scrape the data\n",
    "else:\n",
    "    url = \"https://medlineplus.gov/lab-tests/\"\n",
    "\n",
    "    response = requests.get(url)\n",
    "    soup = BeautifulSoup(response.text, 'html.parser')\n",
    "    tests = []\n",
    "    # select all uorderdered lists with class 'withident breaklist'\n",
    "    for item in soup.select(\".withident.breaklist\"):\n",
    "        tests.append(item.text)\n",
    "\n",
    "    tests = pd.DataFrame(tests, columns=['test'])\n",
    "    tests['test'] = tests['test'].str.split('\\n')\n",
    "    tests = tests.explode('test')\n",
    "    tests = tests[tests['test'] != '']\n",
    "    tests.to_csv('../clean_data/tests.csv', index=False)"
   ]
  },
  {
   "cell_type": "markdown",
   "metadata": {},
   "source": [
    "Symptoms"
   ]
  },
  {
   "cell_type": "code",
   "execution_count": 70,
   "metadata": {},
   "outputs": [],
   "source": [
    "# if csv exists, load it\n",
    "if os.path.exists('../clean_data/symptoms.csv'):\n",
    "    symptoms = pd.read_csv('../clean_data/symptoms.csv')\n",
    "else:\n",
    "    symptoms = []\n",
    "    pattern = r\"\\+\\s(.+?)\\s\\(\\d+% of cases \\| .+?\\)\"\n",
    "\n",
    "    # loop through all files and extract the text following '##' (diagnosis names)\n",
    "    for file in os.listdir('../raw_data/diagnoses'):\n",
    "        with open(f'../raw_data/diagnoses/{file}', 'r') as f:\n",
    "            for line in f:\n",
    "                match = re.search(pattern, line)\n",
    "                if match:\n",
    "                    symptoms.append(match.group(1))\n",
    "\n",
    "    symptoms = pd.DataFrame(symptoms, columns=['symptom'])\n",
    "    # make unique\n",
    "    symptoms = symptoms.drop_duplicates()\n",
    "    symptoms.to_csv('../clean_data/symptoms.csv', index=False)"
   ]
  },
  {
   "cell_type": "markdown",
   "metadata": {},
   "source": [
    "Dates"
   ]
  },
  {
   "cell_type": "code",
   "execution_count": 71,
   "metadata": {},
   "outputs": [
    {
     "name": "stdout",
     "output_type": "stream",
     "text": [
      "['January 01', 'January 02', 'January 03', 'January 04', 'January 05', 'January 06', 'January 07', 'January 08', 'January 09', 'January 10', 'January 11', 'January 12', 'January 13', 'January 14', 'January 15', 'January 16', 'January 17', 'January 18', 'January 19', 'January 20', 'January 21', 'January 22', 'January 23', 'January 24', 'January 25', 'January 26', 'January 27', 'January 28', 'February 01', 'February 02', 'February 03', 'February 04', 'February 05', 'February 06', 'February 07', 'February 08', 'February 09', 'February 10', 'February 11', 'February 12', 'February 13', 'February 14', 'February 15', 'February 16', 'February 17', 'February 18', 'February 19', 'February 20', 'February 21', 'February 22', 'February 23', 'February 24', 'February 25', 'February 26', 'February 27', 'February 28', 'March 01', 'March 02', 'March 03', 'March 04', 'March 05', 'March 06', 'March 07', 'March 08', 'March 09', 'March 10', 'March 11', 'March 12', 'March 13', 'March 14', 'March 15', 'March 16', 'March 17', 'March 18', 'March 19', 'March 20', 'March 21', 'March 22', 'March 23', 'March 24', 'March 25', 'March 26', 'March 27', 'March 28', 'April 01', 'April 02', 'April 03', 'April 04', 'April 05', 'April 06', 'April 07', 'April 08', 'April 09', 'April 10', 'April 11', 'April 12', 'April 13', 'April 14', 'April 15', 'April 16', 'April 17', 'April 18', 'April 19', 'April 20', 'April 21', 'April 22', 'April 23', 'April 24', 'April 25', 'April 26', 'April 27', 'April 28', 'May 01', 'May 02', 'May 03', 'May 04', 'May 05', 'May 06', 'May 07', 'May 08', 'May 09', 'May 10', 'May 11', 'May 12', 'May 13', 'May 14', 'May 15', 'May 16', 'May 17', 'May 18', 'May 19', 'May 20', 'May 21', 'May 22', 'May 23', 'May 24', 'May 25', 'May 26', 'May 27', 'May 28', 'June 01', 'June 02', 'June 03', 'June 04', 'June 05', 'June 06', 'June 07', 'June 08', 'June 09', 'June 10', 'June 11', 'June 12', 'June 13', 'June 14', 'June 15', 'June 16', 'June 17', 'June 18', 'June 19', 'June 20', 'June 21', 'June 22', 'June 23', 'June 24', 'June 25', 'June 26', 'June 27', 'June 28', 'July 01', 'July 02', 'July 03', 'July 04', 'July 05', 'July 06', 'July 07', 'July 08', 'July 09', 'July 10', 'July 11', 'July 12', 'July 13', 'July 14', 'July 15', 'July 16', 'July 17', 'July 18', 'July 19', 'July 20', 'July 21', 'July 22', 'July 23', 'July 24', 'July 25', 'July 26', 'July 27', 'July 28', 'August 01', 'August 02', 'August 03', 'August 04', 'August 05', 'August 06', 'August 07', 'August 08', 'August 09', 'August 10', 'August 11', 'August 12', 'August 13', 'August 14', 'August 15', 'August 16', 'August 17', 'August 18', 'August 19', 'August 20', 'August 21', 'August 22', 'August 23', 'August 24', 'August 25', 'August 26', 'August 27', 'August 28', 'September 01', 'September 02', 'September 03', 'September 04', 'September 05', 'September 06', 'September 07', 'September 08', 'September 09', 'September 10', 'September 11', 'September 12', 'September 13', 'September 14', 'September 15', 'September 16', 'September 17', 'September 18', 'September 19', 'September 20', 'September 21', 'September 22', 'September 23', 'September 24', 'September 25', 'September 26', 'September 27', 'September 28', 'October 01', 'October 02', 'October 03', 'October 04', 'October 05', 'October 06', 'October 07', 'October 08', 'October 09', 'October 10', 'October 11', 'October 12', 'October 13', 'October 14', 'October 15', 'October 16', 'October 17', 'October 18', 'October 19', 'October 20', 'October 21', 'October 22', 'October 23', 'October 24', 'October 25', 'October 26', 'October 27', 'October 28', 'November 01', 'November 02', 'November 03', 'November 04', 'November 05', 'November 06', 'November 07', 'November 08', 'November 09', 'November 10', 'November 11', 'November 12', 'November 13', 'November 14', 'November 15', 'November 16', 'November 17', 'November 18', 'November 19', 'November 20', 'November 21', 'November 22', 'November 23', 'November 24', 'November 25', 'November 26', 'November 27', 'November 28', 'December 01', 'December 02', 'December 03', 'December 04', 'December 05', 'December 06', 'December 07', 'December 08', 'December 09', 'December 10', 'December 11', 'December 12', 'December 13', 'December 14', 'December 15', 'December 16', 'December 17', 'December 18', 'December 19', 'December 20', 'December 21', 'December 22', 'December 23', 'December 24', 'December 25', 'December 26', 'December 27', 'December 28']\n"
     ]
    }
   ],
   "source": [
    "dates = []\n",
    "\n",
    "# generate dates in the format \"Month Day\"\n",
    "for i in range(1, 13):\n",
    "    for j in range(1, 29):\n",
    "        # year is arbitrary\n",
    "        date = datetime.date(2021, i, j)\n",
    "        full_date = f\"{date.strftime('%B')} {date.strftime('%d')}\"\n",
    "        dates.append(full_date)\n",
    "\n",
    "print(dates)"
   ]
  },
  {
   "cell_type": "markdown",
   "metadata": {},
   "source": [
    "Times"
   ]
  },
  {
   "cell_type": "code",
   "execution_count": 72,
   "metadata": {},
   "outputs": [],
   "source": [
    "times = []\n",
    "# generate times in the format \"Hour AM/PM\"\n",
    "for i in range(1, 13):\n",
    "    for j in [\"AM\", \"PM\"]:\n",
    "        time = f\"{i} {j}\"\n",
    "        times.append(time)"
   ]
  },
  {
   "cell_type": "markdown",
   "metadata": {},
   "source": [
    "Body parts"
   ]
  },
  {
   "cell_type": "markdown",
   "metadata": {},
   "source": [
    "Hard-coding for now. Will change"
   ]
  },
  {
   "cell_type": "code",
   "execution_count": 73,
   "metadata": {},
   "outputs": [
    {
     "data": {
      "text/plain": [
       "132"
      ]
     },
     "execution_count": 73,
     "metadata": {},
     "output_type": "execute_result"
    }
   ],
   "source": [
    "anatomies = [\"left femur\", \"right knee\", \"abdominal region\", \"left lung\", \"right lung\", \"left kidney\", \"right kidney\",\n",
    "             \"left eye\", \"right eye\", \"left ear\", \"right ear\", \"left hand\", \"right hand\", \"left foot\", \"right foot\",\n",
    "             \"left arm\", \"right arm\", \"left leg\", \"right leg\", \"left shoulder\", \"right shoulder\", \"left hip\", \"right hip\",\n",
    "             \"left elbow\", \"right elbow\", \"left wrist\", \"right wrist\", \"left ankle\", \"right ankle\", \"left toe\", \"right toe\",\n",
    "             \"left finger\", \"right finger\", \"left thumb\", \"right thumb\", \"left nostril\", \"right nostril\", \"left cheek\", \"right cheek\",\n",
    "             \"left temple\", \"right temple\", \"left jaw\", \"right jaw\", \"left chin\", \"right chin\", \"left neck\", \"right neck\", \"left collarbone\",\n",
    "             \"right collarbone\", \"left rib\", \"right rib\", \"left hip bone\", \"right hip bone\", \"left thigh\", \"right thigh\", \"left calf\",\n",
    "             \"right calf\", \"left shin\", \"right shin\", \"left heel\", \"right heel\", \"left sole\", \"right sole\", \"left toe\", \"right toe\",\n",
    "             \"left finger\", \"right finger\", \"left thumb\", \"right thumb\", \"left palm\", \"right palm\", \"left wrist\", \"right wrist\", \"left forearm\",\n",
    "             \"right forearm\", \"left bicep\", \"right bicep\", \"left tricep\", \"right tricep\", \"left shoulder\", \"right shoulder\", \"left chest\", \"right chest\",\n",
    "             \"left breast\", \"right breast\", \"left nipple\", \"right nipple\", \"left rib\", \"right rib\", \"left abdomen\", \"right abdomen\", \"left hip\",\n",
    "             \"right hip\", \"left groin\", \"right groin\", \"left thigh\", \"right thigh\", \"left knee\", \"right knee\", \"left shin\", \"right shin\", \"left calf\",\n",
    "             \"right calf\", \"left ankle\", \"right ankle\", \"left foot\", \"right foot\", \"left toe\", \"right toe\", \"left finger\", \"right finger\", \"left thumb\",\n",
    "             \"right thumb\", \"left hand\", \"right hand\", \"left wrist\", \"right wrist\", \"left forearm\", \"right forearm\", \"left elbow\", \"right elbow\",\n",
    "             \"left upper arm\", \"right upper arm\", \"left shoulder\", \"heart\", \"liver\", \"stomach\", \"intestines\", \"pancreas\", \"spleen\", \"bladder\", \"esophagus\"]\n",
    "\n",
    "len(anatomies)"
   ]
  },
  {
   "cell_type": "code",
   "execution_count": 74,
   "metadata": {},
   "outputs": [
    {
     "data": {
      "text/plain": [
       "92"
      ]
     },
     "execution_count": 74,
     "metadata": {},
     "output_type": "execute_result"
    }
   ],
   "source": [
    "# make unique\n",
    "anatomies = list(set(anatomies))\n",
    "len(anatomies)"
   ]
  },
  {
   "cell_type": "markdown",
   "metadata": {},
   "source": [
    "-------------------"
   ]
  },
  {
   "cell_type": "markdown",
   "metadata": {},
   "source": [
    "# Data Processing"
   ]
  },
  {
   "cell_type": "markdown",
   "metadata": {},
   "source": [
    "---------"
   ]
  },
  {
   "cell_type": "markdown",
   "metadata": {},
   "source": [
    "ToDo: Need to combine logic of next two cells to only generate a train_data.csv instead of two files"
   ]
  },
  {
   "cell_type": "code",
   "execution_count": 75,
   "metadata": {},
   "outputs": [],
   "source": [
    "# Function to generate a random date\n",
    "def generate_example():\n",
    "    output = {}\n",
    "    genders = ['he', 'she', 'they', 'the patient'] # for variation\n",
    "    diagnosis = random.choice(diagnoses['diagnosis'].values)\n",
    "    medication = random.choice(medications['medication'].values)\n",
    "    dosage = random.choice(dosages)\n",
    "    test_name = random.choice(tests['test'].values)\n",
    "    symptom = random.choice(symptoms['symptom'].values)\n",
    "    body_part = random.choice(anatomies)\n",
    "    gender = random.choice(genders)\n",
    "\n",
    "    choices = [diagnosis, medication, dosage, test_name, symptom, body_part]\n",
    "    choice_map = ['diagnosis', 'medication', 'dosage', 'test_name', 'symptom', 'body_part']\n",
    "    entities = []\n",
    "\n",
    "    text_elements = [\n",
    "        f\"{gender.capitalize()} was diagnosed with {diagnosis} last year.\",\n",
    "        f\"{gender.capitalize()} has been prescribed {medication} {dosage}.\",\n",
    "        f\"{test_name.capitalize()} measurements indicate {diagnosis}.\",\n",
    "        f\"The {test_name} revealed a {diagnosis} in the {body_part}.\",\n",
    "        f\"Patient presents with {symptom}.\",\n",
    "        f\"Prescribe {dosage} of {medication} for pain relief.\",\n",
    "        f\"The {test_name} shows normal {body_part} function.\",\n",
    "        f\"{gender.capitalize()} mentioned an allergy to {medication}.\",\n",
    "        f\"Examine the {symptom} in the patient's {body_part}.\",\n",
    "    ]\n",
    "    text = random.choice(text_elements)\n",
    "    annotated_segments = []\n",
    "    for index, choice in enumerate(choices):\n",
    "        start_pos = text.find(choice)\n",
    "        if start_pos != -1 and not any(start <= start_pos < end for start, end in annotated_segments):\n",
    "            end_pos = start_pos + len(choice)\n",
    "            entities.append({\"start\": start_pos, \"end\": end_pos, \"label\": choice_map[index]})\n",
    "            annotated_segments.append((start_pos, end_pos))\n",
    "    \n",
    "    output[\"text\"] = text\n",
    "    output[\"entities\"] = entities\n",
    "    return output\n",
    "\n",
    "# Generate 1000 examples\n",
    "train_data = [generate_example() for _ in range(1000)]\n",
    "\n",
    "# Save the examples to a JSON file\n",
    "file_path = '../clean_data/train_data.json'\n",
    "with open(file_path, 'w') as file:\n",
    "    json.dump(train_data, file, indent=2)"
   ]
  },
  {
   "cell_type": "code",
   "execution_count": 76,
   "metadata": {},
   "outputs": [],
   "source": [
    "# Load JSON data\n",
    "with open('../clean_data/train_data.json', 'r') as file:\n",
    "    data = json.load(file)\n",
    "\n",
    "# Convert the JSON data to the desired format\n",
    "formatted_data = []\n",
    "for item in data:\n",
    "    text = item['text']\n",
    "    entities = []\n",
    "    for entity in item['entities']:\n",
    "        start = entity['start']\n",
    "        end = entity['end']\n",
    "        label = entity['label']\n",
    "        entities.append((start, end, label.upper()))  # Convert label to uppercase as shown in the example\n",
    "    formatted_data.append((text, {\"entities\": entities}))"
   ]
  },
  {
   "cell_type": "code",
   "execution_count": 77,
   "metadata": {},
   "outputs": [],
   "source": [
    "from sklearn.model_selection import train_test_split\n",
    "\n",
    "# Split data into training and test set\n",
    "train, test = train_test_split(formatted_data, test_size=0.2, random_state=42)"
   ]
  },
  {
   "cell_type": "code",
   "execution_count": 78,
   "metadata": {},
   "outputs": [
    {
     "name": "stdout",
     "output_type": "stream",
     "text": [
      "{'MEDICATION', 'SYMPTOM', 'BODY_PART', 'DOSAGE', 'TEST_NAME', 'DIAGNOSIS'}\n"
     ]
    }
   ],
   "source": [
    "entity_labels = set()\n",
    "for text, annotations in formatted_data:\n",
    "    for entity in annotations['entities']:\n",
    "        entity_labels.add(entity[2])\n",
    "\n",
    "print(entity_labels)"
   ]
  },
  {
   "cell_type": "markdown",
   "metadata": {},
   "source": [
    "---"
   ]
  },
  {
   "cell_type": "code",
   "execution_count": 79,
   "metadata": {},
   "outputs": [
    {
     "name": "stdout",
     "output_type": "stream",
     "text": [
      "Defaulting to user installation because normal site-packages is not writeable\n",
      "Collecting en-core-web-sm==3.7.1\n",
      "  Downloading https://github.com/explosion/spacy-models/releases/download/en_core_web_sm-3.7.1/en_core_web_sm-3.7.1-py3-none-any.whl (12.8 MB)\n",
      "     ━━━━━━━━━━━━━━━━━━━━━━━━━━━━━━━━━━━━━━━━ 12.8/12.8 MB 28.4 MB/s eta 0:00:00\n",
      "Requirement already satisfied: spacy<3.8.0,>=3.7.2 in /home/riley/.local/lib/python3.10/site-packages (from en-core-web-sm==3.7.1) (3.7.4)\n",
      "Requirement already satisfied: tqdm<5.0.0,>=4.38.0 in /home/riley/.local/lib/python3.10/site-packages (from spacy<3.8.0,>=3.7.2->en-core-web-sm==3.7.1) (4.66.2)\n",
      "Requirement already satisfied: murmurhash<1.1.0,>=0.28.0 in /home/riley/.local/lib/python3.10/site-packages (from spacy<3.8.0,>=3.7.2->en-core-web-sm==3.7.1) (1.0.10)\n",
      "Requirement already satisfied: requests<3.0.0,>=2.13.0 in /usr/lib/python3/dist-packages (from spacy<3.8.0,>=3.7.2->en-core-web-sm==3.7.1) (2.25.1)\n",
      "Requirement already satisfied: numpy>=1.19.0 in /home/riley/.local/lib/python3.10/site-packages (from spacy<3.8.0,>=3.7.2->en-core-web-sm==3.7.1) (1.26.4)\n",
      "Requirement already satisfied: typer<0.10.0,>=0.3.0 in /home/riley/.local/lib/python3.10/site-packages (from spacy<3.8.0,>=3.7.2->en-core-web-sm==3.7.1) (0.9.0)\n",
      "Requirement already satisfied: preshed<3.1.0,>=3.0.2 in /home/riley/.local/lib/python3.10/site-packages (from spacy<3.8.0,>=3.7.2->en-core-web-sm==3.7.1) (3.0.9)\n",
      "Requirement already satisfied: catalogue<2.1.0,>=2.0.6 in /home/riley/.local/lib/python3.10/site-packages (from spacy<3.8.0,>=3.7.2->en-core-web-sm==3.7.1) (2.0.10)\n",
      "Requirement already satisfied: langcodes<4.0.0,>=3.2.0 in /home/riley/.local/lib/python3.10/site-packages (from spacy<3.8.0,>=3.7.2->en-core-web-sm==3.7.1) (3.3.0)\n",
      "Requirement already satisfied: spacy-loggers<2.0.0,>=1.0.0 in /home/riley/.local/lib/python3.10/site-packages (from spacy<3.8.0,>=3.7.2->en-core-web-sm==3.7.1) (1.0.5)\n",
      "Requirement already satisfied: wasabi<1.2.0,>=0.9.1 in /home/riley/.local/lib/python3.10/site-packages (from spacy<3.8.0,>=3.7.2->en-core-web-sm==3.7.1) (1.1.2)\n",
      "Requirement already satisfied: thinc<8.3.0,>=8.2.2 in /home/riley/.local/lib/python3.10/site-packages (from spacy<3.8.0,>=3.7.2->en-core-web-sm==3.7.1) (8.2.3)\n",
      "Requirement already satisfied: packaging>=20.0 in /usr/lib/python3/dist-packages (from spacy<3.8.0,>=3.7.2->en-core-web-sm==3.7.1) (21.3)\n",
      "Requirement already satisfied: weasel<0.4.0,>=0.1.0 in /home/riley/.local/lib/python3.10/site-packages (from spacy<3.8.0,>=3.7.2->en-core-web-sm==3.7.1) (0.3.4)\n",
      "Requirement already satisfied: cymem<2.1.0,>=2.0.2 in /home/riley/.local/lib/python3.10/site-packages (from spacy<3.8.0,>=3.7.2->en-core-web-sm==3.7.1) (2.0.8)\n",
      "Requirement already satisfied: pydantic!=1.8,!=1.8.1,<3.0.0,>=1.7.4 in /home/riley/.local/lib/python3.10/site-packages (from spacy<3.8.0,>=3.7.2->en-core-web-sm==3.7.1) (2.6.4)\n",
      "Requirement already satisfied: jinja2 in /home/riley/.local/lib/python3.10/site-packages (from spacy<3.8.0,>=3.7.2->en-core-web-sm==3.7.1) (3.1.3)\n",
      "Requirement already satisfied: spacy-legacy<3.1.0,>=3.0.11 in /home/riley/.local/lib/python3.10/site-packages (from spacy<3.8.0,>=3.7.2->en-core-web-sm==3.7.1) (3.0.12)\n",
      "Requirement already satisfied: smart-open<7.0.0,>=5.2.1 in /home/riley/.local/lib/python3.10/site-packages (from spacy<3.8.0,>=3.7.2->en-core-web-sm==3.7.1) (6.4.0)\n",
      "Requirement already satisfied: srsly<3.0.0,>=2.4.3 in /home/riley/.local/lib/python3.10/site-packages (from spacy<3.8.0,>=3.7.2->en-core-web-sm==3.7.1) (2.4.8)\n",
      "Requirement already satisfied: setuptools in /usr/lib/python3/dist-packages (from spacy<3.8.0,>=3.7.2->en-core-web-sm==3.7.1) (59.6.0)\n",
      "Requirement already satisfied: pydantic-core==2.16.3 in /home/riley/.local/lib/python3.10/site-packages (from pydantic!=1.8,!=1.8.1,<3.0.0,>=1.7.4->spacy<3.8.0,>=3.7.2->en-core-web-sm==3.7.1) (2.16.3)\n",
      "Requirement already satisfied: annotated-types>=0.4.0 in /home/riley/.local/lib/python3.10/site-packages (from pydantic!=1.8,!=1.8.1,<3.0.0,>=1.7.4->spacy<3.8.0,>=3.7.2->en-core-web-sm==3.7.1) (0.6.0)\n",
      "Requirement already satisfied: typing-extensions>=4.6.1 in /home/riley/.local/lib/python3.10/site-packages (from pydantic!=1.8,!=1.8.1,<3.0.0,>=1.7.4->spacy<3.8.0,>=3.7.2->en-core-web-sm==3.7.1) (4.10.0)\n",
      "Requirement already satisfied: confection<1.0.0,>=0.0.1 in /home/riley/.local/lib/python3.10/site-packages (from thinc<8.3.0,>=8.2.2->spacy<3.8.0,>=3.7.2->en-core-web-sm==3.7.1) (0.1.4)\n",
      "Requirement already satisfied: blis<0.8.0,>=0.7.8 in /home/riley/.local/lib/python3.10/site-packages (from thinc<8.3.0,>=8.2.2->spacy<3.8.0,>=3.7.2->en-core-web-sm==3.7.1) (0.7.11)\n",
      "Requirement already satisfied: click<9.0.0,>=7.1.1 in /usr/lib/python3/dist-packages (from typer<0.10.0,>=0.3.0->spacy<3.8.0,>=3.7.2->en-core-web-sm==3.7.1) (8.0.3)\n",
      "Requirement already satisfied: cloudpathlib<0.17.0,>=0.7.0 in /home/riley/.local/lib/python3.10/site-packages (from weasel<0.4.0,>=0.1.0->spacy<3.8.0,>=3.7.2->en-core-web-sm==3.7.1) (0.16.0)\n",
      "Requirement already satisfied: MarkupSafe>=2.0 in /home/riley/.local/lib/python3.10/site-packages (from jinja2->spacy<3.8.0,>=3.7.2->en-core-web-sm==3.7.1) (2.1.5)\n",
      "\u001b[38;5;2m✔ Download and installation successful\u001b[0m\n",
      "You can now load the package via spacy.load('en_core_web_sm')\n",
      "\u001b[38;5;3m⚠ Restart to reload dependencies\u001b[0m\n",
      "If you are in a Jupyter or Colab notebook, you may need to restart Python in\n",
      "order to load all the package's dependencies. You can do this by selecting the\n",
      "'Restart kernel' or 'Restart runtime' option.\n"
     ]
    },
    {
     "name": "stderr",
     "output_type": "stream",
     "text": [
      "/home/riley/.local/lib/python3.10/site-packages/spacy/training/iob_utils.py:149: UserWarning: [W030] Some entities could not be aligned in the text \"She has been prescribed metoprolol 345 mL.\" with entities \"[(24, 34, 'MEDICATION'), (35, 41, 'DOSAGE')]\". Use `spacy.training.offsets_to_biluo_tags(nlp.make_doc(text), entities)` to check the alignment. Misaligned entities ('-') will be ignored during training.\n",
      "  warnings.warn(\n",
      "/home/riley/.local/lib/python3.10/site-packages/spacy/training/iob_utils.py:149: UserWarning: [W030] Some entities could not be aligned in the text \"He has been prescribed orphenadrine 515 g.\" with entities \"[(23, 35, 'MEDICATION'), (36, 41, 'DOSAGE')]\". Use `spacy.training.offsets_to_biluo_tags(nlp.make_doc(text), entities)` to check the alignment. Misaligned entities ('-') will be ignored during training.\n",
      "  warnings.warn(\n",
      "/home/riley/.local/lib/python3.10/site-packages/spacy/training/iob_utils.py:149: UserWarning: [W030] Some entities could not be aligned in the text \"The patient has been prescribed AndroGel 745 g.\" with entities \"[(32, 40, 'MEDICATION'), (41, 46, 'DOSAGE')]\". Use `spacy.training.offsets_to_biluo_tags(nlp.make_doc(text), entities)` to check the alignment. Misaligned entities ('-') will be ignored during training.\n",
      "  warnings.warn(\n",
      "/home/riley/.local/lib/python3.10/site-packages/spacy/training/iob_utils.py:149: UserWarning: [W030] Some entities could not be aligned in the text \"He has been prescribed Imdur 445 mL.\" with entities \"[(23, 28, 'MEDICATION'), (29, 35, 'DOSAGE')]\". Use `spacy.training.offsets_to_biluo_tags(nlp.make_doc(text), entities)` to check the alignment. Misaligned entities ('-') will be ignored during training.\n",
      "  warnings.warn(\n",
      "/home/riley/.local/lib/python3.10/site-packages/spacy/training/iob_utils.py:149: UserWarning: [W030] Some entities could not be aligned in the text \"She has been prescribed Augmentin 430 L.\" with entities \"[(24, 33, 'MEDICATION'), (34, 39, 'DOSAGE')]\". Use `spacy.training.offsets_to_biluo_tags(nlp.make_doc(text), entities)` to check the alignment. Misaligned entities ('-') will be ignored during training.\n",
      "  warnings.warn(\n",
      "/home/riley/.local/lib/python3.10/site-packages/spacy/training/iob_utils.py:149: UserWarning: [W030] Some entities could not be aligned in the text \"The patient has been prescribed dexlansoprazole 86...\" with entities \"[(32, 47, 'MEDICATION'), (48, 53, 'DOSAGE')]\". Use `spacy.training.offsets_to_biluo_tags(nlp.make_doc(text), entities)` to check the alignment. Misaligned entities ('-') will be ignored during training.\n",
      "  warnings.warn(\n",
      "/home/riley/.local/lib/python3.10/site-packages/spacy/training/iob_utils.py:149: UserWarning: [W030] Some entities could not be aligned in the text \"The patient has been prescribed Oyster Shell Calci...\" with entities \"[(32, 63, 'MEDICATION'), (64, 68, 'DOSAGE')]\". Use `spacy.training.offsets_to_biluo_tags(nlp.make_doc(text), entities)` to check the alignment. Misaligned entities ('-') will be ignored during training.\n",
      "  warnings.warn(\n",
      "/home/riley/.local/lib/python3.10/site-packages/spacy/training/iob_utils.py:149: UserWarning: [W030] Some entities could not be aligned in the text \"She mentioned an allergy to Vitamin C.\" with entities \"[(28, 37, 'MEDICATION')]\". Use `spacy.training.offsets_to_biluo_tags(nlp.make_doc(text), entities)` to check the alignment. Misaligned entities ('-') will be ignored during training.\n",
      "  warnings.warn(\n",
      "/home/riley/.local/lib/python3.10/site-packages/spacy/training/iob_utils.py:149: UserWarning: [W030] Some entities could not be aligned in the text \"They has been prescribed morphine 430 L.\" with entities \"[(25, 33, 'MEDICATION'), (34, 39, 'DOSAGE')]\". Use `spacy.training.offsets_to_biluo_tags(nlp.make_doc(text), entities)` to check the alignment. Misaligned entities ('-') will be ignored during training.\n",
      "  warnings.warn(\n",
      "/home/riley/.local/lib/python3.10/site-packages/spacy/training/iob_utils.py:149: UserWarning: [W030] Some entities could not be aligned in the text \"He has been prescribed Dexilant 855 L.\" with entities \"[(23, 31, 'MEDICATION'), (32, 37, 'DOSAGE')]\". Use `spacy.training.offsets_to_biluo_tags(nlp.make_doc(text), entities)` to check the alignment. Misaligned entities ('-') will be ignored during training.\n",
      "  warnings.warn(\n",
      "/home/riley/.local/lib/python3.10/site-packages/spacy/training/iob_utils.py:149: UserWarning: [W030] Some entities could not be aligned in the text \"She has been prescribed triamcinolone 690 L.\" with entities \"[(24, 37, 'MEDICATION'), (38, 43, 'DOSAGE')]\". Use `spacy.training.offsets_to_biluo_tags(nlp.make_doc(text), entities)` to check the alignment. Misaligned entities ('-') will be ignored during training.\n",
      "  warnings.warn(\n",
      "/home/riley/.local/lib/python3.10/site-packages/spacy/training/iob_utils.py:149: UserWarning: [W030] Some entities could not be aligned in the text \"They has been prescribed insulin 125 L.\" with entities \"[(25, 32, 'MEDICATION'), (33, 38, 'DOSAGE')]\". Use `spacy.training.offsets_to_biluo_tags(nlp.make_doc(text), entities)` to check the alignment. Misaligned entities ('-') will be ignored during training.\n",
      "  warnings.warn(\n",
      "/home/riley/.local/lib/python3.10/site-packages/spacy/training/iob_utils.py:149: UserWarning: [W030] Some entities could not be aligned in the text \"They has been prescribed Ultracet 425 L.\" with entities \"[(25, 33, 'MEDICATION'), (34, 39, 'DOSAGE')]\". Use `spacy.training.offsets_to_biluo_tags(nlp.make_doc(text), entities)` to check the alignment. Misaligned entities ('-') will be ignored during training.\n",
      "  warnings.warn(\n",
      "/home/riley/.local/lib/python3.10/site-packages/spacy/training/iob_utils.py:149: UserWarning: [W030] Some entities could not be aligned in the text \"They has been prescribed benzocaine 45 mL.\" with entities \"[(25, 35, 'MEDICATION'), (36, 41, 'DOSAGE')]\". Use `spacy.training.offsets_to_biluo_tags(nlp.make_doc(text), entities)` to check the alignment. Misaligned entities ('-') will be ignored during training.\n",
      "  warnings.warn(\n",
      "/home/riley/.local/lib/python3.10/site-packages/spacy/training/iob_utils.py:149: UserWarning: [W030] Some entities could not be aligned in the text \"They has been prescribed mesalamine 605 L.\" with entities \"[(25, 35, 'MEDICATION'), (36, 41, 'DOSAGE')]\". Use `spacy.training.offsets_to_biluo_tags(nlp.make_doc(text), entities)` to check the alignment. Misaligned entities ('-') will be ignored during training.\n",
      "  warnings.warn(\n",
      "/home/riley/.local/lib/python3.10/site-packages/spacy/training/iob_utils.py:149: UserWarning: [W030] Some entities could not be aligned in the text \"She has been prescribed metformin 985 L.\" with entities \"[(24, 33, 'MEDICATION'), (34, 39, 'DOSAGE')]\". Use `spacy.training.offsets_to_biluo_tags(nlp.make_doc(text), entities)` to check the alignment. Misaligned entities ('-') will be ignored during training.\n",
      "  warnings.warn(\n",
      "/home/riley/.local/lib/python3.10/site-packages/spacy/training/iob_utils.py:149: UserWarning: [W030] Some entities could not be aligned in the text \"She has been prescribed ranitidine 720 g.\" with entities \"[(24, 34, 'MEDICATION'), (35, 40, 'DOSAGE')]\". Use `spacy.training.offsets_to_biluo_tags(nlp.make_doc(text), entities)` to check the alignment. Misaligned entities ('-') will be ignored during training.\n",
      "  warnings.warn(\n",
      "/home/riley/.local/lib/python3.10/site-packages/spacy/training/iob_utils.py:149: UserWarning: [W030] Some entities could not be aligned in the text \"She has been prescribed Septra DS 565 mL.\" with entities \"[(24, 33, 'MEDICATION'), (34, 40, 'DOSAGE')]\". Use `spacy.training.offsets_to_biluo_tags(nlp.make_doc(text), entities)` to check the alignment. Misaligned entities ('-') will be ignored during training.\n",
      "  warnings.warn(\n",
      "/home/riley/.local/lib/python3.10/site-packages/spacy/training/iob_utils.py:149: UserWarning: [W030] Some entities could not be aligned in the text \"The patient has been prescribed Cheratussin 695 L.\" with entities \"[(32, 43, 'MEDICATION'), (44, 49, 'DOSAGE')]\". Use `spacy.training.offsets_to_biluo_tags(nlp.make_doc(text), entities)` to check the alignment. Misaligned entities ('-') will be ignored during training.\n",
      "  warnings.warn(\n",
      "/home/riley/.local/lib/python3.10/site-packages/spacy/training/iob_utils.py:149: UserWarning: [W030] Some entities could not be aligned in the text \"She has been prescribed Lipitor 110 mL.\" with entities \"[(24, 31, 'MEDICATION'), (32, 38, 'DOSAGE')]\". Use `spacy.training.offsets_to_biluo_tags(nlp.make_doc(text), entities)` to check the alignment. Misaligned entities ('-') will be ignored during training.\n",
      "  warnings.warn(\n",
      "/home/riley/.local/lib/python3.10/site-packages/spacy/training/iob_utils.py:149: UserWarning: [W030] Some entities could not be aligned in the text \"He mentioned an allergy to Vitamin B.\" with entities \"[(27, 36, 'MEDICATION')]\". Use `spacy.training.offsets_to_biluo_tags(nlp.make_doc(text), entities)` to check the alignment. Misaligned entities ('-') will be ignored during training.\n",
      "  warnings.warn(\n",
      "/home/riley/.local/lib/python3.10/site-packages/spacy/training/iob_utils.py:149: UserWarning: [W030] Some entities could not be aligned in the text \"The patient has been prescribed Robaxin 435 mL.\" with entities \"[(32, 39, 'MEDICATION'), (40, 46, 'DOSAGE')]\". Use `spacy.training.offsets_to_biluo_tags(nlp.make_doc(text), entities)` to check the alignment. Misaligned entities ('-') will be ignored during training.\n",
      "  warnings.warn(\n",
      "/home/riley/.local/lib/python3.10/site-packages/spacy/training/iob_utils.py:149: UserWarning: [W030] Some entities could not be aligned in the text \"She has been prescribed sodium bicarbonate 755 mL.\" with entities \"[(24, 42, 'MEDICATION'), (43, 49, 'DOSAGE')]\". Use `spacy.training.offsets_to_biluo_tags(nlp.make_doc(text), entities)` to check the alignment. Misaligned entities ('-') will be ignored during training.\n",
      "  warnings.warn(\n",
      "/home/riley/.local/lib/python3.10/site-packages/spacy/training/iob_utils.py:149: UserWarning: [W030] Some entities could not be aligned in the text \"The patient has been prescribed doxycycline 880 g.\" with entities \"[(32, 43, 'MEDICATION'), (44, 49, 'DOSAGE')]\". Use `spacy.training.offsets_to_biluo_tags(nlp.make_doc(text), entities)` to check the alignment. Misaligned entities ('-') will be ignored during training.\n",
      "  warnings.warn(\n",
      "/home/riley/.local/lib/python3.10/site-packages/spacy/training/iob_utils.py:149: UserWarning: [W030] Some entities could not be aligned in the text \"She has been prescribed Humalog 855 mL.\" with entities \"[(24, 31, 'MEDICATION'), (32, 38, 'DOSAGE')]\". Use `spacy.training.offsets_to_biluo_tags(nlp.make_doc(text), entities)` to check the alignment. Misaligned entities ('-') will be ignored during training.\n",
      "  warnings.warn(\n",
      "/home/riley/.local/lib/python3.10/site-packages/spacy/training/iob_utils.py:149: UserWarning: [W030] Some entities could not be aligned in the text \"They has been prescribed sumatriptan 730 g.\" with entities \"[(25, 36, 'MEDICATION'), (37, 42, 'DOSAGE')]\". Use `spacy.training.offsets_to_biluo_tags(nlp.make_doc(text), entities)` to check the alignment. Misaligned entities ('-') will be ignored during training.\n",
      "  warnings.warn(\n",
      "/home/riley/.local/lib/python3.10/site-packages/spacy/training/iob_utils.py:149: UserWarning: [W030] Some entities could not be aligned in the text \"She has been prescribed ketoconazole 50 mL.\" with entities \"[(24, 36, 'MEDICATION'), (37, 42, 'DOSAGE')]\". Use `spacy.training.offsets_to_biluo_tags(nlp.make_doc(text), entities)` to check the alignment. Misaligned entities ('-') will be ignored during training.\n",
      "  warnings.warn(\n",
      "/home/riley/.local/lib/python3.10/site-packages/spacy/training/iob_utils.py:149: UserWarning: [W030] Some entities could not be aligned in the text \"They has been prescribed ofloxacin 485 L.\" with entities \"[(25, 34, 'MEDICATION'), (35, 40, 'DOSAGE')]\". Use `spacy.training.offsets_to_biluo_tags(nlp.make_doc(text), entities)` to check the alignment. Misaligned entities ('-') will be ignored during training.\n",
      "  warnings.warn(\n",
      "/home/riley/.local/lib/python3.10/site-packages/spacy/training/iob_utils.py:149: UserWarning: [W030] Some entities could not be aligned in the text \"They has been prescribed Namenda 385 g.\" with entities \"[(25, 32, 'MEDICATION'), (33, 38, 'DOSAGE')]\". Use `spacy.training.offsets_to_biluo_tags(nlp.make_doc(text), entities)` to check the alignment. Misaligned entities ('-') will be ignored during training.\n",
      "  warnings.warn(\n",
      "/home/riley/.local/lib/python3.10/site-packages/spacy/training/iob_utils.py:149: UserWarning: [W030] Some entities could not be aligned in the text \"They has been prescribed spironolactone 690 L.\" with entities \"[(25, 39, 'MEDICATION'), (40, 45, 'DOSAGE')]\". Use `spacy.training.offsets_to_biluo_tags(nlp.make_doc(text), entities)` to check the alignment. Misaligned entities ('-') will be ignored during training.\n",
      "  warnings.warn(\n",
      "/home/riley/.local/lib/python3.10/site-packages/spacy/training/iob_utils.py:149: UserWarning: [W030] Some entities could not be aligned in the text \"She has been prescribed lactulose 470 L.\" with entities \"[(24, 33, 'MEDICATION'), (34, 39, 'DOSAGE')]\". Use `spacy.training.offsets_to_biluo_tags(nlp.make_doc(text), entities)` to check the alignment. Misaligned entities ('-') will be ignored during training.\n",
      "  warnings.warn(\n",
      "/home/riley/.local/lib/python3.10/site-packages/spacy/training/iob_utils.py:149: UserWarning: [W030] Some entities could not be aligned in the text \"The patient has been prescribed oxandrolone 755 L.\" with entities \"[(32, 43, 'MEDICATION'), (44, 49, 'DOSAGE')]\". Use `spacy.training.offsets_to_biluo_tags(nlp.make_doc(text), entities)` to check the alignment. Misaligned entities ('-') will be ignored during training.\n",
      "  warnings.warn(\n",
      "/home/riley/.local/lib/python3.10/site-packages/spacy/training/iob_utils.py:149: UserWarning: [W030] Some entities could not be aligned in the text \"She has been prescribed prednisolone 80 g.\" with entities \"[(24, 36, 'MEDICATION'), (37, 41, 'DOSAGE')]\". Use `spacy.training.offsets_to_biluo_tags(nlp.make_doc(text), entities)` to check the alignment. Misaligned entities ('-') will be ignored during training.\n",
      "  warnings.warn(\n",
      "/home/riley/.local/lib/python3.10/site-packages/spacy/training/iob_utils.py:149: UserWarning: [W030] Some entities could not be aligned in the text \"He has been prescribed norethindrone 925 g.\" with entities \"[(23, 36, 'MEDICATION'), (37, 42, 'DOSAGE')]\". Use `spacy.training.offsets_to_biluo_tags(nlp.make_doc(text), entities)` to check the alignment. Misaligned entities ('-') will be ignored during training.\n",
      "  warnings.warn(\n",
      "/home/riley/.local/lib/python3.10/site-packages/spacy/training/iob_utils.py:149: UserWarning: [W030] Some entities could not be aligned in the text \"He has been prescribed Medrol 740 g.\" with entities \"[(23, 29, 'MEDICATION'), (30, 35, 'DOSAGE')]\". Use `spacy.training.offsets_to_biluo_tags(nlp.make_doc(text), entities)` to check the alignment. Misaligned entities ('-') will be ignored during training.\n",
      "  warnings.warn(\n",
      "/home/riley/.local/lib/python3.10/site-packages/spacy/training/iob_utils.py:149: UserWarning: [W030] Some entities could not be aligned in the text \"The patient has been prescribed viagra 720 L.\" with entities \"[(32, 38, 'MEDICATION'), (39, 44, 'DOSAGE')]\". Use `spacy.training.offsets_to_biluo_tags(nlp.make_doc(text), entities)` to check the alignment. Misaligned entities ('-') will be ignored during training.\n",
      "  warnings.warn(\n",
      "/home/riley/.local/lib/python3.10/site-packages/spacy/training/iob_utils.py:149: UserWarning: [W030] Some entities could not be aligned in the text \"The patient has been prescribed Qvar 245 mL.\" with entities \"[(32, 36, 'MEDICATION'), (37, 43, 'DOSAGE')]\". Use `spacy.training.offsets_to_biluo_tags(nlp.make_doc(text), entities)` to check the alignment. Misaligned entities ('-') will be ignored during training.\n",
      "  warnings.warn(\n",
      "/home/riley/.local/lib/python3.10/site-packages/spacy/training/iob_utils.py:149: UserWarning: [W030] Some entities could not be aligned in the text \"He has been prescribed prednisolone 535 g.\" with entities \"[(23, 35, 'MEDICATION'), (36, 41, 'DOSAGE')]\". Use `spacy.training.offsets_to_biluo_tags(nlp.make_doc(text), entities)` to check the alignment. Misaligned entities ('-') will be ignored during training.\n",
      "  warnings.warn(\n",
      "/home/riley/.local/lib/python3.10/site-packages/spacy/training/iob_utils.py:149: UserWarning: [W030] Some entities could not be aligned in the text \"She has been prescribed Sprintec 345 mL.\" with entities \"[(24, 32, 'MEDICATION'), (33, 39, 'DOSAGE')]\". Use `spacy.training.offsets_to_biluo_tags(nlp.make_doc(text), entities)` to check the alignment. Misaligned entities ('-') will be ignored during training.\n",
      "  warnings.warn(\n",
      "/home/riley/.local/lib/python3.10/site-packages/spacy/training/iob_utils.py:149: UserWarning: [W030] Some entities could not be aligned in the text \"She has been prescribed Lovenox 200 mL.\" with entities \"[(24, 31, 'MEDICATION'), (32, 38, 'DOSAGE')]\". Use `spacy.training.offsets_to_biluo_tags(nlp.make_doc(text), entities)` to check the alignment. Misaligned entities ('-') will be ignored during training.\n",
      "  warnings.warn(\n",
      "/home/riley/.local/lib/python3.10/site-packages/spacy/training/iob_utils.py:149: UserWarning: [W030] Some entities could not be aligned in the text \"He has been prescribed bisacodyl 855 L.\" with entities \"[(23, 32, 'MEDICATION'), (33, 38, 'DOSAGE')]\". Use `spacy.training.offsets_to_biluo_tags(nlp.make_doc(text), entities)` to check the alignment. Misaligned entities ('-') will be ignored during training.\n",
      "  warnings.warn(\n",
      "/home/riley/.local/lib/python3.10/site-packages/spacy/training/iob_utils.py:149: UserWarning: [W030] Some entities could not be aligned in the text \"He has been prescribed benzocaine 215 mL.\" with entities \"[(23, 33, 'MEDICATION'), (34, 40, 'DOSAGE')]\". Use `spacy.training.offsets_to_biluo_tags(nlp.make_doc(text), entities)` to check the alignment. Misaligned entities ('-') will be ignored during training.\n",
      "  warnings.warn(\n",
      "/home/riley/.local/lib/python3.10/site-packages/spacy/training/iob_utils.py:149: UserWarning: [W030] Some entities could not be aligned in the text \"Carbon dioxide (co2) in blood measurements indicat...\" with entities \"[(52, 91, 'DIAGNOSIS')]\". Use `spacy.training.offsets_to_biluo_tags(nlp.make_doc(text), entities)` to check the alignment. Misaligned entities ('-') will be ignored during training.\n",
      "  warnings.warn(\n",
      "/home/riley/.local/lib/python3.10/site-packages/spacy/training/iob_utils.py:149: UserWarning: [W030] Some entities could not be aligned in the text \"He has been prescribed dicyclomine 385 mL.\" with entities \"[(23, 34, 'MEDICATION'), (35, 41, 'DOSAGE')]\". Use `spacy.training.offsets_to_biluo_tags(nlp.make_doc(text), entities)` to check the alignment. Misaligned entities ('-') will be ignored during training.\n",
      "  warnings.warn(\n",
      "/home/riley/.local/lib/python3.10/site-packages/spacy/training/iob_utils.py:149: UserWarning: [W030] Some entities could not be aligned in the text \"She has been prescribed Omnicef 70 L.\" with entities \"[(24, 31, 'MEDICATION'), (32, 36, 'DOSAGE')]\". Use `spacy.training.offsets_to_biluo_tags(nlp.make_doc(text), entities)` to check the alignment. Misaligned entities ('-') will be ignored during training.\n",
      "  warnings.warn(\n",
      "/home/riley/.local/lib/python3.10/site-packages/spacy/training/iob_utils.py:149: UserWarning: [W030] Some entities could not be aligned in the text \"He has been prescribed Augmentin 345 g.\" with entities \"[(23, 32, 'MEDICATION'), (33, 38, 'DOSAGE')]\". Use `spacy.training.offsets_to_biluo_tags(nlp.make_doc(text), entities)` to check the alignment. Misaligned entities ('-') will be ignored during training.\n",
      "  warnings.warn(\n",
      "/home/riley/.local/lib/python3.10/site-packages/spacy/training/iob_utils.py:149: UserWarning: [W030] Some entities could not be aligned in the text \"She has been prescribed Breo Ellipta 535 g.\" with entities \"[(24, 36, 'MEDICATION'), (37, 42, 'DOSAGE')]\". Use `spacy.training.offsets_to_biluo_tags(nlp.make_doc(text), entities)` to check the alignment. Misaligned entities ('-') will be ignored during training.\n",
      "  warnings.warn(\n",
      "/home/riley/.local/lib/python3.10/site-packages/spacy/training/iob_utils.py:149: UserWarning: [W030] Some entities could not be aligned in the text \"He has been prescribed isotretinoin 210 mL.\" with entities \"[(23, 35, 'MEDICATION'), (36, 42, 'DOSAGE')]\". Use `spacy.training.offsets_to_biluo_tags(nlp.make_doc(text), entities)` to check the alignment. Misaligned entities ('-') will be ignored during training.\n",
      "  warnings.warn(\n",
      "/home/riley/.local/lib/python3.10/site-packages/spacy/training/iob_utils.py:149: UserWarning: [W030] Some entities could not be aligned in the text \"She has been prescribed isoniazid 890 mL.\" with entities \"[(24, 33, 'MEDICATION'), (34, 40, 'DOSAGE')]\". Use `spacy.training.offsets_to_biluo_tags(nlp.make_doc(text), entities)` to check the alignment. Misaligned entities ('-') will be ignored during training.\n",
      "  warnings.warn(\n",
      "/home/riley/.local/lib/python3.10/site-packages/spacy/training/iob_utils.py:149: UserWarning: [W030] Some entities could not be aligned in the text \"She has been prescribed pregabalin 245 mL.\" with entities \"[(24, 34, 'MEDICATION'), (35, 41, 'DOSAGE')]\". Use `spacy.training.offsets_to_biluo_tags(nlp.make_doc(text), entities)` to check the alignment. Misaligned entities ('-') will be ignored during training.\n",
      "  warnings.warn(\n",
      "/home/riley/.local/lib/python3.10/site-packages/spacy/training/iob_utils.py:149: UserWarning: [W030] Some entities could not be aligned in the text \"She has been prescribed Percocet 70 mL.\" with entities \"[(24, 32, 'MEDICATION'), (33, 38, 'DOSAGE')]\". Use `spacy.training.offsets_to_biluo_tags(nlp.make_doc(text), entities)` to check the alignment. Misaligned entities ('-') will be ignored during training.\n",
      "  warnings.warn(\n",
      "/home/riley/.local/lib/python3.10/site-packages/spacy/training/iob_utils.py:149: UserWarning: [W030] Some entities could not be aligned in the text \"He has been prescribed Victoza 2 730 g.\" with entities \"[(23, 32, 'MEDICATION'), (33, 38, 'DOSAGE')]\". Use `spacy.training.offsets_to_biluo_tags(nlp.make_doc(text), entities)` to check the alignment. Misaligned entities ('-') will be ignored during training.\n",
      "  warnings.warn(\n",
      "/home/riley/.local/lib/python3.10/site-packages/spacy/training/iob_utils.py:149: UserWarning: [W030] Some entities could not be aligned in the text \"She has been prescribed ivabradine 675 g.\" with entities \"[(24, 34, 'MEDICATION'), (35, 40, 'DOSAGE')]\". Use `spacy.training.offsets_to_biluo_tags(nlp.make_doc(text), entities)` to check the alignment. Misaligned entities ('-') will be ignored during training.\n",
      "  warnings.warn(\n",
      "/home/riley/.local/lib/python3.10/site-packages/spacy/training/iob_utils.py:149: UserWarning: [W030] Some entities could not be aligned in the text \"They has been prescribed prednisone 250 g.\" with entities \"[(25, 35, 'MEDICATION'), (36, 41, 'DOSAGE')]\". Use `spacy.training.offsets_to_biluo_tags(nlp.make_doc(text), entities)` to check the alignment. Misaligned entities ('-') will be ignored during training.\n",
      "  warnings.warn(\n",
      "/home/riley/.local/lib/python3.10/site-packages/spacy/training/iob_utils.py:149: UserWarning: [W030] Some entities could not be aligned in the text \"She has been prescribed testosterone 800 mL.\" with entities \"[(24, 36, 'MEDICATION'), (37, 43, 'DOSAGE')]\". Use `spacy.training.offsets_to_biluo_tags(nlp.make_doc(text), entities)` to check the alignment. Misaligned entities ('-') will be ignored during training.\n",
      "  warnings.warn(\n",
      "/home/riley/.local/lib/python3.10/site-packages/spacy/training/iob_utils.py:149: UserWarning: [W030] Some entities could not be aligned in the text \"She has been prescribed clonazepam 925 g.\" with entities \"[(24, 34, 'MEDICATION'), (35, 40, 'DOSAGE')]\". Use `spacy.training.offsets_to_biluo_tags(nlp.make_doc(text), entities)` to check the alignment. Misaligned entities ('-') will be ignored during training.\n",
      "  warnings.warn(\n",
      "/home/riley/.local/lib/python3.10/site-packages/spacy/training/iob_utils.py:149: UserWarning: [W030] Some entities could not be aligned in the text \"She has been prescribed Orapred 690 mL.\" with entities \"[(24, 31, 'MEDICATION'), (32, 38, 'DOSAGE')]\". Use `spacy.training.offsets_to_biluo_tags(nlp.make_doc(text), entities)` to check the alignment. Misaligned entities ('-') will be ignored during training.\n",
      "  warnings.warn(\n",
      "/home/riley/.local/lib/python3.10/site-packages/spacy/training/iob_utils.py:149: UserWarning: [W030] Some entities could not be aligned in the text \"They has been prescribed rifaximin 880 L.\" with entities \"[(25, 34, 'MEDICATION'), (35, 40, 'DOSAGE')]\". Use `spacy.training.offsets_to_biluo_tags(nlp.make_doc(text), entities)` to check the alignment. Misaligned entities ('-') will be ignored during training.\n",
      "  warnings.warn(\n",
      "/home/riley/.local/lib/python3.10/site-packages/spacy/training/iob_utils.py:149: UserWarning: [W030] Some entities could not be aligned in the text \"She has been prescribed Haldol 405 g.\" with entities \"[(24, 30, 'MEDICATION'), (31, 36, 'DOSAGE')]\". Use `spacy.training.offsets_to_biluo_tags(nlp.make_doc(text), entities)` to check the alignment. Misaligned entities ('-') will be ignored during training.\n",
      "  warnings.warn(\n",
      "/home/riley/.local/lib/python3.10/site-packages/spacy/training/iob_utils.py:149: UserWarning: [W030] Some entities could not be aligned in the text \"He has been prescribed dexlansoprazole 175 L.\" with entities \"[(23, 38, 'MEDICATION'), (39, 44, 'DOSAGE')]\". Use `spacy.training.offsets_to_biluo_tags(nlp.make_doc(text), entities)` to check the alignment. Misaligned entities ('-') will be ignored during training.\n",
      "  warnings.warn(\n",
      "/home/riley/.local/lib/python3.10/site-packages/spacy/training/iob_utils.py:149: UserWarning: [W030] Some entities could not be aligned in the text \"He has been prescribed Senexon 245 mL.\" with entities \"[(23, 30, 'MEDICATION'), (31, 37, 'DOSAGE')]\". Use `spacy.training.offsets_to_biluo_tags(nlp.make_doc(text), entities)` to check the alignment. Misaligned entities ('-') will be ignored during training.\n",
      "  warnings.warn(\n",
      "/home/riley/.local/lib/python3.10/site-packages/spacy/training/iob_utils.py:149: UserWarning: [W030] Some entities could not be aligned in the text \"The patient has been prescribed Eldoquin 985 L.\" with entities \"[(32, 40, 'MEDICATION'), (41, 46, 'DOSAGE')]\". Use `spacy.training.offsets_to_biluo_tags(nlp.make_doc(text), entities)` to check the alignment. Misaligned entities ('-') will be ignored during training.\n",
      "  warnings.warn(\n",
      "/home/riley/.local/lib/python3.10/site-packages/spacy/training/iob_utils.py:149: UserWarning: [W030] Some entities could not be aligned in the text \"She has been prescribed clopidogrel 815 L.\" with entities \"[(24, 35, 'MEDICATION'), (36, 41, 'DOSAGE')]\". Use `spacy.training.offsets_to_biluo_tags(nlp.make_doc(text), entities)` to check the alignment. Misaligned entities ('-') will be ignored during training.\n",
      "  warnings.warn(\n",
      "/home/riley/.local/lib/python3.10/site-packages/spacy/training/iob_utils.py:149: UserWarning: [W030] Some entities could not be aligned in the text \"She has been prescribed hydralazine 985 mL.\" with entities \"[(24, 35, 'MEDICATION'), (36, 42, 'DOSAGE')]\". Use `spacy.training.offsets_to_biluo_tags(nlp.make_doc(text), entities)` to check the alignment. Misaligned entities ('-') will be ignored during training.\n",
      "  warnings.warn(\n",
      "/home/riley/.local/lib/python3.10/site-packages/spacy/training/iob_utils.py:149: UserWarning: [W030] Some entities could not be aligned in the text \"They has been prescribed simvastatin 140 L.\" with entities \"[(25, 36, 'MEDICATION'), (37, 42, 'DOSAGE')]\". Use `spacy.training.offsets_to_biluo_tags(nlp.make_doc(text), entities)` to check the alignment. Misaligned entities ('-') will be ignored during training.\n",
      "  warnings.warn(\n",
      "/home/riley/.local/lib/python3.10/site-packages/spacy/training/iob_utils.py:149: UserWarning: [W030] Some entities could not be aligned in the text \"He has been prescribed Humalog 40 mL.\" with entities \"[(23, 30, 'MEDICATION'), (31, 36, 'DOSAGE')]\". Use `spacy.training.offsets_to_biluo_tags(nlp.make_doc(text), entities)` to check the alignment. Misaligned entities ('-') will be ignored during training.\n",
      "  warnings.warn(\n",
      "/home/riley/.local/lib/python3.10/site-packages/spacy/training/iob_utils.py:149: UserWarning: [W030] Some entities could not be aligned in the text \"The patient has been prescribed Zolpidem 650 g.\" with entities \"[(32, 40, 'MEDICATION'), (41, 46, 'DOSAGE')]\". Use `spacy.training.offsets_to_biluo_tags(nlp.make_doc(text), entities)` to check the alignment. Misaligned entities ('-') will be ignored during training.\n",
      "  warnings.warn(\n",
      "/home/riley/.local/lib/python3.10/site-packages/spacy/training/iob_utils.py:149: UserWarning: [W030] Some entities could not be aligned in the text \"The patient has been prescribed Victoza 2 555 L.\" with entities \"[(32, 41, 'MEDICATION'), (42, 47, 'DOSAGE')]\". Use `spacy.training.offsets_to_biluo_tags(nlp.make_doc(text), entities)` to check the alignment. Misaligned entities ('-') will be ignored during training.\n",
      "  warnings.warn(\n",
      "/home/riley/.local/lib/python3.10/site-packages/spacy/training/iob_utils.py:149: UserWarning: [W030] Some entities could not be aligned in the text \"The patient has been prescribed loratadine 245 mL.\" with entities \"[(32, 42, 'MEDICATION'), (43, 49, 'DOSAGE')]\". Use `spacy.training.offsets_to_biluo_tags(nlp.make_doc(text), entities)` to check the alignment. Misaligned entities ('-') will be ignored during training.\n",
      "  warnings.warn(\n",
      "/home/riley/.local/lib/python3.10/site-packages/spacy/training/iob_utils.py:149: UserWarning: [W030] Some entities could not be aligned in the text \"She has been prescribed vaginal cream 625 L.\" with entities \"[(24, 37, 'MEDICATION'), (38, 43, 'DOSAGE')]\". Use `spacy.training.offsets_to_biluo_tags(nlp.make_doc(text), entities)` to check the alignment. Misaligned entities ('-') will be ignored during training.\n",
      "  warnings.warn(\n",
      "/home/riley/.local/lib/python3.10/site-packages/spacy/training/iob_utils.py:149: UserWarning: [W030] Some entities could not be aligned in the text \"The patient has been prescribed sennosides 880 L.\" with entities \"[(32, 42, 'MEDICATION'), (43, 48, 'DOSAGE')]\". Use `spacy.training.offsets_to_biluo_tags(nlp.make_doc(text), entities)` to check the alignment. Misaligned entities ('-') will be ignored during training.\n",
      "  warnings.warn(\n",
      "/home/riley/.local/lib/python3.10/site-packages/spacy/training/iob_utils.py:149: UserWarning: [W030] Some entities could not be aligned in the text \"He has been prescribed thiamine HCl 985 mL.\" with entities \"[(23, 35, 'MEDICATION'), (36, 42, 'DOSAGE')]\". Use `spacy.training.offsets_to_biluo_tags(nlp.make_doc(text), entities)` to check the alignment. Misaligned entities ('-') will be ignored during training.\n",
      "  warnings.warn(\n"
     ]
    },
    {
     "name": "stdout",
     "output_type": "stream",
     "text": [
      "Losses {'tok2vec': 0.0, 'tagger': 0.0, 'parser': 0.0, 'ner': 1607.8930436371982}\n",
      "Losses {'tok2vec': 0.0, 'tagger': 0.0, 'parser': 0.0, 'ner': 779.3199609727022}\n",
      "Losses {'tok2vec': 0.0, 'tagger': 0.0, 'parser': 0.0, 'ner': 377.77889064761905}\n",
      "Losses {'tok2vec': 0.0, 'tagger': 0.0, 'parser': 0.0, 'ner': 268.74825316583025}\n",
      "Losses {'tok2vec': 0.0, 'tagger': 0.0, 'parser': 0.0, 'ner': 185.9490256106869}\n",
      "Losses {'tok2vec': 0.0, 'tagger': 0.0, 'parser': 0.0, 'ner': 117.76420694941555}\n",
      "Losses {'tok2vec': 0.0, 'tagger': 0.0, 'parser': 0.0, 'ner': 91.95857826127126}\n",
      "Losses {'tok2vec': 0.0, 'tagger': 0.0, 'parser': 0.0, 'ner': 96.72885870211049}\n",
      "Losses {'tok2vec': 0.0, 'tagger': 0.0, 'parser': 0.0, 'ner': 134.27374156426438}\n",
      "Losses {'tok2vec': 0.0, 'tagger': 0.0, 'parser': 0.0, 'ner': 82.72161316067051}\n"
     ]
    }
   ],
   "source": [
    "retrain = True # Set to True to retrain the model\n",
    "\n",
    "if os.path.exists('../clean_data/models/ner_model') and not retrain:\n",
    "    nlp = spacy.load('../clean_data/models/ner_model')\n",
    "else:\n",
    "    # Load a blank model\n",
    "    # nlp = spacy.blank('en')\n",
    "\n",
    "    spacy.cli.download(\"en_core_web_sm\")\n",
    "    nlp = spacy.load('en_core_web_sm') # use a pre-trained model\n",
    "\n",
    "    # Add the NER pipeline if not already present\n",
    "    if 'ner' not in nlp.pipe_names:\n",
    "        ner = nlp.create_pipe('ner')\n",
    "        nlp.add_pipe('ner')\n",
    "    else:\n",
    "        ner = nlp.get_pipe('ner')\n",
    "\n",
    "    # Add entity labels to the model\n",
    "    for entity in entity_labels:\n",
    "        ner.add_label(entity)\n",
    "\n",
    "    optimizer = nlp.resume_training()\n",
    "    for itn in range(10):  # Number of training iterations\n",
    "        losses = {}\n",
    "        for batch in minibatch(train, size=compounding(4.0, 32.0, 1.001)):\n",
    "            for text, annotations in batch:\n",
    "                doc = nlp.make_doc(text)\n",
    "                example = Example.from_dict(doc, annotations)\n",
    "                nlp.update([example], drop=0.5, sgd=optimizer, losses=losses)\n",
    "        print(\"Losses\", losses)\n",
    "\n",
    "    # Save the model\n",
    "    nlp.to_disk('../clean_data/models/ner_model')"
   ]
  },
  {
   "cell_type": "markdown",
   "metadata": {},
   "source": [
    "Will need more rigorous testing/improvement im sure, but fine for now"
   ]
  },
  {
   "cell_type": "code",
   "execution_count": 80,
   "metadata": {},
   "outputs": [
    {
     "name": "stdout",
     "output_type": "stream",
     "text": [
      "500mg DOSAGE\n",
      "Ibuprofen MEDICATION\n"
     ]
    }
   ],
   "source": [
    "# Example text\n",
    "text = \"Patient was administered 500mg of Ibuprofen.\"\n",
    "\n",
    "# Process the text\n",
    "doc = nlp(text)\n",
    "\n",
    "# Iterate over the predicted entities\n",
    "for ent in doc.ents:\n",
    "    print(ent.text, ent.label_)"
   ]
  },
  {
   "cell_type": "code",
   "execution_count": 81,
   "metadata": {},
   "outputs": [
    {
     "name": "stderr",
     "output_type": "stream",
     "text": [
      "/home/riley/.local/lib/python3.10/site-packages/spacy/training/iob_utils.py:149: UserWarning: [W030] Some entities could not be aligned in the text \"They has been prescribed Eldoquin 615 g.\" with entities \"[(25, 33, 'MEDICATION'), (34, 39, 'DOSAGE')]\". Use `spacy.training.offsets_to_biluo_tags(nlp.make_doc(text), entities)` to check the alignment. Misaligned entities ('-') will be ignored during training.\n",
      "  warnings.warn(\n",
      "/home/riley/.local/lib/python3.10/site-packages/spacy/training/iob_utils.py:149: UserWarning: [W030] Some entities could not be aligned in the text \"They has been prescribed furosemide 915 g.\" with entities \"[(25, 35, 'MEDICATION'), (36, 41, 'DOSAGE')]\". Use `spacy.training.offsets_to_biluo_tags(nlp.make_doc(text), entities)` to check the alignment. Misaligned entities ('-') will be ignored during training.\n",
      "  warnings.warn(\n",
      "/home/riley/.local/lib/python3.10/site-packages/spacy/training/iob_utils.py:149: UserWarning: [W030] Some entities could not be aligned in the text \"He has been prescribed clotrimazole 70 L.\" with entities \"[(23, 35, 'MEDICATION'), (36, 40, 'DOSAGE')]\". Use `spacy.training.offsets_to_biluo_tags(nlp.make_doc(text), entities)` to check the alignment. Misaligned entities ('-') will be ignored during training.\n",
      "  warnings.warn(\n",
      "/home/riley/.local/lib/python3.10/site-packages/spacy/training/iob_utils.py:149: UserWarning: [W030] Some entities could not be aligned in the text \"He has been prescribed ergocalciferol (vitamin D2)...\" with entities \"[(23, 50, 'MEDICATION'), (51, 56, 'DOSAGE')]\". Use `spacy.training.offsets_to_biluo_tags(nlp.make_doc(text), entities)` to check the alignment. Misaligned entities ('-') will be ignored during training.\n",
      "  warnings.warn(\n",
      "/home/riley/.local/lib/python3.10/site-packages/spacy/training/iob_utils.py:149: UserWarning: [W030] Some entities could not be aligned in the text \"Glucagon blood test measurements indicate Hepatiti...\" with entities \"[(42, 53, 'DIAGNOSIS')]\". Use `spacy.training.offsets_to_biluo_tags(nlp.make_doc(text), entities)` to check the alignment. Misaligned entities ('-') will be ignored during training.\n",
      "  warnings.warn(\n",
      "/home/riley/.local/lib/python3.10/site-packages/spacy/training/iob_utils.py:149: UserWarning: [W030] Some entities could not be aligned in the text \"The patient has been prescribed indomethacin 555 L...\" with entities \"[(32, 44, 'MEDICATION'), (45, 50, 'DOSAGE')]\". Use `spacy.training.offsets_to_biluo_tags(nlp.make_doc(text), entities)` to check the alignment. Misaligned entities ('-') will be ignored during training.\n",
      "  warnings.warn(\n",
      "/home/riley/.local/lib/python3.10/site-packages/spacy/training/iob_utils.py:149: UserWarning: [W030] Some entities could not be aligned in the text \"He has been prescribed Estrace 195 L.\" with entities \"[(23, 30, 'MEDICATION'), (31, 36, 'DOSAGE')]\". Use `spacy.training.offsets_to_biluo_tags(nlp.make_doc(text), entities)` to check the alignment. Misaligned entities ('-') will be ignored during training.\n",
      "  warnings.warn(\n",
      "/home/riley/.local/lib/python3.10/site-packages/spacy/training/iob_utils.py:149: UserWarning: [W030] Some entities could not be aligned in the text \"She has been prescribed Vitamin C 975 mL.\" with entities \"[(24, 33, 'MEDICATION'), (34, 40, 'DOSAGE')]\". Use `spacy.training.offsets_to_biluo_tags(nlp.make_doc(text), entities)` to check the alignment. Misaligned entities ('-') will be ignored during training.\n",
      "  warnings.warn(\n",
      "/home/riley/.local/lib/python3.10/site-packages/spacy/training/iob_utils.py:149: UserWarning: [W030] Some entities could not be aligned in the text \"They has been prescribed docusate Sodium 930 L.\" with entities \"[(25, 40, 'MEDICATION'), (41, 46, 'DOSAGE')]\". Use `spacy.training.offsets_to_biluo_tags(nlp.make_doc(text), entities)` to check the alignment. Misaligned entities ('-') will be ignored during training.\n",
      "  warnings.warn(\n",
      "/home/riley/.local/lib/python3.10/site-packages/spacy/training/iob_utils.py:149: UserWarning: [W030] Some entities could not be aligned in the text \"He has been prescribed gabapentin 945 L.\" with entities \"[(23, 33, 'MEDICATION'), (34, 39, 'DOSAGE')]\". Use `spacy.training.offsets_to_biluo_tags(nlp.make_doc(text), entities)` to check the alignment. Misaligned entities ('-') will be ignored during training.\n",
      "  warnings.warn(\n",
      "/home/riley/.local/lib/python3.10/site-packages/spacy/training/iob_utils.py:149: UserWarning: [W030] Some entities could not be aligned in the text \"The patient has been prescribed Prenatal Vitamins ...\" with entities \"[(32, 49, 'MEDICATION'), (50, 55, 'DOSAGE')]\". Use `spacy.training.offsets_to_biluo_tags(nlp.make_doc(text), entities)` to check the alignment. Misaligned entities ('-') will be ignored during training.\n",
      "  warnings.warn(\n",
      "/home/riley/.local/lib/python3.10/site-packages/spacy/training/iob_utils.py:149: UserWarning: [W030] Some entities could not be aligned in the text \"He has been prescribed lasix 615 g.\" with entities \"[(23, 28, 'MEDICATION'), (29, 34, 'DOSAGE')]\". Use `spacy.training.offsets_to_biluo_tags(nlp.make_doc(text), entities)` to check the alignment. Misaligned entities ('-') will be ignored during training.\n",
      "  warnings.warn(\n",
      "/home/riley/.local/lib/python3.10/site-packages/spacy/training/iob_utils.py:149: UserWarning: [W030] Some entities could not be aligned in the text \"He has been prescribed paroxetine 70 L.\" with entities \"[(23, 33, 'MEDICATION'), (34, 38, 'DOSAGE')]\". Use `spacy.training.offsets_to_biluo_tags(nlp.make_doc(text), entities)` to check the alignment. Misaligned entities ('-') will be ignored during training.\n",
      "  warnings.warn(\n",
      "/home/riley/.local/lib/python3.10/site-packages/spacy/training/iob_utils.py:149: UserWarning: [W030] Some entities could not be aligned in the text \"They has been prescribed atorvastatin 325 g.\" with entities \"[(25, 37, 'MEDICATION'), (38, 43, 'DOSAGE')]\". Use `spacy.training.offsets_to_biluo_tags(nlp.make_doc(text), entities)` to check the alignment. Misaligned entities ('-') will be ignored during training.\n",
      "  warnings.warn(\n"
     ]
    },
    {
     "name": "stdout",
     "output_type": "stream",
     "text": [
      "Precision: 0.985\n",
      "Recall: 0.985\n",
      "F1 Score: 0.985\n"
     ]
    }
   ],
   "source": [
    "from spacy.training import Example\n",
    "\n",
    "# Load the test data\n",
    "examples = []\n",
    "for text, annotations in test:\n",
    "    doc = nlp.make_doc(text)\n",
    "    examples.append(Example.from_dict(doc, annotations))\n",
    "\n",
    "# Evaluate the model\n",
    "scores = nlp.evaluate(examples)\n",
    "print(f\"Precision: {scores['ents_p']:.3f}\")\n",
    "print(f\"Recall: {scores['ents_r']:.3f}\")\n",
    "print(f\"F1 Score: {scores['ents_f']:.3f}\")"
   ]
  },
  {
   "cell_type": "code",
   "execution_count": 82,
   "metadata": {},
   "outputs": [
    {
     "name": "stdout",
     "output_type": "stream",
     "text": [
      "Accuracy: 0.985\n"
     ]
    }
   ],
   "source": [
    "def calculate_accuracy(examples, model):\n",
    "    correct_predictions = 0\n",
    "    total_entities = 0\n",
    "\n",
    "    for example in examples:\n",
    "        # Process the text to predict entities\n",
    "        doc = model(example.text)\n",
    "        true_ents = set((ent.start_char, ent.end_char, ent.label_) for ent in example.reference.ents)\n",
    "        pred_ents = set((ent.start_char, ent.end_char, ent.label_) for ent in doc.ents)\n",
    "        \n",
    "        # Calculate matches\n",
    "        correct_predictions += len(true_ents.intersection(pred_ents))\n",
    "        total_entities += len(true_ents)\n",
    "        \n",
    "    if total_entities == 0:\n",
    "        return 0.0\n",
    "    accuracy = correct_predictions / total_entities\n",
    "    return accuracy\n",
    "\n",
    "# Assuming 'examples' is a list of spaCy Example objects\n",
    "accuracy = calculate_accuracy(examples, nlp)\n",
    "print(f\"Accuracy: {accuracy:.3f}\")"
   ]
  },
  {
   "cell_type": "code",
   "execution_count": 83,
   "metadata": {},
   "outputs": [
    {
     "name": "stdout",
     "output_type": "stream",
     "text": [
      "            MEDICATION  SYMPTOM  BODY_PART  DOSAGE  TEST_NAME  DIAGNOSIS\n",
      "MEDICATION          66        0          0       0          0          1\n",
      "SYMPTOM              0       43          0       0          0          0\n",
      "BODY_PART            0        0         64       0          0          2\n",
      "DOSAGE               0        0          0      36          0          0\n",
      "TEST_NAME            0        0          0       0         45          0\n",
      "DIAGNOSIS            0        1          2      13          0         79\n"
     ]
    }
   ],
   "source": [
    "import numpy as np\n",
    "from sklearn.metrics import confusion_matrix\n",
    "import pandas as pd\n",
    "\n",
    "entity_labels = list(entity_labels)\n",
    "\n",
    "# Assume entity_labels is a list of all entity labels in the dataset\n",
    "label_indices = {label: idx for idx, label in enumerate(entity_labels)}\n",
    "num_labels = len(entity_labels)\n",
    "\n",
    "# Initialize the confusion matrix\n",
    "conf_matrix = np.zeros((num_labels, num_labels), dtype=int)\n",
    "\n",
    "# Assume examples is your validation/test set\n",
    "for example in examples:\n",
    "    true_ents = [(ent.start_char, ent.end_char, ent.label_) for ent in example.reference.ents]\n",
    "    doc = nlp(example.text)\n",
    "    pred_ents = [(ent.start_char, ent.end_char, ent.label_) for ent in doc.ents]\n",
    "\n",
    "    # Map predicted entities to true entities and increment the confusion matrix\n",
    "    for true_ent in true_ents:\n",
    "        true_label_idx = label_indices[true_ent[2]]\n",
    "        # Check if the true entity is in the predictions\n",
    "        if true_ent in pred_ents:\n",
    "            pred_label_idx = true_label_idx\n",
    "        else:\n",
    "            # If not, find a matching span with a different label, or no entity\n",
    "            pred_label_idx = label_indices.get(next((pe[2] for pe in pred_ents if pe[0] == true_ent[0] and pe[1] == true_ent[1]), 'O'), num_labels - 1)\n",
    "        conf_matrix[true_label_idx, pred_label_idx] += 1\n",
    "\n",
    "    # Check for false positives\n",
    "    for pred_ent in pred_ents:\n",
    "        if pred_ent not in true_ents:\n",
    "            pred_label_idx = label_indices[pred_ent[2]]\n",
    "            conf_matrix[-1, pred_label_idx] += 1  # 'O' row\n",
    "\n",
    "# Now `conf_matrix` contains the confusion matrix\n",
    "# Optionally, convert it to a DataFrame for better readability\n",
    "df_conf_matrix = pd.DataFrame(conf_matrix, index=entity_labels, columns=entity_labels)\n",
    "\n",
    "print(df_conf_matrix)"
   ]
  },
  {
   "cell_type": "code",
   "execution_count": 84,
   "metadata": {},
   "outputs": [
    {
     "data": {
      "image/png": "[encoded data removed]",
      "text/plain": [
       "<Figure size 1000x800 with 2 Axes>"
      ]
     },
     "metadata": {},
     "output_type": "display_data"
    }
   ],
   "source": [
    "import seaborn as sns\n",
    "import matplotlib.pyplot as plt\n",
    "\n",
    "# Normalize the confusion matrix\n",
    "df_conf_matrix_normalized = df_conf_matrix.div(df_conf_matrix.sum(axis=1), axis=0)\n",
    "\n",
    "plt.figure(figsize=(10, 8))  # Adjust the size as needed\n",
    "sns.heatmap(df_conf_matrix_normalized, annot=True, cmap='Blues', fmt='.2f', xticklabels=df_conf_matrix.columns, yticklabels=df_conf_matrix.index)\n",
    "\n",
    "plt.title('Normalized Confusion Matrix')\n",
    "plt.ylabel('True label')\n",
    "plt.xlabel('Predicted label')\n",
    "plt.xticks(rotation=45)  # Rotate the x labels to fit longer names, if necessary\n",
    "plt.yticks(rotation=45)  # Rotate the y labels for consistency\n",
    "\n",
    "plt.show()"
   ]
  },
  {
   "cell_type": "code",
   "execution_count": 85,
   "metadata": {},
   "outputs": [
    {
     "data": {
      "text/html": [
       "<span class=\"tex2jax_ignore\"><div class=\"entities\" style=\"line-height: 2.5; direction: ltr\">The \n",
       "<mark class=\"entity\" style=\"background: #ddd; padding: 0.45em 0.6em; margin: 0 0.25em; line-height: 1; border-radius: 0.35em;\">\n",
       "    Cord Blood Testing and Banking\n",
       "    <span style=\"font-size: 0.8em; font-weight: bold; line-height: 1; border-radius: 0.35em; vertical-align: middle; margin-left: 0.5rem\">TEST_NAME</span>\n",
       "</mark>\n",
       " shows normal \n",
       "<mark class=\"entity\" style=\"background: #ddd; padding: 0.45em 0.6em; margin: 0 0.25em; line-height: 1; border-radius: 0.35em;\">\n",
       "    left neck\n",
       "    <span style=\"font-size: 0.8em; font-weight: bold; line-height: 1; border-radius: 0.35em; vertical-align: middle; margin-left: 0.5rem\">BODY_PART</span>\n",
       "</mark>\n",
       " function.</div></span>"
      ],
      "text/plain": [
       "<IPython.core.display.HTML object>"
      ]
     },
     "metadata": {},
     "output_type": "display_data"
    }
   ],
   "source": [
    "from spacy import displacy\n",
    "\n",
    "example_text = test[0][0]\n",
    "doc = nlp(example_text)\n",
    "displacy.render(doc, style=\"ent\", jupyter=True)"
   ]
  }
 ],
 "metadata": {
  "kernelspec": {
   "display_name": "Python 3",
   "language": "python",
   "name": "python3"
  },
  "language_info": {
   "codemirror_mode": {
    "name": "ipython",
    "version": 3
   },
   "file_extension": ".py",
   "mimetype": "text/x-python",
   "name": "python",
   "nbconvert_exporter": "python",
   "pygments_lexer": "ipython3",
   "version": "3.10.12"
  }
 },
 "nbformat": 4,
 "nbformat_minor": 2
}
